{
 "cells": [
  {
   "cell_type": "markdown",
   "metadata": {},
   "source": [
    "Space & Time coverages\n",
    "============\n",
    "\n",
    "This notebook shows:\n",
    "\n",
    "1. How to **create** Space-Time coverages of the 2MASS image catalog and the XMM_DR8 catalog\n",
    "2. How to **perform logical operations** (e.g. intersection) of two Space-Time coverages\n",
    "3. How to **filter** a catalog by a Space-Time coverage\n",
    "4. How to **save** a Space-Time coverage in a FITS file\n",
    "5. How to **vizualize** Space-Time coverages within a specific time frame\n",
    "------------------------------------------------------------------\n",
    "## 1. Space-Time coverages creation of *2MASS* and *XMM_DR8*"
   ]
  },
  {
   "cell_type": "code",
   "execution_count": null,
   "metadata": {},
   "outputs": [],
   "source": [
    "from mocpy import WCS, STMOC, TimeMOC\n",
    "from astropy.coordinates import ICRS\n",
    "import numpy as np\n",
    "from astropy import units as u\n",
    "from astropy.table import Table\n",
    "from astropy.coordinates import Angle, SkyCoord\n",
    "from astropy.time import Time, TimeDelta\n",
    "import ipywidgets as widgets\n",
    "\n",
    "from astroquery.vizier import Vizier\n",
    "\n",
    "import matplotlib.pyplot as plt"
   ]
  },
  {
   "cell_type": "code",
   "execution_count": null,
   "metadata": {},
   "outputs": [],
   "source": [
    "%matplotlib inline"
   ]
  },
  {
   "cell_type": "markdown",
   "metadata": {},
   "source": [
    "Creation of the Space-Time coverage of 2MASS at the depth (time, space) = 23, 7 i.e.:\n",
    "- a **time** resolution of ~3 days\n",
    "- a **spatial** resolution of ~27 arcsecs"
   ]
  },
  {
   "cell_type": "code",
   "execution_count": null,
   "metadata": {},
   "outputs": [],
   "source": [
    "# Loading the data\n",
    "two_mass_data = Table.read(\"./../resources/STMOC/2MASS-list-images.fits.gz\", format=\"fits\")\n",
    "\n",
    "# Definition of the times, longitudes and latitudes\n",
    "times_2mass = Time(two_mass_data[\"mjd\"].data, format=\"mjd\", scale=\"tdb\")\n",
    "lon_2mass = two_mass_data[\"ra\"].quantity\n",
    "lat_2mass = two_mass_data[\"dec\"].quantity\n",
    "print(\"Number of rows in 2MASS: \", lon_2mass.shape[0])"
   ]
  },
  {
   "cell_type": "code",
   "execution_count": null,
   "metadata": {},
   "outputs": [],
   "source": [
    "%%time\n",
    "# Creation of the STMOC ~ wait around 5 minutes\n",
    "time_depth = 23\n",
    "spatial_depth = 7\n",
    "two_mass = STMOC.from_times_positions(\n",
    "    times_2mass, time_depth, lon_2mass, lat_2mass, spatial_depth\n",
    ")"
   ]
  },
  {
   "cell_type": "code",
   "execution_count": null,
   "metadata": {},
   "outputs": [],
   "source": [
    "print(\"Time of the first observation: \", two_mass.min_time.iso)\n",
    "print(\"Time of the last observation: \", two_mass.max_time.iso)"
   ]
  },
  {
   "cell_type": "markdown",
   "metadata": {},
   "source": [
    "---------------------------------------------\n",
    "### Query a ST-MOC by a time range\n",
    "\n",
    "Let's query the ST-MOC of **2MASS** to retrieve the regions being observed each year."
   ]
  },
  {
   "cell_type": "code",
   "execution_count": null,
   "metadata": {
    "scrolled": false
   },
   "outputs": [],
   "source": [
    "def add_to_plot(fig, id, wcs, title, moc):\n",
    "    ax = fig.add_subplot(id, projection=wcs)\n",
    "\n",
    "    ax.grid(color=\"black\", linestyle=\"dotted\")\n",
    "    ax.set_title(title)\n",
    "    ax.set_xlabel(\"lon\")\n",
    "    ax.set_ylabel(\"lat\")\n",
    "\n",
    "    moc.fill(ax=ax, wcs=wcs, alpha=0.9, fill=True, linewidth=0, color=\"#00bb00\")\n",
    "    # moc.border(ax=ax, wcs=wcs, linewidth=1, color=\"green\")\n",
    "\n",
    "\n",
    "fig = plt.figure(figsize=(10, 10))\n",
    "\n",
    "time_ranges = Time(\n",
    "    [\n",
    "        [[\"1997-06-03\", \"1998-01-01\"]],\n",
    "        [[\"1998-01-01\", \"1999-01-01\"]],\n",
    "        [[\"1999-01-01\", \"2000-01-01\"]],\n",
    "        [[\"2000-01-01\", \"2001-02-18\"]],\n",
    "    ],\n",
    "    format=\"iso\",\n",
    "    scale=\"tdb\",\n",
    "    out_subfmt=\"date\",\n",
    ")\n",
    "with WCS(\n",
    "    fig,\n",
    "    fov=330 * u.deg,\n",
    "    center=SkyCoord(0, 0, unit=\"deg\", frame=\"galactic\"),\n",
    "    coordsys=\"galactic\",\n",
    "    rotation=Angle(0, u.degree),\n",
    "    projection=\"AIT\",\n",
    ") as wcs:\n",
    "\n",
    "    for i in range(0, 4):\n",
    "        tmoc = TimeMOC.from_time_ranges(\n",
    "            min_times = time_ranges[i][0, 0], \n",
    "            max_times = time_ranges[i][0, 1],\n",
    "            delta_t = TimeDelta(1e-6, scale=\"tdb\", format=\"sec\")\n",
    "        )\n",
    "\n",
    "        moc_2mass = two_mass.query_by_time(tmoc)\n",
    "        title = \"2MASS observations between \\n{0} and {1}\".format(\n",
    "            time_ranges[i][0, 0].iso, time_ranges[i][0, 1].iso\n",
    "        )\n",
    "        id_subplot = int(\"22\" + str(i + 1))\n",
    "        add_to_plot(fig, id_subplot, wcs, title, moc_2mass)\n",
    "\n",
    "plt.show()"
   ]
  },
  {
   "cell_type": "markdown",
   "metadata": {},
   "source": [
    "Creation of the Space-Time coverage of XMM_DR8 at the depth (time, space) = 10, 7"
   ]
  },
  {
   "cell_type": "code",
   "execution_count": null,
   "metadata": {},
   "outputs": [],
   "source": [
    "# Loading & preparing the data\n",
    "xmm_dr8_data = Table.read(\"../resources/STMOC/vizier_votable.b64\")\n",
    "times_xmm = Time(xmm_dr8_data[\"MJD0\"].data, format=\"mjd\", scale=\"tdb\")\n",
    "lon_xmm = xmm_dr8_data[\"RA_ICRS\"].quantity\n",
    "lat_xmm = xmm_dr8_data[\"DE_ICRS\"].quantity\n",
    "print(\"Number of rows in XMM_DR8: \", lon_xmm.shape[0])"
   ]
  },
  {
   "cell_type": "code",
   "execution_count": null,
   "metadata": {},
   "outputs": [],
   "source": [
    "%%time\n",
    "# Create the STMOC\n",
    "xmm_dr8_stmoc = STMOC.from_times_positions(\n",
    "    times_xmm, time_depth, lon_xmm, lat_xmm, spatial_depth\n",
    ")"
   ]
  },
  {
   "cell_type": "markdown",
   "metadata": {},
   "source": [
    "------------------------------------------------------------------\n",
    "## 2. Intersection between the *2MASS* and *XMM_DR8* Space-Time coverages"
   ]
  },
  {
   "cell_type": "markdown",
   "metadata": {},
   "source": [
    "ST-MOCs are very convinient when it comes to perform logical operations between them (as it is already possible with spatial footprints).\n",
    "\n",
    "As an example, it is possible to **retrieve the areas that have been observed at the same time by the 2MASS and XMM survey**! It benefits from the good performance of MOC (thanks to its core functions written in Rust)."
   ]
  },
  {
   "cell_type": "code",
   "execution_count": null,
   "metadata": {},
   "outputs": [],
   "source": [
    "%%time\n",
    "# Compute their intersection and check that it is not empty\n",
    "xmm_inter_2mass = xmm_dr8_stmoc.intersection(two_mass)\n",
    "assert not xmm_inter_2mass.is_empty()\n",
    "\n",
    "print(\"Time of the first observation:\", xmm_inter_2mass.min_time.iso)\n",
    "print(\"Time of the last observation:\", xmm_inter_2mass.max_time.iso)"
   ]
  },
  {
   "cell_type": "markdown",
   "metadata": {},
   "source": [
    "-------------------------------------------\n",
    "## 3. Filter catalogs by a Space-Time coverage\n",
    "\n",
    "ST-MOCs can be used to retrieve the sources in *2MASS* and *XMM_DR8* that have\n",
    "been observed at the same time i.e. **within a ~3 days time resolution** and\n",
    "a **27 arcsec spatial resolution**.\n",
    "\n",
    "Let's retrieve the XMM sources being observed at the **same time** by 2MASS."
   ]
  },
  {
   "cell_type": "code",
   "execution_count": null,
   "metadata": {},
   "outputs": [],
   "source": [
    "%%time\n",
    "# Filtering a 4.8M rows table is quite fast\n",
    "mask_xmm = xmm_inter_2mass.contains(times_xmm, lon_xmm, lat_xmm)\n",
    "sources_xmm = xmm_dr8_data[mask_xmm]\n",
    "\n",
    "print(\"\\n {} sources in XMM\\n\".format(len(sources_xmm)))\n",
    "sources_xmm"
   ]
  },
  {
   "cell_type": "markdown",
   "metadata": {},
   "source": [
    "One can then use **astroquery.vizier** to get more informations about the filtered sources."
   ]
  },
  {
   "cell_type": "code",
   "execution_count": null,
   "metadata": {},
   "outputs": [],
   "source": [
    "xmm_skycoords = SkyCoord(\n",
    "    sources_xmm[\"RA_ICRS\"].data, sources_xmm[\"DE_ICRS\"].data, unit=\"deg\", frame=ICRS()\n",
    ")\n",
    "\n",
    "# Query the IX/55/xmm3r8s catalog with the three first positions + 0.1 arcsec\n",
    "result = Vizier.query_region(\n",
    "    xmm_skycoords[:3], radius=Angle(0.1, \"arcsec\"), catalog=\"IX/55/xmm3r8s\"\n",
    ")[0]\n",
    "result"
   ]
  },
  {
   "cell_type": "markdown",
   "metadata": {},
   "source": [
    "-------------------------------------------------------------\n",
    "## 4. Save into a FITS file"
   ]
  },
  {
   "cell_type": "code",
   "execution_count": null,
   "metadata": {},
   "outputs": [],
   "source": [
    "xmm_inter_2mass.save(\"xmm_inter_2mass_stmoc.fits\", format=\"fits\", overwrite=True)"
   ]
  },
  {
   "cell_type": "markdown",
   "metadata": {},
   "source": [
    "------------------------------------------------\n",
    "## 5. Vizualize a Space-Time coverage interactively\n",
    "\n",
    "- An interactive slider allows to select a time range. Whenever the slider moves, the ST-MOC is queried by the new time range. Each **time query gives back the spatial footprint during that time** (i.e. a mocpy.MOC object).\n",
    "- You can change the field of view to zoom in (resp. zoom out) if you want. By reducing the FoV you will be able to vizualize the sources in XMM filtered by the intersection Space-Time coverage."
   ]
  },
  {
   "cell_type": "code",
   "execution_count": null,
   "metadata": {},
   "outputs": [],
   "source": [
    "output = widgets.Output()\n",
    "\n",
    "\n",
    "def update(change):\n",
    "    global t, output, time_slider\n",
    "    global last_t1, last_t2\n",
    "    global moc\n",
    "    output.clear_output(wait=True)\n",
    "\n",
    "    if change is None:\n",
    "        new_values = time_slider.value\n",
    "    else:\n",
    "        new_values = change.new\n",
    "\n",
    "    new_t1, new_t2 = new_values\n",
    "\n",
    "    tmoc_constraint = TimeMOC.from_time_ranges(\n",
    "        min_times = Time([new_t1], format=\"mjd\", scale=\"tdb\"),\n",
    "        max_times = Time([new_t2], format=\"mjd\", scale=\"tdb\"),\n",
    "        delta_t = TimeDelta(1e-6, scale=\"tdb\", format=\"sec\")\n",
    "    )\n",
    "    # Query the Space-Time coverages with the same time frame\n",
    "    # This operation returns a spatial coverage and is pretty fast thanks to\n",
    "    # the data-structure used for storing Space-Time coverages.\n",
    "    moc_2mass = two_mass.query_by_time(tmoc_constraint)\n",
    "    moc_xmm_dr8 = xmm_dr8_stmoc.query_by_time(tmoc_constraint)\n",
    "    moc_xmm_dr8_inter_2mass = xmm_inter_2mass.query_by_time(tmoc_constraint)\n",
    "\n",
    "    # Plot the spatial coverages\n",
    "    with output:\n",
    "        fig = plt.figure(111, figsize=(15, 10))\n",
    "\n",
    "        with WCS(\n",
    "            fig,\n",
    "            fov=50 * u.deg,\n",
    "            center=SkyCoord(140, 30, unit=\"deg\", frame=\"galactic\"),\n",
    "            coordsys=\"galactic\",\n",
    "            rotation=Angle(0, u.degree),\n",
    "            projection=\"AIT\",\n",
    "        ) as wcs:\n",
    "            ax = fig.add_subplot(1, 1, 1, projection=wcs)\n",
    "            # Call fill with a matplotlib axe and the `~astropy.wcs.WCS` wcs object.\n",
    "            moc_2mass.fill(\n",
    "                ax=ax, wcs=wcs, alpha=0.5, fill=True, color=\"green\", label=\"2mass\"\n",
    "            )\n",
    "            moc_xmm_dr8.fill(\n",
    "                ax=ax, wcs=wcs, alpha=0.5, fill=True, color=\"red\", label=\"xmm_dr8\"\n",
    "            )\n",
    "            moc_xmm_dr8_inter_2mass.fill(\n",
    "                ax=ax,\n",
    "                wcs=wcs,\n",
    "                alpha=0.5,\n",
    "                fill=True,\n",
    "                color=\"blue\",\n",
    "                label=\"xmm_dr8 inter 2mass\",\n",
    "            )\n",
    "\n",
    "            # Plot the sources contained into `xmm_inter_2mass`\n",
    "            skycoords = SkyCoord(\n",
    "                sources_xmm[\"RA_ICRS\"].data,\n",
    "                sources_xmm[\"DE_ICRS\"].data,\n",
    "                unit=\"deg\",\n",
    "                frame=ICRS(),\n",
    "            )\n",
    "            X, Y = SkyCoord.to_pixel(skycoords, wcs)\n",
    "            ax.scatter(\n",
    "                X,\n",
    "                Y,\n",
    "                color=\"yellow\",\n",
    "                alpha=1,\n",
    "                marker=\"x\",\n",
    "                label=\"sources from XMM filtered through \\nxmm_dr8 inter 2mass\",\n",
    "                zorder=2,\n",
    "            )\n",
    "\n",
    "            ax.legend(loc=\"lower left\")\n",
    "\n",
    "        plt.xlabel(\"GLON\")\n",
    "        plt.ylabel(\"GLAT\")\n",
    "\n",
    "        plt.title(\n",
    "            \"Coverage of 2MASS images, XMM_DR8 and their intersection between MJD %d and %d\"\n",
    "            % (new_values[0], new_values[1])\n",
    "        )\n",
    "        plt.grid(color=\"black\", linestyle=\"dotted\")\n",
    "        plt.show()"
   ]
  },
  {
   "cell_type": "code",
   "execution_count": null,
   "metadata": {},
   "outputs": [],
   "source": [
    "min_time = int(np.min(two_mass_data[\"mjd\"])) - 1\n",
    "max_time = int(np.max(two_mass_data[\"mjd\"])) + 1\n",
    "\n",
    "time_slider = widgets.IntRangeSlider(\n",
    "    value=[51594, 51917],\n",
    "    min=min_time,\n",
    "    max=max_time,\n",
    "    step=1,\n",
    "    description=\"MJD interval:\",\n",
    "    disabled=False,\n",
    "    continuous_update=False,\n",
    "    orientation=\"horizontal\",\n",
    "    layout={\"width\": \"90%\"},\n",
    ")"
   ]
  },
  {
   "cell_type": "code",
   "execution_count": null,
   "metadata": {
    "scrolled": false
   },
   "outputs": [],
   "source": [
    "# In blue is a region that has been observed by 2MASS and XMM_DR8 at the same time\n",
    "time_slider.observe(update, \"value\")\n",
    "update(None)\n",
    "widgets.VBox([time_slider, output])"
   ]
  },
  {
   "cell_type": "code",
   "execution_count": null,
   "metadata": {},
   "outputs": [],
   "source": []
  }
 ],
 "metadata": {
  "file_extension": ".py",
  "interpreter": {
   "hash": "b0fa6594d8f4cbf19f97940f81e996739fb7646882a419484c72d19e05852a7e"
  },
  "kernelspec": {
   "display_name": "Python 3 (ipykernel)",
   "language": "python",
   "name": "python3"
  },
  "language_info": {
   "codemirror_mode": {
    "name": "ipython",
    "version": 3
   },
   "file_extension": ".py",
   "mimetype": "text/x-python",
   "name": "python",
   "nbconvert_exporter": "python",
   "pygments_lexer": "ipython3",
   "version": "3.10.9"
  },
  "mimetype": "text/x-python",
  "name": "python",
  "npconvert_exporter": "python",
  "pygments_lexer": "ipython3",
  "version": 3,
  "vscode": {
   "interpreter": {
    "hash": "85bb43f988bdbdc027a50b6d744a62eda8a76617af1f4f9b115d38242716dbac"
   }
  }
 },
 "nbformat": 4,
 "nbformat_minor": 2
}
