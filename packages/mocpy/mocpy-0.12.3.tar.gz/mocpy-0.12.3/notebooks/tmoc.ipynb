{
 "cells": [
  {
   "cell_type": "code",
   "execution_count": null,
   "metadata": {},
   "outputs": [],
   "source": [
    "%matplotlib notebook"
   ]
  },
  {
   "cell_type": "code",
   "execution_count": null,
   "metadata": {},
   "outputs": [],
   "source": [
    "from mocpy import TimeMOC\n",
    "from astropy.time import Time, TimeDelta\n",
    "from astroquery.vizier import Vizier"
   ]
  },
  {
   "cell_type": "markdown",
   "metadata": {},
   "source": [
    "### Loading a TimeMoc from a fits file"
   ]
  },
  {
   "cell_type": "code",
   "execution_count": null,
   "metadata": {
    "scrolled": true
   },
   "outputs": [],
   "source": [
    "time_moc = TimeMOC.from_fits(\n",
    "    \"http://alasky.u-strasbg.fr/HST-hips/filter_SDSSr_hips/TMoc.fits\"\n",
    ")\n",
    "time_moc.plot(title=\"HST_SDSSr tmoc\")"
   ]
  },
  {
   "cell_type": "markdown",
   "metadata": {},
   "source": [
    "### Loading a TimeMoc from an astropy table"
   ]
  },
  {
   "cell_type": "code",
   "execution_count": null,
   "metadata": {},
   "outputs": [],
   "source": [
    "viz = Vizier(columns=[\"*\", \"_RAJ2000\", \"_DEJ2000\"])\n",
    "viz.ROW_LIMIT = -1\n",
    "table = viz.get_catalogs(\"II/285\")[1]\n",
    "\n",
    "print(table)"
   ]
  },
  {
   "cell_type": "code",
   "execution_count": null,
   "metadata": {},
   "outputs": [],
   "source": [
    "%%time\n",
    "table_moc = TimeMOC.from_times(Time(table[\"JD\"], format=\"jd\", scale=\"tdb\"))\n",
    "table_moc.plot(title=\"2nd table of II/285 tmoc\")\n",
    "\n",
    "# print characteristics such as the time of the first/last observations\n",
    "print(\"Time of the first observation:\", table_moc.min_time.iso)\n",
    "print(\"Time of the last observation:\", table_moc.max_time.iso)\n",
    "# the total duration of the observation times\n",
    "print(\"Total duration: {0} jd\".format(table_moc.total_duration.jd))\n",
    "# the order of the TimeMoc\n",
    "print(\"max order:\", table_moc.max_order)"
   ]
  },
  {
   "cell_type": "markdown",
   "metadata": {},
   "source": [
    "### Filtering an astropy table with a TimeMoc"
   ]
  },
  {
   "cell_type": "code",
   "execution_count": null,
   "metadata": {},
   "outputs": [],
   "source": [
    "# filtering the table through the tmoc created from the HST_SDSSr fits file\n",
    "rows = time_moc.contains_with_timeresolution(\n",
    "    times=Time(table[\"JD\"], format=\"jd\", scale=\"tdb\"),\n",
    "    keep_inside=True,\n",
    "    delta_t=TimeDelta(3600, format=\"sec\", scale=\"tdb\"),\n",
    ")\n",
    "print(table[\"JD\"][rows])"
   ]
  },
  {
   "cell_type": "markdown",
   "metadata": {},
   "source": [
    "### TimeMoc operation examples :\n",
    "* #### Intersection of 2 tmocs : (HST_SDSSr) INTER (2nd table of II/285)"
   ]
  },
  {
   "cell_type": "code",
   "execution_count": null,
   "metadata": {},
   "outputs": [],
   "source": [
    "result = table_moc.intersection_with_timeresolution(\n",
    "    time_moc, delta_t=TimeMOC.order_to_time_resolution(9)\n",
    ")\n",
    "\n",
    "time_moc.plot(title=\"HST_SDSSr tmoc\")\n",
    "table_moc.plot(title=\"2nd table of II/285 tmoc\")\n",
    "result.plot(title=\"(HST_SDSSr) INTER (2nd table of II/285) tmoc\")\n",
    "\n",
    "# print the max order of all the tmocs. Result tmoc must be of order 9\n",
    "print(\"HST_SDSSr max order : \", time_moc.max_order)\n",
    "print(\"2nd table of II/285 max order : \", table_moc.max_order)\n",
    "print(\"(HST_SDSSr) INTER (2nd table of II/285) max order : \", result.max_order)"
   ]
  },
  {
   "cell_type": "markdown",
   "metadata": {},
   "source": [
    "* #### Augment and Diminish a tmoc"
   ]
  },
  {
   "cell_type": "code",
   "execution_count": null,
   "metadata": {},
   "outputs": [],
   "source": [
    "result.add_neighbours()\n",
    "result.plot(title=\"(HST_SDSSr) INTER (2nd table of II/285) augmented tmoc\")\n",
    "\n",
    "result.remove_neighbours()\n",
    "result.plot(title=\"(HST_SDSSr) INTER (2nd table of II/285) diminished tmoc\")"
   ]
  },
  {
   "cell_type": "markdown",
   "metadata": {},
   "source": [
    "* #### Complement of a TimeMoc"
   ]
  },
  {
   "cell_type": "code",
   "execution_count": null,
   "metadata": {},
   "outputs": [],
   "source": [
    "complemented_tmoc = result.complement()\n",
    "complemented_tmoc.plot(\n",
    "    title=\"Complement of (HST_SDSSr) INTER (2nd table of II/285)\",\n",
    "    view=(result.min_time, result.max_time),\n",
    ")"
   ]
  }
 ],
 "metadata": {
  "kernelspec": {
   "display_name": "Python 3 (ipykernel)",
   "language": "python",
   "name": "python3"
  },
  "language_info": {
   "codemirror_mode": {
    "name": "ipython",
    "version": 3
   },
   "file_extension": ".py",
   "mimetype": "text/x-python",
   "name": "python",
   "nbconvert_exporter": "python",
   "pygments_lexer": "ipython3",
   "version": "3.8.10"
  }
 },
 "nbformat": 4,
 "nbformat_minor": 2
}
