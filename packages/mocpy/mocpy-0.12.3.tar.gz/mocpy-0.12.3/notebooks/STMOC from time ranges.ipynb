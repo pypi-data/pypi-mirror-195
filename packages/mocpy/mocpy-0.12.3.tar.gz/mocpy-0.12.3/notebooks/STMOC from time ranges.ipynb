{
 "cells": [
  {
   "cell_type": "code",
   "execution_count": null,
   "metadata": {},
   "outputs": [],
   "source": [
    "from mocpy import STMOC, MOC, TimeMOC\n",
    "import astropy.units as u\n",
    "from astropy.table import Table\n",
    "from astropy.time import Time, TimeDelta\n",
    "\n",
    "from astropy.coordinates import Angle, SkyCoord\n",
    "import matplotlib.pyplot as plt\n",
    "from mocpy import WCS"
   ]
  },
  {
   "cell_type": "code",
   "execution_count": null,
   "metadata": {},
   "outputs": [],
   "source": [
    "# Load 2MASS data\n",
    "data = Table.read(\"./../resources/STMOC/2MASS-list-images.fits.gz\", format=\"fits\")\n",
    "\n",
    "times_start = Time(data[\"mjd\"].data, format=\"mjd\", scale=\"tdb\")\n",
    "times_end = times_start + TimeDelta(1800, scale=\"tdb\", format=\"sec\")\n",
    "\n",
    "positions = SkyCoord(data[\"ra\"].quantity, data[\"dec\"].quantity)"
   ]
  },
  {
   "cell_type": "code",
   "execution_count": null,
   "metadata": {},
   "outputs": [],
   "source": [
    "%%time\n",
    "# Create a cone footprint from the first 10000 observations\n",
    "num_observations = 10000\n",
    "spatial_coverages = [\n",
    "    MOC.from_cone(pos.ra, pos.dec, 5 * u.deg, 7) for pos in positions[:num_observations]\n",
    "]\n",
    "print(\"Number of rows in 2MASS: \", len(spatial_coverages))\n",
    "# Create a STMOC from those 10000 spatial coverages associated with their observational time ranges\n",
    "stmoc = STMOC.from_spatial_coverages(\n",
    "    times_start[:num_observations], times_end[:num_observations], spatial_coverages\n",
    ")"
   ]
  },
  {
   "cell_type": "code",
   "execution_count": null,
   "metadata": {},
   "outputs": [],
   "source": [
    "tmoc = TimeMOC.from_time_ranges(\n",
    "    min_times = Time([\"1998-01-01\"], format=\"iso\", scale=\"tdb\"), \n",
    "    max_times = Time([\"1999-01-01\"], format=\"iso\", scale=\"tdb\"),\n",
    "    delta_t = TimeDelta(1e-6, scale=\"tdb\", format=\"sec\")\n",
    ")\n",
    "moc = stmoc.query_by_time(tmoc)"
   ]
  },
  {
   "cell_type": "code",
   "execution_count": null,
   "metadata": {},
   "outputs": [],
   "source": [
    "fig = plt.figure(111, figsize=(15, 10))\n",
    "# Define a astropy WCS easily\n",
    "with WCS(\n",
    "    fig,\n",
    "    fov=330 * u.deg,\n",
    "    center=SkyCoord(0, 0, unit=\"deg\", frame=\"icrs\"),\n",
    "    coordsys=\"icrs\",\n",
    "    rotation=Angle(0, u.degree),\n",
    "    projection=\"AIT\",\n",
    ") as wcs:\n",
    "    ax = fig.add_subplot(1, 1, 1, projection=wcs)\n",
    "    # Call fill with a matplotlib axe and the `~astropy.wcs.WCS` wcs object.\n",
    "    moc.fill(ax=ax, wcs=wcs, alpha=0.5, fill=True, color=\"green\")\n",
    "    moc.border(ax=ax, wcs=wcs, alpha=0.5, color=\"black\")\n",
    "plt.xlabel(\"ra\")\n",
    "plt.ylabel(\"dec\")\n",
    "plt.title(\"Query by time result\")\n",
    "plt.grid(color=\"black\", linestyle=\"dotted\")\n",
    "plt.show()"
   ]
  }
 ],
 "metadata": {
  "file_extension": ".py",
  "kernelspec": {
   "display_name": "Python 3 (ipykernel)",
   "language": "python",
   "name": "python3"
  },
  "language_info": {
   "codemirror_mode": {
    "name": "ipython",
    "version": 3
   },
   "file_extension": ".py",
   "mimetype": "text/x-python",
   "name": "python",
   "nbconvert_exporter": "python",
   "pygments_lexer": "ipython3",
   "version": "3.8.10"
  },
  "mimetype": "text/x-python",
  "name": "python",
  "npconvert_exporter": "python",
  "pygments_lexer": "ipython3",
  "version": 3,
  "vscode": {
   "interpreter": {
    "hash": "916dbcbb3f70747c44a77c7bcd40155683ae19c65e1c03b4aa3499c5328201f1"
   }
  }
 },
 "nbformat": 4,
 "nbformat_minor": 2
}
