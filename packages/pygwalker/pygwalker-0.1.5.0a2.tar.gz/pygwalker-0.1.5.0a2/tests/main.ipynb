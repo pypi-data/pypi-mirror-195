{
 "cells": [
  {
   "cell_type": "code",
   "execution_count": 1,
   "id": "4449a336-96eb-4cfc-8bcb-ebde9223c187",
   "metadata": {
    "tags": []
   },
   "outputs": [
    {
     "name": "stdout",
     "output_type": "stream",
     "text": [
      "Looking in indexes: https://pypi.tuna.tsinghua.edu.cn/simple\n",
      "Requirement already satisfied: pygwalker in /opt/homebrew/Caskroom/miniconda/base/lib/python3.9/site-packages (0.1.5.0a0)\n",
      "Requirement already satisfied: jinja2 in /opt/homebrew/Caskroom/miniconda/base/lib/python3.9/site-packages (from pygwalker) (3.1.2)\n",
      "Requirement already satisfied: ipython in /opt/homebrew/Caskroom/miniconda/base/lib/python3.9/site-packages (from pygwalker) (8.10.0)\n",
      "Requirement already satisfied: prompt-toolkit<3.1.0,>=3.0.30 in /opt/homebrew/Caskroom/miniconda/base/lib/python3.9/site-packages (from ipython->pygwalker) (3.0.36)\n",
      "Requirement already satisfied: traitlets>=5 in /opt/homebrew/Caskroom/miniconda/base/lib/python3.9/site-packages (from ipython->pygwalker) (5.9.0)\n",
      "Requirement already satisfied: appnope in /opt/homebrew/Caskroom/miniconda/base/lib/python3.9/site-packages (from ipython->pygwalker) (0.1.3)\n",
      "Requirement already satisfied: pickleshare in /opt/homebrew/Caskroom/miniconda/base/lib/python3.9/site-packages (from ipython->pygwalker) (0.7.5)\n",
      "Requirement already satisfied: decorator in /opt/homebrew/Caskroom/miniconda/base/lib/python3.9/site-packages (from ipython->pygwalker) (5.1.1)\n",
      "Requirement already satisfied: matplotlib-inline in /opt/homebrew/Caskroom/miniconda/base/lib/python3.9/site-packages (from ipython->pygwalker) (0.1.6)\n",
      "Requirement already satisfied: backcall in /opt/homebrew/Caskroom/miniconda/base/lib/python3.9/site-packages (from ipython->pygwalker) (0.2.0)\n",
      "Requirement already satisfied: stack-data in /opt/homebrew/Caskroom/miniconda/base/lib/python3.9/site-packages (from ipython->pygwalker) (0.6.2)\n",
      "Requirement already satisfied: pexpect>4.3 in /opt/homebrew/Caskroom/miniconda/base/lib/python3.9/site-packages (from ipython->pygwalker) (4.8.0)\n",
      "Requirement already satisfied: jedi>=0.16 in /opt/homebrew/Caskroom/miniconda/base/lib/python3.9/site-packages (from ipython->pygwalker) (0.18.2)\n",
      "Requirement already satisfied: pygments>=2.4.0 in /opt/homebrew/Caskroom/miniconda/base/lib/python3.9/site-packages (from ipython->pygwalker) (2.14.0)\n",
      "Requirement already satisfied: MarkupSafe>=2.0 in /opt/homebrew/Caskroom/miniconda/base/lib/python3.9/site-packages (from jinja2->pygwalker) (2.1.2)\n",
      "Requirement already satisfied: parso<0.9.0,>=0.8.0 in /opt/homebrew/Caskroom/miniconda/base/lib/python3.9/site-packages (from jedi>=0.16->ipython->pygwalker) (0.8.3)\n",
      "Requirement already satisfied: ptyprocess>=0.5 in /opt/homebrew/Caskroom/miniconda/base/lib/python3.9/site-packages (from pexpect>4.3->ipython->pygwalker) (0.7.0)\n",
      "Requirement already satisfied: wcwidth in /opt/homebrew/Caskroom/miniconda/base/lib/python3.9/site-packages (from prompt-toolkit<3.1.0,>=3.0.30->ipython->pygwalker) (0.2.6)\n",
      "Requirement already satisfied: asttokens>=2.1.0 in /opt/homebrew/Caskroom/miniconda/base/lib/python3.9/site-packages (from stack-data->ipython->pygwalker) (2.2.1)\n",
      "Requirement already satisfied: pure-eval in /opt/homebrew/Caskroom/miniconda/base/lib/python3.9/site-packages (from stack-data->ipython->pygwalker) (0.2.2)\n",
      "Requirement already satisfied: executing>=1.2.0 in /opt/homebrew/Caskroom/miniconda/base/lib/python3.9/site-packages (from stack-data->ipython->pygwalker) (1.2.0)\n",
      "Requirement already satisfied: six in /opt/homebrew/Caskroom/miniconda/base/lib/python3.9/site-packages (from asttokens>=2.1.0->stack-data->ipython->pygwalker) (1.16.0)\n"
     ]
    }
   ],
   "source": [
    "!pip install pygwalker --pre --upgrade"
   ]
  },
  {
   "cell_type": "code",
   "execution_count": 2,
   "id": "73dcdeb8-816c-4185-8630-a51b3df25765",
   "metadata": {
    "tags": []
   },
   "outputs": [],
   "source": [
    "import pandas as pd\n",
    "df = pd.read_csv('./bike_sharing_dc.csv', parse_dates=['date'])"
   ]
  },
  {
   "cell_type": "code",
   "execution_count": 3,
   "id": "6465d86d-69e0-4767-8e89-3a2eec8b4e92",
   "metadata": {
    "tags": []
   },
   "outputs": [
    {
     "name": "stdout",
     "output_type": "stream",
     "text": [
      "Help on function walk in module pygwalker.gwalker:\n",
      "\n",
      "walk(df: 'pl.DataFrame | pd.DataFrame', gid: Union[int, str] = None, **kwargs)\n",
      "    walk through pandas.DataFrame df with Graphic Walker\n",
      "    \n",
      "    Args:\n",
      "        df (pl.DataFrame | pd.DataFrame, optional): dataframe.\n",
      "        gid (tp.Union[int, str], optional): GraphicWalker container div's id ('gwalker-{gid}')\n",
      "        **\n",
      "        hideDataSourceConfig (bool, optional): Hide DataSource import and export button (True) or not (False). Default to True\n",
      "        themeKey ('vega' | 'g2'): theme type.\n",
      "        dark ('media' | 'light' | 'dark'): 'media': auto detect OS theme.\n",
      "        return_html (bool, optional): Directly return a html string. Defaults to False.\n",
      "\n"
     ]
    }
   ],
   "source": [
    "import pygwalker as pyg\n",
    "help(pyg.walk)"
   ]
  },
  {
   "cell_type": "code",
   "execution_count": 4,
   "id": "80c52eec",
   "metadata": {
    "tags": []
   },
   "outputs": [
    {
     "ename": "FileNotFoundError",
     "evalue": "[Errno 2] No such file or directory: '/opt/homebrew/Caskroom/miniconda/base/lib/python3.9/site-packages/pygwalker/templates/dist/pygwalker-app.iife.js'",
     "output_type": "error",
     "traceback": [
      "\u001b[0;31m---------------------------------------------------------------------------\u001b[0m",
      "\u001b[0;31mFileNotFoundError\u001b[0m                         Traceback (most recent call last)",
      "Cell \u001b[0;32mIn[4], line 1\u001b[0m\n\u001b[0;32m----> 1\u001b[0m \u001b[43mpyg\u001b[49m\u001b[38;5;241;43m.\u001b[39;49m\u001b[43mwalk\u001b[49m\u001b[43m(\u001b[49m\u001b[43mdf\u001b[49m\u001b[43m,\u001b[49m\u001b[43m \u001b[49m\u001b[43mhideDataSourceConfig\u001b[49m\u001b[38;5;241;43m=\u001b[39;49m\u001b[38;5;28;43;01mTrue\u001b[39;49;00m\u001b[43m,\u001b[49m\u001b[43m \u001b[49m\u001b[43mthemeKey\u001b[49m\u001b[38;5;241;43m=\u001b[39;49m\u001b[38;5;124;43m'\u001b[39;49m\u001b[38;5;124;43mvega\u001b[39;49m\u001b[38;5;124;43m'\u001b[39;49m\u001b[43m,\u001b[49m\u001b[43m \u001b[49m\u001b[43mdark\u001b[49m\u001b[38;5;241;43m=\u001b[39;49m\u001b[38;5;124;43m'\u001b[39;49m\u001b[38;5;124;43mdark\u001b[39;49m\u001b[38;5;124;43m'\u001b[39;49m\u001b[43m)\u001b[49m\n",
      "File \u001b[0;32m/opt/homebrew/Caskroom/miniconda/base/lib/python3.9/site-packages/pygwalker/gwalker.py:42\u001b[0m, in \u001b[0;36mwalk\u001b[0;34m(df, gid, **kwargs)\u001b[0m\n\u001b[1;32m     40\u001b[0m     gid \u001b[38;5;241m=\u001b[39m global_gid\n\u001b[1;32m     41\u001b[0m     global_gid \u001b[38;5;241m+\u001b[39m\u001b[38;5;241m=\u001b[39m \u001b[38;5;241m1\u001b[39m\n\u001b[0;32m---> 42\u001b[0m html \u001b[38;5;241m=\u001b[39m \u001b[43mto_html\u001b[49m\u001b[43m(\u001b[49m\u001b[43mdf\u001b[49m\u001b[43m,\u001b[49m\u001b[43m \u001b[49m\u001b[43mgid\u001b[49m\u001b[43m,\u001b[49m\u001b[43m \u001b[49m\u001b[38;5;241;43m*\u001b[39;49m\u001b[38;5;241;43m*\u001b[39;49m\u001b[43mkwargs\u001b[49m\u001b[43m)\u001b[49m\n\u001b[1;32m     43\u001b[0m \u001b[38;5;28;01mimport\u001b[39;00m \u001b[38;5;21;01mhtml\u001b[39;00m \u001b[38;5;28;01mas\u001b[39;00m \u001b[38;5;21;01mm_html\u001b[39;00m\n\u001b[1;32m     44\u001b[0m srcdoc \u001b[38;5;241m=\u001b[39m m_html\u001b[38;5;241m.\u001b[39mescape(html)\n",
      "File \u001b[0;32m/opt/homebrew/Caskroom/miniconda/base/lib/python3.9/site-packages/pygwalker/gwalker.py:22\u001b[0m, in \u001b[0;36mto_html\u001b[0;34m(df, gid, **kwargs)\u001b[0m\n\u001b[1;32m     20\u001b[0m     global_gid \u001b[38;5;241m+\u001b[39m\u001b[38;5;241m=\u001b[39m \u001b[38;5;241m1\u001b[39m\n\u001b[1;32m     21\u001b[0m props \u001b[38;5;241m=\u001b[39m get_props(df, \u001b[38;5;241m*\u001b[39m\u001b[38;5;241m*\u001b[39mkwargs)\n\u001b[0;32m---> 22\u001b[0m html \u001b[38;5;241m=\u001b[39m \u001b[43mrender_gwalker_html\u001b[49m\u001b[43m(\u001b[49m\u001b[43mgid\u001b[49m\u001b[43m,\u001b[49m\u001b[43m \u001b[49m\u001b[43mprops\u001b[49m\u001b[43m)\u001b[49m\n\u001b[1;32m     23\u001b[0m \u001b[38;5;28;01mreturn\u001b[39;00m html\n",
      "File \u001b[0;32m/opt/homebrew/Caskroom/miniconda/base/lib/python3.9/site-packages/pygwalker/utils/render.py:26\u001b[0m, in \u001b[0;36mrender_gwalker_html\u001b[0;34m(gid, props)\u001b[0m\n\u001b[1;32m     24\u001b[0m walker_template \u001b[38;5;241m=\u001b[39m jinja_env\u001b[38;5;241m.\u001b[39mget_template(\u001b[38;5;124m\"\u001b[39m\u001b[38;5;124mwalk.js\u001b[39m\u001b[38;5;124m\"\u001b[39m)\n\u001b[1;32m     25\u001b[0m js \u001b[38;5;241m=\u001b[39m walker_template\u001b[38;5;241m.\u001b[39mrender(gwalker\u001b[38;5;241m=\u001b[39m{\u001b[38;5;124m'\u001b[39m\u001b[38;5;124mid\u001b[39m\u001b[38;5;124m'\u001b[39m: gid, \u001b[38;5;124m'\u001b[39m\u001b[38;5;124mprops\u001b[39m\u001b[38;5;124m'\u001b[39m: json\u001b[38;5;241m.\u001b[39mdumps(props, \u001b[38;5;28mcls\u001b[39m\u001b[38;5;241m=\u001b[39mDataFrameEncoder)} )\n\u001b[0;32m---> 26\u001b[0m js \u001b[38;5;241m=\u001b[39m \u001b[38;5;124m\"\u001b[39m\u001b[38;5;124mvar exports=\u001b[39m\u001b[38;5;132;01m{}\u001b[39;00m\u001b[38;5;124m;\u001b[39m\u001b[38;5;124m\"\u001b[39m \u001b[38;5;241m+\u001b[39m \u001b[43mgwalker_script\u001b[49m\u001b[43m(\u001b[49m\u001b[43m)\u001b[49m \u001b[38;5;241m+\u001b[39m js\n\u001b[1;32m     28\u001b[0m template \u001b[38;5;241m=\u001b[39m jinja_env\u001b[38;5;241m.\u001b[39mget_template(\u001b[38;5;124m\"\u001b[39m\u001b[38;5;124mindex.html\u001b[39m\u001b[38;5;124m\"\u001b[39m)\n\u001b[1;32m     29\u001b[0m html \u001b[38;5;241m=\u001b[39m \u001b[38;5;124mf\u001b[39m\u001b[38;5;124m\"\u001b[39m\u001b[38;5;132;01m{\u001b[39;00mtemplate\u001b[38;5;241m.\u001b[39mrender(gwalker\u001b[38;5;241m=\u001b[39m{\u001b[38;5;124m'\u001b[39m\u001b[38;5;124mid\u001b[39m\u001b[38;5;124m'\u001b[39m:\u001b[38;5;250m \u001b[39mgid,\u001b[38;5;250m \u001b[39m\u001b[38;5;124m'\u001b[39m\u001b[38;5;124mscript\u001b[39m\u001b[38;5;124m'\u001b[39m:\u001b[38;5;250m \u001b[39mjs})\u001b[38;5;132;01m}\u001b[39;00m\u001b[38;5;124m\"\u001b[39m\n",
      "File \u001b[0;32m/opt/homebrew/Caskroom/miniconda/base/lib/python3.9/site-packages/pygwalker/utils/render.py:7\u001b[0m, in \u001b[0;36mgwalker_script\u001b[0;34m()\u001b[0m\n\u001b[1;32m      5\u001b[0m \u001b[38;5;28;01mglobal\u001b[39;00m gwalker_js\n\u001b[1;32m      6\u001b[0m \u001b[38;5;28;01mif\u001b[39;00m gwalker_js \u001b[38;5;129;01mis\u001b[39;00m \u001b[38;5;28;01mNone\u001b[39;00m:\n\u001b[0;32m----> 7\u001b[0m     \u001b[38;5;28;01mwith\u001b[39;00m \u001b[38;5;28;43mopen\u001b[39;49m\u001b[43m(\u001b[49m\u001b[43mos\u001b[49m\u001b[38;5;241;43m.\u001b[39;49m\u001b[43mpath\u001b[49m\u001b[38;5;241;43m.\u001b[39;49m\u001b[43mjoin\u001b[49m\u001b[43m(\u001b[49m\u001b[43mHERE\u001b[49m\u001b[43m,\u001b[49m\u001b[43m \u001b[49m\u001b[38;5;124;43m'\u001b[39;49m\u001b[38;5;124;43mtemplates\u001b[39;49m\u001b[38;5;124;43m'\u001b[39;49m\u001b[43m,\u001b[49m\u001b[43m \u001b[49m\u001b[38;5;124;43m'\u001b[39;49m\u001b[38;5;124;43mdist\u001b[39;49m\u001b[38;5;124;43m'\u001b[39;49m\u001b[43m,\u001b[49m\u001b[43m \u001b[49m\u001b[38;5;124;43m'\u001b[39;49m\u001b[38;5;124;43mpygwalker-app.iife.js\u001b[39;49m\u001b[38;5;124;43m'\u001b[39;49m\u001b[43m)\u001b[49m\u001b[43m,\u001b[49m\u001b[43m \u001b[49m\u001b[38;5;124;43m'\u001b[39;49m\u001b[38;5;124;43mr\u001b[39;49m\u001b[38;5;124;43m'\u001b[39;49m\u001b[43m,\u001b[49m\u001b[43m \u001b[49m\u001b[43mencoding\u001b[49m\u001b[38;5;241;43m=\u001b[39;49m\u001b[38;5;124;43m'\u001b[39;49m\u001b[38;5;124;43mutf8\u001b[39;49m\u001b[38;5;124;43m'\u001b[39;49m\u001b[43m)\u001b[49m \u001b[38;5;28;01mas\u001b[39;00m f:\n\u001b[1;32m      8\u001b[0m         gwalker_js \u001b[38;5;241m=\u001b[39m f\u001b[38;5;241m.\u001b[39mread()\n\u001b[1;32m      9\u001b[0m \u001b[38;5;28;01mreturn\u001b[39;00m gwalker_js\n",
      "\u001b[0;31mFileNotFoundError\u001b[0m: [Errno 2] No such file or directory: '/opt/homebrew/Caskroom/miniconda/base/lib/python3.9/site-packages/pygwalker/templates/dist/pygwalker-app.iife.js'"
     ]
    }
   ],
   "source": [
    "pyg.walk(df, hideDataSourceConfig=True, themeKey='vega', dark='dark')"
   ]
  },
  {
   "cell_type": "code",
   "execution_count": null,
   "id": "c6d84b8d-c588-49ec-acee-75db2131af3d",
   "metadata": {},
   "outputs": [],
   "source": []
  }
 ],
 "metadata": {
  "kernelspec": {
   "display_name": "Python 3 (ipykernel)",
   "language": "python",
   "name": "python3"
  },
  "language_info": {
   "codemirror_mode": {
    "name": "ipython",
    "version": 3
   },
   "file_extension": ".py",
   "mimetype": "text/x-python",
   "name": "python",
   "nbconvert_exporter": "python",
   "pygments_lexer": "ipython3",
   "version": "3.9.16"
  },
  "widgets": {
   "application/vnd.jupyter.widget-state+json": {
    "state": {},
    "version_major": 2,
    "version_minor": 0
   }
  }
 },
 "nbformat": 4,
 "nbformat_minor": 5
}
