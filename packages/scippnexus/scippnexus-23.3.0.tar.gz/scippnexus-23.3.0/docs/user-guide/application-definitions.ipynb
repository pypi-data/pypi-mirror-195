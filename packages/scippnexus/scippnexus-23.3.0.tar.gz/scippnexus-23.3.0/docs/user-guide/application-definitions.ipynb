{
 "cells": [
  {
   "cell_type": "markdown",
   "id": "1057e968-0ea0-4343-9c7c-bcbe417ae1fd",
   "metadata": {},
   "source": [
    "# Application Definitions"
   ]
  },
  {
   "cell_type": "markdown",
   "id": "f1dbfbe6-9605-4f1a-b8c9-a31768df60f5",
   "metadata": {},
   "source": [
    "## Overview\n",
    "\n",
    "[NeXus Application Definitions](https://manual.nexusformat.org/classes/applications/index.html) define mandatory and optional class contents for specific applications.\n",
    "ScippNexus' approach to application definitions is to consider them as a guide, without performing full validation.\n",
    "This is to avoid getting in the way of the library user, e.g., when working with incomplete or partially broken files.\n",
    "For example, ScippNexus will generally not validate that the tree structure conforms to a given application definition."
   ]
  },
  {
   "cell_type": "markdown",
   "id": "6f738b1d-d090-4b9d-9980-38cfbc1244ba",
   "metadata": {},
   "source": [
    "<div class=\"alert alert-warning\">\n",
    "    <b>Warning:</b>\n",
    "\n",
    "ScippNexus' support for application definitions is currently experimental and the API is still subject to changes.\n",
    "\n",
    "</div>"
   ]
  },
  {
   "cell_type": "markdown",
   "id": "c4164b2f-6e64-4a9f-8204-daf6ef8025fc",
   "metadata": {},
   "source": [
    "## Writing files\n",
    "\n",
    "Skip ahead to [Reading files](#Reading-files) if you simply want to customize how data is read from existing files.\n",
    "ScippNexus provides a customization point for writing content to NeXus files with `__setitem__`.\n",
    "The requirements are that the value\n",
    "\n",
    "1. provides an `nx_class` attribute that returns a valid NeXus class name such as `'NXdata'` or `scippnexus.NXdata` and\n",
    "2. defines the `__write_to_nexus_group__` method that takes a `scippnexus.NXobject`, i.e., an open NeXus group, as its single argument.\n",
    "\n",
    "`__write_to_nexus_group__` may then write its content to this group.\n",
    "This can (and should) make use of ScippNexus features for writing Nexus fields (HDF5 datasets), such as automatic writing of the `units` attribute, or writing `datetime64` data.\n",
    "Consider the following example:"
   ]
  },
  {
   "cell_type": "code",
   "execution_count": null,
   "id": "3da8519f-4295-4c94-9850-92020a37ebfd",
   "metadata": {},
   "outputs": [],
   "source": [
    "import scipp as sc\n",
    "import scippnexus as snx\n",
    "\n",
    "\n",
    "class MyData:\n",
    "    nx_class = snx.NXdata  # required\n",
    "\n",
    "    def __init__(self, data: sc.DataArray):\n",
    "        self._data = data\n",
    "\n",
    "    def __write_to_nexus_group__(self, group: snx.NXobject):  # required\n",
    "        group.attrs['axes'] = self._data.dims  # NeXus way of defining dim labels\n",
    "        group['mysignal'] = self._data.data"
   ]
  },
  {
   "cell_type": "markdown",
   "id": "11c5073d-7231-429c-a461-61b31a03c284",
   "metadata": {},
   "source": [
    "Note that above we use a custom \"signal\" name and do not to set the \"signal\" attribute on the group and as such deviate from the NeXus specification.\n",
    "We can then write our data using:"
   ]
  },
  {
   "cell_type": "code",
   "execution_count": null,
   "id": "908cb5e5-8255-4623-aec0-83e59999a3d8",
   "metadata": {},
   "outputs": [],
   "source": [
    "mydata = sc.DataArray(sc.arange('x', 5, unit='s'))\n",
    "\n",
    "with snx.File('test.nxs', 'w') as f:\n",
    "    f['data'] = MyData(mydata)"
   ]
  },
  {
   "cell_type": "markdown",
   "id": "e04a29d3-2f8d-4874-86e7-9b1a26458d0e",
   "metadata": {
    "tags": []
   },
   "source": [
    "## Reading files\n",
    "\n",
    "### Overview\n",
    "\n",
    "For some application definitions &mdash; or classes within application definitions &mdash; the default ScippNexus mechanisms for reading are sufficient.\n",
    "This is the case when the application definition follows the NeXus standard and, e.g., introduces no new attributes.\n",
    "\n",
    "In other cases we require customization of how ScippNexus reads class contents.\n",
    "On the lowest level, this is handled using *strategies* that can be passed to `scippnexus.NXobject` and its subclasses such as `scippnexus.NXdata`.\n",
    "Handling of strategies is usually encapsulated by a *definition* that can be passed to `scippnexus.File`.\n",
    "\n",
    "As an example, consider the following simple strategy for loading data with a custom signal name, which the file failed to specify.\n",
    "We also subclass `scippnexus.ApplicationDefinition`:"
   ]
  },
  {
   "cell_type": "code",
   "execution_count": null,
   "id": "ac9ad742-ea04-4ebf-9f5d-ee68f98983d6",
   "metadata": {},
   "outputs": [],
   "source": [
    "class MyDataStrategy(snx.NXdataStrategy):\n",
    "    @staticmethod\n",
    "    def signal(group: snx.NXobject) -> str:\n",
    "        return 'mysignal'\n",
    "\n",
    "\n",
    "class MyDefinition(snx.ApplicationDefinition):\n",
    "    def make_strategy(self, group: snx.NXobject):\n",
    "        if group.nx_class == snx.NXdata:\n",
    "            return MyDataStrategy"
   ]
  },
  {
   "cell_type": "markdown",
   "id": "ef933561-9e32-4549-acd1-1b574b585742",
   "metadata": {},
   "source": [
    "We can then load our file (created above in [Writing files](#Writing-files)) by passing an instance of our custom definition to `scippnexus.File`:"
   ]
  },
  {
   "cell_type": "code",
   "execution_count": null,
   "id": "460c1f65-623e-4129-b5dc-50811681d3aa",
   "metadata": {},
   "outputs": [],
   "source": [
    "with snx.File('test.nxs', 'r', definition=MyDefinition()) as f:\n",
    "    loaded = f['data'][...]\n",
    "loaded"
   ]
  },
  {
   "cell_type": "markdown",
   "id": "f5d55a73-53ce-412a-90d2-18a826ec3c95",
   "metadata": {},
   "source": [
    "ScippNexus does currently not ship with a library of application definitions.\n",
    "Custom definitions can be provided by a user as outlined above.\n",
    "The *definition* passed to ScippNexus serves as a factory for strategies &mdash; in the above example the only custom definition is the one used for `NXdata`.\n",
    "For a given group in a NeXus tree, ScippNexus calls `definition.make_strategy(group)` to request a strategy for the group.\n",
    "This may return `None` and ScippNexus will then use its default strategy for loading the group.\n",
    "\n",
    "Strategies provide customization points, e.g., for how ScippNexus can find required information in the HDF5 group, and how contents are mapped to aspects of the returned data (typically a `scipp.DataArray`).\n",
    "For example, the default `scippnexus.NXdataStrategy` provides a static `axes` method that returns the name of the axes in the group, i.e., the dimension labels.\n",
    "Users can either subclass `NXdataStrategy`, or provide a class with equivalent interfaces.\n",
    "A full list of available base strategies can be found in [Strategies](classes.rst#Strategies)."
   ]
  },
  {
   "cell_type": "markdown",
   "id": "69a0c1b7-2dc3-47c3-88d1-23cfc1ee77ac",
   "metadata": {},
   "source": [
    "<div class=\"alert alert-info\">\n",
    "    <b>Note:</b>\n",
    "\n",
    "Support for strategies is very new and the number of customization points is currently very limited.\n",
    "If you encounter the need for more customization, please [open an issue](https://github.com/scipp/scippnexus/issues/new) so we can consider how to extent the base strategy.\n",
    "\n",
    "</div>"
   ]
  },
  {
   "cell_type": "markdown",
   "id": "2371d6ef-8ad3-4a2c-bc63-939d1a29950f",
   "metadata": {},
   "source": [
    "### Using strategies for filtering\n",
    "\n",
    "The application-definition mechanism can be used for filtering or selecting which children from a group should be loaded.\n",
    "For example, we may wish to exclude certain NeXus classes from loading.\n",
    "We define a strategy as follows:"
   ]
  },
  {
   "cell_type": "code",
   "execution_count": null,
   "id": "a73b4dc8-98a3-40b6-bb03-d1efd666d3aa",
   "metadata": {},
   "outputs": [],
   "source": [
    "import scippnexus as snx\n",
    "\n",
    "\n",
    "class FilterStrategy(snx.NXobjectStrategy):\n",
    "    @staticmethod\n",
    "    def include_child(group: snx.NXobject) -> bool:\n",
    "        \"\"\"\n",
    "        Skip all NXevent_data, the NXinstrument, and the group named \"DASlogs\".\n",
    "        \"\"\"\n",
    "        skip_classes = (snx.NXevent_data, snx.NXinstrument)\n",
    "        if isinstance(group, skip_classes):\n",
    "            return False\n",
    "        return not group.name.endswith('DASlogs')"
   ]
  },
  {
   "cell_type": "markdown",
   "id": "b95829c7-8d32-4731-9a99-361cdf8017cc",
   "metadata": {},
   "source": [
    "We can use this strategy with a custom application definition as follows:"
   ]
  },
  {
   "cell_type": "code",
   "execution_count": null,
   "id": "91614592-0c2f-4575-a07f-aa2fba00ce7c",
   "metadata": {},
   "outputs": [],
   "source": [
    "from scippnexus import data\n",
    "\n",
    "filename = data.get_path('PG3_4844_event.nxs')\n",
    "definition = snx.make_definition({snx.NXentry: FilterStrategy})\n",
    "f = snx.File(filename, definition=definition)\n",
    "f['entry'][...]"
   ]
  },
  {
   "cell_type": "markdown",
   "id": "e054874a-df45-450d-9cb4-9b5b5ccff309",
   "metadata": {},
   "source": [
    "Above we used the helper [snx.make_definition](../generated/functions/make_definition.rst) which can be used instead of manually subclassing `ApplicationDefinition` in such simple cases."
   ]
  }
 ],
 "metadata": {
  "kernelspec": {
   "display_name": "Python 3 (ipykernel)",
   "language": "python",
   "name": "python3"
  },
  "language_info": {
   "codemirror_mode": {
    "name": "ipython",
    "version": 3
   },
   "file_extension": ".py",
   "mimetype": "text/x-python",
   "name": "python",
   "nbconvert_exporter": "python",
   "pygments_lexer": "ipython3"
  }
 },
 "nbformat": 4,
 "nbformat_minor": 5
}
