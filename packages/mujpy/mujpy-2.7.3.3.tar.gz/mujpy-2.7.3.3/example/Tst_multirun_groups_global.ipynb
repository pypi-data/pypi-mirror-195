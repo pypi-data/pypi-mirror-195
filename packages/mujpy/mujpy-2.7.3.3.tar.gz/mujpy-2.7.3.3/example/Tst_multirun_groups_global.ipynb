{
 "cells": [
  {
   "cell_type": "markdown",
   "metadata": {},
   "source": [
    "**Example of B2 multirun sequential, multigroup global fits with animated mufitplot**\n",
    "\n",
    "Description of data set and experiment: \n",
    "* Download the data: e.g. GPS 2021 0822-0834 from http://musruser.psi.ch/cgi-bin/SearchDB.cgi or replace `datafile` in cell [2] with  /afs/psi.ch/project/bulkmusr/data/gps/2021/tdc/deltat_tdc_gps_0822.bin (MAKE SURE YOU HAVE ACCESS TO /afs/psi.ch/ AND RENEW IT)\n",
    "* Weak Transverse Field (WEP, along \\\\(\\hat x\\\\)), T-scan (1.5K-30K), on a magnetic sample with a broad distribution of internal fields below Tc ~ 20 K; groups are 2-1, along the beam \\\\(\\hat z\\\\) (full asymmetry ,\\\\(A_{21}\\\\)) and 3-4, along \\\\(\\hat y\\\\) (full asymmetry \\\\(A_{34}\\\\)). The initial muon spin lies at angle \\\\(\\theta\\\\) from \\\\(-\\hat z\\\\) in the \\\\(yz\\\\) plane. \n",
    "\n",
    "Approximate global fit:\n",
    "* ml: external field component, includes sample and (small) muon in environment above Tc, only environment at low T, a transition in between; in principle it could consist of two distinct components; the single component has fraction \\\\(\\approx 1-f_{mag}(T)\\\\), magnetic field \\\\(B_0 \\approx 10\\\\) mT along \\\\(\\hat x\\\\), amplitude drops below Tc, initial phase is group-dependent \\\\((\\phi_{21},\\phi_{34}\\approx \\phi_{21}-\\pi/2)\\\\), \\\\(\\lambda_0\\\\) is group-global. \n",
    "* mg: transverse internal field component, expect a mean value \\\\(B_T(T)\\\\) along \\\\(\\hat z\\\\), with very broad \\\\(\\sigma_T(T)\\\\), fraction  \\\\(\n",
    "2f_{mag}(T)/3\\\\) and zero initial phase;\n",
    "* bl: longitudinal internal field component, with fraction  \\\\(f_{mag}(T)/3\\\\)  and a moderate  \\\\(\\lambda_L(T)\\\\)\n",
    "\n",
    "To run, after accessing data files, you must only adapt\n",
    "* the `%cd` magic in cell [1]\n",
    "* `logpath`, `datafile`\n",
    "* optionally, you can play with `...git/mujpy/log/mlmgbl.822.2-1_3-4.gg_1.json`"
   ]
  },
  {
   "cell_type": "code",
   "execution_count": 1,
   "metadata": {},
   "outputs": [
    {
     "name": "stdout",
     "output_type": "stream",
     "text": [
      "/home/roberto.derenzi/git/mujpy\n"
     ]
    }
   ],
   "source": [
    "%matplotlib tk\n",
    "%cd /home/roberto.derenzi/git/mujpy/  \n",
    "# adapt this\n",
    "from mujpy.musuite import suite\n",
    "import json, re\n",
    "from os.path import isfile\n",
    "from mujpy.mufit import mufit\n",
    "from mujpy.mufitplot import mufitplot\n",
    "jsonsuffix = '.json'"
   ]
  },
  {
   "cell_type": "code",
   "execution_count": 2,
   "metadata": {},
   "outputs": [],
   "source": [
    "logpath = '/home/roberto.derenzi/git/mujpy/log/' # adapt this\n",
    "datafile = '/home/roberto.derenzi/musrfit/MBT/gps/run_05_21/data/deltat_tdc_gps_0822.bin' # adapt this\n",
    "runlist = '822,823:834:-1' #  first run first\n",
    "modelname = 'mlmgbl'  # in jupyter notebook version see the the json ...git/mujpy/log/mlmgbl.822.2-1_3-4.gg_1.json (adapt)\n",
    "version = 'gg_1' ## gg_ is the group global convention for A21 and B2-type fits\n",
    "grp_calib = [{'forward':'2', 'backward':'1', 'alpha':1.13},{'forward':'3', 'backward':'4', 'alpha':1.13}] # two groups\n",
    "groupcalibfile = '2-1_3-4.calib' # in a separate single json (simple dict) file\n",
    "inputsuitefile = 'input.suite' # in a single json (simple dict) file\n",
    "dashboard = modelname+'.'+re.search(r'\\d+', runlist).group()+'.'+groupcalibfile[:groupcalibfile.index('.')+1]+version+jsonsuffix\n",
    "if not isfile(logpath+dashboard): \n",
    "    print('Model definition dashboard file {} does not exist. Make one.'.format(logpath+dashboard))\n",
    "# dashboard is the jargon name for the content of the model-defining json file  "
   ]
  },
  {
   "cell_type": "code",
   "execution_count": 3,
   "metadata": {},
   "outputs": [
    {
     "name": "stdout",
     "output_type": "stream",
     "text": [
      "******************* SUITE *********************\n",
      "Run /home/roberto.derenzi/musrfit/MBT/gps/run_05_21/data/deltat_tdc_gps_0822.bin loaded\n",
      " MnBi6Te10 pellet 30.0K 10mT\n",
      "Run /home/roberto.derenzi/musrfit/MBT/gps/run_05_21/data/deltat_tdc_gps_0834.bin loaded\n",
      " MnBi6Te10 pellet 23.0K 10mT\n",
      "Run /home/roberto.derenzi/musrfit/MBT/gps/run_05_21/data/deltat_tdc_gps_0833.bin loaded\n",
      " MnBi6Te10 pellet 20.0K 10mT\n",
      "Run /home/roberto.derenzi/musrfit/MBT/gps/run_05_21/data/deltat_tdc_gps_0832.bin loaded\n",
      " MnBi6Te10 pellet 17.0K 10mT\n",
      "Run /home/roberto.derenzi/musrfit/MBT/gps/run_05_21/data/deltat_tdc_gps_0831.bin loaded\n",
      " MnBi6Te10 pellet 16.0K 10mT\n",
      "Run /home/roberto.derenzi/musrfit/MBT/gps/run_05_21/data/deltat_tdc_gps_0830.bin loaded\n",
      " MnBi6Te10 pellet 15.0K 10mT\n",
      "Run /home/roberto.derenzi/musrfit/MBT/gps/run_05_21/data/deltat_tdc_gps_0829.bin loaded\n",
      " MnBi6Te10 pellet 14.0K 10mT\n",
      "Run /home/roberto.derenzi/musrfit/MBT/gps/run_05_21/data/deltat_tdc_gps_0828.bin loaded\n",
      " MnBi6Te10 pellet 13.0K 10mT\n",
      "Run /home/roberto.derenzi/musrfit/MBT/gps/run_05_21/data/deltat_tdc_gps_0827.bin loaded\n",
      " MnBi6Te10 pellet 12.0K 10mT\n",
      "Run /home/roberto.derenzi/musrfit/MBT/gps/run_05_21/data/deltat_tdc_gps_0826.bin loaded\n",
      " MnBi6Te10 pellet 11.0K 10mT\n",
      "Run /home/roberto.derenzi/musrfit/MBT/gps/run_05_21/data/deltat_tdc_gps_0825.bin loaded\n",
      " MnBi6Te10 pellet 10.0K 10mT\n",
      "Run /home/roberto.derenzi/musrfit/MBT/gps/run_05_21/data/deltat_tdc_gps_0824.bin loaded\n",
      " MnBi6Te10 pellet 6.0K 10mT\n",
      "Run /home/roberto.derenzi/musrfit/MBT/gps/run_05_21/data/deltat_tdc_gps_0823.bin loaded\n",
      " MnBi6Te10 pellet 1.5K 10mT\n",
      "Succesfully completed prompt Minuit fit, check nt0, dt0 \n",
      "****************END OF SUITE*****************\n"
     ]
    }
   ],
   "source": [
    "#  can add 'scan':'T' or 'B' for orderinng csv for increasing T, B, otherwise increasing nrun\n",
    "input_suite = {'console':'print',\n",
    "                   'datafile':datafile,\n",
    "                   'logpath':logpath,\n",
    "                   'runlist':runlist,\n",
    "                   'groups calibration':groupcalibfile,\n",
    "                   'offset':20\n",
    "                  }  # 'console':logging, for output in Log Console, 'console':print, for output in notebook\n",
    "with open(logpath+inputsuitefile,\"w\") as f:\n",
    "    json.dump(input_suite,f)\n",
    "\n",
    "with open(logpath+groupcalibfile,\"w\") as f:\n",
    "    json.dump(grp_calib,f)\n",
    "    \n",
    "the_suite = suite(logpath+inputsuitefile,mplot=False) # the_suite implements the class suite according to input.suite"
   ]
  },
  {
   "cell_type": "code",
   "execution_count": 4,
   "metadata": {},
   "outputs": [
    {
     "name": "stdout",
     "output_type": "stream",
     "text": [
      "Model definition from file /home/roberto.derenzi/git/mujpy/log/mlmgbl.822.2-1_3-4.gg_1.json\n",
      "mufit dofit_sequentialrun_multigroup_userpardicts debug: shape asymm, asyme = (13, 2, 25178), (13, 2, 25178)\n",
      "mufit dofit_sequentialrun_multigroup_userpardicts debug: Minuit inputs\n",
      "0 f_mag = 0.3(0.005), False, [0, 1] \n",
      "1 A12 = 0.25(0.005), False, [None, None] \n",
      "2 A34 = 0.25(0.005), False, [None, None] \n",
      "3 B_0 = 10.0(0.005), False, [None, None] \n",
      "4 φ12 = -55.0(0.005), False, [None, None] \n",
      "5 λ_0 = 0.1(0.005), False, [-87.0, None] \n",
      "6 B_T = 10.0(0.005), False, [None, None] \n",
      "7 σ_T = 2.0(0.005), False, [None, None] \n",
      "8 λ_L = 0.3(0.005), False, [-87.0, None] \n",
      "mufit dofit_sequentialrun_multigroup_userpardicts debug: check asyme[0,0] contains zeros!\n",
      "mufit dofit_sequentialrun_multigroup_userpardicts debug: asymm.shape (2, 4800) \n",
      "mufit dofit_sequentialrun_multigroup_userpardicts debug: fs.shape  (2, 4800) \n",
      "mufit dofit_sequentialrun_multigroup_userpardicts debug: limits <LimitView f_mag=(0.0, 1.0) A12=(-inf, inf) A34=(-inf, inf) B_0=(-inf, inf) φ12=(-inf, inf) λ_0=(-87.0, inf) B_T=(-inf, inf) σ_T=(-inf, inf) λ_L=(-87.0, inf)>\n"
     ]
    },
    {
     "name": "stderr",
     "output_type": "stream",
     "text": [
      "/home/roberto.derenzi/git/mujpy/mujpy/mucomponents/mucomponents.py:881: RuntimeWarning: divide by zero encountered in true_divide\n",
      "  normsquaredev = (num/self._e_)**2\n"
     ]
    },
    {
     "name": "stdout",
     "output_type": "stream",
     "text": [
      " ________________________________________________________________________________________________\n",
      "| Run 822: MnBi6Te10 pellet 30.0K 10mT    Global fit of 11/01/2022 17:52:21              |\n",
      "| χᵣ² = inf(0.986,1.014) ,    on [7.82ns, 9.4µs, 1.95ns/bin]                                   |\n",
      "|----------------------------------------------------------------- on group: 2 - 1   α = 1.130   |\n",
      "| ml: A_ext = 0.175(0) B_ext = 10.0(0) φ_ext = -55.0(0) λ_ext = 0.09999999999999432(0)\n",
      "| mg: A_T = 0.049999999999999996(0) B_T = 10.0(0) φ_T = (0(0) σ_T = 2.0(0)\n",
      "| bl: A_L = 0.024999999999999998(0) λ_L = 0.29999999999999716(0)\n",
      "|----------------------------------------------------------------- on group: 3 - 4   α = 1.130   |\n",
      "| ml: A_ext = 0.175(0) B_ext = 10.0(0) φ_ext = 35.0(0) λ_ext = 0.09999999999999432(0)\n",
      "| mg: A_T = 0.049999999999999996(0) B_T = 10.0(0) φ_T = (0(0) σ_T = 2.0(0)\n",
      "| bl: A_L = 0.024999999999999998(0) λ_L = 0.29999999999999716(0)\n",
      "|________________________________________________________________________________________________|\n",
      "mufit dofit_sequentialrun_multigroup_userpardicts debug: fval inf, ndof 9591\n",
      "Run 822: MnBi6Te10 pellet 30.0K 10mT ***\n",
      "Best fit saved in /home/roberto.derenzi/git/mujpy/log/mlmgbl.822.2-1_3-4.gg_1_fit.json .  Log in NEW mlmgbl.gg_1.2-1_3-4.csv [backup in mlmgbl.gg_1.2-1_3-4.csv~]\n",
      "mufit dofit_sequentialrun_multigroup_userpardicts debug: check asyme[1,0] contains zeros!\n",
      "mufit dofit_sequentialrun_multigroup_userpardicts debug: asymm.shape (2, 4800) \n",
      "mufit dofit_sequentialrun_multigroup_userpardicts debug: fs.shape  (2, 4800) \n",
      "mufit dofit_sequentialrun_multigroup_userpardicts debug: limits <LimitView f_mag=(0.0, 1.0) A12=(-inf, inf) A34=(-inf, inf) B_0=(-inf, inf) φ12=(-inf, inf) λ_0=(-87.0, inf) B_T=(-inf, inf) σ_T=(-inf, inf) λ_L=(-87.0, inf)>\n"
     ]
    },
    {
     "name": "stderr",
     "output_type": "stream",
     "text": [
      "/home/roberto.derenzi/git/mujpy/mujpy/mucomponents/mucomponents.py:881: RuntimeWarning: divide by zero encountered in true_divide\n",
      "  normsquaredev = (num/self._e_)**2\n"
     ]
    },
    {
     "name": "stdout",
     "output_type": "stream",
     "text": [
      " ________________________________________________________________________________________________\n",
      "| Run 834: MnBi6Te10 pellet 23.0K 10mT    Global fit of 11/01/2022 17:52:22              |\n",
      "| χᵣ² = inf(0.986,1.014) ,    on [7.82ns, 9.4µs, 1.95ns/bin]                                   |\n",
      "|----------------------------------------------------------------- on group: 2 - 1   α = 1.130   |\n",
      "| ml: A_ext = 0.175(0) B_ext = 10.0(0) φ_ext = -55.0(0) λ_ext = 0.09999999999999432(0)\n",
      "| mg: A_T = 0.049999999999999996(0) B_T = 10.0(0) φ_T = (0(0) σ_T = 2.0(0)\n",
      "| bl: A_L = 0.024999999999999998(0) λ_L = 0.29999999999999716(0)\n",
      "|----------------------------------------------------------------- on group: 3 - 4   α = 1.130   |\n",
      "| ml: A_ext = 0.175(0) B_ext = 10.0(0) φ_ext = 35.0(0) λ_ext = 0.09999999999999432(0)\n",
      "| mg: A_T = 0.049999999999999996(0) B_T = 10.0(0) φ_T = (0(0) σ_T = 2.0(0)\n",
      "| bl: A_L = 0.024999999999999998(0) λ_L = 0.29999999999999716(0)\n",
      "|________________________________________________________________________________________________|\n",
      "mufit dofit_sequentialrun_multigroup_userpardicts debug: fval inf, ndof 9591\n",
      "Run 834: MnBi6Te10 pellet 23.0K 10mT ***\n",
      "Best fit saved in /home/roberto.derenzi/git/mujpy/log/mlmgbl.834.2-1_3-4.gg_1_fit.json .  Log added to mlmgbl.gg_1.2-1_3-4.csv\n",
      "mufit dofit_sequentialrun_multigroup_userpardicts debug: check asyme[2,0] contains zeros!\n",
      "mufit dofit_sequentialrun_multigroup_userpardicts debug: asymm.shape (2, 4800) \n",
      "mufit dofit_sequentialrun_multigroup_userpardicts debug: fs.shape  (2, 4800) \n",
      "mufit dofit_sequentialrun_multigroup_userpardicts debug: limits <LimitView f_mag=(0.0, 1.0) A12=(-inf, inf) A34=(-inf, inf) B_0=(-inf, inf) φ12=(-inf, inf) λ_0=(-87.0, inf) B_T=(-inf, inf) σ_T=(-inf, inf) λ_L=(-87.0, inf)>\n"
     ]
    },
    {
     "name": "stderr",
     "output_type": "stream",
     "text": [
      "/home/roberto.derenzi/git/mujpy/mujpy/mucomponents/mucomponents.py:881: RuntimeWarning: divide by zero encountered in true_divide\n",
      "  normsquaredev = (num/self._e_)**2\n"
     ]
    },
    {
     "name": "stdout",
     "output_type": "stream",
     "text": [
      " ________________________________________________________________________________________________\n",
      "| Run 833: MnBi6Te10 pellet 20.0K 10mT    Global fit of 11/01/2022 17:52:22              |\n",
      "| χᵣ² = inf(0.986,1.014) ,    on [7.82ns, 9.4µs, 1.95ns/bin]                                   |\n",
      "|----------------------------------------------------------------- on group: 2 - 1   α = 1.130   |\n",
      "| ml: A_ext = 0.175(0) B_ext = 10.0(0) φ_ext = -55.0(0) λ_ext = 0.09999999999999432(0)\n",
      "| mg: A_T = 0.049999999999999996(0) B_T = 10.0(0) φ_T = (0(0) σ_T = 2.0(0)\n",
      "| bl: A_L = 0.024999999999999998(0) λ_L = 0.29999999999999716(0)\n",
      "|----------------------------------------------------------------- on group: 3 - 4   α = 1.130   |\n",
      "| ml: A_ext = 0.175(0) B_ext = 10.0(0) φ_ext = 35.0(0) λ_ext = 0.09999999999999432(0)\n",
      "| mg: A_T = 0.049999999999999996(0) B_T = 10.0(0) φ_T = (0(0) σ_T = 2.0(0)\n",
      "| bl: A_L = 0.024999999999999998(0) λ_L = 0.29999999999999716(0)\n",
      "|________________________________________________________________________________________________|\n",
      "mufit dofit_sequentialrun_multigroup_userpardicts debug: fval inf, ndof 9591\n",
      "Run 833: MnBi6Te10 pellet 20.0K 10mT ***\n",
      "Best fit saved in /home/roberto.derenzi/git/mujpy/log/mlmgbl.833.2-1_3-4.gg_1_fit.json .  Log added to mlmgbl.gg_1.2-1_3-4.csv\n",
      "mufit dofit_sequentialrun_multigroup_userpardicts debug: check asyme[3,0] contains zeros!\n",
      "mufit dofit_sequentialrun_multigroup_userpardicts debug: asymm.shape (2, 4800) \n",
      "mufit dofit_sequentialrun_multigroup_userpardicts debug: fs.shape  (2, 4800) \n",
      "mufit dofit_sequentialrun_multigroup_userpardicts debug: limits <LimitView f_mag=(0.0, 1.0) A12=(-inf, inf) A34=(-inf, inf) B_0=(-inf, inf) φ12=(-inf, inf) λ_0=(-87.0, inf) B_T=(-inf, inf) σ_T=(-inf, inf) λ_L=(-87.0, inf)>\n"
     ]
    },
    {
     "name": "stderr",
     "output_type": "stream",
     "text": [
      "/home/roberto.derenzi/git/mujpy/mujpy/mucomponents/mucomponents.py:881: RuntimeWarning: divide by zero encountered in true_divide\n",
      "  normsquaredev = (num/self._e_)**2\n"
     ]
    },
    {
     "name": "stdout",
     "output_type": "stream",
     "text": [
      " ________________________________________________________________________________________________\n",
      "| Run 832: MnBi6Te10 pellet 17.0K 10mT    Global fit of 11/01/2022 17:52:23              |\n",
      "| χᵣ² = inf(0.986,1.014) ,    on [7.82ns, 9.4µs, 1.95ns/bin]                                   |\n",
      "|----------------------------------------------------------------- on group: 2 - 1   α = 1.130   |\n",
      "| ml: A_ext = 0.175(0) B_ext = 10.0(0) φ_ext = -55.0(0) λ_ext = 0.09999999999999432(0)\n",
      "| mg: A_T = 0.049999999999999996(0) B_T = 10.0(0) φ_T = (0(0) σ_T = 2.0(0)\n",
      "| bl: A_L = 0.024999999999999998(0) λ_L = 0.29999999999999716(0)\n",
      "|----------------------------------------------------------------- on group: 3 - 4   α = 1.130   |\n",
      "| ml: A_ext = 0.175(0) B_ext = 10.0(0) φ_ext = 35.0(0) λ_ext = 0.09999999999999432(0)\n",
      "| mg: A_T = 0.049999999999999996(0) B_T = 10.0(0) φ_T = (0(0) σ_T = 2.0(0)\n",
      "| bl: A_L = 0.024999999999999998(0) λ_L = 0.29999999999999716(0)\n",
      "|________________________________________________________________________________________________|\n",
      "mufit dofit_sequentialrun_multigroup_userpardicts debug: fval inf, ndof 9591\n",
      "Run 832: MnBi6Te10 pellet 17.0K 10mT ***\n",
      "Best fit saved in /home/roberto.derenzi/git/mujpy/log/mlmgbl.832.2-1_3-4.gg_1_fit.json .  Log added to mlmgbl.gg_1.2-1_3-4.csv\n",
      "mufit dofit_sequentialrun_multigroup_userpardicts debug: check asyme[4,0] contains zeros!\n",
      "mufit dofit_sequentialrun_multigroup_userpardicts debug: asymm.shape (2, 4800) \n",
      "mufit dofit_sequentialrun_multigroup_userpardicts debug: fs.shape  (2, 4800) \n",
      "mufit dofit_sequentialrun_multigroup_userpardicts debug: limits <LimitView f_mag=(0.0, 1.0) A12=(-inf, inf) A34=(-inf, inf) B_0=(-inf, inf) φ12=(-inf, inf) λ_0=(-87.0, inf) B_T=(-inf, inf) σ_T=(-inf, inf) λ_L=(-87.0, inf)>\n"
     ]
    },
    {
     "name": "stderr",
     "output_type": "stream",
     "text": [
      "/home/roberto.derenzi/git/mujpy/mujpy/mucomponents/mucomponents.py:881: RuntimeWarning: divide by zero encountered in true_divide\n",
      "  normsquaredev = (num/self._e_)**2\n"
     ]
    },
    {
     "name": "stdout",
     "output_type": "stream",
     "text": [
      " ________________________________________________________________________________________________\n",
      "| Run 831: MnBi6Te10 pellet 16.0K 10mT    Global fit of 11/01/2022 17:52:23              |\n",
      "| χᵣ² = inf(0.986,1.014) ,    on [7.82ns, 9.4µs, 1.95ns/bin]                                   |\n",
      "|----------------------------------------------------------------- on group: 2 - 1   α = 1.130   |\n",
      "| ml: A_ext = 0.175(0) B_ext = 10.0(0) φ_ext = -55.0(0) λ_ext = 0.09999999999999432(0)\n",
      "| mg: A_T = 0.049999999999999996(0) B_T = 10.0(0) φ_T = (0(0) σ_T = 2.0(0)\n",
      "| bl: A_L = 0.024999999999999998(0) λ_L = 0.29999999999999716(0)\n",
      "|----------------------------------------------------------------- on group: 3 - 4   α = 1.130   |\n",
      "| ml: A_ext = 0.175(0) B_ext = 10.0(0) φ_ext = 35.0(0) λ_ext = 0.09999999999999432(0)\n",
      "| mg: A_T = 0.049999999999999996(0) B_T = 10.0(0) φ_T = (0(0) σ_T = 2.0(0)\n",
      "| bl: A_L = 0.024999999999999998(0) λ_L = 0.29999999999999716(0)\n",
      "|________________________________________________________________________________________________|\n",
      "mufit dofit_sequentialrun_multigroup_userpardicts debug: fval inf, ndof 9591\n",
      "Run 831: MnBi6Te10 pellet 16.0K 10mT ***\n",
      "Best fit saved in /home/roberto.derenzi/git/mujpy/log/mlmgbl.831.2-1_3-4.gg_1_fit.json .  Log added to mlmgbl.gg_1.2-1_3-4.csv\n",
      "mufit dofit_sequentialrun_multigroup_userpardicts debug: check asyme[5,0] contains zeros!\n",
      "mufit dofit_sequentialrun_multigroup_userpardicts debug: asymm.shape (2, 4800) \n",
      "mufit dofit_sequentialrun_multigroup_userpardicts debug: fs.shape  (2, 4800) \n",
      "mufit dofit_sequentialrun_multigroup_userpardicts debug: limits <LimitView f_mag=(0.0, 1.0) A12=(-inf, inf) A34=(-inf, inf) B_0=(-inf, inf) φ12=(-inf, inf) λ_0=(-87.0, inf) B_T=(-inf, inf) σ_T=(-inf, inf) λ_L=(-87.0, inf)>\n"
     ]
    },
    {
     "name": "stderr",
     "output_type": "stream",
     "text": [
      "/home/roberto.derenzi/git/mujpy/mujpy/mucomponents/mucomponents.py:881: RuntimeWarning: divide by zero encountered in true_divide\n",
      "  normsquaredev = (num/self._e_)**2\n"
     ]
    },
    {
     "name": "stdout",
     "output_type": "stream",
     "text": [
      " ________________________________________________________________________________________________\n",
      "| Run 830: MnBi6Te10 pellet 15.0K 10mT    Global fit of 11/01/2022 17:52:24              |\n",
      "| χᵣ² = inf(0.986,1.014) ,    on [7.82ns, 9.4µs, 1.95ns/bin]                                   |\n",
      "|----------------------------------------------------------------- on group: 2 - 1   α = 1.130   |\n",
      "| ml: A_ext = 0.175(0) B_ext = 10.0(0) φ_ext = -55.0(0) λ_ext = 0.09999999999999432(0)\n",
      "| mg: A_T = 0.049999999999999996(0) B_T = 10.0(0) φ_T = (0(0) σ_T = 2.0(0)\n",
      "| bl: A_L = 0.024999999999999998(0) λ_L = 0.29999999999999716(0)\n",
      "|----------------------------------------------------------------- on group: 3 - 4   α = 1.130   |\n",
      "| ml: A_ext = 0.175(0) B_ext = 10.0(0) φ_ext = 35.0(0) λ_ext = 0.09999999999999432(0)\n",
      "| mg: A_T = 0.049999999999999996(0) B_T = 10.0(0) φ_T = (0(0) σ_T = 2.0(0)\n",
      "| bl: A_L = 0.024999999999999998(0) λ_L = 0.29999999999999716(0)\n",
      "|________________________________________________________________________________________________|\n",
      "mufit dofit_sequentialrun_multigroup_userpardicts debug: fval inf, ndof 9591\n",
      "Run 830: MnBi6Te10 pellet 15.0K 10mT ***\n",
      "Best fit saved in /home/roberto.derenzi/git/mujpy/log/mlmgbl.830.2-1_3-4.gg_1_fit.json .  Log added to mlmgbl.gg_1.2-1_3-4.csv\n",
      "mufit dofit_sequentialrun_multigroup_userpardicts debug: check asyme[6,0] contains zeros!\n",
      "mufit dofit_sequentialrun_multigroup_userpardicts debug: asymm.shape (2, 4800) \n",
      "mufit dofit_sequentialrun_multigroup_userpardicts debug: fs.shape  (2, 4800) \n",
      "mufit dofit_sequentialrun_multigroup_userpardicts debug: limits <LimitView f_mag=(0.0, 1.0) A12=(-inf, inf) A34=(-inf, inf) B_0=(-inf, inf) φ12=(-inf, inf) λ_0=(-87.0, inf) B_T=(-inf, inf) σ_T=(-inf, inf) λ_L=(-87.0, inf)>\n"
     ]
    },
    {
     "name": "stderr",
     "output_type": "stream",
     "text": [
      "/home/roberto.derenzi/git/mujpy/mujpy/mucomponents/mucomponents.py:881: RuntimeWarning: divide by zero encountered in true_divide\n",
      "  normsquaredev = (num/self._e_)**2\n"
     ]
    },
    {
     "name": "stdout",
     "output_type": "stream",
     "text": [
      " ________________________________________________________________________________________________\n",
      "| Run 829: MnBi6Te10 pellet 14.0K 10mT    Global fit of 11/01/2022 17:52:25              |\n",
      "| χᵣ² = inf(0.986,1.014) ,    on [7.82ns, 9.4µs, 1.95ns/bin]                                   |\n",
      "|----------------------------------------------------------------- on group: 2 - 1   α = 1.130   |\n",
      "| ml: A_ext = 0.175(0) B_ext = 10.0(0) φ_ext = -55.0(0) λ_ext = 0.09999999999999432(0)\n",
      "| mg: A_T = 0.049999999999999996(0) B_T = 10.0(0) φ_T = (0(0) σ_T = 2.0(0)\n",
      "| bl: A_L = 0.024999999999999998(0) λ_L = 0.29999999999999716(0)\n",
      "|----------------------------------------------------------------- on group: 3 - 4   α = 1.130   |\n",
      "| ml: A_ext = 0.175(0) B_ext = 10.0(0) φ_ext = 35.0(0) λ_ext = 0.09999999999999432(0)\n",
      "| mg: A_T = 0.049999999999999996(0) B_T = 10.0(0) φ_T = (0(0) σ_T = 2.0(0)\n",
      "| bl: A_L = 0.024999999999999998(0) λ_L = 0.29999999999999716(0)\n",
      "|________________________________________________________________________________________________|\n",
      "mufit dofit_sequentialrun_multigroup_userpardicts debug: fval inf, ndof 9591\n",
      "Run 829: MnBi6Te10 pellet 14.0K 10mT ***\n",
      "Best fit saved in /home/roberto.derenzi/git/mujpy/log/mlmgbl.829.2-1_3-4.gg_1_fit.json .  Log added to mlmgbl.gg_1.2-1_3-4.csv\n",
      "mufit dofit_sequentialrun_multigroup_userpardicts debug: check asyme[7,0] contains zeros!\n",
      "mufit dofit_sequentialrun_multigroup_userpardicts debug: asymm.shape (2, 4800) \n",
      "mufit dofit_sequentialrun_multigroup_userpardicts debug: fs.shape  (2, 4800) \n",
      "mufit dofit_sequentialrun_multigroup_userpardicts debug: limits <LimitView f_mag=(0.0, 1.0) A12=(-inf, inf) A34=(-inf, inf) B_0=(-inf, inf) φ12=(-inf, inf) λ_0=(-87.0, inf) B_T=(-inf, inf) σ_T=(-inf, inf) λ_L=(-87.0, inf)>\n"
     ]
    },
    {
     "name": "stderr",
     "output_type": "stream",
     "text": [
      "/home/roberto.derenzi/git/mujpy/mujpy/mucomponents/mucomponents.py:881: RuntimeWarning: divide by zero encountered in true_divide\n",
      "  normsquaredev = (num/self._e_)**2\n"
     ]
    },
    {
     "name": "stdout",
     "output_type": "stream",
     "text": [
      " ________________________________________________________________________________________________\n",
      "| Run 828: MnBi6Te10 pellet 13.0K 10mT    Global fit of 11/01/2022 17:52:25              |\n",
      "| χᵣ² = inf(0.986,1.014) ,    on [7.82ns, 9.4µs, 1.95ns/bin]                                   |\n",
      "|----------------------------------------------------------------- on group: 2 - 1   α = 1.130   |\n",
      "| ml: A_ext = 0.175(0) B_ext = 10.0(0) φ_ext = -55.0(0) λ_ext = 0.09999999999999432(0)\n",
      "| mg: A_T = 0.049999999999999996(0) B_T = 10.0(0) φ_T = (0(0) σ_T = 2.0(0)\n",
      "| bl: A_L = 0.024999999999999998(0) λ_L = 0.29999999999999716(0)\n",
      "|----------------------------------------------------------------- on group: 3 - 4   α = 1.130   |\n",
      "| ml: A_ext = 0.175(0) B_ext = 10.0(0) φ_ext = 35.0(0) λ_ext = 0.09999999999999432(0)\n",
      "| mg: A_T = 0.049999999999999996(0) B_T = 10.0(0) φ_T = (0(0) σ_T = 2.0(0)\n",
      "| bl: A_L = 0.024999999999999998(0) λ_L = 0.29999999999999716(0)\n",
      "|________________________________________________________________________________________________|\n",
      "mufit dofit_sequentialrun_multigroup_userpardicts debug: fval inf, ndof 9591\n",
      "Run 828: MnBi6Te10 pellet 13.0K 10mT ***\n",
      "Best fit saved in /home/roberto.derenzi/git/mujpy/log/mlmgbl.828.2-1_3-4.gg_1_fit.json .  Log added to mlmgbl.gg_1.2-1_3-4.csv\n",
      "mufit dofit_sequentialrun_multigroup_userpardicts debug: check asyme[8,0] contains zeros!\n",
      "mufit dofit_sequentialrun_multigroup_userpardicts debug: asymm.shape (2, 4800) \n",
      "mufit dofit_sequentialrun_multigroup_userpardicts debug: fs.shape  (2, 4800) \n",
      "mufit dofit_sequentialrun_multigroup_userpardicts debug: limits <LimitView f_mag=(0.0, 1.0) A12=(-inf, inf) A34=(-inf, inf) B_0=(-inf, inf) φ12=(-inf, inf) λ_0=(-87.0, inf) B_T=(-inf, inf) σ_T=(-inf, inf) λ_L=(-87.0, inf)>\n"
     ]
    },
    {
     "name": "stderr",
     "output_type": "stream",
     "text": [
      "/home/roberto.derenzi/git/mujpy/mujpy/mucomponents/mucomponents.py:881: RuntimeWarning: divide by zero encountered in true_divide\n",
      "  normsquaredev = (num/self._e_)**2\n"
     ]
    },
    {
     "name": "stdout",
     "output_type": "stream",
     "text": [
      " ________________________________________________________________________________________________\n",
      "| Run 827: MnBi6Te10 pellet 12.0K 10mT    Global fit of 11/01/2022 17:52:26              |\n",
      "| χᵣ² = inf(0.986,1.014) ,    on [7.82ns, 9.4µs, 1.95ns/bin]                                   |\n",
      "|----------------------------------------------------------------- on group: 2 - 1   α = 1.130   |\n",
      "| ml: A_ext = 0.175(0) B_ext = 10.0(0) φ_ext = -55.0(0) λ_ext = 0.09999999999999432(0)\n",
      "| mg: A_T = 0.049999999999999996(0) B_T = 10.0(0) φ_T = (0(0) σ_T = 2.0(0)\n",
      "| bl: A_L = 0.024999999999999998(0) λ_L = 0.29999999999999716(0)\n",
      "|----------------------------------------------------------------- on group: 3 - 4   α = 1.130   |\n",
      "| ml: A_ext = 0.175(0) B_ext = 10.0(0) φ_ext = 35.0(0) λ_ext = 0.09999999999999432(0)\n",
      "| mg: A_T = 0.049999999999999996(0) B_T = 10.0(0) φ_T = (0(0) σ_T = 2.0(0)\n",
      "| bl: A_L = 0.024999999999999998(0) λ_L = 0.29999999999999716(0)\n",
      "|________________________________________________________________________________________________|\n",
      "mufit dofit_sequentialrun_multigroup_userpardicts debug: fval inf, ndof 9591\n",
      "Run 827: MnBi6Te10 pellet 12.0K 10mT ***\n",
      "Best fit saved in /home/roberto.derenzi/git/mujpy/log/mlmgbl.827.2-1_3-4.gg_1_fit.json .  Log added to mlmgbl.gg_1.2-1_3-4.csv\n",
      "mufit dofit_sequentialrun_multigroup_userpardicts debug: check asyme[9,0] contains zeros!\n",
      "mufit dofit_sequentialrun_multigroup_userpardicts debug: asymm.shape (2, 4800) \n",
      "mufit dofit_sequentialrun_multigroup_userpardicts debug: fs.shape  (2, 4800) \n",
      "mufit dofit_sequentialrun_multigroup_userpardicts debug: limits <LimitView f_mag=(0.0, 1.0) A12=(-inf, inf) A34=(-inf, inf) B_0=(-inf, inf) φ12=(-inf, inf) λ_0=(-87.0, inf) B_T=(-inf, inf) σ_T=(-inf, inf) λ_L=(-87.0, inf)>\n"
     ]
    },
    {
     "name": "stderr",
     "output_type": "stream",
     "text": [
      "/home/roberto.derenzi/git/mujpy/mujpy/mucomponents/mucomponents.py:881: RuntimeWarning: divide by zero encountered in true_divide\n",
      "  normsquaredev = (num/self._e_)**2\n"
     ]
    },
    {
     "name": "stdout",
     "output_type": "stream",
     "text": [
      " ________________________________________________________________________________________________\n",
      "| Run 826: MnBi6Te10 pellet 11.0K 10mT    Global fit of 11/01/2022 17:52:26              |\n",
      "| χᵣ² = inf(0.986,1.014) ,    on [7.82ns, 9.4µs, 1.95ns/bin]                                   |\n",
      "|----------------------------------------------------------------- on group: 2 - 1   α = 1.130   |\n",
      "| ml: A_ext = 0.175(0) B_ext = 10.0(0) φ_ext = -55.0(0) λ_ext = 0.09999999999999432(0)\n",
      "| mg: A_T = 0.049999999999999996(0) B_T = 10.0(0) φ_T = (0(0) σ_T = 2.0(0)\n",
      "| bl: A_L = 0.024999999999999998(0) λ_L = 0.29999999999999716(0)\n",
      "|----------------------------------------------------------------- on group: 3 - 4   α = 1.130   |\n",
      "| ml: A_ext = 0.175(0) B_ext = 10.0(0) φ_ext = 35.0(0) λ_ext = 0.09999999999999432(0)\n",
      "| mg: A_T = 0.049999999999999996(0) B_T = 10.0(0) φ_T = (0(0) σ_T = 2.0(0)\n",
      "| bl: A_L = 0.024999999999999998(0) λ_L = 0.29999999999999716(0)\n",
      "|________________________________________________________________________________________________|\n",
      "mufit dofit_sequentialrun_multigroup_userpardicts debug: fval inf, ndof 9591\n",
      "Run 826: MnBi6Te10 pellet 11.0K 10mT ***\n",
      "Best fit saved in /home/roberto.derenzi/git/mujpy/log/mlmgbl.826.2-1_3-4.gg_1_fit.json .  Log added to mlmgbl.gg_1.2-1_3-4.csv\n",
      "mufit dofit_sequentialrun_multigroup_userpardicts debug: check asyme[10,0] contains zeros!\n",
      "mufit dofit_sequentialrun_multigroup_userpardicts debug: asymm.shape (2, 4800) \n",
      "mufit dofit_sequentialrun_multigroup_userpardicts debug: fs.shape  (2, 4800) \n",
      "mufit dofit_sequentialrun_multigroup_userpardicts debug: limits <LimitView f_mag=(0.0, 1.0) A12=(-inf, inf) A34=(-inf, inf) B_0=(-inf, inf) φ12=(-inf, inf) λ_0=(-87.0, inf) B_T=(-inf, inf) σ_T=(-inf, inf) λ_L=(-87.0, inf)>\n"
     ]
    },
    {
     "name": "stderr",
     "output_type": "stream",
     "text": [
      "/home/roberto.derenzi/git/mujpy/mujpy/mucomponents/mucomponents.py:881: RuntimeWarning: divide by zero encountered in true_divide\n",
      "  normsquaredev = (num/self._e_)**2\n"
     ]
    },
    {
     "name": "stdout",
     "output_type": "stream",
     "text": [
      " ________________________________________________________________________________________________\n",
      "| Run 825: MnBi6Te10 pellet 10.0K 10mT    Global fit of 11/01/2022 17:52:27              |\n",
      "| χᵣ² = inf(0.986,1.014) ,    on [7.82ns, 9.4µs, 1.95ns/bin]                                   |\n",
      "|----------------------------------------------------------------- on group: 2 - 1   α = 1.130   |\n",
      "| ml: A_ext = 0.175(0) B_ext = 10.0(0) φ_ext = -55.0(0) λ_ext = 0.09999999999999432(0)\n",
      "| mg: A_T = 0.049999999999999996(0) B_T = 10.0(0) φ_T = (0(0) σ_T = 2.0(0)\n",
      "| bl: A_L = 0.024999999999999998(0) λ_L = 0.29999999999999716(0)\n",
      "|----------------------------------------------------------------- on group: 3 - 4   α = 1.130   |\n",
      "| ml: A_ext = 0.175(0) B_ext = 10.0(0) φ_ext = 35.0(0) λ_ext = 0.09999999999999432(0)\n",
      "| mg: A_T = 0.049999999999999996(0) B_T = 10.0(0) φ_T = (0(0) σ_T = 2.0(0)\n",
      "| bl: A_L = 0.024999999999999998(0) λ_L = 0.29999999999999716(0)\n",
      "|________________________________________________________________________________________________|\n",
      "mufit dofit_sequentialrun_multigroup_userpardicts debug: fval inf, ndof 9591\n",
      "Run 825: MnBi6Te10 pellet 10.0K 10mT ***\n",
      "Best fit saved in /home/roberto.derenzi/git/mujpy/log/mlmgbl.825.2-1_3-4.gg_1_fit.json .  Log added to mlmgbl.gg_1.2-1_3-4.csv\n",
      "mufit dofit_sequentialrun_multigroup_userpardicts debug: check asyme[11,0] contains zeros!\n",
      "mufit dofit_sequentialrun_multigroup_userpardicts debug: asymm.shape (2, 4800) \n",
      "mufit dofit_sequentialrun_multigroup_userpardicts debug: fs.shape  (2, 4800) \n",
      "mufit dofit_sequentialrun_multigroup_userpardicts debug: limits <LimitView f_mag=(0.0, 1.0) A12=(-inf, inf) A34=(-inf, inf) B_0=(-inf, inf) φ12=(-inf, inf) λ_0=(-87.0, inf) B_T=(-inf, inf) σ_T=(-inf, inf) λ_L=(-87.0, inf)>\n"
     ]
    },
    {
     "name": "stderr",
     "output_type": "stream",
     "text": [
      "/home/roberto.derenzi/git/mujpy/mujpy/mucomponents/mucomponents.py:881: RuntimeWarning: divide by zero encountered in true_divide\n",
      "  normsquaredev = (num/self._e_)**2\n"
     ]
    },
    {
     "name": "stdout",
     "output_type": "stream",
     "text": [
      " ________________________________________________________________________________________________\n",
      "| Run 824: MnBi6Te10 pellet 6.0K 10mT    Global fit of 11/01/2022 17:52:27              |\n",
      "| χᵣ² = inf(0.986,1.014) ,    on [7.82ns, 9.4µs, 1.95ns/bin]                                   |\n",
      "|----------------------------------------------------------------- on group: 2 - 1   α = 1.130   |\n",
      "| ml: A_ext = 0.175(0) B_ext = 10.0(0) φ_ext = -55.0(0) λ_ext = 0.09999999999999432(0)\n",
      "| mg: A_T = 0.049999999999999996(0) B_T = 10.0(0) φ_T = (0(0) σ_T = 2.0(0)\n",
      "| bl: A_L = 0.024999999999999998(0) λ_L = 0.29999999999999716(0)\n",
      "|----------------------------------------------------------------- on group: 3 - 4   α = 1.130   |\n",
      "| ml: A_ext = 0.175(0) B_ext = 10.0(0) φ_ext = 35.0(0) λ_ext = 0.09999999999999432(0)\n",
      "| mg: A_T = 0.049999999999999996(0) B_T = 10.0(0) φ_T = (0(0) σ_T = 2.0(0)\n",
      "| bl: A_L = 0.024999999999999998(0) λ_L = 0.29999999999999716(0)\n",
      "|________________________________________________________________________________________________|\n",
      "mufit dofit_sequentialrun_multigroup_userpardicts debug: fval inf, ndof 9591\n",
      "Run 824: MnBi6Te10 pellet 6.0K 10mT ***\n",
      "Best fit saved in /home/roberto.derenzi/git/mujpy/log/mlmgbl.824.2-1_3-4.gg_1_fit.json .  Log added to mlmgbl.gg_1.2-1_3-4.csv\n",
      "mufit dofit_sequentialrun_multigroup_userpardicts debug: check asyme[12,0] contains zeros!\n",
      "mufit dofit_sequentialrun_multigroup_userpardicts debug: asymm.shape (2, 4800) \n",
      "mufit dofit_sequentialrun_multigroup_userpardicts debug: fs.shape  (2, 4800) \n",
      "mufit dofit_sequentialrun_multigroup_userpardicts debug: limits <LimitView f_mag=(0.0, 1.0) A12=(-inf, inf) A34=(-inf, inf) B_0=(-inf, inf) φ12=(-inf, inf) λ_0=(-87.0, inf) B_T=(-inf, inf) σ_T=(-inf, inf) λ_L=(-87.0, inf)>\n"
     ]
    },
    {
     "name": "stderr",
     "output_type": "stream",
     "text": [
      "/home/roberto.derenzi/git/mujpy/mujpy/mucomponents/mucomponents.py:881: RuntimeWarning: divide by zero encountered in true_divide\n",
      "  normsquaredev = (num/self._e_)**2\n"
     ]
    },
    {
     "name": "stdout",
     "output_type": "stream",
     "text": [
      " ________________________________________________________________________________________________\n",
      "| Run 823: MnBi6Te10 pellet 1.5K 10mT    Global fit of 11/01/2022 17:52:28              |\n",
      "| χᵣ² = inf(0.986,1.014) ,    on [7.82ns, 9.4µs, 1.95ns/bin]                                   |\n",
      "|----------------------------------------------------------------- on group: 2 - 1   α = 1.130   |\n",
      "| ml: A_ext = 0.175(0) B_ext = 10.0(0) φ_ext = -55.0(0) λ_ext = 0.09999999999999432(0)\n",
      "| mg: A_T = 0.049999999999999996(0) B_T = 10.0(0) φ_T = (0(0) σ_T = 2.0(0)\n",
      "| bl: A_L = 0.024999999999999998(0) λ_L = 0.29999999999999716(0)\n",
      "|----------------------------------------------------------------- on group: 3 - 4   α = 1.130   |\n",
      "| ml: A_ext = 0.175(0) B_ext = 10.0(0) φ_ext = 35.0(0) λ_ext = 0.09999999999999432(0)\n",
      "| mg: A_T = 0.049999999999999996(0) B_T = 10.0(0) φ_T = (0(0) σ_T = 2.0(0)\n",
      "| bl: A_L = 0.024999999999999998(0) λ_L = 0.29999999999999716(0)\n",
      "|________________________________________________________________________________________________|\n",
      "mufit dofit_sequentialrun_multigroup_userpardicts debug: fval inf, ndof 9591\n",
      "Run 823: MnBi6Te10 pellet 1.5K 10mT ***\n",
      "Best fit saved in /home/roberto.derenzi/git/mujpy/log/mlmgbl.823.2-1_3-4.gg_1_fit.json .  Log added to mlmgbl.gg_1.2-1_3-4.csv\n"
     ]
    }
   ],
   "source": [
    "print('Model definition from file {}'.format(logpath+dashboard))\n",
    "the_fit = mufit(the_suite,logpath+dashboard)#, chain=True)"
   ]
  },
  {
   "cell_type": "code",
   "execution_count": 5,
   "metadata": {},
   "outputs": [],
   "source": [
    "from matplotlib.pyplot import subplots, draw\n",
    "from mujpy.tools.tools import rebin, int2min_multigroup\n",
    "aa,ee = the_suite.asymmetry_multirun_multigroup()\n",
    "tt = the_suite.time\n",
    "values,_,_,_,_ = int2min_multigroup(the_fit.dashboard[\"userpardicts_guess\"])\n",
    "ttt , aaa , eee = rebin(tt,aa,[0,10000],20,e=ee)\n",
    "_,fff = rebin(tt,the_fit._the_model_._add_(tt,*values),[0,10000],20)\n",
    "fig,ax = subplots()\n",
    "ax.errorbar(ttt,aaa[0,0,:],yerr=eee[0,0,:],fmt='r.')\n",
    "ax.plot(ttt,fff[0,:],'m-')\n",
    "ax.errorbar(ttt,aaa[0,1,:],yerr=eee[0,1,:],fmt='b.')\n",
    "ax.plot(ttt,fff[1,:],'g-')\n",
    "draw()"
   ]
  },
  {
   "cell_type": "code",
   "execution_count": 6,
   "metadata": {},
   "outputs": [
    {
     "name": "stdout",
     "output_type": "stream",
     "text": [
      "Multirun fit animation: toggle pause/resume by clicking on the plot\n"
     ]
    },
    {
     "ename": "KeyError",
     "evalue": "'function'",
     "output_type": "error",
     "traceback": [
      "\u001b[0;31m---------------------------------------------------------------------------\u001b[0m",
      "\u001b[0;31mKeyError\u001b[0m                                  Traceback (most recent call last)",
      "\u001b[0;32m<ipython-input-6-f5c3aa1ce7ca>\u001b[0m in \u001b[0;36m<module>\u001b[0;34m\u001b[0m\n\u001b[0;32m----> 1\u001b[0;31m \u001b[0mfit_plot\u001b[0m\u001b[0;34m=\u001b[0m \u001b[0mmufitplot\u001b[0m\u001b[0;34m(\u001b[0m\u001b[0;34m'0,20000,100'\u001b[0m\u001b[0;34m,\u001b[0m\u001b[0mthe_fit\u001b[0m\u001b[0;34m,\u001b[0m\u001b[0mguess\u001b[0m\u001b[0;34m=\u001b[0m\u001b[0;32mTrue\u001b[0m\u001b[0;34m)\u001b[0m \u001b[0;31m# try '0,1000,4,24000,100'\u001b[0m\u001b[0;34m\u001b[0m\u001b[0;34m\u001b[0m\u001b[0m\n\u001b[0m",
      "\u001b[0;32m~/git/mujpy/mujpy/mufitplot.py\u001b[0m in \u001b[0;36m__init__\u001b[0;34m(self, plot_range, the_fit, guess, rotating_frame_frequencyMHz, fft_range, real, fig_fit, fig_fft)\u001b[0m\n\u001b[1;32m     75\u001b[0m \u001b[0;34m\u001b[0m\u001b[0m\n\u001b[1;32m     76\u001b[0m             \u001b[0;32mif\u001b[0m \u001b[0mplot_range\u001b[0m \u001b[0;32mis\u001b[0m \u001b[0;32mnot\u001b[0m \u001b[0;32mNone\u001b[0m\u001b[0;34m:\u001b[0m\u001b[0;34m\u001b[0m\u001b[0;34m\u001b[0m\u001b[0m\n\u001b[0;32m---> 77\u001b[0;31m                 \u001b[0mself\u001b[0m\u001b[0;34m.\u001b[0m\u001b[0mchooseplot\u001b[0m\u001b[0;34m(\u001b[0m\u001b[0mplot_range\u001b[0m\u001b[0;34m)\u001b[0m\u001b[0;34m\u001b[0m\u001b[0;34m\u001b[0m\u001b[0m\n\u001b[0m\u001b[1;32m     78\u001b[0m                 \u001b[0;32mif\u001b[0m \u001b[0mfft_range\u001b[0m \u001b[0;32mis\u001b[0m \u001b[0;32mnot\u001b[0m \u001b[0;32mNone\u001b[0m\u001b[0;34m:\u001b[0m\u001b[0;34m\u001b[0m\u001b[0;34m\u001b[0m\u001b[0m\n\u001b[1;32m     79\u001b[0m                     \u001b[0mself\u001b[0m\u001b[0;34m.\u001b[0m\u001b[0mchoosefftplot\u001b[0m\u001b[0;34m(\u001b[0m\u001b[0mfft_range\u001b[0m\u001b[0;34m,\u001b[0m\u001b[0mreal\u001b[0m\u001b[0;34m)\u001b[0m\u001b[0;34m\u001b[0m\u001b[0;34m\u001b[0m\u001b[0m\n",
      "\u001b[0;32m~/git/mujpy/mujpy/mufitplot.py\u001b[0m in \u001b[0;36mchooseplot\u001b[0;34m(self, plot_range)\u001b[0m\n\u001b[1;32m    115\u001b[0m                     \u001b[0;32mpass\u001b[0m\u001b[0;34m\u001b[0m\u001b[0;34m\u001b[0m\u001b[0m\n\u001b[1;32m    116\u001b[0m                 \u001b[0;32melse\u001b[0m\u001b[0;34m:\u001b[0m \u001b[0;31m# B2 (means B21 group global, B20 group sequential does not exist)\u001b[0m\u001b[0;34m\u001b[0m\u001b[0;34m\u001b[0m\u001b[0m\n\u001b[0;32m--> 117\u001b[0;31m                     \u001b[0mok\u001b[0m\u001b[0;34m,\u001b[0m \u001b[0mmsg\u001b[0m \u001b[0;34m=\u001b[0m \u001b[0mself\u001b[0m\u001b[0;34m.\u001b[0m\u001b[0mplot_multirun_multigrup_userpar\u001b[0m\u001b[0;34m(\u001b[0m\u001b[0mplot_range\u001b[0m\u001b[0;34m)\u001b[0m\u001b[0;34m\u001b[0m\u001b[0;34m\u001b[0m\u001b[0m\n\u001b[0m\u001b[1;32m    118\u001b[0m                     \u001b[0;32mpass\u001b[0m\u001b[0;34m\u001b[0m\u001b[0;34m\u001b[0m\u001b[0m\n\u001b[1;32m    119\u001b[0m             \u001b[0;32melse\u001b[0m\u001b[0;34m:\u001b[0m \u001b[0;31m# B1, C1\u001b[0m\u001b[0;34m\u001b[0m\u001b[0;34m\u001b[0m\u001b[0m\n",
      "\u001b[0;32m~/git/mujpy/mujpy/mufitplot.py\u001b[0m in \u001b[0;36mplot_multirun_multigrup_userpar\u001b[0;34m(self, plot_range)\u001b[0m\n\u001b[1;32m    213\u001b[0m             \u001b[0mself\u001b[0m\u001b[0;34m.\u001b[0m\u001b[0mrrf_asyme\u001b[0m \u001b[0;34m=\u001b[0m \u001b[0mmixer\u001b[0m\u001b[0;34m(\u001b[0m\u001b[0mtime\u001b[0m\u001b[0;34m,\u001b[0m\u001b[0masyme\u001b[0m\u001b[0;34m,\u001b[0m\u001b[0mself\u001b[0m\u001b[0;34m.\u001b[0m\u001b[0mrotating_frame_frequencyMHz\u001b[0m\u001b[0;34m)\u001b[0m\u001b[0;34m\u001b[0m\u001b[0;34m\u001b[0m\u001b[0m\n\u001b[1;32m    214\u001b[0m         \u001b[0;31m#self.suite.console('mufitplot: Inside single plot; debug mode')\u001b[0m\u001b[0;34m\u001b[0m\u001b[0;34m\u001b[0m\u001b[0;34m\u001b[0m\u001b[0m\n\u001b[0;32m--> 215\u001b[0;31m         \u001b[0;32mreturn\u001b[0m \u001b[0mself\u001b[0m\u001b[0;34m.\u001b[0m\u001b[0mplot_run\u001b[0m\u001b[0;34m(\u001b[0m\u001b[0mplot_range\u001b[0m\u001b[0;34m,\u001b[0m\u001b[0mpars\u001b[0m\u001b[0;34m,\u001b[0m\u001b[0masymm\u001b[0m\u001b[0;34m,\u001b[0m\u001b[0masyme\u001b[0m\u001b[0;34m)\u001b[0m\u001b[0;34m\u001b[0m\u001b[0;34m\u001b[0m\u001b[0m\n\u001b[0m\u001b[1;32m    216\u001b[0m \u001b[0;34m\u001b[0m\u001b[0m\n\u001b[1;32m    217\u001b[0m     \u001b[0;32mdef\u001b[0m \u001b[0mplot_singlerun_multigroup_sequential\u001b[0m\u001b[0;34m(\u001b[0m\u001b[0mself\u001b[0m\u001b[0;34m,\u001b[0m\u001b[0mplot_range\u001b[0m\u001b[0;34m)\u001b[0m\u001b[0;34m:\u001b[0m\u001b[0;34m\u001b[0m\u001b[0;34m\u001b[0m\u001b[0m\n",
      "\u001b[0;32m~/git/mujpy/mujpy/mufitplot.py\u001b[0m in \u001b[0;36mplot_run\u001b[0;34m(self, plot_range, pars, asymm, asyme)\u001b[0m\n\u001b[1;32m    333\u001b[0m         \u001b[0;31m# single slices as in fit\u001b[0m\u001b[0;34m\u001b[0m\u001b[0;34m\u001b[0m\u001b[0;34m\u001b[0m\u001b[0m\n\u001b[1;32m    334\u001b[0m         \u001b[0;31m# print('muplotfit plot_run debug: calling chi for f_fit')\u001b[0m\u001b[0;34m\u001b[0m\u001b[0;34m\u001b[0m\u001b[0;34m\u001b[0m\u001b[0m\n\u001b[0;32m--> 335\u001b[0;31m         \u001b[0mnu_fit\u001b[0m\u001b[0;34m,\u001b[0m \u001b[0mf_fit\u001b[0m\u001b[0;34m,\u001b[0m \u001b[0mchi_fit\u001b[0m \u001b[0;34m=\u001b[0m \u001b[0mchi\u001b[0m\u001b[0;34m(\u001b[0m\u001b[0mt_fit\u001b[0m\u001b[0;34m,\u001b[0m\u001b[0my_fit\u001b[0m\u001b[0;34m,\u001b[0m\u001b[0mey_fit\u001b[0m\u001b[0;34m,\u001b[0m\u001b[0mpars\u001b[0m\u001b[0;34m)\u001b[0m\u001b[0;34m\u001b[0m\u001b[0;34m\u001b[0m\u001b[0m\n\u001b[0m\u001b[1;32m    336\u001b[0m         \u001b[0;32mif\u001b[0m \u001b[0mself\u001b[0m\u001b[0;34m.\u001b[0m\u001b[0mrotating_frame_frequencyMHz\u001b[0m\u001b[0;34m:\u001b[0m \u001b[0;31m# (t_fit,y_fit,f_fit,ey_fit) the last three must be transformed to rrf\u001b[0m\u001b[0;34m\u001b[0m\u001b[0;34m\u001b[0m\u001b[0m\n\u001b[1;32m    337\u001b[0m             \u001b[0m_\u001b[0m\u001b[0;34m,\u001b[0m\u001b[0my_fit\u001b[0m\u001b[0;34m,\u001b[0m\u001b[0mey_fit\u001b[0m \u001b[0;34m=\u001b[0m \u001b[0mrebin\u001b[0m\u001b[0;34m(\u001b[0m\u001b[0mself\u001b[0m\u001b[0;34m.\u001b[0m\u001b[0msuite\u001b[0m\u001b[0;34m.\u001b[0m\u001b[0mtime\u001b[0m\u001b[0;34m,\u001b[0m\u001b[0mself\u001b[0m\u001b[0;34m.\u001b[0m\u001b[0mrrf_asymm\u001b[0m\u001b[0;34m,\u001b[0m\u001b[0;34m[\u001b[0m\u001b[0mfit_start\u001b[0m\u001b[0;34m,\u001b[0m\u001b[0mfit_stop\u001b[0m\u001b[0;34m]\u001b[0m\u001b[0;34m,\u001b[0m\u001b[0mfit_pack\u001b[0m\u001b[0;34m,\u001b[0m\u001b[0me\u001b[0m\u001b[0;34m=\u001b[0m\u001b[0mself\u001b[0m\u001b[0;34m.\u001b[0m\u001b[0mrrf_asyme\u001b[0m\u001b[0;34m)\u001b[0m\u001b[0;34m\u001b[0m\u001b[0;34m\u001b[0m\u001b[0m\n",
      "\u001b[0;32m~/git/mujpy/mujpy/mufitplot.py\u001b[0m in \u001b[0;36mchi_2\u001b[0;34m(self, t, yin, eyin, pars)\u001b[0m\n\u001b[1;32m    568\u001b[0m         \u001b[0;31m# print('chi_2 mufitplot debug: nu {}, freepars {}'.format(nu,freepars))\u001b[0m\u001b[0;34m\u001b[0m\u001b[0;34m\u001b[0m\u001b[0;34m\u001b[0m\u001b[0m\n\u001b[1;32m    569\u001b[0m         \u001b[0;32mif\u001b[0m \u001b[0myin\u001b[0m \u001b[0;32mis\u001b[0m \u001b[0;32mnot\u001b[0m \u001b[0;32mNone\u001b[0m\u001b[0;34m:\u001b[0m \u001b[0;31m# data are not None\u001b[0m\u001b[0;34m\u001b[0m\u001b[0;34m\u001b[0m\u001b[0m\n\u001b[0;32m--> 570\u001b[0;31m             \u001b[0mmthdk\u001b[0m \u001b[0;34m=\u001b[0m \u001b[0mint2_method_key\u001b[0m\u001b[0;34m(\u001b[0m\u001b[0mself\u001b[0m\u001b[0;34m.\u001b[0m\u001b[0mdashboard\u001b[0m\u001b[0;34m,\u001b[0m\u001b[0mself\u001b[0m\u001b[0;34m.\u001b[0m\u001b[0m_the_model_\u001b[0m\u001b[0;34m)\u001b[0m\u001b[0;34m\u001b[0m\u001b[0;34m\u001b[0m\u001b[0m\n\u001b[0m\u001b[1;32m    571\u001b[0m             \u001b[0;32mif\u001b[0m \u001b[0mcalib\u001b[0m\u001b[0;34m(\u001b[0m\u001b[0mself\u001b[0m\u001b[0;34m.\u001b[0m\u001b[0mdashboard\u001b[0m\u001b[0;34m)\u001b[0m\u001b[0;34m:\u001b[0m\u001b[0;34m\u001b[0m\u001b[0;34m\u001b[0m\u001b[0m\n\u001b[1;32m    572\u001b[0m                 \u001b[0mmthdk\u001b[0m \u001b[0;34m=\u001b[0m \u001b[0mmthdk\u001b[0m\u001b[0;34m[\u001b[0m\u001b[0;36m1\u001b[0m\u001b[0;34m:\u001b[0m\u001b[0;34m]\u001b[0m\u001b[0;34m\u001b[0m\u001b[0;34m\u001b[0m\u001b[0m\n",
      "\u001b[0;32m~/git/mujpy/mujpy.tools.tools.py\u001b[0m in \u001b[0;36mint2_method_key\u001b[0;34m(dashboard, the_model)\u001b[0m\n\u001b[1;32m    447\u001b[0m     \u001b[0mnmin\u001b[0m \u001b[0;34m=\u001b[0m \u001b[0;34m-\u001b[0m\u001b[0;36m1\u001b[0m \u001b[0;31m# initialize the number of minuit parameters\u001b[0m\u001b[0;34m\u001b[0m\u001b[0;34m\u001b[0m\u001b[0m\n\u001b[1;32m    448\u001b[0m     \u001b[0mmethod_key\u001b[0m \u001b[0;34m=\u001b[0m \u001b[0;34m[\u001b[0m\u001b[0;34m]\u001b[0m\u001b[0;34m\u001b[0m\u001b[0;34m\u001b[0m\u001b[0m\n\u001b[0;32m--> 449\u001b[0;31m     \u001b[0mfunction\u001b[0m \u001b[0;34m=\u001b[0m \u001b[0;34m[\u001b[0m\u001b[0mpardict\u001b[0m\u001b[0;34m[\u001b[0m\u001b[0;34m'function'\u001b[0m\u001b[0;34m]\u001b[0m \u001b[0;32mfor\u001b[0m \u001b[0mcomponent\u001b[0m \u001b[0;32min\u001b[0m \u001b[0mmodel_guess\u001b[0m \u001b[0;32mfor\u001b[0m \u001b[0mpardict\u001b[0m \u001b[0;32min\u001b[0m \u001b[0mcomponent\u001b[0m\u001b[0;34m[\u001b[0m\u001b[0;34m'pardicts'\u001b[0m\u001b[0;34m]\u001b[0m\u001b[0;34m]\u001b[0m\u001b[0;34m\u001b[0m\u001b[0;34m\u001b[0m\u001b[0m\n\u001b[0m\u001b[1;32m    450\u001b[0m     \u001b[0;32mfor\u001b[0m \u001b[0mk\u001b[0m \u001b[0;32min\u001b[0m \u001b[0mrange\u001b[0m\u001b[0;34m(\u001b[0m\u001b[0mlen\u001b[0m\u001b[0;34m(\u001b[0m\u001b[0mmodel_guess\u001b[0m\u001b[0;34m)\u001b[0m\u001b[0;34m)\u001b[0m\u001b[0;34m:\u001b[0m  \u001b[0;31m# scan the model\u001b[0m\u001b[0;34m\u001b[0m\u001b[0;34m\u001b[0m\u001b[0m\n\u001b[1;32m    451\u001b[0m         \u001b[0mname\u001b[0m \u001b[0;34m=\u001b[0m \u001b[0mmodel_guess\u001b[0m\u001b[0;34m[\u001b[0m\u001b[0mk\u001b[0m\u001b[0;34m]\u001b[0m\u001b[0;34m[\u001b[0m\u001b[0;34m'name'\u001b[0m\u001b[0;34m]\u001b[0m\u001b[0;34m\u001b[0m\u001b[0;34m\u001b[0m\u001b[0m\n",
      "\u001b[0;32m~/git/mujpy/mujpy.tools.tools.py\u001b[0m in \u001b[0;36m<listcomp>\u001b[0;34m(.0)\u001b[0m\n\u001b[1;32m    447\u001b[0m     \u001b[0mnmin\u001b[0m \u001b[0;34m=\u001b[0m \u001b[0;34m-\u001b[0m\u001b[0;36m1\u001b[0m \u001b[0;31m# initialize the number of minuit parameters\u001b[0m\u001b[0;34m\u001b[0m\u001b[0;34m\u001b[0m\u001b[0m\n\u001b[1;32m    448\u001b[0m     \u001b[0mmethod_key\u001b[0m \u001b[0;34m=\u001b[0m \u001b[0;34m[\u001b[0m\u001b[0;34m]\u001b[0m\u001b[0;34m\u001b[0m\u001b[0;34m\u001b[0m\u001b[0m\n\u001b[0;32m--> 449\u001b[0;31m     \u001b[0mfunction\u001b[0m \u001b[0;34m=\u001b[0m \u001b[0;34m[\u001b[0m\u001b[0mpardict\u001b[0m\u001b[0;34m[\u001b[0m\u001b[0;34m'function'\u001b[0m\u001b[0;34m]\u001b[0m \u001b[0;32mfor\u001b[0m \u001b[0mcomponent\u001b[0m \u001b[0;32min\u001b[0m \u001b[0mmodel_guess\u001b[0m \u001b[0;32mfor\u001b[0m \u001b[0mpardict\u001b[0m \u001b[0;32min\u001b[0m \u001b[0mcomponent\u001b[0m\u001b[0;34m[\u001b[0m\u001b[0;34m'pardicts'\u001b[0m\u001b[0;34m]\u001b[0m\u001b[0;34m]\u001b[0m\u001b[0;34m\u001b[0m\u001b[0;34m\u001b[0m\u001b[0m\n\u001b[0m\u001b[1;32m    450\u001b[0m     \u001b[0;32mfor\u001b[0m \u001b[0mk\u001b[0m \u001b[0;32min\u001b[0m \u001b[0mrange\u001b[0m\u001b[0;34m(\u001b[0m\u001b[0mlen\u001b[0m\u001b[0;34m(\u001b[0m\u001b[0mmodel_guess\u001b[0m\u001b[0;34m)\u001b[0m\u001b[0;34m)\u001b[0m\u001b[0;34m:\u001b[0m  \u001b[0;31m# scan the model\u001b[0m\u001b[0;34m\u001b[0m\u001b[0;34m\u001b[0m\u001b[0m\n\u001b[1;32m    451\u001b[0m         \u001b[0mname\u001b[0m \u001b[0;34m=\u001b[0m \u001b[0mmodel_guess\u001b[0m\u001b[0;34m[\u001b[0m\u001b[0mk\u001b[0m\u001b[0;34m]\u001b[0m\u001b[0;34m[\u001b[0m\u001b[0;34m'name'\u001b[0m\u001b[0;34m]\u001b[0m\u001b[0;34m\u001b[0m\u001b[0;34m\u001b[0m\u001b[0m\n",
      "\u001b[0;31mKeyError\u001b[0m: 'function'"
     ]
    }
   ],
   "source": [
    "fit_plot= mufitplot('0,20000,100',the_fit,guess=True) # try '0,1000,4,24000,100'"
   ]
  }
 ],
 "metadata": {
  "kernelspec": {
   "display_name": "Python 3",
   "language": "python",
   "name": "python3"
  },
  "language_info": {
   "codemirror_mode": {
    "name": "ipython",
    "version": 3
   },
   "file_extension": ".py",
   "mimetype": "text/x-python",
   "name": "python",
   "nbconvert_exporter": "python",
   "pygments_lexer": "ipython3",
   "version": "3.8.10"
  }
 },
 "nbformat": 4,
 "nbformat_minor": 4
}
