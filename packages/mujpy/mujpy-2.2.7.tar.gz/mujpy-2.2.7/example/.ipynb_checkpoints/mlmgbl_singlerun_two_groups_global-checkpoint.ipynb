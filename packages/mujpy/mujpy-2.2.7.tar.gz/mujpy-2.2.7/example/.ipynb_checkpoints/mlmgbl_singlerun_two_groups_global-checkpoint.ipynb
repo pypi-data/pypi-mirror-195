{
 "cells": [
  {
   "cell_type": "markdown",
   "metadata": {},
   "source": [
    "**Example of A21 single run double group global fit:**\n",
    "\n",
    "On # 823 WTF 100G, 1K around Tc\n",
    "\n",
    "Approximate global fit:\n",
    "* ml: external field component, includes sample and (small) muon in environment above Tc, only environment at low T, a transition in between; in principle it could consist of two distinct components; the single component has fraction \\\\(\\approx 1-f_{mag}(T)\\\\), magnetic field \\\\(B_0 \\approx 10\\\\) mT along \\\\(\\hat x\\\\), amplitude drops below Tc, initial phase is group-dependent \\\\((\\phi_{21},\\phi_{34}\\approx \\phi_{21}-\\pi/2)\\\\), \\\\(\\lambda_0\\\\) is group-global. \n",
    "* mg: transverse internal field component, expect a mean value \\\\(B_T(T)\\\\) along \\\\(\\hat z\\\\), with very broad \\\\(\\sigma_T(T)\\\\), fraction  \\\\(\n",
    "2f_{mag}(T)/3\\\\) and zero initial phase;\n",
    "* bl: longitudinal internal field component, with fraction  \\\\(f_{mag}(T)/3\\\\)  and a moderate  \\\\(\\lambda_L(T)\\\\)\n"
   ]
  },
  {
   "cell_type": "code",
   "execution_count": 1,
   "metadata": {},
   "outputs": [
    {
     "name": "stdout",
     "output_type": "stream",
     "text": [
      "/home/roberto.derenzi/git/mujpy\n"
     ]
    }
   ],
   "source": [
    "%matplotlib tk\n",
    "%cd /home/roberto.derenzi/git/mujpy/\n",
    "from mujpy.musuite import suite\n",
    "import json, re\n",
    "from os.path import isfile\n",
    "from mujpy.mufit import mufit\n",
    "from mujpy.mufitplot import mufitplot\n",
    "jsonsuffix = '.json'"
   ]
  },
  {
   "cell_type": "code",
   "execution_count": 2,
   "metadata": {},
   "outputs": [],
   "source": [
    "logpath = '/home/roberto.derenzi/git/mujpy/log/'\n",
    "datafile = '/home/roberto.derenzi/musrfit/MBT/gps/run_05_21/data/deltat_tdc_gps_0822.bin'\n",
    "runlist = '823' # first run first\n",
    "modelname = 'mlmgbl'\n",
    "version = 'gg_1'\n",
    "grp_calib = [{'forward':'2', 'backward':'1', 'alpha':1.13},{'forward':'3', 'backward':'4', 'alpha':1.13}]\n",
    "groupcalibfile = '2-1_3-4.calib'\n",
    "inputsuitefile = 'input.suite'\n",
    "dashboard = modelname+'.'+re.search(r'\\d+', runlist).group()+'.'+groupcalibfile[:groupcalibfile.index('.')]+'.'+version+jsonsuffix\n",
    "if not isfile(logpath+dashboard): \n",
    "    print('Model definition dashboard file {} does not exist. Make one.'.format(logpath+dashboard))"
   ]
  },
  {
   "cell_type": "code",
   "execution_count": 3,
   "metadata": {},
   "outputs": [
    {
     "name": "stdout",
     "output_type": "stream",
     "text": [
      "******************* SUITE *********************\n",
      "Run /home/roberto.derenzi/musrfit/MBT/gps/run_05_21/data/deltat_tdc_gps_0823.bin loaded\n",
      " MnBi6Te10 pellet 1.5K 10mT\n",
      "Succesfully completed prompt Minuit fit, check nt0, dt0 \n",
      "****************END OF SUITE*****************\n"
     ]
    }
   ],
   "source": [
    "#  can add 'scan':'T' or 'B' for orderinng csv for increasing T, B, otherwise increasing nrun\n",
    "input_suite = {'console':'print',\n",
    "                   'datafile':datafile,\n",
    "                   'logpath':logpath,\n",
    "                   'runlist':runlist,\n",
    "                   'groups calibration':groupcalibfile,\n",
    "                   'offset':20\n",
    "                  }  # 'console':logging, for output in Log Console, 'console':print, for output in notebook\n",
    "with open(logpath+inputsuitefile,\"w\") as f:\n",
    "    json.dump(input_suite,f)\n",
    "\n",
    "with open(logpath+groupcalibfile,\"w\") as f:\n",
    "    json.dump(grp_calib,f)\n",
    "    \n",
    "the_suite = suite(logpath+inputsuitefile,mplot=False) # the_suite implements the class suite according to input.suite"
   ]
  },
  {
   "cell_type": "code",
   "execution_count": 4,
   "metadata": {},
   "outputs": [
    {
     "name": "stdout",
     "output_type": "stream",
     "text": [
      "Model defined by dashboard /home/roberto.derenzi/git/mujpy/log/mlmgbl.823.2-1_3-4.gg_1.json\n",
      "Warning, model is getting too big in [[   1    1    1 ...    1    1    1]\n",
      " [4777 4778 4779 ... 4797 4798 4799]]\n",
      " ________________________________________________________________________________________________\n",
      "| Run 823: MnBi6Te10 pellet 1.5K 10mT    Global fit of 11/01/2022 16:26:21              |\n",
      "| χᵣ² = 1.012(0.986,1.014) ,    on [7.82ns, 9.4µs, 1.95ns/bin]                                   |\n",
      "|----------------------------------------------------------------- on group: 2 - 1   α = 1.130   |\n",
      "| ml: A_ext = 0.009(4) B_ext = 9.7(1) φ_ext = -30(9) λ_ext = 0.16(9)\n",
      "| mg: A_T = 0.10367(2) B_T = 66(2) φ_T = (0(0) σ_T = 25(2)\n",
      "| bl: A_L = 0.05184(1) λ_L = -0.007(6)\n",
      "|----------------------------------------------------------------- on group: 3 - 4   α = 1.130   |\n",
      "| ml: A_ext = 0.009(3) B_ext = 9.7(1) φ_ext = 60(1) λ_ext = 0.16(9)\n",
      "| mg: A_T = 0.10484(2) B_T = 66(2) φ_T = (0(0) σ_T = 25(2)\n",
      "| bl: A_L = 0.052419(8) λ_L = -0.007(6)\n",
      "|________________________________________________________________________________________________|\n",
      "Best fit saved in /home/roberto.derenzi/git/mujpy/log/mlmgbl.823.2-1_3-4.gg_1_fit.json .  Log added to mlmgbl.gg_1.2-1_3-4.csv\n"
     ]
    }
   ],
   "source": [
    "print('Model defined by dashboard {}'.format(logpath+dashboard))\n",
    "the_fit = mufit(the_suite,logpath+dashboard)"
   ]
  },
  {
   "cell_type": "code",
   "execution_count": 5,
   "metadata": {},
   "outputs": [
    {
     "name": "stdout",
     "output_type": "stream",
     "text": [
      "Multigroup fit animation: toggle pause/resume by clicking on the plot\n"
     ]
    }
   ],
   "source": [
    "fit_plot= mufitplot('0,2000,10,18000,80',the_fit)#,guess=True) # '0,1000,4,24000,100' # two range plot"
   ]
  },
  {
   "cell_type": "code",
   "execution_count": null,
   "metadata": {},
   "outputs": [],
   "source": []
  }
 ],
 "metadata": {
  "kernelspec": {
   "display_name": "Python 3",
   "language": "python",
   "name": "python3"
  },
  "language_info": {
   "codemirror_mode": {
    "name": "ipython",
    "version": 3
   },
   "file_extension": ".py",
   "mimetype": "text/x-python",
   "name": "python",
   "nbconvert_exporter": "python",
   "pygments_lexer": "ipython3",
   "version": "3.8.10"
  }
 },
 "nbformat": 4,
 "nbformat_minor": 4
}
