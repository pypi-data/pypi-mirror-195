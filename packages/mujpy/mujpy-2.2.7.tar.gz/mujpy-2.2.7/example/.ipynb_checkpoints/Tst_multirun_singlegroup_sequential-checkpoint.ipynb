{
 "cells": [
  {
   "cell_type": "markdown",
   "metadata": {},
   "source": [
    "**Example of single sequential fit with animated mufitplot**\n",
    "\n",
    "MAKE SURE YOU RENEWED ACCESS TO DATABASE!\n"
   ]
  },
  {
   "cell_type": "code",
   "execution_count": 1,
   "metadata": {},
   "outputs": [],
   "source": [
    "%matplotlib tk\n",
    "from mujpy.musuite import suite\n",
    "from mujpy.muplot import multiplot\n",
    "from mujpy.aux.aux import rebin, get_title\n",
    "import json, logging\n",
    "from mujpy.mufit import mufit\n",
    "from mujpy.mufitplot import mufitplot"
   ]
  },
  {
   "cell_type": "code",
   "execution_count": 2,
   "metadata": {},
   "outputs": [
    {
     "name": "stdout",
     "output_type": "stream",
     "text": [
      "******************* SUITE *********************\n",
      "Run /afs/psi.ch/project/bulkmusr/data/gps/d2021/tdc/deltat_tdc_gps_0822.bin loaded\n",
      "Run /afs/psi.ch/project/bulkmusr/data/gps/d2021/tdc/deltat_tdc_gps_0834.bin loaded\n",
      "Run /afs/psi.ch/project/bulkmusr/data/gps/d2021/tdc/deltat_tdc_gps_0833.bin loaded\n",
      "Run /afs/psi.ch/project/bulkmusr/data/gps/d2021/tdc/deltat_tdc_gps_0832.bin loaded\n",
      "Run /afs/psi.ch/project/bulkmusr/data/gps/d2021/tdc/deltat_tdc_gps_0831.bin loaded\n",
      "Run /afs/psi.ch/project/bulkmusr/data/gps/d2021/tdc/deltat_tdc_gps_0830.bin loaded\n",
      "Run /afs/psi.ch/project/bulkmusr/data/gps/d2021/tdc/deltat_tdc_gps_0829.bin loaded\n",
      "Run /afs/psi.ch/project/bulkmusr/data/gps/d2021/tdc/deltat_tdc_gps_0828.bin loaded\n",
      "Run /afs/psi.ch/project/bulkmusr/data/gps/d2021/tdc/deltat_tdc_gps_0827.bin loaded\n",
      "Run /afs/psi.ch/project/bulkmusr/data/gps/d2021/tdc/deltat_tdc_gps_0826.bin loaded\n",
      "Run /afs/psi.ch/project/bulkmusr/data/gps/d2021/tdc/deltat_tdc_gps_0825.bin loaded\n",
      "Run /afs/psi.ch/project/bulkmusr/data/gps/d2021/tdc/deltat_tdc_gps_0824.bin loaded\n",
      "Run /afs/psi.ch/project/bulkmusr/data/gps/d2021/tdc/deltat_tdc_gps_0823.bin loaded\n",
      "Succesfully completed prompt Minuit fit, check nt0, dt0 \n",
      "****************END OF SUITE*****************\n"
     ]
    }
   ],
   "source": [
    "#  can add 'scan':'T' or 'B' for orderinng csv for increasing T, B, otherwise increasing nrun\n",
    "input_suite = {'console':'print',\n",
    "                   'datafile':'/afs/psi.ch/project/bulkmusr/data/gps/d2021/tdc/deltat_tdc_gps_0822.bin',\n",
    "                   'logpath':'log/',\n",
    "                   'runlist':'822,823:834:-1',\n",
    "                   'groups calibration':'23-14.calib',\n",
    "                   'offset':20\n",
    "                  }  # 'console':logging, for output in Log Console, 'console':print, for output in notebook\n",
    "with open('log/input.suite',\"w\") as f:\n",
    "    json.dump(input_suite,f)\n",
    "\n",
    "grp_calib = [{'forward':'2,3', 'backward':'1,4', 'alpha':1.13}]\n",
    "with open('log/23-14.calib',\"w\") as f:\n",
    "    json.dump(grp_calib,f)\n",
    "    \n",
    "the_suite = suite('log/input.suite',mplot=False) # the_suite implements the class suite according to input.suite"
   ]
  },
  {
   "cell_type": "code",
   "execution_count": 3,
   "metadata": {},
   "outputs": [],
   "source": [
    "multi = False # this is skipped\n",
    "if multi:\n",
    "    asymm,asyme = the_suite.asymmetry_multigroup()\n",
    "    if asymm.any() != None:\n",
    "        t,a = rebin(the_suite.time,asymm,(0,20000),100) \n",
    "        nrun = str(the_suite._the_runs_[0][0].get_runNumber_int())\n",
    "        groups = [grp['forward']+'-'+grp['backward'] for grp in the_suite.groups]\n",
    "        titles = [nrun+': '+get_title(the_suite._the_runs_[0][0]) for group in groups]\n",
    "        multi = multiplot(t,a,titles,groups,the_suite.histoLength)\n",
    "        discard  = multi.display(anim=True)\n",
    "    else:\n",
    "        the_suite.console('********************** No data yet: check access to database!')"
   ]
  },
  {
   "cell_type": "code",
   "execution_count": 4,
   "metadata": {},
   "outputs": [
    {
     "name": "stdout",
     "output_type": "stream",
     "text": [
      "choosefit mufit debug:    self.suite.single() = False\n",
      "dofit_singlegroup_sequential mufit debug\n",
      " _____________________________________________________________________________________\n",
      "| Fit on [7.83ns, 9.4µs, 0.00ns/bin] on group: 2,3 - 1,4  α = 1.130, 30/11/2021 12:19:05 |\n",
      "| Run 822: MnBi6Te1 pellet   100.000G 30.000K          χᵣ² = 1.060(0.980,1.020)\n",
      "|-----------------------------------------------------------------------------|\n",
      "| ml: A_cos = 0.176(2) B_cos = 10.004(5) φ_cos = 19.1(6) λ_cos = 0.114(5)\n",
      "| bg: A_T = 0.09(2) σ_T = 9.2(6)\n",
      "| bl: A_L = -0.06(2) λ_L = -5.0(7)\n",
      "|_____________________________________________________________________________________|\n",
      "Best fit saved in log/mlbgbl.822.2_3-1_4.1_fit.json.  Log added to mlbgbl.1.2_3-1_4.csv\n",
      "| Run 834: MnBi6Te1 pellet   100.000G 23.000K          χᵣ² = 0.999(0.980,1.020)\n",
      "|-----------------------------------------------------------------------------|\n",
      "| ml: A_cos = 0.187(1) B_cos = 10.014(5) φ_cos = 19.3(4) λ_cos = 0.131(4)\n",
      "| bg: A_T = 0.026(4) σ_T = 13(2)\n",
      "| bl: A_L = 0.0003(4) λ_L = 0.3(2)\n",
      "|_____________________________________________________________________________________|\n",
      "Best fit saved in log/mlbgbl.834.2_3-1_4.1_fit.json.  Log added to mlbgbl.1.2_3-1_4.csv\n",
      "| Run 833: MnBi6Te1 pellet   100.000G 20.000K          χᵣ² = 1.015(0.980,1.020)\n",
      "|-----------------------------------------------------------------------------|\n",
      "| ml: A_cos = 0.190(1) B_cos = 10.035(5) φ_cos = 18.3(4) λ_cos = 0.131(4)\n",
      "| bg: A_T = 0.037(4) σ_T = 16(2)\n",
      "| bl: A_L = 0.0009(5) λ_L = 0.2(1)\n",
      "|_____________________________________________________________________________________|\n",
      "Best fit saved in log/mlbgbl.833.2_3-1_4.1_fit.json.  Log added to mlbgbl.1.2_3-1_4.csv\n",
      "| Run 832: MnBi6Te1 pellet   100.000G 17.000K          χᵣ² = 1.013(0.980,1.020)\n",
      "|-----------------------------------------------------------------------------|\n",
      "| ml: A_cos = 0.185(2) B_cos = 10.069(5) φ_cos = 18.7(5) λ_cos = 0.144(5)\n",
      "| bg: A_T = 0.028(4) σ_T = 15(2)\n",
      "| bl: A_L = 0.0007(5) λ_L = 0.1(2)\n",
      "|_____________________________________________________________________________________|\n",
      "Best fit saved in log/mlbgbl.832.2_3-1_4.1_fit.json.  Log added to mlbgbl.1.2_3-1_4.csv\n",
      "| Run 831: MnBi6Te1 pellet   100.000G 16.000K          χᵣ² = 1.033(0.980,1.020)\n",
      "|-----------------------------------------------------------------------------|\n",
      "| ml: A_cos = 0.179(2) B_cos = 10.074(6) φ_cos = 18.9(5) λ_cos = 0.163(5)\n",
      "| bg: A_T = 0.031(4) σ_T = 15(3)\n",
      "| bl: A_L = 0.0005(5) λ_L = 0.4(2)\n",
      "|_____________________________________________________________________________________|\n",
      "Best fit saved in log/mlbgbl.831.2_3-1_4.1_fit.json.  Log added to mlbgbl.1.2_3-1_4.csv\n",
      "| Run 830: MnBi6Te1 pellet   100.000G 15.000K          χᵣ² = 1.011(0.980,1.020)\n",
      "|-----------------------------------------------------------------------------|\n",
      "| ml: A_cos = 0.186(2) B_cos = 10.102(6) φ_cos = 19.9(5) λ_cos = 0.208(6)\n",
      "| bg: A_T = 0.031(4) σ_T = 14(2)\n",
      "| bl: A_L = 0.0007(3) λ_L = 0.39(7)\n",
      "|_____________________________________________________________________________________|\n",
      "Best fit saved in log/mlbgbl.830.2_3-1_4.1_fit.json.  Log added to mlbgbl.1.2_3-1_4.csv\n",
      "| Run 829: MnBi6Te1 pellet   100.000G 14.000K          χᵣ² = 1.024(0.980,1.020)\n",
      "|-----------------------------------------------------------------------------|\n",
      "| ml: A_cos = 0.181(2) B_cos = 10.132(8) φ_cos = 22.6(6) λ_cos = 0.281(7)\n",
      "| bg: A_T = 0.038(4) σ_T = 11(1)\n",
      "| bl: A_L = 0.0015(6) λ_L = 0.17(9)\n",
      "|_____________________________________________________________________________________|\n",
      "Best fit saved in log/mlbgbl.829.2_3-1_4.1_fit.json.  Log added to mlbgbl.1.2_3-1_4.csv\n",
      "| Run 828: MnBi6Te1 pellet   100.000G 13.000K          χᵣ² = 1.068(0.980,1.020)\n",
      "|-----------------------------------------------------------------------------|\n",
      "| ml: A_cos = 0.167(2) B_cos = 10.20(2) φ_cos = 27(1) λ_cos = 0.48(1)\n",
      "| bg: A_T = 0.053(5) σ_T = 11(1)\n",
      "| bl: A_L = 0.000(1) λ_L = -0.6(7)\n",
      "|_____________________________________________________________________________________|\n",
      "Best fit saved in log/mlbgbl.828.2_3-1_4.1_fit.json.  Log added to mlbgbl.1.2_3-1_4.csv\n",
      "| Run 827: MnBi6Te1 pellet   100.000G 12.000K          χᵣ² = 1.015(0.980,1.020)\n",
      "|-----------------------------------------------------------------------------|\n",
      "| ml: A_cos = 0.119(5) B_cos = 9.98(8) φ_cos = 50(3) λ_cos = 1.21(7)\n",
      "| bg: A_T = 0.093(7) σ_T = 11(1)\n",
      "| bl: A_L = 0.014(2) λ_L = -0.5(1)\n",
      "|_____________________________________________________________________________________|\n",
      "Best fit saved in log/mlbgbl.827.2_3-1_4.1_fit.json.  Log added to mlbgbl.1.2_3-1_4.csv\n",
      "| Run 826: MnBi6Te1 pellet   100.000G 11.000K          χᵣ² = 1.017(0.980,1.020)\n",
      "|-----------------------------------------------------------------------------|\n",
      "| ml: A_cos = 0.026(3) B_cos = 9.5(1) φ_cos = 77(5) λ_cos = 0.6(1)\n",
      "| bg: A_T = 0.148(6) σ_T = 25(1)\n",
      "| bl: A_L = 0.032(1) λ_L = -0.09(2)\n",
      "|_____________________________________________________________________________________|\n",
      "Best fit saved in log/mlbgbl.826.2_3-1_4.1_fit.json.  Log added to mlbgbl.1.2_3-1_4.csv\n",
      "| Run 825: MnBi6Te1 pellet   100.000G 10.000K          χᵣ² = 1.026(0.980,1.020)\n",
      "|-----------------------------------------------------------------------------|\n",
      "| ml: A_cos = 0.014(2) B_cos = 9.4(2) φ_cos = 77(9) λ_cos = 0.4(1)\n",
      "| bg: A_T = 0.127(8) σ_T = 36(2)\n",
      "| bl: A_L = 0.043(1) λ_L = -0.10(1)\n",
      "|_____________________________________________________________________________________|\n",
      "Best fit saved in log/mlbgbl.825.2_3-1_4.1_fit.json.  Log added to mlbgbl.1.2_3-1_4.csv\n",
      "| Run 824: MnBi6Te1 pellet   100.000G 6.000K           χᵣ² = 1.010(0.980,1.020)\n",
      "|-----------------------------------------------------------------------------|\n",
      "| ml: A_cos = 0.005(1) B_cos = 9.7(1) φ_cos = 64(1) λ_cos = 0.0(1)\n",
      "| bg: A_T = 0.13(2) σ_T = 74(6)\n",
      "| bl: A_L = 0.0514(9) λ_L = -0.043(8)\n",
      "|_____________________________________________________________________________________|\n",
      "Best fit saved in log/mlbgbl.824.2_3-1_4.1_fit.json.  Log added to mlbgbl.1.2_3-1_4.csv\n",
      "| Run 823: MnBi6Te1 pellet   100.000G 1.500K           χᵣ² = 1.012(0.980,1.020)\n",
      "|-----------------------------------------------------------------------------|\n",
      "| ml: A_cos = 0.006(1) B_cos = 9.5(1) φ_cos = 63(1) λ_cos = 0.1(1)\n",
      "| bg: A_T = 0.12(2) σ_T = 81(8)\n",
      "| bl: A_L = 0.0512(8) λ_L = 0.012(6)\n",
      "|_____________________________________________________________________________________|\n",
      "Best fit saved in log/mlbgbl.823.2_3-1_4.1_fit.json.  Log added to mlbgbl.1.2_3-1_4.csv\n"
     ]
    }
   ],
   "source": [
    "the_fit = mufit(the_suite,'log/mlbgbl.822.2_3-1_4.1.json', chain=True)"
   ]
  },
  {
   "cell_type": "code",
   "execution_count": 5,
   "metadata": {},
   "outputs": [
    {
     "name": "stdout",
     "output_type": "stream",
     "text": [
      "Plotting best fit of runs ['822', '834', '833', '832', '831', '830', '829', '828', '827', '826', '825', '824', '823']\n",
      "Animation: toggle pause/resume by clicking on the plot\n"
     ]
    }
   ],
   "source": [
    "fit_plot= mufitplot('0,20000,100',the_suite,'log/mlbgbl.822.2_3-1_4.1_fit.json') # try '0,1000,4,24000,100'"
   ]
  },
  {
   "cell_type": "code",
   "execution_count": null,
   "metadata": {},
   "outputs": [],
   "source": []
  }
 ],
 "metadata": {
  "kernelspec": {
   "display_name": "Python 3",
   "language": "python",
   "name": "python3"
  },
  "language_info": {
   "codemirror_mode": {
    "name": "ipython",
    "version": 3
   },
   "file_extension": ".py",
   "mimetype": "text/x-python",
   "name": "python",
   "nbconvert_exporter": "python",
   "pygments_lexer": "ipython3",
   "version": "3.8.10"
  }
 },
 "nbformat": 4,
 "nbformat_minor": 4
}
