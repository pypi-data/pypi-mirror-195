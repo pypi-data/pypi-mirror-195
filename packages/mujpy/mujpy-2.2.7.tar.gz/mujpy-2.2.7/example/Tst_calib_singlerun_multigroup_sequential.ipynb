{
 "cells": [
  {
   "cell_type": "markdown",
   "metadata": {
    "tags": []
   },
   "source": [
    "**Example of multigroup group calibration, sequential:**\n",
    "\n",
    "MAKE SURE YOU RENEWED ACCESS TO DATABASE!"
   ]
  },
  {
   "cell_type": "code",
   "execution_count": 1,
   "metadata": {},
   "outputs": [
    {
     "name": "stdout",
     "output_type": "stream",
     "text": [
      "/home/roberto.derenzi/git/mujpy\n"
     ]
    }
   ],
   "source": [
    "%matplotlib tk\n",
    "%cd /home/roberto.derenzi/git/mujpy/\n",
    "from mujpy.musuite import suite\n",
    "import json, re\n",
    "from os.path import isfile\n",
    "from mujpy.mufit import mufit\n",
    "from mujpy.mufitplot import mufitplot\n",
    "jsonsuffix = '.json'"
   ]
  },
  {
   "cell_type": "code",
   "execution_count": 2,
   "metadata": {},
   "outputs": [],
   "source": [
    "logpath = '/home/roberto.derenzi/git/mujpy/log/'\n",
    "datafile = '/home/roberto.derenzi/musrfit/MBT/gps/run_05_21/data/deltat_tdc_gps_0822.bin'\n",
    "runlist = '822' # first run first\n",
    "modelname = 'almgml'\n",
    "version = '1'\n",
    "grp_calib = [{'forward':'2', 'backward':'1', 'alpha':1.13},{'forward':'3', 'backward':'4', 'alpha':1.13}]\n",
    "groupcalibfile = '2-1_3-4.calib'\n",
    "inputsuitefile = 'calib.suite'\n",
    "dashboard = modelname+'.'+re.search(r'\\d+', runlist).group()+'.'+groupcalibfile[:groupcalibfile.index('.')]+'.'+version+jsonsuffix\n",
    "if not isfile(logpath+dashboard): \n",
    "    print('Model definition dashboard file {} does not exist. Make one.'.format(logpath+dashboard))"
   ]
  },
  {
   "cell_type": "code",
   "execution_count": 3,
   "metadata": {},
   "outputs": [
    {
     "name": "stdout",
     "output_type": "stream",
     "text": [
      "******************* SUITE *********************\n",
      "Run /home/roberto.derenzi/musrfit/MBT/gps/run_05_21/data/deltat_tdc_gps_0822.bin loaded\n",
      " MnBi6Te10 pellet 30.0K 10mT\n",
      "Succesfully completed prompt Minuit fit, check nt0, dt0 \n",
      "****************END OF SUITE*****************\n"
     ]
    }
   ],
   "source": [
    "#  can add 'scan':'T' or 'B' for orderinng csv for increasing T, B, otherwise increasing nrun\n",
    "input_suite = {'console':'print',\n",
    "                   'datafile':datafile,\n",
    "                   'logpath':logpath,\n",
    "                   'runlist':runlist,\n",
    "                   'groups calibration':groupcalibfile,\n",
    "                   'offset':20\n",
    "                  }  # 'console':logging, for output in Log Console, 'console':print, for output in notebook\n",
    "with open(logpath+inputsuitefile,\"w\") as f:\n",
    "    json.dump(input_suite,f)\n",
    "\n",
    "with open(logpath+groupcalibfile,\"w\") as f:\n",
    "    json.dump(grp_calib,f)\n",
    "    \n",
    "the_suite = suite(logpath+inputsuitefile,mplot=False) # the_suite implements the class suite according to input.suite"
   ]
  },
  {
   "cell_type": "code",
   "execution_count": 4,
   "metadata": {},
   "outputs": [
    {
     "name": "stdout",
     "output_type": "stream",
     "text": [
      "Model defined by dashboard /home/roberto.derenzi/git/mujpy/log/almgml.822.2-1_3-4.1.json\n",
      "mufit _initialise_fit debug: dash [{'name': 'al', 'label': '', 'pardicts': [{'name': 'α', 'value': 1.13, 'flag': '~', 'function': '', 'error': 0.01, 'limits': [0, None]}]}, {'name': 'mg', 'label': 'T_fast', 'pardicts': [{'name': 'A', 'value': 0.09, 'flag': '~', 'function': '', 'error': 0.01, 'limits': [None, None]}, {'name': 'B', 'value': 10.0, 'flag': '~', 'function': '', 'error': 0.1, 'limits': [None, None]}, {'name': 'φ', 'value': 0.0, 'flag': '~', 'function': '', 'error': 1.0, 'limits': [None, None]}, {'name': 'σ', 'value': 1.0, 'flag': '~', 'function': '', 'error': 0.01, 'limits': [None, None]}]}, {'name': 'ml', 'label': 'T_slow', 'pardicts': [{'name': 'A', 'value': 0.09, 'flag': '~', 'function': '', 'error': 0.01, 'limits': [None, None]}, {'name': 'B', 'value': 10.0, 'flag': '~', 'function': '', 'error': 0.1, 'limits': [None, None]}, {'name': 'φ', 'value': 0.0, 'flag': '~', 'function': '', 'error': 1.0, 'limits': [None, None]}, {'name': 'λ', 'value': 0.1, 'flag': '~', 'function': '', 'error': 0.01, 'limits': [None, None]}]}]\n",
      "aux int2min debug: pardict name α_ limits [0, None]\n",
      "aux int2min debug: pardict name A_T_fast limits [None, None]\n",
      "aux int2min debug: pardict name B_T_fast limits [None, None]\n",
      "aux int2min debug: pardict name φ_T_fast limits [None, None]\n",
      "aux int2min debug: pardict name σ_T_fast limits [None, None]\n",
      "aux int2min debug: pardict name A_T_slow limits [None, None]\n",
      "aux int2min debug: pardict name B_T_slow limits [None, None]\n",
      "aux int2min debug: pardict name φ_T_slow limits [None, None]\n",
      "aux int2min debug: pardict name λ_T_slow limits [None, None]\n",
      "mufit summary debug: values, errors [[['al: α_'], [1.1345155800369269], [0.002427701177281083]], [['mg: A_T_fast', 'B_T_fast', 'φ_T_fast', 'σ_T_fast'], [0.0630451426028999, 9.914705507008902, -67.2499364155545, 1.5434366899771284], [0.007562936671176849, 0.2910502955238482, 6.083738584229643, 0.2369143262459763]], [['ml: A_T_slow', 'B_T_slow', 'φ_T_slow', 'λ_T_slow'], [0.18007129509651237, 9.996567239608641, -52.54444725716542, 0.054909238288702714], [0.008729657079514437, 0.011780021996024468, 1.8663508394236261, 0.013268465998706505]]]\n",
      "mufit summary debug: minvalues, minerrors [['α_', 1.1345155800369269, 0.002427701177281083], ['A_T_fast', 0.0630451426028999, 0.007562936671176849], ['B_T_fast', 9.914705507008902, 0.2910502955238482], ['φ_T_fast', -67.2499364155545, 6.083738584229643], ['σ_T_fast', 1.5434366899771284, 0.2369143262459763], ['A_T_slow', 0.18007129509651237, 0.008729657079514437], ['B_T_slow', 9.996567239608641, 0.011780021996024468], ['φ_T_slow', -52.54444725716542, 1.8663508394236261], ['λ_T_slow', 0.054909238288702714, 0.013268465998706505]]\n",
      " _____________________________________________________________________________________\n",
      "| Run 822: MnBi6Te10 pellet 30.0K 10mT     on group: 2 - 1   α = 1.135    |\n",
      "| χᵣ² = 1.041(0.980,1.020), fit on [7.82ns, 9.4µs, 1.95ns/bin], at 09/01/2022 15:46:06|\n",
      "|-------------------------------------------------------------------------------------|\n",
      "| al: α_ = 1.135(2)\n",
      "| mg: A_T_fast = 0.063(8) B_T_fast = 9.9(3) φ_T_fast = -67(6) σ_T_fast = 1.5(2)\n",
      "| ml: A_T_slow = 0.180(9) B_T_slow = 10.00(1) φ_T_slow = -53(2) λ_T_slow = 0.05(1)\n",
      "|_____________________________________________________________________________________|\n",
      "mufit prepare_csv debug, krun =0 run=822\n",
      "aux initialize_csv debug: nrun 822\n",
      "aux int2min debug: pardict name α_ limits [0, None]\n",
      "aux int2min debug: pardict name A_T_fast limits [None, None]\n",
      "aux int2min debug: pardict name B_T_fast limits [None, None]\n",
      "aux int2min debug: pardict name φ_T_fast limits [None, None]\n",
      "aux int2min debug: pardict name σ_T_fast limits [None, None]\n",
      "aux int2min debug: pardict name A_T_slow limits [None, None]\n",
      "aux int2min debug: pardict name B_T_slow limits [None, None]\n",
      "aux int2min debug: pardict name φ_T_slow limits [None, None]\n",
      "aux int2min debug: pardict name λ_T_slow limits [None, None]\n",
      "mufit summary debug: values, errors [[['al: α_'], [1.1290236146157562], [0.0014839169304363686]], [['mg: A_T_fast', 'B_T_fast', 'φ_T_fast', 'σ_T_fast'], [0.058211519546277755, 10.174624367588018, 21.092081148844446, -1.6989145851476255], [0.0044558914787867715, 0.18757768210519246, 3.7764399439932212, 0.17672859326108598]], [['ml: A_T_slow', 'B_T_slow', 'φ_T_slow', 'λ_T_slow'], [0.19823616500938715, 10.001877196813476, 37.6128580680125, 0.07666258065845774], [0.005112500199504283, 0.007335753157448174, 1.064322119732048, 0.00786270845952344]]]\n",
      "mufit summary debug: minvalues, minerrors [['α_', 1.1290236146157562, 0.0014839169304363686], ['A_T_fast', 0.058211519546277755, 0.0044558914787867715], ['B_T_fast', 10.174624367588018, 0.18757768210519246], ['φ_T_fast', 21.092081148844446, 3.7764399439932212], ['σ_T_fast', -1.6989145851476255, 0.17672859326108598], ['A_T_slow', 0.19823616500938715, 0.005112500199504283], ['B_T_slow', 10.001877196813476, 0.007335753157448174], ['φ_T_slow', 37.6128580680125, 1.064322119732048], ['λ_T_slow', 0.07666258065845774, 0.00786270845952344]]\n",
      " _____________________________________________________________________________________\n",
      "| Run 822: MnBi6Te10 pellet 30.0K 10mT     on group: 3 - 4   α = 1.129    |\n",
      "| χᵣ² = 1.035(0.980,1.020), fit on [7.82ns, 9.4µs, 1.95ns/bin], at 09/01/2022 15:46:07|\n",
      "|-------------------------------------------------------------------------------------|\n",
      "| al: α_ = 1.129(1)\n",
      "| mg: A_T_fast = 0.058(4) B_T_fast = 10.2(2) φ_T_fast = 21(4) σ_T_fast = -1.7(2)\n",
      "| ml: A_T_slow = 0.198(5) B_T_slow = 10.002(7) φ_T_slow = 38(1) λ_T_slow = 0.077(8)\n",
      "|_____________________________________________________________________________________|\n",
      "mufit prepare_csv debug, krun =0 run=822\n",
      "aux initialize_csv debug: nrun 822\n",
      ".  Log added to almgml.1.2-1.csv\n",
      ".  Log added to almgml.1.3-4.csv\n",
      "Best fit of group 2-1 saved in /home/roberto.derenzi/git/mujpy/log/almgml.822.2-1.1_fit.json \n",
      "Best fit of group 3-4 saved in /home/roberto.derenzi/git/mujpy/log/almgml.822.3-4.1_fit.json \n",
      "mufitplot debug: Really finished\n"
     ]
    }
   ],
   "source": [
    "print('Model defined by dashboard {}'.format(logpath+dashboard))\n",
    "the_fit = mufit(the_suite,logpath+dashboard)"
   ]
  },
  {
   "cell_type": "code",
   "execution_count": 5,
   "metadata": {},
   "outputs": [
    {
     "name": "stdout",
     "output_type": "stream",
     "text": [
      "mufitplot __init__ debug: inside\n",
      "mufitplot init__ debug: the_fit.dashboard =\n",
      "{'version': '1', 'fit_range': '0,24000,5', 'offset': 20, 'model_guess': [{'name': 'al', 'label': '', 'pardicts': [{'name': 'α', 'value': 1.13, 'flag': '~', 'function': '', 'error': 0.01, 'limits': [0, None]}]}, {'name': 'mg', 'label': 'T_fast', 'pardicts': [{'name': 'A', 'value': 0.09, 'flag': '~', 'function': '', 'error': 0.01, 'limits': [None, None]}, {'name': 'B', 'value': 10.0, 'flag': '~', 'function': '', 'error': 0.1, 'limits': [None, None]}, {'name': 'φ', 'value': 0.0, 'flag': '~', 'function': '', 'error': 1.0, 'limits': [None, None]}, {'name': 'σ', 'value': 1.0, 'flag': '~', 'function': '', 'error': 0.01, 'limits': [None, None]}]}, {'name': 'ml', 'label': 'T_slow', 'pardicts': [{'name': 'A', 'value': 0.09, 'flag': '~', 'function': '', 'error': 0.01, 'limits': [None, None]}, {'name': 'B', 'value': 10.0, 'flag': '~', 'function': '', 'error': 0.1, 'limits': [None, None]}, {'name': 'φ', 'value': 0.0, 'flag': '~', 'function': '', 'error': 1.0, 'limits': [None, None]}, {'name': 'λ', 'value': 0.1, 'flag': '~', 'function': '', 'error': 0.01, 'limits': [None, None]}]}], 'model_result': [{'name': 'al', 'label': '', 'pardicts': [{'name': 'α', 'value': 1.1290236146157562, 'flag': '~', 'function': '', 'error': 0.01, 'limits': [0, None], 'std': 0.0014839169304363686}]}, {'name': 'mg', 'label': 'T_fast', 'pardicts': [{'name': 'A', 'value': 0.058211519546277755, 'flag': '~', 'function': '', 'error': 0.01, 'limits': [None, None], 'std': 0.0044558914787867715}, {'name': 'B', 'value': 10.174624367588018, 'flag': '~', 'function': '', 'error': 0.1, 'limits': [None, None], 'std': 0.18757768210519246}, {'name': 'φ', 'value': 21.092081148844446, 'flag': '~', 'function': '', 'error': 1.0, 'limits': [None, None], 'std': 3.7764399439932212}, {'name': 'σ', 'value': -1.6989145851476255, 'flag': '~', 'function': '', 'error': 0.01, 'limits': [None, None], 'std': 0.17672859326108598}]}, {'name': 'ml', 'label': 'T_slow', 'pardicts': [{'name': 'A', 'value': 0.19823616500938715, 'flag': '~', 'function': '', 'error': 0.01, 'limits': [None, None], 'std': 0.005112500199504283}, {'name': 'B', 'value': 10.001877196813476, 'flag': '~', 'function': '', 'error': 0.1, 'limits': [None, None], 'std': 0.007335753157448174}, {'name': 'φ', 'value': 37.6128580680125, 'flag': '~', 'function': '', 'error': 1.0, 'limits': [None, None], 'std': 1.064322119732048}, {'name': 'λ', 'value': 0.07666258065845774, 'flag': '~', 'function': '', 'error': 0.01, 'limits': [None, None], 'std': 0.00786270845952344}]}], 'chi2': 1.0346212265879027}\n",
      "Multigroup fit animation: toggle pause/resume by clicking on the plot\n",
      "suite asymmetry_single debug: run 822, kgroup 0 asyme contains 1 <2e-162\n",
      "plot_run mufitplot debug: single chi is False\n"
     ]
    }
   ],
   "source": [
    "fit_plot= mufitplot('0,2000,10,20000,40',the_fit)#,guess=True) # '0,1000,4,24000,100' # two range plot"
   ]
  }
 ],
 "metadata": {
  "kernelspec": {
   "display_name": "Python 3",
   "language": "python",
   "name": "python3"
  },
  "language_info": {
   "codemirror_mode": {
    "name": "ipython",
    "version": 3
   },
   "file_extension": ".py",
   "mimetype": "text/x-python",
   "name": "python",
   "nbconvert_exporter": "python",
   "pygments_lexer": "ipython3",
   "version": "3.8.10"
  }
 },
 "nbformat": 4,
 "nbformat_minor": 4
}
