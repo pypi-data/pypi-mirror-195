{
 "cells": [
  {
   "cell_type": "markdown",
   "metadata": {},
   "source": [
    "**Example of single sequential fit with animated mufitplot**\n",
    "\n",
    "MAKE SURE YOU RENEWED ACCESS TO DATABASE!\n"
   ]
  },
  {
   "cell_type": "code",
   "execution_count": 1,
   "metadata": {},
   "outputs": [
    {
     "name": "stdout",
     "output_type": "stream",
     "text": [
      "/home/roberto.derenzi/git/mujpy\n"
     ]
    }
   ],
   "source": [
    "%matplotlib tk\n",
    "%cd /home/roberto.derenzi/git/mujpy/\n",
    "from mujpy.musuite import suite\n",
    "import json, re\n",
    "from os.path import isfile\n",
    "from mujpy.mufit import mufit\n",
    "from mujpy.mufitplot import mufitplot\n",
    "jsonsuffix = '.json'"
   ]
  },
  {
   "cell_type": "code",
   "execution_count": 2,
   "metadata": {},
   "outputs": [],
   "source": [
    "logpath = '/home/roberto.derenzi/git/mujpy/log/'\n",
    "datafile = '/home/roberto.derenzi/musrfit/MBT/gps/run_05_21/data/deltat_tdc_gps_0822.bin'\n",
    "runlist = '822,823:834:-1' # first run first\n",
    "modelname = 'mgml'\n",
    "version = '1'\n",
    "grp_calib = [{'forward':'2,3', 'backward':'1,4', 'alpha':1.13}]\n",
    "groupcalibfile = '2_3-1_4.calib'\n",
    "inputsuitefile = 'input.suite'\n",
    "dashboard = modelname+'.'+re.search(r'\\d+', runlist).group()+'.'+groupcalibfile[:groupcalibfile.index('.')]+'.'+version+jsonsuffix\n",
    "if not isfile(logpath+dashboard): \n",
    "    print('Model definition dashboard file {} does not exist. Make one.'.format(logpath+dashboard))"
   ]
  },
  {
   "cell_type": "code",
   "execution_count": 3,
   "metadata": {},
   "outputs": [
    {
     "name": "stdout",
     "output_type": "stream",
     "text": [
      "******************* SUITE *********************\n",
      "Run /home/roberto.derenzi/musrfit/MBT/gps/run_05_21/data/deltat_tdc_gps_0822.bin loaded\n",
      " MnBi6Te10 pellet 30.0K 10mT\n",
      "Run /home/roberto.derenzi/musrfit/MBT/gps/run_05_21/data/deltat_tdc_gps_0834.bin loaded\n",
      " MnBi6Te10 pellet 23.0K 10mT\n",
      "Run /home/roberto.derenzi/musrfit/MBT/gps/run_05_21/data/deltat_tdc_gps_0833.bin loaded\n",
      " MnBi6Te10 pellet 20.0K 10mT\n",
      "Run /home/roberto.derenzi/musrfit/MBT/gps/run_05_21/data/deltat_tdc_gps_0832.bin loaded\n",
      " MnBi6Te10 pellet 17.0K 10mT\n",
      "Run /home/roberto.derenzi/musrfit/MBT/gps/run_05_21/data/deltat_tdc_gps_0831.bin loaded\n",
      " MnBi6Te10 pellet 16.0K 10mT\n",
      "Run /home/roberto.derenzi/musrfit/MBT/gps/run_05_21/data/deltat_tdc_gps_0830.bin loaded\n",
      " MnBi6Te10 pellet 15.0K 10mT\n",
      "Run /home/roberto.derenzi/musrfit/MBT/gps/run_05_21/data/deltat_tdc_gps_0829.bin loaded\n",
      " MnBi6Te10 pellet 14.0K 10mT\n",
      "Run /home/roberto.derenzi/musrfit/MBT/gps/run_05_21/data/deltat_tdc_gps_0828.bin loaded\n",
      " MnBi6Te10 pellet 13.0K 10mT\n",
      "Run /home/roberto.derenzi/musrfit/MBT/gps/run_05_21/data/deltat_tdc_gps_0827.bin loaded\n",
      " MnBi6Te10 pellet 12.0K 10mT\n",
      "Run /home/roberto.derenzi/musrfit/MBT/gps/run_05_21/data/deltat_tdc_gps_0826.bin loaded\n",
      " MnBi6Te10 pellet 11.0K 10mT\n",
      "Run /home/roberto.derenzi/musrfit/MBT/gps/run_05_21/data/deltat_tdc_gps_0825.bin loaded\n",
      " MnBi6Te10 pellet 10.0K 10mT\n",
      "Run /home/roberto.derenzi/musrfit/MBT/gps/run_05_21/data/deltat_tdc_gps_0824.bin loaded\n",
      " MnBi6Te10 pellet 6.0K 10mT\n",
      "Run /home/roberto.derenzi/musrfit/MBT/gps/run_05_21/data/deltat_tdc_gps_0823.bin loaded\n",
      " MnBi6Te10 pellet 1.5K 10mT\n",
      "Succesfully completed prompt Minuit fit, check nt0, dt0 \n",
      "****************END OF SUITE*****************\n"
     ]
    }
   ],
   "source": [
    "#  can add 'scan':'T' or 'B' for orderinng csv for increasing T, B, otherwise increasing nrun\n",
    "input_suite = {'console':'print',\n",
    "                   'datafile':datafile,\n",
    "                   'logpath':logpath,\n",
    "                   'runlist':runlist,\n",
    "                   'groups calibration':groupcalibfile,\n",
    "                   'offset':20\n",
    "                  }  # 'console':logging, for output in Log Console, 'console':print, for output in notebook\n",
    "with open(logpath+inputsuitefile,\"w\") as f:\n",
    "    json.dump(input_suite,f)\n",
    "\n",
    "with open(logpath+groupcalibfile,\"w\") as f:\n",
    "    json.dump(grp_calib,f)\n",
    "    \n",
    "the_suite = suite(logpath+inputsuitefile,mplot=False) # the_suite implements the class suite according to input.suite"
   ]
  },
  {
   "cell_type": "code",
   "execution_count": 4,
   "metadata": {},
   "outputs": [
    {
     "name": "stdout",
     "output_type": "stream",
     "text": [
      "Model definition from file /home/roberto.derenzi/git/mujpy/log/mgml.822.2_3-1_4.1.json\n",
      " _____________________________________________________________________________________\n",
      "| Fit on [7.83ns, 9.4µs, 0.00ns/bin] on group: 2,3 - 1,4  α = 1.130, 09/01/2022 16:01:42 |\n",
      "| Run 822: MnBi6Te10 pellet 30.0K 10mT         χᵣ² = 1.052(0.980,1.020)\n",
      "|-----------------------------------------------------------------------------|\n",
      "| mg: A_T_fast = 0.047(4) B_T_fast = 10.3(2) φ_T_fast = 16.4(9) σ_T_fast = -1.5(2)\n",
      "| ml: A_T_slow = 0.151(6) B_T_slow = 10.020(5) φ_T_slow = 16.4(9) λ_T_slow = 0.07(1)\n",
      "|_____________________________________________________________________________________|\n",
      "Best fit saved in /home/roberto.derenzi/git/mujpy/log/mgml.822.2_3-1_4.1_fit.json.  Log added to mgml.1.2_3-1_4.csv\n",
      "| Run 834: MnBi6Te10 pellet 23.0K 10mT         χᵣ² = 0.987(0.980,1.020)\n",
      "|-----------------------------------------------------------------------------|\n",
      "| mg: A_T_fast = 0.033(3) B_T_fast = 11.0(3) φ_T_fast = 16.7(6) σ_T_fast = -2.0(3)\n",
      "| ml: A_T_slow = 0.170(3) B_T_slow = 10.032(5) φ_T_slow = 16.7(6) λ_T_slow = 0.100(7)\n",
      "|_____________________________________________________________________________________|\n",
      "Best fit saved in /home/roberto.derenzi/git/mujpy/log/mgml.834.2_3-1_4.1_fit.json.  Log added to mgml.1.2_3-1_4.csv\n",
      "| Run 833: MnBi6Te10 pellet 20.0K 10mT         χᵣ² = 1.011(0.980,1.020)\n",
      "|-----------------------------------------------------------------------------|\n",
      "| mg: A_T_fast = 0.036(3) B_T_fast = 11.1(3) φ_T_fast = 15.4(7) σ_T_fast = -2.1(3)\n",
      "| ml: A_T_slow = 0.173(3) B_T_slow = 10.055(5) φ_T_slow = 15.4(7) λ_T_slow = 0.100(7)\n",
      "|_____________________________________________________________________________________|\n",
      "Best fit saved in /home/roberto.derenzi/git/mujpy/log/mgml.833.2_3-1_4.1_fit.json.  Log added to mgml.1.2_3-1_4.csv\n",
      "| Run 832: MnBi6Te10 pellet 17.0K 10mT         χᵣ² = 1.000(0.980,1.020)\n",
      "|-----------------------------------------------------------------------------|\n",
      "| mg: A_T_fast = 0.036(3) B_T_fast = 10.9(3) φ_T_fast = 16.3(7) σ_T_fast = -2.0(2)\n",
      "| ml: A_T_slow = 0.166(3) B_T_slow = 10.086(6) φ_T_slow = 16.3(7) λ_T_slow = 0.107(7)\n",
      "|_____________________________________________________________________________________|\n",
      "Best fit saved in /home/roberto.derenzi/git/mujpy/log/mgml.832.2_3-1_4.1_fit.json.  Log added to mgml.1.2_3-1_4.csv\n",
      "| Run 831: MnBi6Te10 pellet 16.0K 10mT         χᵣ² = 1.033(0.980,1.020)\n",
      "|-----------------------------------------------------------------------------|\n",
      "| mg: A_T_fast = 0.032(4) B_T_fast = 10.9(3) φ_T_fast = 16.2(7) σ_T_fast = -1.9(3)\n",
      "| ml: A_T_slow = 0.162(4) B_T_slow = 10.093(6) φ_T_slow = 16.2(7) λ_T_slow = 0.128(9)\n",
      "|_____________________________________________________________________________________|\n",
      "Best fit saved in /home/roberto.derenzi/git/mujpy/log/mgml.831.2_3-1_4.1_fit.json.  Log added to mgml.1.2_3-1_4.csv\n",
      "| Run 830: MnBi6Te10 pellet 15.0K 10mT         χᵣ² = 1.011(0.980,1.020)\n",
      "|-----------------------------------------------------------------------------|\n",
      "| mg: A_T_fast = 0.034(4) B_T_fast = 11.1(4) φ_T_fast = 17.2(7) σ_T_fast = -2.4(3)\n",
      "| ml: A_T_slow = 0.170(4) B_T_slow = 10.124(7) φ_T_slow = 17.2(7) λ_T_slow = 0.174(9)\n",
      "|_____________________________________________________________________________________|\n",
      "Best fit saved in /home/roberto.derenzi/git/mujpy/log/mgml.830.2_3-1_4.1_fit.json.  Log added to mgml.1.2_3-1_4.csv\n",
      "| Run 829: MnBi6Te10 pellet 14.0K 10mT         χᵣ² = 1.038(0.980,1.020)\n",
      "|-----------------------------------------------------------------------------|\n",
      "| mg: A_T_fast = 0.033(4) B_T_fast = 11.8(4) φ_T_fast = 16.9(7) σ_T_fast = -2.3(5)\n",
      "| ml: A_T_slow = 0.167(5) B_T_slow = 10.182(8) φ_T_slow = 16.9(7) λ_T_slow = 0.25(1)\n",
      "|_____________________________________________________________________________________|\n",
      "Best fit saved in /home/roberto.derenzi/git/mujpy/log/mgml.829.2_3-1_4.1_fit.json.  Log added to mgml.1.2_3-1_4.csv\n",
      "| Run 828: MnBi6Te10 pellet 13.0K 10mT         χᵣ² = 1.064(0.980,1.020)\n",
      "|-----------------------------------------------------------------------------|\n",
      "| mg: A_T_fast = 0.079(6) B_T_fast = 5.6(4) φ_T_fast = 29(1) σ_T_fast = -4.8(3)\n",
      "| ml: A_T_slow = 0.158(3) B_T_slow = 10.18(2) φ_T_slow = 29(1) λ_T_slow = 0.44(2)\n",
      "|_____________________________________________________________________________________|\n",
      "Best fit saved in /home/roberto.derenzi/git/mujpy/log/mgml.828.2_3-1_4.1_fit.json.  Log added to mgml.1.2_3-1_4.csv\n",
      "| Run 827: MnBi6Te10 pellet 12.0K 10mT         χᵣ² = 1.038(0.980,1.020)\n",
      "|-----------------------------------------------------------------------------|\n",
      "| mg: A_T_fast = 0.10(3) B_T_fast = 0.8(3) φ_T_fast = 47(5) σ_T_fast = -3.2(6)\n",
      "| ml: A_T_slow = 0.181(5) B_T_slow = 10.0(1) φ_T_slow = 47(5) λ_T_slow = 1.72(8)\n",
      "|_____________________________________________________________________________________|\n",
      "Best fit saved in /home/roberto.derenzi/git/mujpy/log/mgml.827.2_3-1_4.1_fit.json.  Log added to mgml.1.2_3-1_4.csv\n",
      "| Run 826: MnBi6Te10 pellet 11.0K 10mT         χᵣ² = 1.035(0.980,1.020)\n",
      "|-----------------------------------------------------------------------------|\n",
      "| mg: A_T_fast = 0.046(4) B_T_fast = 0.10(1) φ_T_fast = 43(4) σ_T_fast = -0.0(2)\n",
      "| ml: A_T_slow = 0.25(2) B_T_slow = 10.7(8) φ_T_slow = 43(4) λ_T_slow = 8.9(5)\n",
      "|_____________________________________________________________________________________|\n",
      "Best fit saved in /home/roberto.derenzi/git/mujpy/log/mgml.826.2_3-1_4.1_fit.json.  Log added to mgml.1.2_3-1_4.csv\n",
      "| Run 825: MnBi6Te10 pellet 10.0K 10mT         χᵣ² = 1.036(0.980,1.020)\n",
      "|-----------------------------------------------------------------------------|\n",
      "| mg: A_T_fast = 0.16(2) B_T_fast = 0.031(5) φ_T_fast = 74(2) σ_T_fast = 0.00(8)\n",
      "| ml: A_T_slow = 0.7(1) B_T_slow = 5.1(8) φ_T_slow = 74(2) λ_T_slow = 16(1)\n",
      "|_____________________________________________________________________________________|\n",
      "Best fit saved in /home/roberto.derenzi/git/mujpy/log/mgml.825.2_3-1_4.1_fit.json.  Log added to mgml.1.2_3-1_4.csv\n",
      "| Run 824: MnBi6Te10 pellet 6.0K 10mT         χᵣ² = 1.010(0.980,1.020)\n",
      "|-----------------------------------------------------------------------------|\n",
      "| mg: A_T_fast = 0.053(3) B_T_fast = 0.09(2) φ_T_fast = 17(8) σ_T_fast = 0.00(8)\n",
      "| ml: A_T_slow = 0.17(3) B_T_slow = 46(5) φ_T_slow = 17(8) λ_T_slow = 28(4)\n",
      "|_____________________________________________________________________________________|\n",
      "Best fit saved in /home/roberto.derenzi/git/mujpy/log/mgml.824.2_3-1_4.1_fit.json.  Log added to mgml.1.2_3-1_4.csv\n",
      "| Run 823: MnBi6Te10 pellet 1.5K 10mT         χᵣ² = 1.006(0.980,1.020)\n",
      "|-----------------------------------------------------------------------------|\n",
      "| mg: A_T_fast = 0.055(2) B_T_fast = 0.04(3) φ_T_fast = -19(7) σ_T_fast = -0.00(3)\n",
      "| ml: A_T_slow = 0.10(1) B_T_slow = 74(3) φ_T_slow = -19(7) λ_T_slow = 20(3)\n",
      "|_____________________________________________________________________________________|\n",
      "Best fit saved in /home/roberto.derenzi/git/mujpy/log/mgml.823.2_3-1_4.1_fit.json.  Log added to mgml.1.2_3-1_4.csv\n"
     ]
    }
   ],
   "source": [
    "print('Model definition from file {}'.format(logpath+dashboard))\n",
    "the_fit = mufit(the_suite,logpath+dashboard, chain=True)"
   ]
  },
  {
   "cell_type": "code",
   "execution_count": 17,
   "metadata": {},
   "outputs": [
    {
     "data": {
      "text/plain": [
       "'\\n        fit component for a Lorentzian decay, \\n        x [mus], A, λ [mus-1]\\n        x need not be self.x (e.g. in plot)\\n        '"
      ]
     },
     "execution_count": 17,
     "metadata": {},
     "output_type": "execute_result"
    }
   ],
   "source": [
    "the_fit._the_model_.bl.__doc__"
   ]
  },
  {
   "cell_type": "code",
   "execution_count": 5,
   "metadata": {},
   "outputs": [
    {
     "name": "stdout",
     "output_type": "stream",
     "text": [
      "Multirun fit animation: toggle pause/resume by clicking on the plot\n"
     ]
    }
   ],
   "source": [
    "fit_plot= mufitplot('0,20000,100',the_fit) # try '0,1000,4,24000,100'"
   ]
  }
 ],
 "metadata": {
  "kernelspec": {
   "display_name": "Python 3",
   "language": "python",
   "name": "python3"
  },
  "language_info": {
   "codemirror_mode": {
    "name": "ipython",
    "version": 3
   },
   "file_extension": ".py",
   "mimetype": "text/x-python",
   "name": "python",
   "nbconvert_exporter": "python",
   "pygments_lexer": "ipython3",
   "version": "3.8.10"
  }
 },
 "nbformat": 4,
 "nbformat_minor": 4
}
