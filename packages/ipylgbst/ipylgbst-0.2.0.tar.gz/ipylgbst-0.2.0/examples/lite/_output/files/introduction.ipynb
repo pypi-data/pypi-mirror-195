{
 "cells": [
  {
   "cell_type": "code",
   "execution_count": 1,
   "id": "879f4b73-57fd-4828-8511-0337efd1f45f",
   "metadata": {},
   "outputs": [],
   "source": [
    "%gui asyncio"
   ]
  },
  {
   "cell_type": "code",
   "execution_count": 2,
   "id": "762d552a-dafd-4b4b-9b0c-8b6612d2415b",
   "metadata": {},
   "outputs": [],
   "source": [
    "import asyncio    \n",
    "from ipylgbst import LegoBoostWidget,LedColor,Port, Sensor\n",
    "from ipywidgets import Output\n",
    "from IPython.display import display\n",
    "\n",
    "colors = [\n",
    "    LedColor.pink,\n",
    "    LedColor.purple,\n",
    "    LedColor.blue,\n",
    "    LedColor.lightblue,\n",
    "    LedColor.cyan,\n",
    "    LedColor.green,\n",
    "    LedColor.yellow,\n",
    "    LedColor.orange,\n",
    "    LedColor.red,\n",
    "]"
   ]
  },
  {
   "cell_type": "code",
   "execution_count": 3,
   "id": "aae633ad-bbb2-45c2-a1ff-5fab18146172",
   "metadata": {},
   "outputs": [
    {
     "data": {
      "application/vnd.jupyter.widget-view+json": {
       "model_id": "2bfdbc539e6944388f5f378d471bafa1",
       "version_major": 2,
       "version_minor": 0
      },
      "text/plain": [
       "Output()"
      ]
     },
     "metadata": {},
     "output_type": "display_data"
    },
    {
     "data": {
      "application/vnd.jupyter.widget-view+json": {
       "model_id": "0fe5d43cbd4c436c84f909e75839675d",
       "version_major": 2,
       "version_minor": 0
      },
      "text/plain": [
       "LegoBoostWidget()"
      ]
     },
     "metadata": {},
     "output_type": "display_data"
    }
   ],
   "source": [
    "boost = LegoBoostWidget()\n",
    "boost.connect()\n",
    "boost"
   ]
  },
  {
   "cell_type": "markdown",
   "id": "618790a2-da4d-4b46-92d7-cd925f5407b5",
   "metadata": {},
   "source": [
    "# Change Color of LED"
   ]
  },
  {
   "cell_type": "code",
   "execution_count": 4,
   "id": "62924267-c398-4274-8780-91739cdacafe",
   "metadata": {},
   "outputs": [
    {
     "data": {
      "application/vnd.jupyter.widget-view+json": {
       "model_id": "4ad57b39f12f4fa28cdb2282f95bc6de",
       "version_major": 2,
       "version_minor": 0
      },
      "text/plain": [
       "Output()"
      ]
     },
     "metadata": {},
     "output_type": "display_data"
    }
   ],
   "source": [
    "\n",
    "out = Output()\n",
    "\n",
    "async def main(lane, log):\n",
    "\n",
    "    for color in colors:\n",
    "        log(f\"set color to {color.value}\")\n",
    "        await lane.set_led(color)\n",
    "        await asyncio.sleep(0.5)\n",
    "        \n",
    "boost.run(main);"
   ]
  },
  {
   "cell_type": "markdown",
   "id": "d8d8c5d9-35b4-419a-be13-083b40888475",
   "metadata": {},
   "source": [
    "# Drive a polygon like path"
   ]
  },
  {
   "cell_type": "code",
   "execution_count": 5,
   "id": "39cfdc45-1d1a-4965-b83c-9048320d6a4d",
   "metadata": {},
   "outputs": [
    {
     "data": {
      "application/vnd.jupyter.widget-view+json": {
       "model_id": "9195991b7b4c4bdcb1cf6cd84125a2f4",
       "version_major": 2,
       "version_minor": 0
      },
      "text/plain": [
       "Output()"
      ]
     },
     "metadata": {},
     "output_type": "display_data"
    }
   ],
   "source": [
    "speed = 26\n",
    "d_forward  = 200\n",
    "d_rotate = 300\n",
    "async def main(lane,log):  \n",
    "    for i in range(4):\n",
    "        await lane.set_led(\"red\")\n",
    "        await lane.motor_angle_multi(angle=d_forward, power_a=speed,power_b=speed)\n",
    "        await lane.set_led(\"green\")\n",
    "        await lane.motor_angle_multi(angle=d_rotate, power_a=speed,power_b=-1.0*speed)\n",
    "        \n",
    "\n",
    "f = boost.run(main)"
   ]
  },
  {
   "cell_type": "markdown",
   "id": "1eb52d1d-3aa6-49d7-97d5-a643a9167196",
   "metadata": {},
   "source": [
    "# Buttons"
   ]
  },
  {
   "cell_type": "code",
   "execution_count": 5,
   "id": "9e9e863c-9b4e-4455-968c-98219c92ea26",
   "metadata": {},
   "outputs": [
    {
     "data": {
      "application/vnd.jupyter.widget-view+json": {
       "model_id": "654f17ba5dd140abb096ba14a6ccd36e",
       "version_major": 2,
       "version_minor": 0
      },
      "text/plain": [
       "HBox(children=(Button(description='Left', style=ButtonStyle()), VBox(children=(Button(description='Up', style=…"
      ]
     },
     "metadata": {},
     "output_type": "display_data"
    }
   ],
   "source": [
    "import ipywidgets as widgets\n",
    "\n",
    "button_up = widgets.Button(description='Up')\n",
    "button_down = widgets.Button(description='Down')\n",
    "button_left = widgets.Button(description='Left')\n",
    "button_right = widgets.Button(description='Right')\n",
    "button_stop  = widgets.Button(description='Stop')\n",
    "\n",
    "box_ud = widgets.VBox([button_up,button_stop,button_down])\n",
    "box = widgets.HBox([button_left,box_ud,button_right])\n",
    "\n",
    "\n",
    "async def on_up(lane, out):\n",
    "    await lane.motor_time_multi(10, 50, 50, wait=False)\n",
    "    \n",
    "async def on_down(lane, out):\n",
    "    await lane.motor_time_multi(10, -50, -50, wait=False)\n",
    "    \n",
    "async def on_left(lane, out):\n",
    "    await lane.motor_time_multi(10, -50, 50, wait=False)\n",
    "    \n",
    "async def on_right(lane, out):\n",
    "    await lane.motor_time_multi(10, 50, -50, wait=False)\n",
    "    \n",
    "async def on_stop(lane, out):\n",
    "    await lane.motor_time_multi(0, 0, 0, wait=False)\n",
    "    \n",
    "button_up.on_click(lambda _: boost.run(on_up))\n",
    "button_down.on_click(lambda _: boost.run(on_down))\n",
    "button_left.on_click(lambda _: boost.run(on_left))\n",
    "button_right.on_click(lambda _: boost.run(on_right))\n",
    "button_stop.on_click(lambda _: boost.run(on_stop))\n",
    "\n",
    "box"
   ]
  },
  {
   "cell_type": "markdown",
   "id": "2d2eea32-e03d-4b86-818f-b20ba2ae42d3",
   "metadata": {},
   "source": [
    "# Sensors"
   ]
  },
  {
   "cell_type": "code",
   "execution_count": 9,
   "id": "7915b860-56c2-4034-9951-09a12ce37b2c",
   "metadata": {},
   "outputs": [
    {
     "data": {
      "application/vnd.jupyter.widget-view+json": {
       "model_id": "86937af0404b48afb447ad2d8a09a6ea",
       "version_major": 2,
       "version_minor": 0
      },
      "text/plain": [
       "VBox(children=(Figure(axes=[Axis(label='time', scale=LinearScale(max=10.0, min=0.0)), Axis(label='distance sen…"
      ]
     },
     "metadata": {},
     "output_type": "display_data"
    },
    {
     "data": {
      "application/vnd.jupyter.widget-view+json": {
       "model_id": "d14ed49bece04da2ad13664f20bb6f7f",
       "version_major": 2,
       "version_minor": 0
      },
      "text/plain": [
       "Output()"
      ]
     },
     "metadata": {},
     "output_type": "display_data"
    }
   ],
   "source": [
    "has_bqplot = True\n",
    "try:\n",
    "    import bqplot\n",
    "except ImportError:\n",
    "    has_bqplot = False\n",
    "\n",
    "if has_bqplot:\n",
    "    from bqplot import pyplot as plt\n",
    "    from bqplot import topo_load\n",
    "    import numpy\n",
    "\n",
    "    duration = 10.0\n",
    "    dt = 0.10\n",
    "    clip_value = 200\n",
    "\n",
    "    sensor_values = []\n",
    "    time_points = []\n",
    "\n",
    "    plt.figure()\n",
    "    plt.plot([], [])\n",
    "    plt.xlim(0,duration)\n",
    "    plt.ylim(0, clip_value)\n",
    "    plt.xlabel(\"time\")\n",
    "    plt.ylabel(\"distance sensor\")\n",
    "    plt.show()\n",
    "\n",
    "    async def poll_distance_sensor(lane, log):\n",
    "        global sensor_values\n",
    "        global time_points\n",
    "        t = 0.0\n",
    "        while t < duration:\n",
    "            time_points.append(t)\n",
    "            d = numpy.nan_to_num(await lane.get_distance(), clip_value)\n",
    "            d = numpy.clip(d,0, clip_value)\n",
    "            sensor_values.append(d)\n",
    "            await asyncio.sleep(dt)\n",
    "            t += dt\n",
    "            plt.plot(time_points, sensor_values)\n",
    "\n",
    "    boost.run(poll_distance_sensor);"
   ]
  },
  {
   "cell_type": "markdown",
   "id": "3117c875-176e-4caa-a918-eadfd6f13f5f",
   "metadata": {},
   "source": [
    "# Concurrent Programs"
   ]
  },
  {
   "cell_type": "code",
   "execution_count": 8,
   "id": "8c8410d3-e1da-4a36-b40e-15a8076611ae",
   "metadata": {},
   "outputs": [
    {
     "data": {
      "application/vnd.jupyter.widget-view+json": {
       "model_id": "7f20eb97f017454c8b195ddf9b115f89",
       "version_major": 2,
       "version_minor": 0
      },
      "text/plain": [
       "Output()"
      ]
     },
     "metadata": {},
     "output_type": "display_data"
    }
   ],
   "source": [
    "\n",
    "async def set_leds(lane, log):\n",
    "\n",
    "    for color in colors:\n",
    "        log(f\"set color to {color.value}\")\n",
    "        await lane.set_led(color)\n",
    "        await asyncio.sleep(0.5)\n",
    "        \n",
    "\n",
    "speed = 26\n",
    "d_forward  = 200\n",
    "d_rotate = 300\n",
    "async def drive(lane,log):  \n",
    "    for i in range(4):\n",
    "        await lane.motor_angle_multi(angle=d_forward, power_a=speed,power_b=speed)\n",
    "        await lane.motor_angle_multi(angle=d_rotate, power_a=speed,power_b=-1.0*speed)\n",
    "\n",
    "\n",
    "boost.run_concurrent([set_leds,drive]);"
   ]
  },
  {
   "cell_type": "code",
   "execution_count": null,
   "id": "9838b14d-8ca8-4719-90a2-9e3b15c01d80",
   "metadata": {},
   "outputs": [],
   "source": []
  },
  {
   "cell_type": "code",
   "execution_count": null,
   "id": "efbbf636-1775-4e7a-a245-cb03f7bb0850",
   "metadata": {},
   "outputs": [],
   "source": []
  },
  {
   "cell_type": "code",
   "execution_count": null,
   "id": "795c627b-a3a6-49c4-aa39-a196e4563450",
   "metadata": {},
   "outputs": [],
   "source": []
  },
  {
   "cell_type": "code",
   "execution_count": null,
   "id": "2c5ceafb-9c65-4094-b099-648446d781a7",
   "metadata": {},
   "outputs": [],
   "source": []
  },
  {
   "cell_type": "code",
   "execution_count": null,
   "id": "a76e7165-a5d3-415e-9be0-593086f92492",
   "metadata": {},
   "outputs": [],
   "source": []
  },
  {
   "cell_type": "code",
   "execution_count": null,
   "id": "57028fb3-9157-4ff3-8d00-f725830a98f8",
   "metadata": {},
   "outputs": [],
   "source": []
  },
  {
   "cell_type": "code",
   "execution_count": null,
   "id": "ef16a62b-7466-4773-95a0-477494309ff9",
   "metadata": {},
   "outputs": [],
   "source": []
  },
  {
   "cell_type": "code",
   "execution_count": null,
   "id": "04515a25-074f-4fcc-bd88-a529bdf4d72f",
   "metadata": {},
   "outputs": [],
   "source": []
  },
  {
   "cell_type": "code",
   "execution_count": null,
   "id": "7710e55a-32b1-4588-a100-420f5f7597b8",
   "metadata": {},
   "outputs": [],
   "source": []
  },
  {
   "cell_type": "code",
   "execution_count": null,
   "id": "1e90f20c-42ba-4cc8-a9e9-bbd62f8da6b4",
   "metadata": {},
   "outputs": [],
   "source": []
  },
  {
   "cell_type": "code",
   "execution_count": null,
   "id": "27c468b6-d416-47c6-b239-ad05035c45fc",
   "metadata": {},
   "outputs": [],
   "source": []
  },
  {
   "cell_type": "code",
   "execution_count": null,
   "id": "997cc3b4-b77d-42bd-b6c4-9d041f31d372",
   "metadata": {},
   "outputs": [],
   "source": []
  },
  {
   "cell_type": "code",
   "execution_count": null,
   "id": "79153844-202c-4881-8d1f-2c25f854f6e2",
   "metadata": {},
   "outputs": [],
   "source": []
  },
  {
   "cell_type": "code",
   "execution_count": null,
   "id": "3e867f6e-2db7-4770-a53e-000eeeb66a51",
   "metadata": {},
   "outputs": [],
   "source": []
  },
  {
   "cell_type": "code",
   "execution_count": null,
   "id": "d1ebae4d-f5f3-414a-b27d-adc21639918a",
   "metadata": {},
   "outputs": [],
   "source": []
  },
  {
   "cell_type": "code",
   "execution_count": null,
   "id": "3c82991e-9153-40c5-9e09-47847849da3f",
   "metadata": {},
   "outputs": [],
   "source": []
  },
  {
   "cell_type": "code",
   "execution_count": null,
   "id": "86fd9cf7-0b30-4948-bd65-39ca5f520409",
   "metadata": {},
   "outputs": [],
   "source": []
  },
  {
   "cell_type": "code",
   "execution_count": null,
   "id": "69d9325f-4b7c-43c3-b45f-4d2dfd419a19",
   "metadata": {},
   "outputs": [],
   "source": []
  },
  {
   "cell_type": "code",
   "execution_count": null,
   "id": "aaebdeda-8145-478e-8c95-300793b362e7",
   "metadata": {},
   "outputs": [],
   "source": []
  },
  {
   "cell_type": "code",
   "execution_count": null,
   "id": "07b81066-f3fa-4ca0-a816-8a461ef36ee0",
   "metadata": {},
   "outputs": [],
   "source": []
  },
  {
   "cell_type": "code",
   "execution_count": null,
   "id": "6499d89c-091a-458f-8807-39242c8965c9",
   "metadata": {},
   "outputs": [],
   "source": []
  },
  {
   "cell_type": "code",
   "execution_count": null,
   "id": "cab589d1-7e9a-4bca-8bd0-049068820812",
   "metadata": {},
   "outputs": [],
   "source": []
  }
 ],
 "metadata": {
  "kernelspec": {
   "display_name": "Python 3 (ipykernel)",
   "language": "python",
   "name": "python3"
  },
  "language_info": {
   "codemirror_mode": {
    "name": "ipython",
    "version": 3
   },
   "file_extension": ".py",
   "mimetype": "text/x-python",
   "name": "python",
   "nbconvert_exporter": "python",
   "pygments_lexer": "ipython3",
   "version": "3.11.0"
  }
 },
 "nbformat": 4,
 "nbformat_minor": 5
}
