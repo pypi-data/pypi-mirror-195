{
 "cells": [
  {
   "cell_type": "markdown",
   "source": [
    "# Setup DLPOLY 5 on Google's Collab"
   ],
   "metadata": {}
  },
  {
   "cell_type": "code",
   "execution_count": null,
   "source": [
    "%%bash\n",
    "\n",
    "git clone https://gitlab.com/ccp5/dl-poly.git\n",
    "\n",
    "cmake -S dl-poly -Bbuild-dlpoly -DCMAKE_BUILD_TYPE=Release  && cmake --build build-dlpoly  \n",
    "cd build-dlpoly/\n",
    "make install\n",
    "cd ../\n",
    "pip install dlpoly-py ase matplotlib py3Dmol ipywidgets"
   ],
   "outputs": [],
   "metadata": {}
  },
  {
   "cell_type": "markdown",
   "source": [
    "if no errors are reported you are all setup. you can see where DLPOLY.Z is installed by executing next cell "
   ],
   "metadata": {}
  },
  {
   "cell_type": "code",
   "execution_count": null,
   "source": [
    "!which DLPOLY.Z"
   ],
   "outputs": [],
   "metadata": {}
  }
 ],
 "metadata": {
  "orig_nbformat": 4,
  "language_info": {
   "name": "python"
  }
 },
 "nbformat": 4,
 "nbformat_minor": 2
}