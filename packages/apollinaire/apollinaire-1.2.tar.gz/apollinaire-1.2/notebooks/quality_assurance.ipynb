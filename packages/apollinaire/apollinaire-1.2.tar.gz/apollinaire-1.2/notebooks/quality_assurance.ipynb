{
 "cells": [
  {
   "cell_type": "markdown",
   "id": "4161cd8b",
   "metadata": {},
   "source": [
    "# Computing Bayes factors\n",
    "\n",
    "This tutorial explains how to use the ``bayes_factor`` function provided with the package in order to assess the quality of the p-mode fits performed with **apollinaire**. \n",
    "\n",
    "WARNING: You must have run the ``first_steps.ipynb`` (**Quickstart** tutorial) notebook before running the code in this tutorial (in order to create the hdf5 files that will be used to compute the Bayes factors). "
   ]
  },
  {
   "cell_type": "code",
   "execution_count": 2,
   "id": "1008a2c7",
   "metadata": {},
   "outputs": [],
   "source": [
    "import apollinaire as apn\n",
    "import apollinaire.timeseries as timeseries\n",
    "import numpy as np\n",
    "import pandas as pd \n",
    "import importlib.resources"
   ]
  },
  {
   "cell_type": "markdown",
   "id": "2f8e3c25",
   "metadata": {},
   "source": [
    "First, we have to read again the data used to perform the fit. We also need to read the a2z DataFrame that **apollinaire** created at the end of the MCMC process."
   ]
  },
  {
   "cell_type": "code",
   "execution_count": 3,
   "id": "52762c38",
   "metadata": {},
   "outputs": [],
   "source": [
    "f = importlib.resources.path (timeseries, 'kplr006603624_52_COR_filt_inp.fits')\n",
    "with f as filename :\n",
    "    hdu = fits.open (filename) [0]\n",
    "data = np.array (hdu.data)\n",
    "t = data[:,0]\n",
    "v = data[:,1]\n",
    "dt = np.median (t[1:] - t[:-1]) * 86400\n",
    "freq, psd = apn.psd.series_to_psd (v, dt=dt, correct_dc=True)\n",
    "freq = freq*1e6\n",
    "psd = psd*1e-6\n",
    "back = np.loadtxt ('background.dat')\n",
    "df_a2z = apn.peakbagging.read_a2z ('modes_param.a2z')"
   ]
  },
  {
   "cell_type": "markdown",
   "id": "1cb2c30a",
   "metadata": {},
   "source": [
    "The Bayes factor is computed considering pairs of modes, even $\\ell = \\{0,2\\}$ or odd $\\ell = \\{1,3\\}$. Let's extract from the DataFrame the mode orders on which we performed the fit."
   ]
  },
  {
   "cell_type": "code",
   "execution_count": 3,
   "id": "a387565d",
   "metadata": {},
   "outputs": [],
   "source": [
    "aux_o = df_a2z.loc[(df_a2z[1]!='a')&(df_a2z[0]!='a')&((df_a2z[1]=='0')|(df_a2z[1]=='1')), 0].astype (np.int_)\n",
    "orders = np.unique (aux_o)"
   ]
  },
  {
   "cell_type": "markdown",
   "id": "252a0077",
   "metadata": {},
   "source": [
    "We now have to loop over the orders to compute the Bayes factor for each pair of modes."
   ]
  },
  {
   "cell_type": "code",
   "execution_count": 4,
   "id": "d5861cf6",
   "metadata": {},
   "outputs": [
    {
     "name": "stdout",
     "output_type": "stream",
     "text": [
      "Window width: 40.0 muHz\n"
     ]
    },
    {
     "name": "stderr",
     "output_type": "stream",
     "text": [
      "100%|██████████| 20480/20480 [00:46<00:00, 443.67it/s]\n"
     ]
    },
    {
     "name": "stdout",
     "output_type": "stream",
     "text": [
      "Window width: 40.0 muHz\n"
     ]
    },
    {
     "name": "stderr",
     "output_type": "stream",
     "text": [
      "100%|██████████| 20480/20480 [00:43<00:00, 471.46it/s]\n"
     ]
    },
    {
     "name": "stdout",
     "output_type": "stream",
     "text": [
      "Window width: 40.0 muHz\n"
     ]
    },
    {
     "name": "stderr",
     "output_type": "stream",
     "text": [
      "100%|██████████| 20480/20480 [00:43<00:00, 468.05it/s]\n"
     ]
    },
    {
     "name": "stdout",
     "output_type": "stream",
     "text": [
      "Window width: 40.0 muHz\n"
     ]
    },
    {
     "name": "stderr",
     "output_type": "stream",
     "text": [
      "100%|██████████| 20480/20480 [00:43<00:00, 472.39it/s]\n"
     ]
    },
    {
     "name": "stdout",
     "output_type": "stream",
     "text": [
      "Window width: 40.0 muHz\n"
     ]
    },
    {
     "name": "stderr",
     "output_type": "stream",
     "text": [
      "100%|██████████| 20480/20480 [00:40<00:00, 501.57it/s]\n"
     ]
    },
    {
     "name": "stdout",
     "output_type": "stream",
     "text": [
      "Window width: 40.0 muHz\n"
     ]
    },
    {
     "name": "stderr",
     "output_type": "stream",
     "text": [
      "100%|██████████| 20480/20480 [00:42<00:00, 477.23it/s]\n"
     ]
    },
    {
     "name": "stdout",
     "output_type": "stream",
     "text": [
      "Window width: 40.0 muHz\n"
     ]
    },
    {
     "name": "stderr",
     "output_type": "stream",
     "text": [
      "100%|██████████| 20480/20480 [00:46<00:00, 440.76it/s]\n"
     ]
    },
    {
     "name": "stdout",
     "output_type": "stream",
     "text": [
      "Window width: 40.0 muHz\n"
     ]
    },
    {
     "name": "stderr",
     "output_type": "stream",
     "text": [
      "100%|██████████| 20480/20480 [00:46<00:00, 440.52it/s]\n"
     ]
    },
    {
     "name": "stdout",
     "output_type": "stream",
     "text": [
      "Window width: 40.0 muHz\n"
     ]
    },
    {
     "name": "stderr",
     "output_type": "stream",
     "text": [
      "100%|██████████| 20480/20480 [00:42<00:00, 476.63it/s]\n"
     ]
    },
    {
     "name": "stdout",
     "output_type": "stream",
     "text": [
      "Window width: 40.0 muHz\n"
     ]
    },
    {
     "name": "stderr",
     "output_type": "stream",
     "text": [
      "100%|██████████| 20480/20480 [00:46<00:00, 443.85it/s]\n"
     ]
    }
   ],
   "source": [
    "bf_array = np.zeros ((orders.size*4, 3))\n",
    "\n",
    "for ii, n in enumerate (orders) :\n",
    "    psw, ps, p0, _, = apn.peakbagging.bayes_factor (freq, psd, back, df_a2z, \n",
    "                                                    n, strategy='order', l02=True, \n",
    "                                                    size_window=40, thin=5, \n",
    "                                                    discard=400, instr='geometric', \n",
    "                                                    hdf5Dir='.', add_ampl=True, \n",
    "                                                    parallelise=True)\n",
    "\n",
    "    lnKsw, lnKs = apn.peakbagging.compute_lnK (psw, ps, p0) \n",
    "    bf_array[ii*4,:] = n, 0, lnKs\n",
    "    bf_array[ii*4+1,:] = n-1, 2, lnKsw\n",
    "\n",
    "    psw, ps, p0, _, = apn.peakbagging.bayes_factor (freq, psd, back, df_a2z, \n",
    "                                                    n, strategy='order', l02=False, \n",
    "                                                    size_window=40, thin=5, \n",
    "                                                    discard=400, instr='geometric', \n",
    "                                                    hdf5Dir='.', add_ampl=True, \n",
    "                                                    parallelise=True)\n",
    "\n",
    "    lnKsw, lnKs = apn.peakbagging.compute_lnK (psw, ps, p0)\n",
    "    bf_array[ii*4+2,:] = n, 1, lnKs\n",
    "    bf_array[ii*4+3,:] = n-1, 3, lnKsw"
   ]
  },
  {
   "cell_type": "markdown",
   "id": "46bfb61d",
   "metadata": {},
   "source": [
    "Let's display the results. Having $\\ln K = \\infty$ means that all tested models were favoured against H0 (and $\\ln K = \\infty$ means that H0 was favoured against every tested model). "
   ]
  },
  {
   "cell_type": "code",
   "execution_count": 5,
   "id": "1dd7ed82",
   "metadata": {},
   "outputs": [
    {
     "data": {
      "text/html": [
       "<div>\n",
       "<style scoped>\n",
       "    .dataframe tbody tr th:only-of-type {\n",
       "        vertical-align: middle;\n",
       "    }\n",
       "\n",
       "    .dataframe tbody tr th {\n",
       "        vertical-align: top;\n",
       "    }\n",
       "\n",
       "    .dataframe thead th {\n",
       "        text-align: right;\n",
       "    }\n",
       "</style>\n",
       "<table border=\"1\" class=\"dataframe\">\n",
       "  <thead>\n",
       "    <tr style=\"text-align: right;\">\n",
       "      <th></th>\n",
       "      <th></th>\n",
       "      <th>ln K</th>\n",
       "    </tr>\n",
       "  </thead>\n",
       "  <tbody>\n",
       "    <tr>\n",
       "      <th>18</th>\n",
       "      <th>0</th>\n",
       "      <td>inf</td>\n",
       "    </tr>\n",
       "    <tr>\n",
       "      <th>17</th>\n",
       "      <th>2</th>\n",
       "      <td>inf</td>\n",
       "    </tr>\n",
       "    <tr>\n",
       "      <th>18</th>\n",
       "      <th>1</th>\n",
       "      <td>inf</td>\n",
       "    </tr>\n",
       "    <tr>\n",
       "      <th>17</th>\n",
       "      <th>3</th>\n",
       "      <td>-inf</td>\n",
       "    </tr>\n",
       "    <tr>\n",
       "      <th>19</th>\n",
       "      <th>0</th>\n",
       "      <td>inf</td>\n",
       "    </tr>\n",
       "    <tr>\n",
       "      <th>18</th>\n",
       "      <th>2</th>\n",
       "      <td>inf</td>\n",
       "    </tr>\n",
       "    <tr>\n",
       "      <th>19</th>\n",
       "      <th>1</th>\n",
       "      <td>inf</td>\n",
       "    </tr>\n",
       "    <tr>\n",
       "      <th>18</th>\n",
       "      <th>3</th>\n",
       "      <td>inf</td>\n",
       "    </tr>\n",
       "    <tr>\n",
       "      <th>20</th>\n",
       "      <th>0</th>\n",
       "      <td>inf</td>\n",
       "    </tr>\n",
       "    <tr>\n",
       "      <th>19</th>\n",
       "      <th>2</th>\n",
       "      <td>inf</td>\n",
       "    </tr>\n",
       "    <tr>\n",
       "      <th>20</th>\n",
       "      <th>1</th>\n",
       "      <td>inf</td>\n",
       "    </tr>\n",
       "    <tr>\n",
       "      <th>19</th>\n",
       "      <th>3</th>\n",
       "      <td>-1.972969</td>\n",
       "    </tr>\n",
       "    <tr>\n",
       "      <th>21</th>\n",
       "      <th>0</th>\n",
       "      <td>inf</td>\n",
       "    </tr>\n",
       "    <tr>\n",
       "      <th>20</th>\n",
       "      <th>2</th>\n",
       "      <td>inf</td>\n",
       "    </tr>\n",
       "    <tr>\n",
       "      <th>21</th>\n",
       "      <th>1</th>\n",
       "      <td>inf</td>\n",
       "    </tr>\n",
       "    <tr>\n",
       "      <th>20</th>\n",
       "      <th>3</th>\n",
       "      <td>inf</td>\n",
       "    </tr>\n",
       "    <tr>\n",
       "      <th>22</th>\n",
       "      <th>0</th>\n",
       "      <td>inf</td>\n",
       "    </tr>\n",
       "    <tr>\n",
       "      <th>21</th>\n",
       "      <th>2</th>\n",
       "      <td>inf</td>\n",
       "    </tr>\n",
       "    <tr>\n",
       "      <th>22</th>\n",
       "      <th>1</th>\n",
       "      <td>inf</td>\n",
       "    </tr>\n",
       "    <tr>\n",
       "      <th>21</th>\n",
       "      <th>3</th>\n",
       "      <td>-0.004883</td>\n",
       "    </tr>\n",
       "  </tbody>\n",
       "</table>\n",
       "</div>"
      ],
      "text/plain": [
       "          ln K\n",
       "18 0       inf\n",
       "17 2       inf\n",
       "18 1       inf\n",
       "17 3      -inf\n",
       "19 0       inf\n",
       "18 2       inf\n",
       "19 1       inf\n",
       "18 3       inf\n",
       "20 0       inf\n",
       "19 2       inf\n",
       "20 1       inf\n",
       "19 3 -1.972969\n",
       "21 0       inf\n",
       "20 2       inf\n",
       "21 1       inf\n",
       "20 3       inf\n",
       "22 0       inf\n",
       "21 2       inf\n",
       "22 1       inf\n",
       "21 3 -0.004883"
      ]
     },
     "metadata": {},
     "output_type": "display_data"
    }
   ],
   "source": [
    "quality = pd.DataFrame (data=bf_array[:,2],\n",
    "                        index=pd.MultiIndex.from_arrays (np.transpose (bf_array[:,:2].astype (np.int_))),\n",
    "                        columns=['ln K'])\n",
    "\n",
    "display (quality)"
   ]
  },
  {
   "cell_type": "code",
   "execution_count": null,
   "id": "6afcff1f",
   "metadata": {},
   "outputs": [],
   "source": []
  }
 ],
 "metadata": {
  "kernelspec": {
   "display_name": "Python 3",
   "language": "python",
   "name": "python3"
  },
  "language_info": {
   "codemirror_mode": {
    "name": "ipython",
    "version": 3
   },
   "file_extension": ".py",
   "mimetype": "text/x-python",
   "name": "python",
   "nbconvert_exporter": "python",
   "pygments_lexer": "ipython3",
   "version": "3.8.8"
  }
 },
 "nbformat": 4,
 "nbformat_minor": 5
}
