{
  "nbformat": 4,
  "nbformat_minor": 0,
  "metadata": {
    "colab": {
      "provenance": [],
      "toc_visible": true,
      "authorship_tag": "ABX9TyPFgEUq2f1jH2lZE4Szn2L9",
      "include_colab_link": true
    },
    "kernelspec": {
      "name": "python3",
      "display_name": "Python 3"
    },
    "language_info": {
      "name": "python"
    }
  },
  "cells": [
    {
      "cell_type": "markdown",
      "metadata": {
        "id": "view-in-github",
        "colab_type": "text"
      },
      "source": [
        "<a href=\"https://colab.research.google.com/github/ykanematsu/reaxfit/blob/master/reaxfit_sample.ipynb\" target=\"_parent\"><img src=\"https://colab.research.google.com/assets/colab-badge.svg\" alt=\"Open In Colab\"/></a>"
      ]
    },
    {
      "cell_type": "markdown",
      "source": [
        "# ReaxFF sample\n",
        "- A sample notebook for [reaxfit](https://github.com/ykanematsu/reaxfit).\n",
        "- Potential energy curve for dissociation of a carbon monoxide on covalt surface.\n",
        "- ~10 min including the installation on colab."
      ],
      "metadata": {
        "id": "I93aGUZNwByx"
      }
    },
    {
      "cell_type": "markdown",
      "source": [
        "## Install"
      ],
      "metadata": {
        "id": "SiJXz0-uv9hi"
      }
    },
    {
      "cell_type": "code",
      "source": [
        "!pip install -q condacolab\n",
        "import condacolab\n",
        "condacolab.install()"
      ],
      "metadata": {
        "colab": {
          "base_uri": "https://localhost:8080/"
        },
        "id": "6B1uNvczTaIQ",
        "outputId": "ddb9605b-0b7b-44bd-920f-2fd652b2c19e"
      },
      "execution_count": 1,
      "outputs": [
        {
          "output_type": "stream",
          "name": "stdout",
          "text": [
            "⏬ Downloading https://github.com/jaimergp/miniforge/releases/latest/download/Mambaforge-colab-Linux-x86_64.sh...\n",
            "📦 Installing...\n",
            "📌 Adjusting configuration...\n",
            "🩹 Patching environment...\n",
            "⏲ Done in 0:00:30\n",
            "🔁 Restarting kernel...\n"
          ]
        }
      ]
    },
    {
      "cell_type": "markdown",
      "source": [
        "wait for session restarting"
      ],
      "metadata": {
        "id": "g1R3s7Tvv2pR"
      }
    },
    {
      "cell_type": "code",
      "execution_count": 1,
      "metadata": {
        "colab": {
          "base_uri": "https://localhost:8080/"
        },
        "id": "j-fdHzzcSI8p",
        "outputId": "439efa71-3540-4a14-cabd-673edd443258"
      },
      "outputs": [
        {
          "output_type": "stream",
          "name": "stdout",
          "text": [
            "/content\n",
            "Cloning into 'reaxfit'...\n",
            "remote: Enumerating objects: 94, done.\u001b[K\n",
            "remote: Counting objects: 100% (94/94), done.\u001b[K\n",
            "remote: Compressing objects: 100% (61/61), done.\u001b[K\n",
            "remote: Total 94 (delta 36), reused 74 (delta 24), pack-reused 0\u001b[K\n",
            "Unpacking objects: 100% (94/94), 23.94 KiB | 662.00 KiB/s, done.\n"
          ]
        }
      ],
      "source": [
        "%cd /content/\n",
        "!git clone https://github.com/ykanematsu/reaxfit"
      ]
    },
    {
      "cell_type": "code",
      "source": [
        "%cd /content/reaxfit/example/CoCO/"
      ],
      "metadata": {
        "colab": {
          "base_uri": "https://localhost:8080/"
        },
        "id": "o04i7rNJSNdF",
        "outputId": "bf5ff78f-4713-419f-fa33-b154c8bc0ffe"
      },
      "execution_count": 2,
      "outputs": [
        {
          "output_type": "stream",
          "name": "stdout",
          "text": [
            "/content/reaxfit/example/CoCO\n"
          ]
        }
      ]
    },
    {
      "cell_type": "code",
      "source": [
        "!mamba install -q -y -c conda-forge lammps\n",
        "!mamba install -q -y scipy numpy"
      ],
      "metadata": {
        "colab": {
          "base_uri": "https://localhost:8080/"
        },
        "id": "STEUjGJvS2XF",
        "outputId": "6afd9371-4b9b-4c13-a7c3-82ca363819ce"
      },
      "execution_count": 3,
      "outputs": [
        {
          "output_type": "stream",
          "name": "stdout",
          "text": [
            "\n",
            "                  __    __    __    __\n",
            "                 /  \\  /  \\  /  \\  /  \\\n",
            "                /    \\/    \\/    \\/    \\\n",
            "███████████████/  /██/  /██/  /██/  /████████████████████████\n",
            "              /  / \\   / \\   / \\   / \\  \\____\n",
            "             /  /   \\_/   \\_/   \\_/   \\    o \\__,\n",
            "            / _/                       \\_____/  `\n",
            "            |/\n",
            "        ███╗   ███╗ █████╗ ███╗   ███╗██████╗  █████╗\n",
            "        ████╗ ████║██╔══██╗████╗ ████║██╔══██╗██╔══██╗\n",
            "        ██╔████╔██║███████║██╔████╔██║██████╔╝███████║\n",
            "        ██║╚██╔╝██║██╔══██║██║╚██╔╝██║██╔══██╗██╔══██║\n",
            "        ██║ ╚═╝ ██║██║  ██║██║ ╚═╝ ██║██████╔╝██║  ██║\n",
            "        ╚═╝     ╚═╝╚═╝  ╚═╝╚═╝     ╚═╝╚═════╝ ╚═╝  ╚═╝\n",
            "\n",
            "        mamba (1.0.0) supported by @QuantStack\n",
            "\n",
            "        GitHub:  https://github.com/mamba-org/mamba\n",
            "        Twitter: https://twitter.com/QuantStack\n",
            "\n",
            "█████████████████████████████████████████████████████████████\n",
            "\n",
            "  Package                   Version  Build                  Channel                   Size\n",
            "────────────────────────────────────────────────────────────────────────────────────────────\n",
            "  Install:\n",
            "────────────────────────────────────────────────────────────────────────────────────────────\n",
            "\n",
            "\u001b[32m  + ase                \u001b[00m      3.22.1  pyhd8ed1ab_1           conda-forge/noarch         2MB\n",
            "\u001b[32m  + brotli             \u001b[00m       1.0.9  h166bdaf_8             conda-forge/linux-64      19kB\n",
            "\u001b[32m  + brotli-bin         \u001b[00m       1.0.9  h166bdaf_8             conda-forge/linux-64      20kB\n",
            "\u001b[32m  + click              \u001b[00m       8.1.3  unix_pyhd8ed1ab_2      conda-forge/noarch        76kB\n",
            "\u001b[32m  + contourpy          \u001b[00m       1.0.7  py38hfbd4bf9_0         conda-forge/linux-64     214kB\n",
            "\u001b[32m  + curl               \u001b[00m      7.88.1  hdc1c0ab_0             conda-forge/linux-64      88kB\n",
            "\u001b[32m  + cycler             \u001b[00m      0.11.0  pyhd8ed1ab_0           conda-forge/noarch        10kB\n",
            "\u001b[32m  + f90wrap            \u001b[00m      0.2.11  py38h0f7f041_1         conda-forge/linux-64     259kB\n",
            "\u001b[32m  + fftw               \u001b[00m      3.3.10  nompi_hf0379b8_106     conda-forge/linux-64       2MB\n",
            "\u001b[32m  + flask              \u001b[00m       2.2.3  pyhd8ed1ab_0           conda-forge/noarch        83kB\n",
            "\u001b[32m  + fonttools          \u001b[00m      4.38.0  py38h0a891b7_1         conda-forge/linux-64       2MB\n",
            "\u001b[32m  + freetype           \u001b[00m      2.12.1  hca18f0e_1             conda-forge/linux-64     626kB\n",
            "\u001b[32m  + gawk               \u001b[00m       5.1.0  h7f98852_0             conda-forge/linux-64       1MB\n",
            "\u001b[32m  + gettext            \u001b[00m      0.21.1  h27087fc_0             conda-forge/linux-64       4MB\n",
            "\u001b[32m  + gsl                \u001b[00m         2.7  he838d99_0             conda-forge/linux-64       3MB\n",
            "\u001b[32m  + hdf4               \u001b[00m      4.2.15  h9772cbc_5             conda-forge/linux-64     974kB\n",
            "\u001b[32m  + hdf5               \u001b[00m      1.12.2  nompi_h4df4325_101     conda-forge/linux-64       3MB\n",
            "\u001b[32m  + importlib-metadata \u001b[00m       6.0.0  pyha770c72_0           conda-forge/noarch        25kB\n",
            "\u001b[32m  + importlib-resources\u001b[00m      5.12.0  pyhd8ed1ab_0           conda-forge/noarch         9kB\n",
            "\u001b[32m  + importlib_resources\u001b[00m      5.12.0  pyhd8ed1ab_0           conda-forge/noarch        31kB\n",
            "\u001b[32m  + itsdangerous       \u001b[00m       2.1.2  pyhd8ed1ab_0           conda-forge/noarch        16kB\n",
            "\u001b[32m  + jinja2             \u001b[00m       3.1.2  pyhd8ed1ab_1           conda-forge/noarch       101kB\n",
            "\u001b[32m  + jpeg               \u001b[00m          9e  h0b41bf4_3             conda-forge/linux-64     240kB\n",
            "\u001b[32m  + kim-api            \u001b[00m       2.3.0  h0911212_0             conda-forge/linux-64     913kB\n",
            "\u001b[32m  + kiwisolver         \u001b[00m       1.4.4  py38h43d8883_1         conda-forge/linux-64      77kB\n",
            "\u001b[32m  + lammps             \u001b[00m  2022.06.23  py38h7e2eae4_mpich_12  conda-forge/linux-64      24MB\n",
            "\u001b[32m  + lcms2              \u001b[00m        2.14  hfd0df8a_1             conda-forge/linux-64     241kB\n",
            "\u001b[32m  + lerc               \u001b[00m       4.0.0  h27087fc_0             conda-forge/linux-64     282kB\n",
            "\u001b[32m  + libaec             \u001b[00m       1.0.6  hcb278e6_1             conda-forge/linux-64      34kB\n",
            "\u001b[32m  + libblas            \u001b[00m       3.9.0  16_linux64_openblas    conda-forge/linux-64      13kB\n",
            "\u001b[32m  + libbrotlicommon    \u001b[00m       1.0.9  h166bdaf_8             conda-forge/linux-64      67kB\n",
            "\u001b[32m  + libbrotlidec       \u001b[00m       1.0.9  h166bdaf_8             conda-forge/linux-64      34kB\n",
            "\u001b[32m  + libbrotlienc       \u001b[00m       1.0.9  h166bdaf_8             conda-forge/linux-64     295kB\n",
            "\u001b[32m  + libcblas           \u001b[00m       3.9.0  16_linux64_openblas    conda-forge/linux-64      13kB\n",
            "\u001b[32m  + libdeflate         \u001b[00m        1.17  h0b41bf4_0             conda-forge/linux-64      65kB\n",
            "\u001b[32m  + libgfortran-ng     \u001b[00m      12.2.0  h69a702a_19            conda-forge/linux-64      23kB\n",
            "\u001b[32m  + libgfortran5       \u001b[00m      12.2.0  h337968e_19            conda-forge/linux-64       2MB\n",
            "\u001b[32m  + libidn2            \u001b[00m       2.3.4  h166bdaf_0             conda-forge/linux-64     160kB\n",
            "\u001b[32m  + liblapack          \u001b[00m       3.9.0  16_linux64_openblas    conda-forge/linux-64      13kB\n",
            "\u001b[32m  + libnetcdf          \u001b[00m       4.9.1  nompi_h34a3ff0_101     conda-forge/linux-64     812kB\n",
            "\u001b[32m  + libopenblas        \u001b[00m      0.3.21  pthreads_h78a6416_3    conda-forge/linux-64      11MB\n",
            "\u001b[32m  + libpng             \u001b[00m      1.6.39  h753d276_0             conda-forge/linux-64     283kB\n",
            "\u001b[32m  + libtiff            \u001b[00m       4.5.0  h6adf6a1_2             conda-forge/linux-64     407kB\n",
            "\u001b[32m  + libunistring       \u001b[00m      0.9.10  h7f98852_0             conda-forge/linux-64       1MB\n",
            "\u001b[32m  + libwebp-base       \u001b[00m       1.2.4  h166bdaf_0             conda-forge/linux-64     413kB\n",
            "\u001b[32m  + libxcb             \u001b[00m        1.13  h7f98852_1004          conda-forge/linux-64     400kB\n",
            "\u001b[32m  + libzip             \u001b[00m       1.9.2  hc929e4a_1             conda-forge/linux-64      99kB\n",
            "\u001b[32m  + markupsafe         \u001b[00m       2.1.2  py38h1de0b5d_0         conda-forge/linux-64      23kB\n",
            "\u001b[32m  + matplotlib-base    \u001b[00m       3.7.0  py38hd6c3c57_0         conda-forge/linux-64       7MB\n",
            "\u001b[32m  + mlip               \u001b[00m         1.0  ha87248a_2             conda-forge/linux-64     635kB\n",
            "\u001b[32m  + mpi                \u001b[00m         1.0  mpich                  conda-forge/linux-64       4kB\n",
            "\u001b[32m  + mpich              \u001b[00m       4.0.3  h846660c_100           conda-forge/linux-64       6MB\n",
            "\u001b[32m  + munkres            \u001b[00m       1.1.4  pyh9f0ad1d_0           conda-forge/noarch        12kB\n",
            "\u001b[32m  + n2p2               \u001b[00m       2.2.0  py38h05ee908_3         conda-forge/linux-64      10MB\n",
            "\u001b[32m  + numpy              \u001b[00m      1.23.5  py38h7042d01_0         conda-forge/linux-64       6MB\n",
            "\u001b[32m  + openjpeg           \u001b[00m       2.5.0  hfec8fc6_2             conda-forge/linux-64     352kB\n",
            "\u001b[32m  + packaging          \u001b[00m        23.0  pyhd8ed1ab_0           conda-forge/noarch        41kB\n",
            "\u001b[32m  + pillow             \u001b[00m       9.4.0  py38hde6dc18_1         conda-forge/linux-64      46MB\n",
            "\u001b[32m  + pkg-config         \u001b[00m      0.29.2  h36c2ea0_1008          conda-forge/linux-64     123kB\n",
            "\u001b[32m  + platformdirs       \u001b[00m       3.0.0  pyhd8ed1ab_0           conda-forge/noarch        17kB\n",
            "\u001b[32m  + plumed             \u001b[00m       2.8.1  nompi_hd7db5c2_100     conda-forge/linux-64       4MB\n",
            "\u001b[32m  + pooch              \u001b[00m       1.7.0  pyhd8ed1ab_0           conda-forge/noarch        51kB\n",
            "\u001b[32m  + pthread-stubs      \u001b[00m         0.4  h36c2ea0_1001          conda-forge/linux-64       6kB\n",
            "\u001b[32m  + pyparsing          \u001b[00m       3.0.9  pyhd8ed1ab_0           conda-forge/noarch        81kB\n",
            "\u001b[32m  + python-dateutil    \u001b[00m       2.8.2  pyhd8ed1ab_0           conda-forge/noarch       246kB\n",
            "\u001b[32m  + quippy             \u001b[00m      0.9.12  py38h6939b76_1         conda-forge/linux-64       5MB\n",
            "\u001b[32m  + scipy              \u001b[00m      1.10.1  py38h10c12cc_0         conda-forge/linux-64      25MB\n",
            "\u001b[32m  + six                \u001b[00m      1.16.0  pyh6c4a22f_0           conda-forge/noarch        14kB\n",
            "\u001b[32m  + typing-extensions  \u001b[00m       4.4.0  hd8ed1ab_0             conda-forge/noarch         9kB\n",
            "\u001b[32m  + typing_extensions  \u001b[00m       4.4.0  pyha770c72_0           conda-forge/noarch        30kB\n",
            "\u001b[32m  + unicodedata2       \u001b[00m      15.0.0  py38h0a891b7_0         conda-forge/linux-64     509kB\n",
            "\u001b[32m  + voro               \u001b[00m       0.4.6  h924138e_0             conda-forge/linux-64     257kB\n",
            "\u001b[32m  + werkzeug           \u001b[00m       2.2.3  pyhd8ed1ab_0           conda-forge/noarch       253kB\n",
            "\u001b[32m  + wget               \u001b[00m      1.20.3  ha35d2d1_1             conda-forge/linux-64     835kB\n",
            "\u001b[32m  + xorg-libxau        \u001b[00m       1.0.9  h7f98852_0             conda-forge/linux-64      13kB\n",
            "\u001b[32m  + xorg-libxdmcp      \u001b[00m       1.1.3  h7f98852_0             conda-forge/linux-64      19kB\n",
            "\u001b[32m  + zipp               \u001b[00m      3.15.0  pyhd8ed1ab_0           conda-forge/noarch        17kB\n",
            "\u001b[32m  + zlib               \u001b[00m      1.2.13  h166bdaf_4             conda-forge/linux-64      94kB\n",
            "\n",
            "  Upgrade:\n",
            "────────────────────────────────────────────────────────────────────────────────────────────\n",
            "\n",
            "\u001b[31m  - ca-certificates    \u001b[00m   2022.9.24  ha878542_0             conda-forge                   \n",
            "\u001b[32m  + ca-certificates    \u001b[00m   2022.12.7  ha878542_0             conda-forge/linux-64     146kB\n",
            "\u001b[31m  - certifi            \u001b[00m   2022.9.24  pyhd8ed1ab_0           conda-forge                   \n",
            "\u001b[32m  + certifi            \u001b[00m   2022.12.7  pyhd8ed1ab_0           conda-forge/noarch       151kB\n",
            "\u001b[31m  - krb5               \u001b[00m      1.19.3  h08a2579_0             conda-forge                   \n",
            "\u001b[32m  + krb5               \u001b[00m      1.20.1  h81ceb04_0             conda-forge/linux-64       1MB\n",
            "\u001b[31m  - libcurl            \u001b[00m      7.86.0  h2283fc2_1             conda-forge                   \n",
            "\u001b[32m  + libcurl            \u001b[00m      7.88.1  hdc1c0ab_0             conda-forge/linux-64     358kB\n",
            "\u001b[31m  - libnghttp2         \u001b[00m      1.47.0  hff17c54_1             conda-forge                   \n",
            "\u001b[32m  + libnghttp2         \u001b[00m      1.52.0  h61bc06f_0             conda-forge/linux-64     622kB\n",
            "\u001b[31m  - openssl            \u001b[00m       3.0.7  h0b41bf4_1             conda-forge                   \n",
            "\u001b[32m  + openssl            \u001b[00m       3.0.8  h0b41bf4_0             conda-forge/linux-64       3MB\n",
            "\n",
            "  Summary:\n",
            "\n",
            "  Install: 78 packages\n",
            "  Upgrade: 6 packages\n",
            "\n",
            "  Total download: 181MB\n",
            "\n",
            "────────────────────────────────────────────────────────────────────────────────────────────\n",
            "\n",
            "Preparing transaction: ...working... done\n",
            "Verifying transaction: ...working... done\n",
            "Executing transaction: ...working... done\n",
            "\n",
            "                  __    __    __    __\n",
            "                 /  \\  /  \\  /  \\  /  \\\n",
            "                /    \\/    \\/    \\/    \\\n",
            "███████████████/  /██/  /██/  /██/  /████████████████████████\n",
            "              /  / \\   / \\   / \\   / \\  \\____\n",
            "             /  /   \\_/   \\_/   \\_/   \\    o \\__,\n",
            "            / _/                       \\_____/  `\n",
            "            |/\n",
            "        ███╗   ███╗ █████╗ ███╗   ███╗██████╗  █████╗\n",
            "        ████╗ ████║██╔══██╗████╗ ████║██╔══██╗██╔══██╗\n",
            "        ██╔████╔██║███████║██╔████╔██║██████╔╝███████║\n",
            "        ██║╚██╔╝██║██╔══██║██║╚██╔╝██║██╔══██╗██╔══██║\n",
            "        ██║ ╚═╝ ██║██║  ██║██║ ╚═╝ ██║██████╔╝██║  ██║\n",
            "        ╚═╝     ╚═╝╚═╝  ╚═╝╚═╝     ╚═╝╚═════╝ ╚═╝  ╚═╝\n",
            "\n",
            "        mamba (1.0.0) supported by @QuantStack\n",
            "\n",
            "        GitHub:  https://github.com/mamba-org/mamba\n",
            "        Twitter: https://twitter.com/QuantStack\n",
            "\n",
            "█████████████████████████████████████████████████████████████\n",
            "\n"
          ]
        }
      ]
    },
    {
      "cell_type": "code",
      "source": [
        "!pip3 install git+https://github.com/ykanematsu/reaxfit.git"
      ],
      "metadata": {
        "colab": {
          "base_uri": "https://localhost:8080/"
        },
        "id": "r-F-s2flUqGo",
        "outputId": "4f49ae93-69b0-4d58-d0f9-376ff464a33a"
      },
      "execution_count": 4,
      "outputs": [
        {
          "output_type": "stream",
          "name": "stdout",
          "text": [
            "Looking in indexes: https://pypi.org/simple, https://us-python.pkg.dev/colab-wheels/public/simple/\n",
            "Collecting git+https://github.com/ykanematsu/reaxfit.git\n",
            "  Cloning https://github.com/ykanematsu/reaxfit.git to /tmp/pip-req-build-r_w70mqi\n",
            "  Running command git clone --filter=blob:none --quiet https://github.com/ykanematsu/reaxfit.git /tmp/pip-req-build-r_w70mqi\n",
            "  Resolved https://github.com/ykanematsu/reaxfit.git to commit 2f379f011e821a430fe5b8a354488c81b1c020b3\n",
            "  Preparing metadata (setup.py) ... \u001b[?25l\u001b[?25hdone\n",
            "Requirement already satisfied: scipy in /usr/local/lib/python3.8/site-packages (from reaxfit==0.0.9) (1.10.1)\n",
            "Requirement already satisfied: numpy in /usr/local/lib/python3.8/site-packages (from reaxfit==0.0.9) (1.23.5)\n",
            "Requirement already satisfied: lammps in /usr/local/lib/python3.8/site-packages (from reaxfit==0.0.9) (2022.6.23)\n",
            "Building wheels for collected packages: reaxfit\n",
            "  Building wheel for reaxfit (setup.py) ... \u001b[?25l\u001b[?25hdone\n",
            "  Created wheel for reaxfit: filename=reaxfit-0.0.9-py3-none-any.whl size=4714 sha256=8173fef6bde99792386ea48901b0f30dd83f81b98d243ab8d74ed19fafb4ce2f\n",
            "  Stored in directory: /tmp/pip-ephem-wheel-cache-volqt_ph/wheels/de/e0/72/9d6921cab8baf75b55a808910cbd070078c5d6db71f30b46b0\n",
            "Successfully built reaxfit\n",
            "Installing collected packages: reaxfit\n",
            "Successfully installed reaxfit-0.0.9\n",
            "\u001b[33mWARNING: Running pip as the 'root' user can result in broken permissions and conflicting behaviour with the system package manager. It is recommended to use a virtual environment instead: https://pip.pypa.io/warnings/venv\u001b[0m\u001b[33m\n",
            "\u001b[0m"
          ]
        }
      ]
    },
    {
      "cell_type": "markdown",
      "source": [
        "## Run Fitting\n"
      ],
      "metadata": {
        "id": "49Ym5JsCwNCF"
      }
    },
    {
      "cell_type": "code",
      "source": [
        "from reaxfit import reaxfit\n",
        "reax=reaxfit()\n",
        "reax.config(workers=2,bound=0.08)\n",
        "@reax.set_eval\n",
        "def my_eval(pes,fns,refE,refF):\n",
        "  pes-=pes[0]\n",
        "  pes*=0.043364124\n",
        "  pes-=refE\n",
        "  return pes@pes\n",
        "result=reax.fit(my_eval)\n",
        "print(\"optimized paramters: \",result.x)"
      ],
      "metadata": {
        "colab": {
          "base_uri": "https://localhost:8080/"
        },
        "id": "AaO7bWoNUq8t",
        "outputId": "06d99616-e824-44e5-d025-7048f9e7f876"
      },
      "execution_count": 21,
      "outputs": [
        {
          "output_type": "stream",
          "name": "stdout",
          "text": [
            "read config.json\n",
            "initial 3 parameters : [2.40512, 6.41168, 2.04134]\n",
            "differential_evolution step 1: f(x)= 0.158476\n",
            "differential_evolution step 2: f(x)= 0.158476\n",
            "differential_evolution step 3: f(x)= 0.081845\n",
            "differential_evolution step 4: f(x)= 0.081845\n",
            "differential_evolution step 5: f(x)= 0.081845\n",
            "differential_evolution step 6: f(x)= 0.0713867\n",
            "differential_evolution step 7: f(x)= 0.0703601\n",
            "differential_evolution step 8: f(x)= 0.0693205\n",
            "differential_evolution step 9: f(x)= 0.0693205\n",
            "differential_evolution step 10: f(x)= 0.0643847\n",
            "differential_evolution step 11: f(x)= 0.0643847\n",
            "differential_evolution step 12: f(x)= 0.0643847\n",
            "differential_evolution step 13: f(x)= 0.0636939\n",
            "differential_evolution step 14: f(x)= 0.0636939\n",
            "differential_evolution step 15: f(x)= 0.0636939\n",
            "differential_evolution step 16: f(x)= 0.0630542\n",
            "differential_evolution step 17: f(x)= 0.0630542\n",
            "differential_evolution step 18: f(x)= 0.0630542\n",
            "differential_evolution step 19: f(x)= 0.0630542\n",
            "differential_evolution step 20: f(x)= 0.0630542\n",
            "Polishing solution with 'L-BFGS-B'\n",
            "optimized paramters:  [2.23298143 6.73816243 2.07445409]\n"
          ]
        }
      ]
    },
    {
      "cell_type": "code",
      "source": [
        "# print the resulting energies\n",
        "pes,fns=reax.reax(reax.x0) # energies for initial parameters\n",
        "pes-=pes[0]\n",
        "pes*=0.043364124\n",
        "E=reax.E # the fitted energies\n",
        "E-=E[0]\n",
        "E*=0.043364124\n",
        "print(E)"
      ],
      "metadata": {
        "colab": {
          "base_uri": "https://localhost:8080/"
        },
        "id": "bunpuHBdblR8",
        "outputId": "afb7dde6-8a84-4277-997a-7cff6e35d2d7"
      },
      "execution_count": 22,
      "outputs": [
        {
          "output_type": "execute_result",
          "data": {
            "text/plain": [
              "array([0.        , 0.1127928 , 0.57606361, 2.33396203, 1.26358668,\n",
              "       1.40526863, 1.05006819])"
            ]
          },
          "metadata": {},
          "execution_count": 22
        }
      ]
    },
    {
      "cell_type": "code",
      "source": [
        "# compare the reference energy (by VASP) and the fitted energy (by ReaxFF)\n",
        "import matplotlib.pyplot as plt\n",
        "plt.rcParams['font.size'] = 14\n",
        "plt.plot(reax.refE,label=\"refE\",lw=2)\n",
        "plt.plot(pes,ls=\":\",label=\"E_before_fit\",color=\"gray\")\n",
        "plt.plot(E,label=\"E\",color=\"red\")\n",
        "plt.legend()\n",
        "plt.show()"
      ],
      "metadata": {
        "id": "fdXXD5zSvJdO",
        "colab": {
          "base_uri": "https://localhost:8080/",
          "height": 269
        },
        "outputId": "7e48b592-625f-4e8a-aca5-4b5091c652a8"
      },
      "execution_count": 24,
      "outputs": [
        {
          "output_type": "display_data",
          "data": {
            "text/plain": [
              "<Figure size 432x288 with 1 Axes>"
            ],
            "image/png": "[encoded data removed]"
          },
          "metadata": {
            "needs_background": "light"
          }
        }
      ]
    },
    {
      "cell_type": "code",
      "source": [],
      "metadata": {
        "id": "m9KTbAuK-OXq"
      },
      "execution_count": null,
      "outputs": []
    }
  ]
}