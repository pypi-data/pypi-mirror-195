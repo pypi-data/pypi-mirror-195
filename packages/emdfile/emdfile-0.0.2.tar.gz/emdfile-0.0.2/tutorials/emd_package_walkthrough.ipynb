{
 "cells": [
  {
   "cell_type": "markdown",
   "id": "c319b309",
   "metadata": {},
   "source": [
    "# `emd` package walkthrough\n",
    "\n",
    "This notebook is a somewhat detailed walkthrough of the user-facing functionality in `emd`. If you're interested in the motivation of the package and a simple demo implementation, check out `emd_intro_example.ipynb`.  For an example of implementation of the `emd.Custom` class in a dependent script or package, see the `sample_custom_class_module`.\n",
    "\n",
    "\n",
    "`emd` is a Python package which defines (1) write and read functions and (2) a set of classes which together interface between long term storage (HDF5 files) and Python runtime objects.  The classes are designed to quickly build, save to, and read from filetree-like representations of data and metadata.  At present the emd class data points to system RAM.  While the focus here is the Python package, along the way we'll arrive at the EMD 1.0 file specification, to which this package provides a Pythonic interface.\n"
   ]
  },
  {
   "cell_type": "markdown",
   "id": "edcf0f4a",
   "metadata": {},
   "source": [
    "## Contents\n",
    "\n",
    "- 1. [Writing simple Python objects](#simplePython)\n",
    "   - 1.1 [numpy arrays](#nparrays)\n",
    "   - 1.2 [Python dicts](#dicts)\n",
    "   - 1.3 [lists](#lists)\n",
    "\n",
    "- 2. [`emd` basics](#emd)\n",
    "   - 2.1 [Trees](#trees)\n",
    "   - 2.2 [Metadata](#metadata)\n",
    "   - 2.3 [Writing and reading a tree](#writingtrees)\n",
    "\n",
    "- 3. [Class types](#classes)\n",
    "   - 3.1 [Array](#array)\n",
    "      - 3.1.1 [as a np.array wrapper](#arraywrapper)\n",
    "      - 3.1.2 [using built-in metadata](#arraymetadata)\n",
    "      - 3.1.3 [array stacks](#arraystacks)\n",
    "   - 3.2 [PointList](#pointlist)\n",
    "   - 3.3 [PointListArray](#pointlistarray)\n",
    "   - 3.4 [Saving unrooted nodes](#savingnodes)\n",
    "\n",
    "- 4. [More on trees](#trees)\n",
    "   - 4.1 [Building trees](#buildingtrees)\n",
    "   - 4.2 [Show and retrieve data](#showtree)\n",
    "   - 4.3 [Cutting and grafting branches](#cutgraft)\n",
    "   - 4.4 [Cut/graft root metadata options](#rootmetadata)\n",
    "      - 4.4.1 [Cutting](#rootmetadatacutting)\n",
    "         - 4.4.1.1 [add pointers](#rootmetadatapointers)\n",
    "         - 4.4.1.2 [add copies](#rootmetadatacopies)\n",
    "         - 4.4.1.3 [no metadata](#rootmetadatanometadata) \n",
    "      - 4.4.2 [Grafting](#graft)\n",
    "         - 4.4.1.1 [root options](#graftrootoptions)\n",
    "\n",
    "- 5. [The EMD 1.0 file](#emdspec)\n",
    "   - 5.1 [Trees and roots](#treesandroots)\n",
    "\n",
    "___"
   ]
  },
  {
   "cell_type": "code",
   "execution_count": 1,
   "id": "640064b3",
   "metadata": {},
   "outputs": [],
   "source": [
    "# %load_ext autoreload\n",
    "# %autoreload 2"
   ]
  },
  {
   "cell_type": "code",
   "execution_count": 3,
   "id": "8178d5e8",
   "metadata": {},
   "outputs": [],
   "source": [
    "## Import emd\n",
    "\n",
    "import emdfile as emd"
   ]
  },
  {
   "cell_type": "code",
   "execution_count": 4,
   "id": "78ef5ef4",
   "metadata": {},
   "outputs": [],
   "source": [
    "## Demo utilities\n",
    "\n",
    "fp = \"/Users/Ben/Desktop/test.h5\"\n",
    "from os.path import exists\n",
    "from os import remove\n",
    "def clean():\n",
    "    if exists(fp):\n",
    "        remove(fp)\n",
    "clean()"
   ]
  },
  {
   "cell_type": "markdown",
   "id": "bc186360",
   "metadata": {},
   "source": [
    "<a id='simplePython'></a>\n",
    "\n",
    "\n",
    "# 1. Writing simple Python objects\n",
    "\n",
    "Write a numpy array, a python dictionary, or a list of those into an HDF5 file.  Read them.  \n",
    "\n",
    "When `emd` writes simple python objects, it wraps them in some `emd` structures behind the scenes.  Reading thus requires pulling the data back out of those objects.  Below we'll just do it.  The structures themselves are discussed in section 2.\n"
   ]
  },
  {
   "cell_type": "markdown",
   "id": "2ed0267c",
   "metadata": {},
   "source": [
    "<a id='nparrays'></a>\n",
    "\n",
    "## 1.1 `np.array`\n"
   ]
  },
  {
   "cell_type": "code",
   "execution_count": 5,
   "id": "fd4b8ab4",
   "metadata": {},
   "outputs": [],
   "source": [
    "clean()"
   ]
  },
  {
   "cell_type": "code",
   "execution_count": 6,
   "id": "708a4bb6",
   "metadata": {},
   "outputs": [],
   "source": [
    "import numpy as np"
   ]
  },
  {
   "cell_type": "code",
   "execution_count": 7,
   "id": "0c7721ac",
   "metadata": {},
   "outputs": [
    {
     "data": {
      "text/plain": [
       "array([[ 0,  1,  2,  3],\n",
       "       [ 4,  5,  6,  7],\n",
       "       [ 8,  9, 10, 11]])"
      ]
     },
     "execution_count": 7,
     "metadata": {},
     "output_type": "execute_result"
    }
   ],
   "source": [
    "# Make a numpy array\n",
    "\n",
    "ar = np.arange(12).reshape((3,4))\n",
    "ar"
   ]
  },
  {
   "cell_type": "code",
   "execution_count": 8,
   "id": "1b901dc4",
   "metadata": {},
   "outputs": [],
   "source": [
    "# Save it\n",
    "\n",
    "emd.save(fp, ar)"
   ]
  },
  {
   "cell_type": "code",
   "execution_count": 9,
   "id": "e00a2e1a",
   "metadata": {},
   "outputs": [],
   "source": [
    "# Read it\n",
    "\n",
    "loaded_data = emd.read(fp)"
   ]
  },
  {
   "cell_type": "code",
   "execution_count": 10,
   "id": "968f08a5",
   "metadata": {},
   "outputs": [
    {
     "data": {
      "text/plain": [
       "Root( A Node called 'np.array', containing the following top-level objects in its tree:\n",
       "\n",
       "          np.array \t\t (Array)\n",
       ")"
      ]
     },
     "execution_count": 10,
     "metadata": {},
     "output_type": "execute_result"
    }
   ],
   "source": [
    "# The loaded object is an emd `Root`\n",
    "\n",
    "loaded_data"
   ]
  },
  {
   "cell_type": "code",
   "execution_count": 11,
   "id": "a1b6e974",
   "metadata": {},
   "outputs": [],
   "source": [
    "# We can access the data like this -\n",
    "\n",
    "loaded_array = loaded_data.tree('np.array')"
   ]
  },
  {
   "cell_type": "code",
   "execution_count": 12,
   "id": "d72406c7",
   "metadata": {},
   "outputs": [
    {
     "data": {
      "text/plain": [
       "Array( A 2-dimensional array of shape (3, 4) called 'np.array',\n",
       "       with dimensions:\n",
       "\n",
       "       dim0 = [0,1,...] pixels\n",
       "       dim1 = [0,1,...] pixels\n",
       ")"
      ]
     },
     "execution_count": 12,
     "metadata": {},
     "output_type": "execute_result"
    }
   ],
   "source": [
    "# Which gives us an emd `Array` object\n",
    "\n",
    "loaded_array"
   ]
  },
  {
   "cell_type": "code",
   "execution_count": 13,
   "id": "59ae8f3d",
   "metadata": {},
   "outputs": [
    {
     "data": {
      "text/plain": [
       "array([[ 0,  1,  2,  3],\n",
       "       [ 4,  5,  6,  7],\n",
       "       [ 8,  9, 10, 11]])"
      ]
     },
     "execution_count": 13,
     "metadata": {},
     "output_type": "execute_result"
    }
   ],
   "source": [
    "# with our numpy array living here\n",
    "\n",
    "loaded_array.data"
   ]
  },
  {
   "cell_type": "code",
   "execution_count": 14,
   "id": "9091c03c",
   "metadata": {},
   "outputs": [],
   "source": [
    "# Confirm the save and loaded arrays are identical\n",
    "\n",
    "assert(np.array_equal( ar , loaded_array.data ))"
   ]
  },
  {
   "cell_type": "markdown",
   "id": "47dd2548",
   "metadata": {},
   "source": [
    "<a id='dicts'></a>\n",
    "\n",
    "## 1.2 `dict`s"
   ]
  },
  {
   "cell_type": "code",
   "execution_count": 15,
   "id": "061fe6b5",
   "metadata": {},
   "outputs": [],
   "source": [
    "clean()"
   ]
  },
  {
   "cell_type": "code",
   "execution_count": 16,
   "id": "6d099624",
   "metadata": {},
   "outputs": [
    {
     "data": {
      "text/plain": [
       "{'hey': 1, 'diddlediddle': 1, 'thecat': 2, 'andthe': 3, 'fiddle': 5}"
      ]
     },
     "execution_count": 16,
     "metadata": {},
     "output_type": "execute_result"
    }
   ],
   "source": [
    "# Make a dictionary\n",
    "\n",
    "very_important_knowledge = {\n",
    "    'hey' : 1,\n",
    "    'diddlediddle' : 1,\n",
    "    'thecat' : 2,\n",
    "    'andthe' : 3,\n",
    "    'fiddle' : 5\n",
    "}\n",
    "\n",
    "very_important_knowledge"
   ]
  },
  {
   "cell_type": "code",
   "execution_count": 17,
   "id": "0a7e3682",
   "metadata": {},
   "outputs": [],
   "source": [
    "# Save it\n",
    "\n",
    "emd.save(fp, very_important_knowledge)"
   ]
  },
  {
   "cell_type": "code",
   "execution_count": 18,
   "id": "0c6f53e7",
   "metadata": {},
   "outputs": [],
   "source": [
    "# Load it\n",
    "\n",
    "loaded_data = emd.read(fp)"
   ]
  },
  {
   "cell_type": "code",
   "execution_count": 19,
   "id": "65df3a85",
   "metadata": {},
   "outputs": [
    {
     "data": {
      "text/plain": [
       "Root( A Node called 'dictionary', containing the following top-level objects in its tree:\n",
       "\n",
       ")"
      ]
     },
     "execution_count": 19,
     "metadata": {},
     "output_type": "execute_result"
    }
   ],
   "source": [
    "# The loaded data is and emd `Root`\n",
    "\n",
    "loaded_data"
   ]
  },
  {
   "cell_type": "code",
   "execution_count": 20,
   "id": "c477ab34",
   "metadata": {},
   "outputs": [
    {
     "data": {
      "text/plain": [
       "{'dictionary': Metadata( A Metadata instance called 'dictionary', containing the following fields:\n",
       " \n",
       "           andthe:         3\n",
       "           diddlediddle:   1\n",
       "           fiddle:         5\n",
       "           hey:            1\n",
       "           thecat:         2\n",
       " )}"
      ]
     },
     "execution_count": 20,
     "metadata": {},
     "output_type": "execute_result"
    }
   ],
   "source": [
    "# Because we saved a dictionary, it was saved as metadata\n",
    "\n",
    "loaded_data.metadata"
   ]
  },
  {
   "cell_type": "code",
   "execution_count": 21,
   "id": "d008264a",
   "metadata": {},
   "outputs": [
    {
     "data": {
      "text/plain": [
       "Metadata( A Metadata instance called 'dictionary', containing the following fields:\n",
       "\n",
       "          andthe:         3\n",
       "          diddlediddle:   1\n",
       "          fiddle:         5\n",
       "          hey:            1\n",
       "          thecat:         2\n",
       ")"
      ]
     },
     "execution_count": 21,
     "metadata": {},
     "output_type": "execute_result"
    }
   ],
   "source": [
    "# Retrieve the metadata\n",
    "\n",
    "md = loaded_data.metadata['dictionary']\n",
    "\n",
    "md"
   ]
  },
  {
   "cell_type": "code",
   "execution_count": 22,
   "id": "b1176327",
   "metadata": {},
   "outputs": [
    {
     "data": {
      "text/plain": [
       "2"
      ]
     },
     "execution_count": 22,
     "metadata": {},
     "output_type": "execute_result"
    }
   ],
   "source": [
    "# This emd `Metadata` object can be sliced into like a regular Python dict\n",
    "\n",
    "md['thecat']"
   ]
  },
  {
   "cell_type": "code",
   "execution_count": 23,
   "id": "b4da7e57",
   "metadata": {},
   "outputs": [],
   "source": [
    "# And contains the same data as the original dictionary\n",
    "\n",
    "assert( very_important_knowledge == loaded_data.metadata['dictionary']._params )"
   ]
  },
  {
   "cell_type": "markdown",
   "id": "3384ae96",
   "metadata": {},
   "source": [
    "<a id='lists'></a>\n",
    "\n",
    "## 1.3 `list`s"
   ]
  },
  {
   "cell_type": "code",
   "execution_count": 24,
   "id": "2fcac94b",
   "metadata": {},
   "outputs": [],
   "source": [
    "clean()"
   ]
  },
  {
   "cell_type": "code",
   "execution_count": 25,
   "id": "5d3b9995",
   "metadata": {},
   "outputs": [],
   "source": [
    "# Make some data\n",
    "\n",
    "ar1 = np.zeros((4,5))\n",
    "ar2 = np.eye(3)\n",
    "dic = {'cow':'moo','tuple':(1,2,3),'array':np.arange(9).reshape((3,3))}"
   ]
  },
  {
   "cell_type": "code",
   "execution_count": 26,
   "id": "c4767b04",
   "metadata": {},
   "outputs": [],
   "source": [
    "# Save it\n",
    "\n",
    "emd.save(fp, [ar1,ar2,dic])"
   ]
  },
  {
   "cell_type": "code",
   "execution_count": 27,
   "id": "9313b630",
   "metadata": {},
   "outputs": [],
   "source": [
    "# Load it\n",
    "\n",
    "loaded_data = emd.read(fp)"
   ]
  },
  {
   "cell_type": "code",
   "execution_count": 28,
   "id": "0ccbee36",
   "metadata": {},
   "outputs": [
    {
     "data": {
      "text/plain": [
       "Root( A Node called 'np.array', containing the following top-level objects in its tree:\n",
       "\n",
       "          np.array_0 \t\t (Array)\n",
       "          np.array_1 \t\t (Array)\n",
       ")"
      ]
     },
     "execution_count": 28,
     "metadata": {},
     "output_type": "execute_result"
    }
   ],
   "source": [
    "# All the loaded data lives in a Root, whose name is determined by the first entry in the list\n",
    "\n",
    "loaded_data"
   ]
  },
  {
   "cell_type": "code",
   "execution_count": 29,
   "id": "c10ec11c",
   "metadata": {},
   "outputs": [],
   "source": [
    "# The arrays are accessible via  `.tree`\n",
    "\n",
    "l_ar1 = loaded_data.tree('np.array_0')\n",
    "l_ar2 = loaded_data.tree('np.array_1')\n",
    "\n",
    "assert(np.array_equal( ar1, l_ar1.data ))\n",
    "assert(np.array_equal( ar2, l_ar2.data ))"
   ]
  },
  {
   "cell_type": "code",
   "execution_count": 30,
   "id": "d9441468",
   "metadata": {},
   "outputs": [
    {
     "data": {
      "text/plain": [
       "{'dictionary_0': Metadata( A Metadata instance called 'dictionary_0', containing the following fields:\n",
       " \n",
       "           array:   2D-array\n",
       "           cow:     moo\n",
       "           tuple:   (1, 2, 3)\n",
       " )}"
      ]
     },
     "execution_count": 30,
     "metadata": {},
     "output_type": "execute_result"
    }
   ],
   "source": [
    "# And the dictionary is accessible as metadata\n",
    "\n",
    "loaded_data.metadata"
   ]
  },
  {
   "cell_type": "code",
   "execution_count": 31,
   "id": "62473011",
   "metadata": {},
   "outputs": [
    {
     "data": {
      "text/plain": [
       "Metadata( A Metadata instance called 'dictionary_0', containing the following fields:\n",
       "\n",
       "          array:   2D-array\n",
       "          cow:     moo\n",
       "          tuple:   (1, 2, 3)\n",
       ")"
      ]
     },
     "execution_count": 31,
     "metadata": {},
     "output_type": "execute_result"
    }
   ],
   "source": [
    "md = loaded_data.metadata['dictionary_0']\n",
    "\n",
    "md"
   ]
  },
  {
   "cell_type": "code",
   "execution_count": 32,
   "id": "be1fd64c",
   "metadata": {},
   "outputs": [
    {
     "data": {
      "text/plain": [
       "array([[0, 1, 2],\n",
       "       [3, 4, 5],\n",
       "       [6, 7, 8]])"
      ]
     },
     "execution_count": 32,
     "metadata": {},
     "output_type": "execute_result"
    }
   ],
   "source": [
    "md['array']"
   ]
  },
  {
   "cell_type": "code",
   "execution_count": 33,
   "id": "fa825603",
   "metadata": {},
   "outputs": [],
   "source": [
    "# Check that everything worked:\n",
    "\n",
    "for k,v in dic.items():\n",
    "    assert(k in md.keys)\n",
    "    if isinstance(v,np.ndarray): assert(np.array_equal(v,md[k]))\n",
    "    else: assert(v == md[k])"
   ]
  },
  {
   "cell_type": "markdown",
   "id": "70912ca8",
   "metadata": {},
   "source": [
    "<a id='emd'></a>\n",
    "\n",
    "# 2 `emd` basics\n",
    "\n",
    "\n",
    "Conceptually, the core structure of `emd` is a rooted tree.  I think the easiest way to [think about this is visually](https://www.youtube.com/watch?v=ykwqXuMPsoc), but in words, I mean this in the usual computer-science-y sort of sense: a set of nested containers, plus data in those containers.  In a computer filesystem, the containers are directories, and the data are files. In HDF5, they blur those lines a little: there are H5 groups, which are containers, and H5 attributes, which are (usually small bits of) data, and H5 datasets, which are both containers and data.  In each case, filesystems and HDF5 files, these are 'trees' in the sense that each container can be thought of as a node point on a directed graph, with each contained item represented as a child node.  The resulting trees are 'rooted' in the sense that each such structure must have a single highest-level container, corresponding to a single node point at the base of the graphical tree, the root node.\n",
    "\n",
    "\n",
    "If HDF5 is guilty of blurring the lines between containers and data, in EMD we blur the lines even more: there's just one thing, `emd` nodes, and each may store data in addition to containing any number of downstream nodes.  The specific data stored in any given node is determined by its emd data type.  The data types are described in Section 3.  In this section we show how to build emd trees, how to read and write them, and how to add metadata."
   ]
  },
  {
   "cell_type": "markdown",
   "id": "bf66a2ec",
   "metadata": {},
   "source": [
    "<a id='trees'></a>\n",
    "\n",
    "## 2.1 Trees\n"
   ]
  },
  {
   "cell_type": "code",
   "execution_count": 34,
   "id": "70152581",
   "metadata": {},
   "outputs": [],
   "source": [
    "# A rooted tree should have a root!\n",
    "\n",
    "root = emd.Root( name='groot' )"
   ]
  },
  {
   "cell_type": "code",
   "execution_count": 35,
   "id": "01c7250e",
   "metadata": {},
   "outputs": [
    {
     "data": {
      "text/plain": [
       "Root( A Node called 'groot', containing the following top-level objects in its tree:\n",
       "\n",
       ")"
      ]
     },
     "execution_count": 35,
     "metadata": {},
     "output_type": "execute_result"
    }
   ],
   "source": [
    "root"
   ]
  },
  {
   "cell_type": "code",
   "execution_count": 36,
   "id": "37ebb406",
   "metadata": {},
   "outputs": [
    {
     "data": {
      "text/plain": [
       "Root( A Node called 'groot', containing the following top-level objects in its tree:\n",
       "\n",
       "          node \t\t (Node)\n",
       "          lode \t\t (Node)\n",
       "          abode \t\t (Node)\n",
       ")"
      ]
     },
     "execution_count": 36,
     "metadata": {},
     "output_type": "execute_result"
    }
   ],
   "source": [
    "# add some nodes\n",
    "\n",
    "node1 = emd.Node( name='node' )\n",
    "node2 = emd.Node( name='lode' )\n",
    "node3 = emd.Node( name='abode' )\n",
    "\n",
    "root.tree(node1)\n",
    "root.tree(node2)\n",
    "root.tree(node3)\n",
    "\n",
    "root"
   ]
  },
  {
   "cell_type": "code",
   "execution_count": 37,
   "id": "94eba88c",
   "metadata": {},
   "outputs": [
    {
     "name": "stdout",
     "output_type": "stream",
     "text": [
      "/\n",
      "|--node\n",
      "|--lode\n",
      "|--abode\n"
     ]
    }
   ],
   "source": [
    "root.tree()"
   ]
  },
  {
   "cell_type": "code",
   "execution_count": 38,
   "id": "e0f17275",
   "metadata": {},
   "outputs": [
    {
     "data": {
      "text/plain": [
       "Node( A Node called 'abode', containing the following top-level objects in its tree:\n",
       "\n",
       ")"
      ]
     },
     "execution_count": 38,
     "metadata": {},
     "output_type": "execute_result"
    }
   ],
   "source": [
    "root.tree('abode')"
   ]
  },
  {
   "cell_type": "code",
   "execution_count": 39,
   "id": "8b3b6999",
   "metadata": {},
   "outputs": [],
   "source": [
    "# You may have noticed that the `.tree` method is overloaded - i.e.\n",
    "# it has a few different behaviors, depending on what we pass to it\n",
    "\n",
    "# If we give it...\n",
    "#                 ...a node, it adds that node to the calling object's tree\n",
    "#                 ...nothing, it prints the tree\n",
    "#                 ...a string, it returns the node of that name"
   ]
  },
  {
   "cell_type": "code",
   "execution_count": 40,
   "id": "d5afe8c4",
   "metadata": {},
   "outputs": [
    {
     "name": "stdout",
     "output_type": "stream",
     "text": [
      "/\n",
      "|--node\n",
      "|\t|--snowed\n",
      "|\t|--flowed\n",
      "|\t|--crowed\n",
      "|--lode\n",
      "|\t|--load\n",
      "|\t\t|--glowed\n",
      "|\t\t\t|--reload\n",
      "|--abode\n"
     ]
    }
   ],
   "source": [
    "# We can add to a node's tree the same way we just added to the root's tree\n",
    "\n",
    "node4 = emd.Node( name='snowed' )\n",
    "node5 = emd.Node( name='flowed' )\n",
    "node6 = emd.Node( name='crowed' )\n",
    "\n",
    "node7 = emd.Node( name='load' )\n",
    "node8 = emd.Node( name='glowed' )\n",
    "node9 = emd.Node( name='reload' )\n",
    "\n",
    "\n",
    "node1.tree(node4)\n",
    "node1.tree(node5)\n",
    "node1.tree(node6)\n",
    "\n",
    "node2.tree(node7)\n",
    "node7.tree(node8)\n",
    "node8.tree(node9)\n",
    "\n",
    "\n",
    "root.tree()"
   ]
  },
  {
   "cell_type": "code",
   "execution_count": 41,
   "id": "423ab02f",
   "metadata": {},
   "outputs": [
    {
     "name": "stdout",
     "output_type": "stream",
     "text": [
      "/\n",
      "|--load\n",
      "\t|--glowed\n",
      "\t\t|--reload\n"
     ]
    }
   ],
   "source": [
    "# from a non-root node, we can display the branch below this node...\n",
    "\n",
    "node2.tree()"
   ]
  },
  {
   "cell_type": "code",
   "execution_count": 42,
   "id": "02322a57",
   "metadata": {},
   "outputs": [
    {
     "name": "stdout",
     "output_type": "stream",
     "text": [
      "/\n",
      "|--node\n",
      "|\t|--snowed\n",
      "|\t|--flowed\n",
      "|\t|--crowed\n",
      "|--lode\n",
      "|\t|--load\n",
      "|\t\t|--glowed\n",
      "|\t\t\t|--reload\n",
      "|--abode\n"
     ]
    }
   ],
   "source": [
    "# ...or the whole tree from root\n",
    "\n",
    "node2.tree(show=True)"
   ]
  },
  {
   "cell_type": "code",
   "execution_count": 43,
   "id": "fcb9e449",
   "metadata": {},
   "outputs": [
    {
     "name": "stdout",
     "output_type": "stream",
     "text": [
      "/\n",
      "|--node\n",
      "|\t|--snowed\n",
      "|\t|--flowed\n",
      "|\t|--crowed\n",
      "|--lode\n",
      "|\t|--load\n",
      "|\t\t|--glowed\n",
      "|\t\t\t|--reload\n",
      "|--abode\n"
     ]
    }
   ],
   "source": [
    "# We can retrieve objects using '/' delimiters\n",
    "\n",
    "root.tree()"
   ]
  },
  {
   "cell_type": "code",
   "execution_count": 44,
   "id": "ce626fac",
   "metadata": {},
   "outputs": [
    {
     "data": {
      "text/plain": [
       "Node( A Node called 'load', containing the following top-level objects in its tree:\n",
       "\n",
       "          glowed \t\t (Node)\n",
       ")"
      ]
     },
     "execution_count": 44,
     "metadata": {},
     "output_type": "execute_result"
    }
   ],
   "source": [
    "root.tree('lode/load')"
   ]
  },
  {
   "cell_type": "code",
   "execution_count": 45,
   "id": "2446e150",
   "metadata": {},
   "outputs": [
    {
     "name": "stdout",
     "output_type": "stream",
     "text": [
      "/\n",
      "|--load\n",
      "\t|--glowed\n",
      "\t\t|--reload\n"
     ]
    }
   ],
   "source": [
    "# This works from any node\n",
    "\n",
    "node2.tree()"
   ]
  },
  {
   "cell_type": "code",
   "execution_count": 46,
   "id": "dbb88027",
   "metadata": {},
   "outputs": [
    {
     "data": {
      "text/plain": [
       "Node( A Node called 'reload', containing the following top-level objects in its tree:\n",
       "\n",
       ")"
      ]
     },
     "execution_count": 46,
     "metadata": {},
     "output_type": "execute_result"
    }
   ],
   "source": [
    "node2.tree('load/glowed/reload')"
   ]
  },
  {
   "cell_type": "code",
   "execution_count": 47,
   "id": "950947b0",
   "metadata": {},
   "outputs": [
    {
     "name": "stdout",
     "output_type": "stream",
     "text": [
      "/\n",
      "|--node\n",
      "|\t|--snowed\n",
      "|\t|--flowed\n",
      "|\t|--crowed\n",
      "|--lode\n",
      "|\t|--load\n",
      "|\t\t|--glowed\n",
      "|\t\t\t|--reload\n",
      "|--abode\n"
     ]
    }
   ],
   "source": [
    "# We can also retrieve objects using a root path even if \n",
    "# we're calling .tree from a downstream node, by using a leading '/'\n",
    "\n",
    "node2.tree(show=True)"
   ]
  },
  {
   "cell_type": "code",
   "execution_count": 48,
   "id": "44e5541c",
   "metadata": {},
   "outputs": [
    {
     "data": {
      "text/plain": [
       "Node( A Node called 'snowed', containing the following top-level objects in its tree:\n",
       "\n",
       ")"
      ]
     },
     "execution_count": 48,
     "metadata": {},
     "output_type": "execute_result"
    }
   ],
   "source": [
    "node2.tree('/node/snowed')"
   ]
  },
  {
   "cell_type": "code",
   "execution_count": 49,
   "id": "b38700cb",
   "metadata": {},
   "outputs": [],
   "source": [
    "# The root node of a tree is accessible from any node with the .root property\n",
    "\n",
    "assert(root == root.root == node1.root == node2.root == node3.root == node4.root == node5.root)"
   ]
  },
  {
   "cell_type": "markdown",
   "id": "a08ffa8c",
   "metadata": {},
   "source": [
    "<a id='writingtrees'></a>\n",
    "\n",
    "## 2.2 Writing and reading a tree"
   ]
  },
  {
   "cell_type": "code",
   "execution_count": 50,
   "id": "fd4ca882",
   "metadata": {},
   "outputs": [],
   "source": [
    "clean()"
   ]
  },
  {
   "cell_type": "code",
   "execution_count": 51,
   "id": "b5021f9a",
   "metadata": {},
   "outputs": [],
   "source": [
    "# save a tree to an HDF5 file\n",
    "\n",
    "emd.save(fp, root)"
   ]
  },
  {
   "cell_type": "code",
   "execution_count": 52,
   "id": "0582af18",
   "metadata": {},
   "outputs": [],
   "source": [
    "# load it\n",
    "\n",
    "loaded_data = emd.read(fp)"
   ]
  },
  {
   "cell_type": "code",
   "execution_count": 53,
   "id": "ffad454b",
   "metadata": {},
   "outputs": [
    {
     "data": {
      "text/plain": [
       "Root( A Node called 'groot', containing the following top-level objects in its tree:\n",
       "\n",
       "          abode \t\t (Node)\n",
       "          lode \t\t (Node)\n",
       "          node \t\t (Node)\n",
       ")"
      ]
     },
     "execution_count": 53,
     "metadata": {},
     "output_type": "execute_result"
    }
   ],
   "source": [
    "# look inside\n",
    "\n",
    "loaded_data"
   ]
  },
  {
   "cell_type": "code",
   "execution_count": 54,
   "id": "c37e99c4",
   "metadata": {},
   "outputs": [
    {
     "name": "stdout",
     "output_type": "stream",
     "text": [
      "/\n",
      "|--abode\n",
      "|--lode\n",
      "|\t|--load\n",
      "|\t\t|--glowed\n",
      "|\t\t\t|--reload\n",
      "|--node\n",
      "\t|--crowed\n",
      "\t|--flowed\n",
      "\t|--snowed\n"
     ]
    }
   ],
   "source": [
    "loaded_data.tree()"
   ]
  },
  {
   "cell_type": "code",
   "execution_count": 55,
   "id": "78c9c321",
   "metadata": {},
   "outputs": [
    {
     "name": "stdout",
     "output_type": "stream",
     "text": [
      "/\n",
      "|--groot\n",
      "\t|--abode\n",
      "\t|--lode\n",
      "\t|\t|--load\n",
      "\t|\t\t|--glowed\n",
      "\t|\t\t\t|--reload\n",
      "\t|--node\n",
      "\t\t|--crowed\n",
      "\t\t|--flowed\n",
      "\t\t|--snowed\n",
      "\n",
      "\n"
     ]
    }
   ],
   "source": [
    "# You can print the tree of a file to screen without loading it with print_h5_tree()\n",
    "\n",
    "emd.print_h5_tree(fp)"
   ]
  },
  {
   "cell_type": "markdown",
   "id": "223742d9",
   "metadata": {},
   "source": [
    "<a id='metadata'></a>\n",
    "\n",
    "## 2.2 Metadata\n",
    "\n",
    "\n",
    "`emd` enables arbitrarily many Python dict-like objects to be stored with each data node.  Those objects are the emd Metadata class, and support normal dictionary string key access."
   ]
  },
  {
   "cell_type": "code",
   "execution_count": 56,
   "id": "84dd377f",
   "metadata": {},
   "outputs": [
    {
     "data": {
      "text/plain": [
       "Metadata( A Metadata instance called 'some_metadata', containing the following fields:\n",
       "\n",
       ")"
      ]
     },
     "execution_count": 56,
     "metadata": {},
     "output_type": "execute_result"
    }
   ],
   "source": [
    "# Metadata is represented in emd by its `Metadata` class\n",
    "\n",
    "metadata = emd.Metadata( name='some_metadata' )\n",
    "\n",
    "metadata"
   ]
  },
  {
   "cell_type": "code",
   "execution_count": 57,
   "id": "376dab9f",
   "metadata": {},
   "outputs": [],
   "source": [
    "# These work like Python dictionaries -\n",
    "# we can slice into them to either get or set items with square brackets and string keys\n",
    "\n",
    "metadata['key'] = 'value'\n",
    "metadata['answer'] = 42\n",
    "metadata['bool'] = True"
   ]
  },
  {
   "cell_type": "code",
   "execution_count": 58,
   "id": "4bb37632",
   "metadata": {},
   "outputs": [
    {
     "data": {
      "text/plain": [
       "dict_keys(['key', 'answer', 'bool'])"
      ]
     },
     "execution_count": 58,
     "metadata": {},
     "output_type": "execute_result"
    }
   ],
   "source": [
    "metadata.keys"
   ]
  },
  {
   "cell_type": "code",
   "execution_count": 59,
   "id": "754e9a43",
   "metadata": {},
   "outputs": [
    {
     "data": {
      "text/plain": [
       "42"
      ]
     },
     "execution_count": 59,
     "metadata": {},
     "output_type": "execute_result"
    }
   ],
   "source": [
    "metadata['answer']"
   ]
  },
  {
   "cell_type": "code",
   "execution_count": 60,
   "id": "18a67010",
   "metadata": {},
   "outputs": [
    {
     "data": {
      "text/plain": [
       "{'some_metadata': Metadata( A Metadata instance called 'some_metadata', containing the following fields:\n",
       " \n",
       "           key:      value\n",
       "           answer:   42\n",
       "           bool:     True\n",
       " )}"
      ]
     },
     "execution_count": 60,
     "metadata": {},
     "output_type": "execute_result"
    }
   ],
   "source": [
    "# To add Metadata to a node, assign it to the node.metadata property\n",
    "\n",
    "node2.metadata = metadata\n",
    "\n",
    "node2.metadata"
   ]
  },
  {
   "cell_type": "code",
   "execution_count": 61,
   "id": "8cd73ee1",
   "metadata": {},
   "outputs": [
    {
     "data": {
      "text/plain": [
       "Metadata( A Metadata instance called 'some_metadata', containing the following fields:\n",
       "\n",
       "          key:      value\n",
       "          answer:   42\n",
       "          bool:     True\n",
       ")"
      ]
     },
     "execution_count": 61,
     "metadata": {},
     "output_type": "execute_result"
    }
   ],
   "source": [
    "# Note that node.metadata is a dictionary\n",
    "# so we need to slice into it to retrieve the Metadata instance we just added to it\n",
    "\n",
    "node2.metadata['some_metadata']"
   ]
  },
  {
   "cell_type": "code",
   "execution_count": 62,
   "id": "0f8f6e6a",
   "metadata": {},
   "outputs": [
    {
     "data": {
      "text/plain": [
       "{'some_metadata': Metadata( A Metadata instance called 'some_metadata', containing the following fields:\n",
       " \n",
       "           key:      value\n",
       "           answer:   42\n",
       "           bool:     True\n",
       " ),\n",
       " 'more_metadata': Metadata( A Metadata instance called 'more_metadata', containing the following fields:\n",
       " \n",
       "           an_array:   2D-array\n",
       "           none:       None\n",
       "           tup:        (1, 2, 3)\n",
       "           list:       ['a', 'b', 'c']\n",
       " )}"
      ]
     },
     "execution_count": 62,
     "metadata": {},
     "output_type": "execute_result"
    }
   ],
   "source": [
    "# The reason it's build this way is that now we can add as many Metadata instances (dictionaries)\n",
    "# as we like to each node\n",
    "\n",
    "\n",
    "# make a new Metadata instance\n",
    "more_metadata = emd.Metadata( name='more_metadata' )\n",
    "\n",
    "# add info to it\n",
    "more_metadata['an_array'] = np.arange(12).reshape((3,4))\n",
    "more_metadata['none'] = None\n",
    "more_metadata['tup'] = (1,2,3)\n",
    "more_metadata['list'] = ['a','b','c']\n",
    "\n",
    "# add it to node2\n",
    "node2.metadata = more_metadata\n",
    "\n",
    "# show the metadata in node2\n",
    "node2.metadata"
   ]
  },
  {
   "cell_type": "code",
   "execution_count": 63,
   "id": "624129cd",
   "metadata": {},
   "outputs": [
    {
     "data": {
      "text/plain": [
       "array([[ 0,  1,  2,  3],\n",
       "       [ 4,  5,  6,  7],\n",
       "       [ 8,  9, 10, 11]])"
      ]
     },
     "execution_count": 63,
     "metadata": {},
     "output_type": "execute_result"
    }
   ],
   "source": [
    "node2.metadata['more_metadata']['an_array']"
   ]
  },
  {
   "cell_type": "code",
   "execution_count": 64,
   "id": "e091cd9b",
   "metadata": {},
   "outputs": [
    {
     "data": {
      "text/plain": [
       "{'some_metadata': Metadata( A Metadata instance called 'some_metadata', containing the following fields:\n",
       " \n",
       "           key:      value\n",
       "           answer:   42\n",
       "           bool:     True\n",
       " ),\n",
       " 'more_metadata': Metadata( A Metadata instance called 'more_metadata', containing the following fields:\n",
       " \n",
       "           an_array:   2D-array\n",
       "           none:       None\n",
       "           tup:        (1, 2, 3)\n",
       "           list:       ['a', 'b', 'c']\n",
       " ),\n",
       " 'even_more_metadata': Metadata( A Metadata instance called 'even_more_metadata', containing the following fields:\n",
       " \n",
       "           x:   True\n",
       "           y:   False\n",
       " )}"
      ]
     },
     "execution_count": 64,
     "metadata": {},
     "output_type": "execute_result"
    }
   ],
   "source": [
    "# By the way, you can build and populate a new Metadata instance\n",
    "# all in one command by passing a dictionary to the `data` argument...\n",
    "\n",
    "\n",
    "node2.metadata = emd.Metadata(\n",
    "    name = 'even_more_metadata',\n",
    "    data = {\n",
    "        'x' : True,\n",
    "        'y' : False\n",
    "    }\n",
    ")\n",
    "\n",
    "\n",
    "node2.metadata"
   ]
  },
  {
   "cell_type": "code",
   "execution_count": 65,
   "id": "252b2bb9",
   "metadata": {},
   "outputs": [
    {
     "name": "stdout",
     "output_type": "stream",
     "text": [
      "/\n",
      "|--node\n",
      "|\t|--snowed\n",
      "|\t|--flowed\n",
      "|\t|--crowed\n",
      "|--lode\n",
      "|\t|--load\n",
      "|\t\t|--glowed\n",
      "|\t\t\t|--reload\n",
      "|--abode\n"
     ]
    }
   ],
   "source": [
    "# metadata does not show up in the emd tree - you have to get it from the nodes\n",
    "\n",
    "root.tree()"
   ]
  },
  {
   "cell_type": "code",
   "execution_count": 66,
   "id": "71f497b7",
   "metadata": {},
   "outputs": [
    {
     "data": {
      "text/plain": [
       "{}"
      ]
     },
     "execution_count": 66,
     "metadata": {},
     "output_type": "execute_result"
    }
   ],
   "source": [
    "loaded_data.tree('lode').metadata"
   ]
  },
  {
   "cell_type": "code",
   "execution_count": 67,
   "id": "0437a467",
   "metadata": {},
   "outputs": [
    {
     "data": {
      "text/plain": [
       "{'even_more_metadata': Metadata( A Metadata instance called 'even_more_metadata', containing the following fields:\n",
       " \n",
       "           x:   True\n",
       "           y:   False\n",
       " ),\n",
       " 'more_metadata': Metadata( A Metadata instance called 'more_metadata', containing the following fields:\n",
       " \n",
       "           an_array:   2D-array\n",
       "           list:       ['a', 'b', 'c']\n",
       "           none:       None\n",
       "           tup:        (1, 2, 3)\n",
       " ),\n",
       " 'some_metadata': Metadata( A Metadata instance called 'some_metadata', containing the following fields:\n",
       " \n",
       "           answer:   42\n",
       "           bool:     True\n",
       "           key:      value\n",
       " )}"
      ]
     },
     "execution_count": 67,
     "metadata": {},
     "output_type": "execute_result"
    }
   ],
   "source": [
    "# Metadata is taken along for the ride during write/read\n",
    "\n",
    "clean()\n",
    "emd.save(fp, root)\n",
    "loaded_data = emd.read(fp)\n",
    "loaded_data.tree('lode').metadata"
   ]
  },
  {
   "cell_type": "markdown",
   "id": "25a283dd",
   "metadata": {},
   "source": [
    "<a id='classes'></a>\n",
    "\n",
    "# 3. Class types\n",
    "\n",
    "In addition to storing metadata, each nodes in an EMD tree can hold some data.  The structure of that data is determined by the node's `emd` class type:\n",
    "\n",
    "- `Node` instances store only metadata\n",
    "- `Array` instances store array-like data\n",
    "- `PointList` instances store N points in M string labeled / sliceable dimensions\n",
    "- `PointListArray` instances store 2D grids of variable length PointLists, i.e. a form of ragged (2+1)D array\n",
    "\n",
    "A final data node class type, `Custom`, allows a single node to contain any number of each of the other types - this will not be covered in this tutorial.  See `sample_custom_class_module` for more on custom nodes."
   ]
  },
  {
   "cell_type": "markdown",
   "id": "f80dd19a",
   "metadata": {},
   "source": [
    "<a id='array'></a>\n",
    "\n",
    "## 3.1 `Array`\n",
    "\n",
    "Here we demo\n",
    "- using `Array` as a simple wrapper for numpy arrays\n",
    "- using the built-in array metadata\n",
    "- stack arrays"
   ]
  },
  {
   "cell_type": "markdown",
   "id": "d317bc72",
   "metadata": {},
   "source": [
    "<a id='arraywrapper'></a>\n",
    "\n",
    "### 3.1.1 simple `np.ndarray` wrapper"
   ]
  },
  {
   "cell_type": "code",
   "execution_count": 68,
   "id": "68ef0098",
   "metadata": {},
   "outputs": [
    {
     "data": {
      "text/plain": [
       "array([[[ 0,  1,  2,  3,  4],\n",
       "        [ 5,  6,  7,  8,  9],\n",
       "        [10, 11, 12, 13, 14],\n",
       "        [15, 16, 17, 18, 19]],\n",
       "\n",
       "       [[20, 21, 22, 23, 24],\n",
       "        [25, 26, 27, 28, 29],\n",
       "        [30, 31, 32, 33, 34],\n",
       "        [35, 36, 37, 38, 39]],\n",
       "\n",
       "       [[40, 41, 42, 43, 44],\n",
       "        [45, 46, 47, 48, 49],\n",
       "        [50, 51, 52, 53, 54],\n",
       "        [55, 56, 57, 58, 59]]])"
      ]
     },
     "execution_count": 68,
     "metadata": {},
     "output_type": "execute_result"
    }
   ],
   "source": [
    "# generate data\n",
    "data = np.arange(60).reshape((3,4,5))\n",
    "\n",
    "data"
   ]
  },
  {
   "cell_type": "code",
   "execution_count": 69,
   "id": "0ba5f4d1",
   "metadata": {},
   "outputs": [
    {
     "data": {
      "text/plain": [
       "Array( A 3-dimensional array of shape (3, 4, 5) called 'arrrrrr',\n",
       "       with dimensions:\n",
       "\n",
       "       dim0 = [0,1,...] pixels\n",
       "       dim1 = [0,1,...] pixels\n",
       "       dim2 = [0,1,...] pixels\n",
       ")"
      ]
     },
     "execution_count": 69,
     "metadata": {},
     "output_type": "execute_result"
    }
   ],
   "source": [
    "# make the Array\n",
    "ar = emd.Array(\n",
    "    name = 'arrrrrr',\n",
    "    data = data\n",
    ")\n",
    "\n",
    "ar"
   ]
  },
  {
   "cell_type": "code",
   "execution_count": 70,
   "id": "965cce2d",
   "metadata": {},
   "outputs": [
    {
     "data": {
      "text/plain": [
       "array([[[ 0,  1,  2,  3,  4],\n",
       "        [ 5,  6,  7,  8,  9],\n",
       "        [10, 11, 12, 13, 14],\n",
       "        [15, 16, 17, 18, 19]],\n",
       "\n",
       "       [[20, 21, 22, 23, 24],\n",
       "        [25, 26, 27, 28, 29],\n",
       "        [30, 31, 32, 33, 34],\n",
       "        [35, 36, 37, 38, 39]],\n",
       "\n",
       "       [[40, 41, 42, 43, 44],\n",
       "        [45, 46, 47, 48, 49],\n",
       "        [50, 51, 52, 53, 54],\n",
       "        [55, 56, 57, 58, 59]]])"
      ]
     },
     "execution_count": 70,
     "metadata": {},
     "output_type": "execute_result"
    }
   ],
   "source": [
    "ar.data"
   ]
  },
  {
   "cell_type": "markdown",
   "id": "6dbc3b18",
   "metadata": {},
   "source": [
    "<a id='arraymetadata'></a>\n",
    "\n",
    "### 3.1.2 built-in metadata\n",
    "\n",
    "The `Array` class comes with the basic metadata which calibrates the array it's bundled with.  These include a name, units, and N vectors (for N-dimensional arrays) describing the name, units, and step size of the pixels along each dimension of the array. The dimension vectors ('dim vectors') are carried along for the ride at write/read time."
   ]
  },
  {
   "cell_type": "code",
   "execution_count": 71,
   "id": "1b5d7c9a",
   "metadata": {},
   "outputs": [
    {
     "name": "stdout",
     "output_type": "stream",
     "text": [
      "arrrrrr\n",
      "\n",
      "\n",
      "[0 1 2]\n",
      "[0 1 2 3]\n",
      "[0 1 2 3 4]\n",
      "\n",
      "dim0\n",
      "dim1\n",
      "dim2\n",
      "\n",
      "pixels\n",
      "pixels\n",
      "pixels\n"
     ]
    }
   ],
   "source": [
    "# This metadata is 'built-in' in the sense that it is always included with Arrays.\n",
    "# The Array we just made will be populated with the default values:\n",
    "\n",
    "print(ar.name)\n",
    "print(ar.units)\n",
    "print()\n",
    "print(ar.dims[0])\n",
    "print(ar.dims[1])\n",
    "print(ar.dims[2])\n",
    "print()\n",
    "print(ar.dim_names[0])\n",
    "print(ar.dim_names[1])\n",
    "print(ar.dim_names[2])\n",
    "print()\n",
    "print(ar.dim_units[0])\n",
    "print(ar.dim_units[1])\n",
    "print(ar.dim_units[2])"
   ]
  },
  {
   "cell_type": "code",
   "execution_count": 72,
   "id": "9c8f3868",
   "metadata": {},
   "outputs": [],
   "source": [
    "# The units attribute can be modified directly\n",
    "\n",
    "ar.units = 'cows'"
   ]
  },
  {
   "cell_type": "code",
   "execution_count": 73,
   "id": "4063f601",
   "metadata": {},
   "outputs": [],
   "source": [
    "# The dims should be set using the .set_dim method\n",
    "\n",
    "ar.set_dim?"
   ]
  },
  {
   "cell_type": "code",
   "execution_count": 74,
   "id": "3ab55257",
   "metadata": {},
   "outputs": [
    {
     "data": {
      "text/plain": [
       "array([ 0,  5, 10])"
      ]
     },
     "execution_count": 74,
     "metadata": {},
     "output_type": "execute_result"
    }
   ],
   "source": [
    "ar.set_dim(\n",
    "    0,                   # which dimension\n",
    "    dim = [0,5],         # when two numbers are passed the vector is extrapolated linearly\n",
    ")\n",
    "\n",
    "ar.dims[0]"
   ]
  },
  {
   "cell_type": "code",
   "execution_count": 75,
   "id": "96befe52",
   "metadata": {},
   "outputs": [],
   "source": [
    "# the name and units can be set with \n",
    "# their own method calls (this cell) or\n",
    "# inside a call to `.set_dim` (next cell)\n",
    "\n",
    "ar.set_dim_name(\n",
    "    0,\n",
    "    'x-axis'\n",
    ")\n",
    "ar.set_dim_units(\n",
    "    0,\n",
    "    'pastures'\n",
    ")"
   ]
  },
  {
   "cell_type": "code",
   "execution_count": 76,
   "id": "fb76e6f9",
   "metadata": {},
   "outputs": [
    {
     "data": {
      "text/plain": [
       "array([0, 2, 4, 6])"
      ]
     },
     "execution_count": 76,
     "metadata": {},
     "output_type": "execute_result"
    }
   ],
   "source": [
    "ar.set_dim(\n",
    "    1,\n",
    "    dim = 2,             # when one number x is passed, the vect is extraplated linearly from [0,x] \n",
    "    name = 'y-axis',\n",
    "    units = 'fields'\n",
    ")\n",
    "\n",
    "ar.dims[1]"
   ]
  },
  {
   "cell_type": "code",
   "execution_count": 77,
   "id": "147c8910",
   "metadata": {},
   "outputs": [
    {
     "data": {
      "text/plain": [
       "array([1.e-02, 1.e-01, 1.e+00, 1.e+01, 1.e+02])"
      ]
     },
     "execution_count": 77,
     "metadata": {},
     "output_type": "execute_result"
    }
   ],
   "source": [
    "ar.set_dim(\n",
    "    2,\n",
    "    dim = np.logspace(-2,2,5),   # when a 1D array is passed, its length must match the array dim length \n",
    "    name = 'z-axis',\n",
    "    units = 'tracts'\n",
    ")\n",
    "\n",
    "ar.dims[2]"
   ]
  },
  {
   "cell_type": "code",
   "execution_count": 78,
   "id": "09836a24",
   "metadata": {},
   "outputs": [
    {
     "name": "stdout",
     "output_type": "stream",
     "text": [
      "arrrrrr\n",
      "cows\n",
      "\n",
      "[ 0  5 10]\n",
      "[0 2 4 6]\n",
      "[1.e-02 1.e-01 1.e+00 1.e+01 1.e+02]\n",
      "\n",
      "x-axis\n",
      "y-axis\n",
      "z-axis\n",
      "\n",
      "pastures\n",
      "fields\n",
      "tracts\n"
     ]
    }
   ],
   "source": [
    "print(ar.name)\n",
    "print(ar.units)\n",
    "print()\n",
    "print(ar.dims[0])\n",
    "print(ar.dims[1])\n",
    "print(ar.dims[2])\n",
    "print()\n",
    "print(ar.dim_names[0])\n",
    "print(ar.dim_names[1])\n",
    "print(ar.dim_names[2])\n",
    "print()\n",
    "print(ar.dim_units[0])\n",
    "print(ar.dim_units[1])\n",
    "print(ar.dim_units[2])"
   ]
  },
  {
   "cell_type": "code",
   "execution_count": 79,
   "id": "4d04f1cd",
   "metadata": {},
   "outputs": [],
   "source": [
    "# Alternatively, the Array can be initialized with the name and dims specified\n",
    "\n",
    "ar = emd.Array(\n",
    "    data = np.array(\n",
    "        [[1,2,3],\n",
    "         [4,5,6]]\n",
    "    ),\n",
    "    name = 'my_array',\n",
    "    units = 'intensity',\n",
    "    dims = [[0,3],     # setting two numbers will extrapolate the full vector linearly\n",
    "            [0,0.6]],\n",
    "    dim_names = ['x','y'],\n",
    "    dim_units = ['nm','km']\n",
    ")"
   ]
  },
  {
   "cell_type": "code",
   "execution_count": 80,
   "id": "0daaa6cc",
   "metadata": {},
   "outputs": [
    {
     "data": {
      "text/plain": [
       "Array( A 2-dimensional array of shape (2, 3) called 'my_array',\n",
       "       with dimensions:\n",
       "\n",
       "       x = [0,3,...] nm\n",
       "       y = [0.0,0.6,...] km\n",
       ")"
      ]
     },
     "execution_count": 80,
     "metadata": {},
     "output_type": "execute_result"
    }
   ],
   "source": [
    "ar"
   ]
  },
  {
   "cell_type": "code",
   "execution_count": 81,
   "id": "910a32c4",
   "metadata": {},
   "outputs": [
    {
     "data": {
      "text/plain": [
       "[0, 3]"
      ]
     },
     "execution_count": 81,
     "metadata": {},
     "output_type": "execute_result"
    }
   ],
   "source": [
    "ar.dims[0]"
   ]
  },
  {
   "cell_type": "markdown",
   "id": "171bc548",
   "metadata": {},
   "source": [
    "<a id='arraystacks'></a>\n",
    "\n",
    "### 3.1.3 array stacks\n",
    "\n",
    "The syntax below supports holding multiple arrays in a single Array instance, each using the same set of dim vectors.  In other words, an array stack holds (N+1) dimensional data, where the first N dimensions are described by the dim vectors, and N-dimensional slices along the last dimension are accessible using string keys."
   ]
  },
  {
   "cell_type": "code",
   "execution_count": 82,
   "id": "059cdd08",
   "metadata": {},
   "outputs": [
    {
     "data": {
      "text/plain": [
       "array([[[    0,    10,   100,  1000, 10000],\n",
       "        [    1,    11,   101,  1001, 10001],\n",
       "        [    2,    12,   102,  1002, 10002],\n",
       "        [    3,    13,   103,  1003, 10003]],\n",
       "\n",
       "       [[    4,    14,   104,  1004, 10004],\n",
       "        [    5,    15,   105,  1005, 10005],\n",
       "        [    6,    16,   106,  1006, 10006],\n",
       "        [    7,    17,   107,  1007, 10007]],\n",
       "\n",
       "       [[    8,    18,   108,  1008, 10008],\n",
       "        [    9,    19,   109,  1009, 10009],\n",
       "        [   10,    20,   110,  1010, 10010],\n",
       "        [   11,    21,   111,  1011, 10011]]])"
      ]
     },
     "execution_count": 82,
     "metadata": {},
     "output_type": "execute_result"
    }
   ],
   "source": [
    "# make some data\n",
    "# we'll assume we have (2+1)D data - i.e. several 2D arrays in a single Array instance.\n",
    "# The code below makes 5 3x4 arrays, and then combines them into a single array\n",
    "\n",
    "data = np.dstack([\n",
    "    np.arange(12).reshape(3,4),\n",
    "    np.arange(12).reshape(3,4)+10,\n",
    "    np.arange(12).reshape(3,4)+100,\n",
    "    np.arange(12).reshape(3,4)+1000,\n",
    "    np.arange(12).reshape(3,4)+10000,\n",
    "])\n",
    "\n",
    "data"
   ]
  },
  {
   "cell_type": "code",
   "execution_count": 83,
   "id": "f99d285a",
   "metadata": {},
   "outputs": [
    {
     "data": {
      "text/plain": [
       "(3, 4, 5)"
      ]
     },
     "execution_count": 83,
     "metadata": {},
     "output_type": "execute_result"
    }
   ],
   "source": [
    "data.shape"
   ]
  },
  {
   "cell_type": "code",
   "execution_count": 84,
   "id": "20df8d16",
   "metadata": {},
   "outputs": [],
   "source": [
    "# make the Array\n",
    "\n",
    "ar = emd.Array(\n",
    "    data = data,\n",
    "    name = 'my_stack_array',\n",
    "    units = 'intensity',\n",
    "    dims = [[0,3],                  # we want only two dim vectors\n",
    "            [0,0.6]],\n",
    "    dim_names = ['x','y'],\n",
    "    dim_units = ['nm','km'],\n",
    "    slicelabels = ['a','b','c','d','e']\n",
    ")"
   ]
  },
  {
   "cell_type": "code",
   "execution_count": 85,
   "id": "6c55c17c",
   "metadata": {},
   "outputs": [
    {
     "data": {
      "text/plain": [
       "Array( A stack of 5 Arrays with 2-dimensions and shape (3, 4), called 'my_stack_array'\n",
       "\n",
       "       The labels are:\n",
       "           a\n",
       "           b\n",
       "           c\n",
       "           d\n",
       "           e\n",
       "\n",
       "\n",
       "       The Array dimensions are:\n",
       "           x = [0,3,...] nm\n",
       "           y = [0.0,0.6,...] km\n",
       ")"
      ]
     },
     "execution_count": 85,
     "metadata": {},
     "output_type": "execute_result"
    }
   ],
   "source": [
    "ar"
   ]
  },
  {
   "cell_type": "code",
   "execution_count": 86,
   "id": "01aadfd9",
   "metadata": {},
   "outputs": [
    {
     "name": "stdout",
     "output_type": "stream",
     "text": [
      "2\n",
      "3\n"
     ]
    }
   ],
   "source": [
    "# the `.rank` attribute returns N and the `.data.ndim` attribute gives N+1\n",
    "# for some N+1 dimensional stack array.\n",
    "# for non-stack arrays, `.rank` and `data.ndim` are identical\n",
    "\n",
    "print(ar.rank)\n",
    "print(ar.data.ndim)"
   ]
  },
  {
   "cell_type": "code",
   "execution_count": 87,
   "id": "a3172d74",
   "metadata": {},
   "outputs": [
    {
     "data": {
      "text/plain": [
       "5"
      ]
     },
     "execution_count": 87,
     "metadata": {},
     "output_type": "execute_result"
    }
   ],
   "source": [
    "# the `.depth` property gives the number of slices. For non-stack arrays, it is 0\n",
    "\n",
    "ar.depth"
   ]
  },
  {
   "cell_type": "code",
   "execution_count": 88,
   "id": "37c0b32a",
   "metadata": {},
   "outputs": [
    {
     "data": {
      "text/plain": [
       "Array( A 2-dimensional array of shape (3, 4) called 'my_stack_array_a',\n",
       "       with dimensions:\n",
       "\n",
       "       x = [0,3,...] nm\n",
       "       y = [0.0,0.6,...] km\n",
       ")"
      ]
     },
     "execution_count": 88,
     "metadata": {},
     "output_type": "execute_result"
    }
   ],
   "source": [
    "# the slices can be accessed by indexing into the array with string keys,\n",
    "# returning another Array\n",
    "\n",
    "ar['a']"
   ]
  },
  {
   "cell_type": "markdown",
   "id": "3785f7b4",
   "metadata": {},
   "source": [
    "<a id='pointlist'></a>\n",
    "\n",
    "\n",
    "## 3.2 `PointList`\n",
    "\n",
    "A `PointList`s data attribute can have any length, with any number of string-named fields, and each field may have its own data type.  PointLists have variable length that can change at runtime.  PointList wraps numpy structured arrays."
   ]
  },
  {
   "cell_type": "code",
   "execution_count": 89,
   "id": "70d3f90c",
   "metadata": {},
   "outputs": [
    {
     "data": {
      "text/plain": [
       "array([(0, 0.), (0, 0.), (0, 0.), (0, 0.), (0, 0.)],\n",
       "      dtype=[('x', '<i8'), ('y', '<f8')])"
      ]
     },
     "execution_count": 89,
     "metadata": {},
     "output_type": "execute_result"
    }
   ],
   "source": [
    "# make some data\n",
    "# we define the fields by specifying a custom `dtype` for numpy\n",
    "\n",
    "data = np.zeros(\n",
    "    5,\n",
    "    dtype = [\n",
    "        ('x',int),\n",
    "        ('y',float)\n",
    "    ]\n",
    ")\n",
    "\n",
    "data"
   ]
  },
  {
   "cell_type": "code",
   "execution_count": 90,
   "id": "fe1bff50",
   "metadata": {},
   "outputs": [
    {
     "data": {
      "text/plain": [
       "PointList( A length 5 PointList called 'my_pointlist',\n",
       "           with 2 fields:\n",
       "\n",
       "           x   (int64)\n",
       "           y   (float64)\n",
       ")"
      ]
     },
     "execution_count": 90,
     "metadata": {},
     "output_type": "execute_result"
    }
   ],
   "source": [
    "# make a PointList\n",
    "\n",
    "pointlist = emd.PointList(\n",
    "    name = 'my_pointlist',\n",
    "    data = data\n",
    ")\n",
    "\n",
    "pointlist"
   ]
  },
  {
   "cell_type": "code",
   "execution_count": 91,
   "id": "6d2668e7",
   "metadata": {},
   "outputs": [
    {
     "data": {
      "text/plain": [
       "array([(0, 0.), (0, 0.), (0, 0.), (0, 0.), (0, 0.)],\n",
       "      dtype=[('x', '<i8'), ('y', '<f8')])"
      ]
     },
     "execution_count": 91,
     "metadata": {},
     "output_type": "execute_result"
    }
   ],
   "source": [
    "pointlist.data"
   ]
  },
  {
   "cell_type": "code",
   "execution_count": 92,
   "id": "23d8e29f",
   "metadata": {},
   "outputs": [
    {
     "name": "stdout",
     "output_type": "stream",
     "text": [
      "[0 0 0 0 0]\n",
      "[0. 0. 0. 0. 0.]\n"
     ]
    }
   ],
   "source": [
    "# the fields can be accessed by slicing directly into the PointList\n",
    "\n",
    "print(pointlist['x'])\n",
    "print(pointlist['y'])"
   ]
  },
  {
   "cell_type": "code",
   "execution_count": 93,
   "id": "39e2f000",
   "metadata": {},
   "outputs": [
    {
     "data": {
      "text/plain": [
       "array([(0, 0.), (0, 0.), (0, 0.)], dtype=[('x', '<i8'), ('y', '<f8')])"
      ]
     },
     "execution_count": 93,
     "metadata": {},
     "output_type": "execute_result"
    }
   ],
   "source": [
    "# remove points\n",
    "\n",
    "# make a boolean mask\n",
    "rm = np.zeros(5,dtype = bool)\n",
    "rm[3:] = True        # flag the last two points\n",
    "\n",
    "# remove the last two point\n",
    "pointlist.remove(rm)\n",
    "\n",
    "# show\n",
    "pointlist.data"
   ]
  },
  {
   "cell_type": "code",
   "execution_count": 94,
   "id": "c8e06e6a",
   "metadata": {},
   "outputs": [
    {
     "data": {
      "text/plain": [
       "array([(0, 0.), (0, 0.), (0, 0.), (1, 1.), (1, 1.), (1, 1.)],\n",
       "      dtype=[('x', '<i8'), ('y', '<f8')])"
      ]
     },
     "execution_count": 94,
     "metadata": {},
     "output_type": "execute_result"
    }
   ],
   "source": [
    "# add points\n",
    "# the new data must have the same dtype as the existing data\n",
    "\n",
    "# make the new data\n",
    "new_data = np.ones(\n",
    "    3,\n",
    "    dtype = [\n",
    "        ('x',int),\n",
    "        ('y',float)\n",
    "    ]\n",
    ")\n",
    "\n",
    "# add it to the array\n",
    "pointlist.add(new_data)\n",
    "\n",
    "# show\n",
    "pointlist.data"
   ]
  },
  {
   "cell_type": "code",
   "execution_count": 95,
   "id": "3868373f",
   "metadata": {},
   "outputs": [
    {
     "data": {
      "text/plain": [
       "array([(0, 0.  ), (0, 0.  ), (0, 0.  ), (1, 1.  ), (1, 1.  ), (1, 1.  ),\n",
       "       (5, 5.  ), (6, 5.25), (7, 5.5 ), (8, 5.75), (9, 6.  )],\n",
       "      dtype=[('x', '<i8'), ('y', '<f8')])"
      ]
     },
     "execution_count": 95,
     "metadata": {},
     "output_type": "execute_result"
    }
   ],
   "source": [
    "# add data as 1D vectors corresponding to the fields\n",
    "\n",
    "pointlist.add_data_by_field(\n",
    "    data = (np.arange(5,10),np.linspace(5,6,num=5)),\n",
    "    fields = ('x','y')\n",
    ")\n",
    "\n",
    "pointlist.data"
   ]
  },
  {
   "cell_type": "code",
   "execution_count": 96,
   "id": "ed626dae",
   "metadata": {},
   "outputs": [
    {
     "data": {
      "text/plain": [
       "array([(0, 0.  , False), (0, 0.  , False), (0, 0.  , False),\n",
       "       (1, 1.  , False), (1, 1.  , False), (1, 1.  , False),\n",
       "       (5, 5.  , False), (6, 5.25, False), (7, 5.5 , False),\n",
       "       (8, 5.75, False), (9, 6.  , False)],\n",
       "      dtype=[('x', '<i8'), ('y', '<f8'), ('z', '?')])"
      ]
     },
     "execution_count": 96,
     "metadata": {},
     "output_type": "execute_result"
    }
   ],
   "source": [
    "# make a new pointlist like this one, with some additional fields added\n",
    "\n",
    "pointlist_copy = pointlist.add_fields(\n",
    "    [('z',bool)],\n",
    "    name = 'another_pointlist',\n",
    ")\n",
    "\n",
    "pointlist_copy.data"
   ]
  },
  {
   "cell_type": "code",
   "execution_count": 97,
   "id": "e3873c8c",
   "metadata": {},
   "outputs": [
    {
     "data": {
      "text/plain": [
       "array([(0, 0.  , False), (0, 0.  , False), (0, 0.  , False),\n",
       "       (1, 1.  , False), (1, 1.  , False), (1, 1.  , False),\n",
       "       (5, 5.  ,  True), (6, 5.25,  True), (7, 5.5 ,  True),\n",
       "       (8, 5.75,  True), (9, 6.  ,  True)],\n",
       "      dtype=[('x', '<i8'), ('y', '<f8'), ('z', '?')])"
      ]
     },
     "execution_count": 97,
     "metadata": {},
     "output_type": "execute_result"
    }
   ],
   "source": [
    "# modify values in an existing field\n",
    "\n",
    "pointlist_copy['z'][6:] = True\n",
    "\n",
    "pointlist_copy.data"
   ]
  },
  {
   "cell_type": "code",
   "execution_count": 98,
   "id": "61070e7f",
   "metadata": {},
   "outputs": [
    {
     "data": {
      "text/plain": [
       "array([(9, 6.  ,  True), (8, 5.75,  True), (7, 5.5 ,  True),\n",
       "       (6, 5.25,  True), (5, 5.  ,  True), (1, 1.  , False),\n",
       "       (1, 1.  , False), (1, 1.  , False), (0, 0.  , False),\n",
       "       (0, 0.  , False), (0, 0.  , False)],\n",
       "      dtype=[('x', '<i8'), ('y', '<f8'), ('z', '?')])"
      ]
     },
     "execution_count": 98,
     "metadata": {},
     "output_type": "execute_result"
    }
   ],
   "source": [
    "# Sort the pointlist by one of its fields\n",
    "\n",
    "pointlist_copy.sort('y', order='descending')\n",
    "\n",
    "pointlist_copy.data"
   ]
  },
  {
   "cell_type": "markdown",
   "id": "ffb0872f",
   "metadata": {},
   "source": [
    "<a id='pointlistarray'></a>\n",
    "\n",
    "\n",
    "## 3.3 `PointListArray`\n",
    "\n",
    "`emd.PointListArray` represents 2D grids of PointList instances with the same data fields.  It stores 2D ragged arrays of vectors of any length with string-accessible fields."
   ]
  },
  {
   "cell_type": "code",
   "execution_count": 99,
   "id": "2b2aa1fe",
   "metadata": {},
   "outputs": [
    {
     "data": {
      "text/plain": [
       "PointListArray( A shape (5, 6) PointListArray called 'my_pointlistarray',\n",
       "                with 2 fields:\n",
       "\n",
       "                x   (int64)\n",
       "                y   (int64)\n",
       ")"
      ]
     },
     "execution_count": 99,
     "metadata": {},
     "output_type": "execute_result"
    }
   ],
   "source": [
    "# make a PointListArray\n",
    "\n",
    "shape = (5,6)\n",
    "dtype = [('x',int),('y',int)]\n",
    "\n",
    "pointlistarray = emd.PointListArray(\n",
    "    name = 'my_pointlistarray',\n",
    "    shape = shape,\n",
    "    dtype = dtype\n",
    ")\n",
    "\n",
    "pointlistarray"
   ]
  },
  {
   "cell_type": "code",
   "execution_count": 100,
   "id": "816a7193",
   "metadata": {},
   "outputs": [
    {
     "data": {
      "text/plain": [
       "PointList( A length 0 PointList called '0,0',\n",
       "           with 2 fields:\n",
       "\n",
       "           x   (int64)\n",
       "           y   (int64)\n",
       ")"
      ]
     },
     "execution_count": 100,
     "metadata": {},
     "output_type": "execute_result"
    }
   ],
   "source": [
    "# the pointlists can be accessed by slicing into the pointlistarray\n",
    "\n",
    "pointlistarray[0,0]"
   ]
  },
  {
   "cell_type": "code",
   "execution_count": 101,
   "id": "05040a12",
   "metadata": {},
   "outputs": [
    {
     "data": {
      "text/plain": [
       "array([], dtype=[('x', '<i8'), ('y', '<i8')])"
      ]
     },
     "execution_count": 101,
     "metadata": {},
     "output_type": "execute_result"
    }
   ],
   "source": [
    "# and are instantiated empty\n",
    "\n",
    "pointlistarray[3,4].data"
   ]
  },
  {
   "cell_type": "code",
   "execution_count": 102,
   "id": "1d585cf2",
   "metadata": {},
   "outputs": [],
   "source": [
    "# we can populate the pointlists with the `add` method\n",
    "\n",
    "for ii in range(pointlistarray.shape[0]):\n",
    "    for jj in range(pointlistarray.shape[1]):\n",
    "        \n",
    "        # set an integer value that varies sinusoidally from 0 to 8\n",
    "        val = int(np.round((np.sin((ii*shape[1]+jj) * 2*np.pi / np.prod(shape)) + 1) * 4))\n",
    "        \n",
    "        # add to the pointlist\n",
    "        pointlistarray[ii,jj].add(\n",
    "            np.full(\n",
    "                shape = val,\n",
    "                fill_value= val,\n",
    "                dtype = dtype\n",
    "            )\n",
    "        )"
   ]
  },
  {
   "cell_type": "code",
   "execution_count": 103,
   "id": "460b082e",
   "metadata": {},
   "outputs": [
    {
     "data": {
      "text/plain": [
       "array([(4, 4), (4, 4), (4, 4), (4, 4)], dtype=[('x', '<i8'), ('y', '<i8')])"
      ]
     },
     "execution_count": 103,
     "metadata": {},
     "output_type": "execute_result"
    }
   ],
   "source": [
    "pointlistarray[0,0].data"
   ]
  },
  {
   "cell_type": "code",
   "execution_count": 104,
   "id": "1b9122aa",
   "metadata": {},
   "outputs": [
    {
     "name": "stdout",
     "output_type": "stream",
     "text": [
      "[(4, 4) (4, 4) (4, 4) (4, 4)]\n",
      "[(5, 5) (5, 5) (5, 5) (5, 5) (5, 5)]\n",
      "[(6, 6) (6, 6) (6, 6) (6, 6) (6, 6) (6, 6)]\n",
      "[(6, 6) (6, 6) (6, 6) (6, 6) (6, 6) (6, 6)]\n",
      "[(7, 7) (7, 7) (7, 7) (7, 7) (7, 7) (7, 7) (7, 7)]\n",
      "[(7, 7) (7, 7) (7, 7) (7, 7) (7, 7) (7, 7) (7, 7)]\n",
      "[(8, 8) (8, 8) (8, 8) (8, 8) (8, 8) (8, 8) (8, 8) (8, 8)]\n",
      "[(8, 8) (8, 8) (8, 8) (8, 8) (8, 8) (8, 8) (8, 8) (8, 8)]\n",
      "[(8, 8) (8, 8) (8, 8) (8, 8) (8, 8) (8, 8) (8, 8) (8, 8)]\n",
      "[(8, 8) (8, 8) (8, 8) (8, 8) (8, 8) (8, 8) (8, 8) (8, 8)]\n",
      "[(7, 7) (7, 7) (7, 7) (7, 7) (7, 7) (7, 7) (7, 7)]\n",
      "[(7, 7) (7, 7) (7, 7) (7, 7) (7, 7) (7, 7) (7, 7)]\n",
      "[(6, 6) (6, 6) (6, 6) (6, 6) (6, 6) (6, 6)]\n",
      "[(6, 6) (6, 6) (6, 6) (6, 6) (6, 6) (6, 6)]\n",
      "[(5, 5) (5, 5) (5, 5) (5, 5) (5, 5)]\n",
      "[(4, 4) (4, 4) (4, 4) (4, 4)]\n",
      "[(3, 3) (3, 3) (3, 3)]\n",
      "[(2, 2) (2, 2)]\n",
      "[(2, 2) (2, 2)]\n",
      "[(1, 1)]\n",
      "[(1, 1)]\n",
      "[]\n",
      "[]\n",
      "[]\n",
      "[]\n",
      "[(1, 1)]\n",
      "[(1, 1)]\n",
      "[(2, 2) (2, 2)]\n",
      "[(2, 2) (2, 2)]\n",
      "[(3, 3) (3, 3) (3, 3)]\n"
     ]
    }
   ],
   "source": [
    "for x in range(pointlistarray.shape[0]):\n",
    "    for y in range(pointlistarray.shape[1]):\n",
    "        print(pointlistarray[x,y].data)"
   ]
  },
  {
   "cell_type": "markdown",
   "id": "1c6ed8d0",
   "metadata": {},
   "source": [
    "<a id='savingnodes'></a>\n",
    "\n",
    "## Saving unrooted nodes\n"
   ]
  },
  {
   "cell_type": "code",
   "execution_count": 105,
   "id": "d4cf5fc5",
   "metadata": {},
   "outputs": [
    {
     "data": {
      "text/plain": [
       "Array( A stack of 5 Arrays with 2-dimensions and shape (3, 4), called 'my_stack_array'\n",
       "\n",
       "       The labels are:\n",
       "           a\n",
       "           b\n",
       "           c\n",
       "           d\n",
       "           e\n",
       "\n",
       "\n",
       "       The Array dimensions are:\n",
       "           x = [0,3,...] nm\n",
       "           y = [0.0,0.6,...] km\n",
       ")"
      ]
     },
     "execution_count": 105,
     "metadata": {},
     "output_type": "execute_result"
    }
   ],
   "source": [
    "# In this last section we made an Array, a Poitlist, and a PointListArray\n",
    "\n",
    "ar"
   ]
  },
  {
   "cell_type": "code",
   "execution_count": 106,
   "id": "54612832",
   "metadata": {},
   "outputs": [
    {
     "data": {
      "text/plain": [
       "PointList( A length 11 PointList called 'my_pointlist',\n",
       "           with 2 fields:\n",
       "\n",
       "           x   (int64)\n",
       "           y   (float64)\n",
       ")"
      ]
     },
     "execution_count": 106,
     "metadata": {},
     "output_type": "execute_result"
    }
   ],
   "source": [
    "pointlist"
   ]
  },
  {
   "cell_type": "code",
   "execution_count": 107,
   "id": "a61f9066",
   "metadata": {},
   "outputs": [
    {
     "data": {
      "text/plain": [
       "PointListArray( A shape (5, 6) PointListArray called 'my_pointlistarray',\n",
       "                with 2 fields:\n",
       "\n",
       "                x   (int64)\n",
       "                y   (int64)\n",
       ")"
      ]
     },
     "execution_count": 107,
     "metadata": {},
     "output_type": "execute_result"
    }
   ],
   "source": [
    "pointlistarray"
   ]
  },
  {
   "cell_type": "code",
   "execution_count": 108,
   "id": "44a1b93a",
   "metadata": {},
   "outputs": [
    {
     "name": "stdout",
     "output_type": "stream",
     "text": [
      "True\n",
      "True\n",
      "True\n"
     ]
    }
   ],
   "source": [
    "# None of them have been placed in a tree, so none have roots\n",
    "\n",
    "print( ar.root is None )\n",
    "print( pointlist.root is None )\n",
    "print( pointlistarray.root is None )"
   ]
  },
  {
   "cell_type": "code",
   "execution_count": 109,
   "id": "c12b5b0e",
   "metadata": {},
   "outputs": [
    {
     "name": "stdout",
     "output_type": "stream",
     "text": [
      "No can do, bucko\n"
     ]
    }
   ],
   "source": [
    "# We can't add objects to one another with the .tree method if they're not rooted\n",
    "\n",
    "try:\n",
    "    ar.tree(pointlist)\n",
    "    \n",
    "except AssertionError:\n",
    "    print(\"No can do, bucko\")"
   ]
  },
  {
   "cell_type": "code",
   "execution_count": 110,
   "id": "9d57b55d",
   "metadata": {},
   "outputs": [
    {
     "data": {
      "text/plain": [
       "Root( A Node called 'my_stack_array', containing the following top-level objects in its tree:\n",
       "\n",
       "          my_stack_array \t\t (Array)\n",
       ")"
      ]
     },
     "execution_count": 110,
     "metadata": {},
     "output_type": "execute_result"
    }
   ],
   "source": [
    "# If you only want to save a single, unrooted object, you can pass that object to the save function.\n",
    "# A root with the same name as the object will be created, the object placed inside of it, and\n",
    "# the whole thing saved to the file.  That root will then be removed, so the runtime object - i.e. the\n",
    "# node you just saved - isn't modified.\n",
    "\n",
    "clean()\n",
    "emd.save(fp, ar)\n",
    "loaded_data = emd.read(fp)\n",
    "loaded_data"
   ]
  },
  {
   "cell_type": "code",
   "execution_count": 111,
   "id": "89d71a89",
   "metadata": {},
   "outputs": [
    {
     "data": {
      "text/plain": [
       "Array( A stack of 5 Arrays with 2-dimensions and shape (3, 4), called 'my_stack_array'\n",
       "\n",
       "       The labels are:\n",
       "           a\n",
       "           b\n",
       "           c\n",
       "           d\n",
       "           e\n",
       "\n",
       "\n",
       "       The Array dimensions are:\n",
       "           x = [0,3,...] nm\n",
       "           y = [0.0,0.6,...] km\n",
       ")"
      ]
     },
     "execution_count": 111,
     "metadata": {},
     "output_type": "execute_result"
    }
   ],
   "source": [
    "loaded_data.tree('my_stack_array')"
   ]
  },
  {
   "cell_type": "code",
   "execution_count": 112,
   "id": "ee09e3e2",
   "metadata": {},
   "outputs": [
    {
     "data": {
      "text/plain": [
       "True"
      ]
     },
     "execution_count": 112,
     "metadata": {},
     "output_type": "execute_result"
    }
   ],
   "source": [
    "ar.root is None"
   ]
  },
  {
   "cell_type": "code",
   "execution_count": 113,
   "id": "538f7cc8",
   "metadata": {},
   "outputs": [
    {
     "name": "stderr",
     "output_type": "stream",
     "text": [
      "100%|█████████████████████████████████████████████████████████████████████| 30/30 [00:00<00:00, 2220.07it/s]\n",
      "Reading PointListArray: 100%|██████████████████████████████████████| 30/30 [00:00<00:00, 3162.17PointList/s]"
     ]
    },
    {
     "name": "stdout",
     "output_type": "stream",
     "text": [
      "/\n",
      "|--my_pointlist\n",
      "|--my_pointlistarray\n",
      "|--my_stack_array\n"
     ]
    },
    {
     "name": "stderr",
     "output_type": "stream",
     "text": [
      "\n"
     ]
    }
   ],
   "source": [
    "# Alternatively, you can make a new root and name it whatever you like. This way you can also\n",
    "# put as many objects as you like inside it, or build a tree of objects as in section 2.1\n",
    "\n",
    "clean()\n",
    "\n",
    "root = emd.Root( name='baby_groot' )\n",
    "root.tree(ar)\n",
    "root.tree(pointlist)\n",
    "root.tree(pointlistarray)\n",
    "\n",
    "emd.save(fp,root)\n",
    "loaded_data = emd.read(fp)\n",
    "loaded_data.tree()"
   ]
  },
  {
   "cell_type": "markdown",
   "id": "af8c3b84",
   "metadata": {},
   "source": [
    "<a id='trees'></a>\n",
    "\n",
    "\n",
    "# 4. Trees\n",
    "\n",
    "The tree structure is the core of the `emd` package and format.  In this section we first look at building, saving, and restoring trees from file.  We look at basic tree methods for showing and retrieving data in trees.  Then we look at methods for modifying existing trees by cutting off branches, or grafting branches from one tree to another.  Root metadata is handled specially, and is discussed."
   ]
  },
  {
   "cell_type": "code",
   "execution_count": 114,
   "id": "049265e2",
   "metadata": {},
   "outputs": [
    {
     "name": "stdout",
     "output_type": "stream",
     "text": [
      "Object `node.tree` not found.\n"
     ]
    }
   ],
   "source": [
    "# All the functionality shown in this section is accessed via the `.tree` method.\n",
    "# The usage of `.tree` can be specified by passing a keyword argument in (show, add, get, cut, graft).\n",
    "# In the first three cases, the keyword can be omitted, as long as the data passed has the correct type.\n",
    "\n",
    "node.tree?"
   ]
  },
  {
   "cell_type": "markdown",
   "id": "540dbf1f",
   "metadata": {},
   "source": [
    "<a id='buildingtrees'></a>\n",
    "\n",
    "\n",
    "## 4.1 Building trees\n",
    "\n",
    "Let's make a tree with all these data types, write it, read it, and confirm that it worked."
   ]
  },
  {
   "cell_type": "code",
   "execution_count": 115,
   "id": "a58bced3",
   "metadata": {},
   "outputs": [],
   "source": [
    "clean()"
   ]
  },
  {
   "cell_type": "code",
   "execution_count": 116,
   "id": "6008bd14",
   "metadata": {},
   "outputs": [],
   "source": [
    "# make some data\n",
    "\n",
    "ar1 = emd.Array(\n",
    "    name = 'ar1',\n",
    "    data = np.arange(12).reshape((3,4))\n",
    ")\n",
    "ar2 = emd.Array(\n",
    "    name = 'ar2',\n",
    "    data = np.arange(24).reshape((3,4,2)),\n",
    "    slicelabels = ('a','b')\n",
    ")\n",
    "node = emd.Node(\n",
    "    name = 'immanode'\n",
    ")\n",
    "pointlist1 = emd.PointList(\n",
    "    name = 'pointlist1',\n",
    "    data = np.ones(\n",
    "        5,\n",
    "        dtype = [('rx',int),('ry',int)]\n",
    "    )\n",
    ")\n",
    "pointlist2 = emd.PointList(\n",
    "    name = 'pointlist2',\n",
    "    data = np.zeros(\n",
    "        6,\n",
    "        dtype = [('qx',float),('qy',float)]\n",
    "    )\n",
    ")\n",
    "pointlistarray = emd.PointListArray(\n",
    "    name = 'pointlistarray',\n",
    "    shape = (3,4),\n",
    "    dtype = [('yes',bool),('no',bool)]\n",
    ")\n",
    "for rx in range(pointlistarray.shape[0]):\n",
    "    for ry in range(pointlistarray.shape[1]):\n",
    "        pointlistarray[rx,ry].add(\n",
    "            np.ones(\n",
    "                int(ry + rx*pointlistarray.shape[1]),\n",
    "                dtype = [('yes',bool),('no',bool)]\n",
    "            )\n",
    "        )\n",
    "        \n",
    "# add some metadata\n",
    "pointlist1.metadata = emd.Metadata(\n",
    "    name = 'evolution',\n",
    "    data = {\n",
    "        'pikachu' : 'raichi',\n",
    "        'thunderstone' : True\n",
    "    }\n",
    ")\n",
    "pointlistarray.metadata = emd.Metadata(\n",
    "    name = 'is_rodent',\n",
    "    data = {\n",
    "        'gerbil' : True,\n",
    "        'mouse' : True,\n",
    "        'pikachu' : True,\n",
    "        'bulbasaur' : 'False'\n",
    "    }\n",
    ")"
   ]
  },
  {
   "cell_type": "code",
   "execution_count": 117,
   "id": "2fc78f8d",
   "metadata": {},
   "outputs": [
    {
     "name": "stdout",
     "output_type": "stream",
     "text": [
      "/\n",
      "|--immanode\n",
      "|\t|--pointlistarray\n",
      "|\t|\t|--pointlist1\n",
      "|\t|--ar2\n",
      "|--ar1\n",
      "|--pointlist2\n"
     ]
    }
   ],
   "source": [
    "# Make a tree\n",
    "\n",
    "# start with a Root\n",
    "root = emd.Root( name='treeoflife' )\n",
    "\n",
    "# and add data\n",
    "root.tree(node)\n",
    "node.tree(pointlistarray)\n",
    "pointlistarray.tree(pointlist1)\n",
    "root.tree(ar1)\n",
    "root.tree(pointlist2)\n",
    "node.tree(ar2)\n",
    "\n",
    "# show the tree\n",
    "root.tree()"
   ]
  },
  {
   "cell_type": "code",
   "execution_count": 118,
   "id": "0e657f8e",
   "metadata": {},
   "outputs": [
    {
     "name": "stderr",
     "output_type": "stream",
     "text": [
      "100%|█████████████████████████████████████████████████████████████████████| 12/12 [00:00<00:00, 3017.30it/s]\n"
     ]
    }
   ],
   "source": [
    "# save\n",
    "\n",
    "emd.save(fp,root)"
   ]
  },
  {
   "cell_type": "code",
   "execution_count": 119,
   "id": "043a38d2",
   "metadata": {},
   "outputs": [
    {
     "name": "stderr",
     "output_type": "stream",
     "text": [
      "Reading PointListArray: 100%|██████████████████████████████████████| 12/12 [00:00<00:00, 2423.29PointList/s]\n"
     ]
    },
    {
     "data": {
      "text/plain": [
       "Root( A Node called 'treeoflife', containing the following top-level objects in its tree:\n",
       "\n",
       "          ar1 \t\t (Array)\n",
       "          immanode \t\t (Node)\n",
       "          pointlist2 \t\t (PointList)\n",
       ")"
      ]
     },
     "execution_count": 119,
     "metadata": {},
     "output_type": "execute_result"
    }
   ],
   "source": [
    "# load\n",
    "\n",
    "loaded_data = emd.read(fp)\n",
    "\n",
    "loaded_data"
   ]
  },
  {
   "cell_type": "code",
   "execution_count": 120,
   "id": "fa589a23",
   "metadata": {},
   "outputs": [
    {
     "name": "stdout",
     "output_type": "stream",
     "text": [
      "/\n",
      "|--ar1\n",
      "|--immanode\n",
      "|\t|--ar2\n",
      "|\t|--pointlistarray\n",
      "|\t\t|--pointlist1\n",
      "|--pointlist2\n"
     ]
    }
   ],
   "source": [
    "loaded_data.tree()"
   ]
  },
  {
   "cell_type": "code",
   "execution_count": 121,
   "id": "5b76294c",
   "metadata": {},
   "outputs": [],
   "source": [
    "# check that the data is the same\n",
    "\n",
    "assert(np.array_equal( loaded_data.tree('ar1').data, ar1.data ))\n",
    "assert(np.array_equal( loaded_data.tree('immanode/ar2').data, ar2.data ))\n",
    "assert(np.array_equal( loaded_data.tree('immanode/pointlistarray/pointlist1').data, pointlist1.data ))\n",
    "assert(np.array_equal( loaded_data.tree('pointlist2').data, pointlist2.data ))"
   ]
  },
  {
   "cell_type": "code",
   "execution_count": 122,
   "id": "284fc202",
   "metadata": {},
   "outputs": [],
   "source": [
    "# check that the metadata is the same\n",
    "\n",
    "def check_metadata(obj1, obj2):\n",
    "    \"\"\" asserts equivalence of the metadata in obj1 to obj2. Fails for array-like metadata\n",
    "    \"\"\"\n",
    "    for k in obj1.metadata.keys():\n",
    "        md_i,md_f = obj1.metadata[k],obj2.metadata[k]\n",
    "        for k in md_i.keys:\n",
    "            assert( md_i[k] == md_f[k] )\n",
    "            \n",
    "check_metadata(\n",
    "    loaded_data.tree('immanode/pointlistarray/pointlist1'),\n",
    "    pointlist1\n",
    ")\n",
    "check_metadata(\n",
    "    loaded_data.tree('immanode/pointlistarray'),\n",
    "    pointlistarray\n",
    ")"
   ]
  },
  {
   "cell_type": "markdown",
   "id": "bc8518cd",
   "metadata": {},
   "source": [
    "<a id='showtree'></a>\n",
    "\n",
    "\n",
    "## 4.2 Show and retrieve data\n",
    "\n",
    "We've aleady done most of these operations above!"
   ]
  },
  {
   "cell_type": "code",
   "execution_count": 123,
   "id": "7693b016",
   "metadata": {},
   "outputs": [
    {
     "name": "stdout",
     "output_type": "stream",
     "text": [
      "/\n",
      "|--immanode\n",
      "|\t|--pointlistarray\n",
      "|\t|\t|--pointlist1\n",
      "|\t|--ar2\n",
      "|--ar1\n",
      "|--pointlist2\n"
     ]
    }
   ],
   "source": [
    "# show the tree, from root\n",
    "\n",
    "root.tree()"
   ]
  },
  {
   "cell_type": "code",
   "execution_count": 124,
   "id": "534fc8be",
   "metadata": {},
   "outputs": [
    {
     "name": "stdout",
     "output_type": "stream",
     "text": [
      "/\n",
      "|--pointlistarray\n",
      "|\t|--pointlist1\n",
      "|--ar2\n"
     ]
    }
   ],
   "source": [
    "# show the tree, from some node\n",
    "\n",
    "node.tree()"
   ]
  },
  {
   "cell_type": "code",
   "execution_count": 125,
   "id": "99aa6ae8",
   "metadata": {},
   "outputs": [
    {
     "name": "stdout",
     "output_type": "stream",
     "text": [
      "/\n",
      "|--immanode\n",
      "|\t|--pointlistarray\n",
      "|\t|\t|--pointlist1\n",
      "|\t|--ar2\n",
      "|--ar1\n",
      "|--pointlist2\n",
      "\n",
      "\n",
      "/\n",
      "|--immanode\n",
      "|\t|--pointlistarray\n",
      "|\t|\t|--pointlist1\n",
      "|\t|--ar2\n",
      "|--ar1\n",
      "|--pointlist2\n"
     ]
    }
   ],
   "source": [
    "# show the whole tree from root, using some node\n",
    "\n",
    "node.tree(show=True)\n",
    "print()\n",
    "print()\n",
    "node.tree(True)"
   ]
  },
  {
   "cell_type": "code",
   "execution_count": 126,
   "id": "4911fe17",
   "metadata": {},
   "outputs": [
    {
     "data": {
      "text/plain": [
       "PointList( A length 5 PointList called 'pointlist1',\n",
       "           with 2 fields:\n",
       "\n",
       "           rx   (int64)\n",
       "           ry   (int64)\n",
       ")"
      ]
     },
     "execution_count": 126,
     "metadata": {},
     "output_type": "execute_result"
    }
   ],
   "source": [
    "# get some node from root\n",
    "\n",
    "data = root.tree('immanode/pointlistarray/pointlist1')\n",
    "\n",
    "data"
   ]
  },
  {
   "cell_type": "code",
   "execution_count": 127,
   "id": "dedb5b45",
   "metadata": {},
   "outputs": [
    {
     "data": {
      "text/plain": [
       "PointList( A length 5 PointList called 'pointlist1',\n",
       "           with 2 fields:\n",
       "\n",
       "           rx   (int64)\n",
       "           ry   (int64)\n",
       ")"
      ]
     },
     "execution_count": 127,
     "metadata": {},
     "output_type": "execute_result"
    }
   ],
   "source": [
    "# get some node from another, upstream node\n",
    "\n",
    "data = pointlistarray.tree('pointlist1')\n",
    "\n",
    "data"
   ]
  },
  {
   "cell_type": "code",
   "execution_count": 128,
   "id": "64db4bf5",
   "metadata": {},
   "outputs": [
    {
     "data": {
      "text/plain": [
       "PointList( A length 5 PointList called 'pointlist1',\n",
       "           with 2 fields:\n",
       "\n",
       "           rx   (int64)\n",
       "           ry   (int64)\n",
       ")"
      ]
     },
     "execution_count": 128,
     "metadata": {},
     "output_type": "execute_result"
    }
   ],
   "source": [
    "# get some node from another node, using a path referenced to the root\n",
    "\n",
    "data = pointlistarray.tree('/immanode/pointlistarray/pointlist1')\n",
    "\n",
    "data"
   ]
  },
  {
   "cell_type": "markdown",
   "id": "124b5263",
   "metadata": {},
   "source": [
    "<a id='cutgraft'></a>\n",
    "\n",
    "\n",
    "## 4.3 Cutting and grafting branches\n",
    "\n",
    "\n",
    "In this section we'll make a new tree.  We use it first to demonstrate cutting branches off a parent tree to yield some new, smaller tree.  Then we demonstrate grafting a branch from one tree to another."
   ]
  },
  {
   "cell_type": "code",
   "execution_count": 129,
   "id": "891c4d19",
   "metadata": {},
   "outputs": [],
   "source": [
    "# make some data\n",
    "\n",
    "ar3 = emd.Array(\n",
    "    name = 'ar3',\n",
    "    data = np.arange(12,22).reshape((5,2))\n",
    ")\n",
    "node2 = emd.Node(\n",
    "    name = 'node2'\n",
    ")\n",
    "node3 = emd.Node(\n",
    "    name = 'node3'\n",
    ")\n",
    "pointlist3 = emd.PointList(\n",
    "    name = 'pointlist3',\n",
    "    data = np.ones(\n",
    "        3,\n",
    "        dtype = [('rx',int),('ry',int)]\n",
    "    )\n",
    ")\n",
    "pointlist4 = emd.PointList(\n",
    "    name = 'pointlist4',\n",
    "    data = np.zeros(\n",
    "        7,\n",
    "        dtype = [('qx',float),('qy',float)]\n",
    "    )\n",
    ")"
   ]
  },
  {
   "cell_type": "code",
   "execution_count": 130,
   "id": "e3932645",
   "metadata": {},
   "outputs": [
    {
     "name": "stdout",
     "output_type": "stream",
     "text": [
      "/\n",
      "|--node2\n",
      "|\t|--ar3\n",
      "|\t|--pointlist3\n",
      "|\t\t|--node3\n",
      "|--pointlist4\n"
     ]
    }
   ],
   "source": [
    "# make a tree\n",
    "\n",
    "root2 = emd.Root( name='treeofknowledge')\n",
    "root2.tree(node2)\n",
    "node2.tree(ar3)\n",
    "node2.tree(pointlist3)\n",
    "pointlist3.tree(node3)\n",
    "root2.tree(pointlist4)\n",
    "\n",
    "root2.tree()"
   ]
  },
  {
   "cell_type": "code",
   "execution_count": 131,
   "id": "3b88cd94",
   "metadata": {},
   "outputs": [
    {
     "data": {
      "text/plain": [
       "Root( A Node called 'pointlist3', containing the following top-level objects in its tree:\n",
       "\n",
       "          pointlist3 \t\t (PointList)\n",
       ")"
      ]
     },
     "execution_count": 131,
     "metadata": {},
     "output_type": "execute_result"
    }
   ],
   "source": [
    "# Cut a branch off of the tree\n",
    "\n",
    "new_root = pointlist3.tree(cut=True)\n",
    "\n",
    "new_root"
   ]
  },
  {
   "cell_type": "code",
   "execution_count": 132,
   "id": "5ddbfe34",
   "metadata": {},
   "outputs": [
    {
     "name": "stdout",
     "output_type": "stream",
     "text": [
      "/\n",
      "|--node2\n",
      "|\t|--ar3\n",
      "|--pointlist4\n",
      "\n",
      "/\n",
      "|--pointlist3\n",
      "\t|--node3\n"
     ]
    }
   ],
   "source": [
    "# Show the original tree and cut off branch\n",
    "\n",
    "root2.tree()\n",
    "print()\n",
    "new_root.tree()"
   ]
  },
  {
   "cell_type": "code",
   "execution_count": 133,
   "id": "dd18c9b8",
   "metadata": {},
   "outputs": [
    {
     "name": "stdout",
     "output_type": "stream",
     "text": [
      "/\n",
      "|--node2\n",
      "|\t|--ar3\n",
      "|--pointlist4\n",
      "\n",
      "/\n",
      "|--immanode\n",
      "|\t|--pointlistarray\n",
      "|\t|\t|--pointlist1\n",
      "|\t|--ar2\n",
      "|--ar1\n",
      "|--pointlist2\n"
     ]
    }
   ],
   "source": [
    "# Graft a branch from one tree onto another\n",
    "# let's graft from root2 at `node2` onto root at `pointlist1`\n",
    "\n",
    "# start by showing the two trees\n",
    "root2.tree()\n",
    "print()\n",
    "root.tree()"
   ]
  },
  {
   "cell_type": "code",
   "execution_count": 134,
   "id": "be227d36",
   "metadata": {},
   "outputs": [
    {
     "name": "stdout",
     "output_type": "stream",
     "text": [
      "/\n",
      "|--pointlist4\n",
      "\n",
      "/\n",
      "|--immanode\n",
      "|\t|--pointlistarray\n",
      "|\t|\t|--pointlist1\n",
      "|\t|\t\t|--node2\n",
      "|\t|\t\t\t|--ar3\n",
      "|\t|--ar2\n",
      "|--ar1\n",
      "|--pointlist2\n"
     ]
    }
   ],
   "source": [
    "# perform the graft\n",
    "node2.graft(pointlist1)\n",
    "\n",
    "# showing the two trees\n",
    "root2.tree()\n",
    "print()\n",
    "root.tree()"
   ]
  },
  {
   "cell_type": "markdown",
   "id": "31577101",
   "metadata": {},
   "source": [
    "<a id='rootmetadata'></a>\n",
    "\n",
    "\n",
    "## 4.4 Cut/graft root metadata options\n",
    "\n",
    "`emd` defines trees which are *almost* unidirectional: each node knows about and points to only the nodes downstream of itself...*plus*, each node also knows about and points to the root node of its tree.  This is helpful in a number of ways.  One is that metadata living in root is available to every object in that tree.  When cutting or grafting branches, the question then arises: should the root metadata be carried along to the new tree's root, or not?"
   ]
  },
  {
   "cell_type": "code",
   "execution_count": 135,
   "id": "c6fa7c8a",
   "metadata": {},
   "outputs": [],
   "source": [
    "node.tree?"
   ]
  },
  {
   "cell_type": "code",
   "execution_count": 136,
   "id": "5ed11049",
   "metadata": {},
   "outputs": [],
   "source": [
    "# make a data trees\n",
    "\n",
    "def make_trees():\n",
    "\n",
    "    # roots\n",
    "    root1 = emd.Root( name='root1' )\n",
    "    root2 = emd.Root( name='root2' )\n",
    "\n",
    "    # nodes\n",
    "    node1 = emd.Node( name = 'node1' )\n",
    "    node2 = emd.Node( name = 'node2' )\n",
    "    node3 = emd.Node( name = 'node3' )\n",
    "    node4 = emd.Node( name = 'node4' )\n",
    "\n",
    "    # tree 1\n",
    "    root1.tree(node1)\n",
    "    node1.tree(node2)\n",
    "    node2.tree(node3)\n",
    "    # add root metadata\n",
    "    root1.metadata = emd.Metadata(\n",
    "        name = 'metadata1',\n",
    "        data = {'x':1}\n",
    "    )\n",
    "    root1.metadata = emd.Metadata(\n",
    "        name = 'metadata2',\n",
    "        data = {'y':2}\n",
    "    )\n",
    "    \n",
    "    # tree 2\n",
    "    root2.tree(node4)\n",
    "    # add root metadata\n",
    "    root2.metadata = emd.Metadata(\n",
    "        name = 'metadata3',\n",
    "        data = {'z':3}\n",
    "    )\n",
    "    \n",
    "    return root1,root2\n",
    "\n",
    "root1,root2 = make_trees()"
   ]
  },
  {
   "cell_type": "code",
   "execution_count": 137,
   "id": "83f92db7",
   "metadata": {},
   "outputs": [
    {
     "name": "stdout",
     "output_type": "stream",
     "text": [
      "/\n",
      "|--node1\n",
      "\t|--node2\n",
      "\t\t|--node3\n",
      "\n",
      "/\n",
      "|--node4\n"
     ]
    }
   ],
   "source": [
    "# show the trees\n",
    "\n",
    "root1.tree()\n",
    "print()\n",
    "root2.tree()"
   ]
  },
  {
   "cell_type": "markdown",
   "id": "3f6139de",
   "metadata": {},
   "source": [
    "<a id='rootmetadatacutting'></a>\n",
    "\n",
    "### 4.4.1 Cutting\n",
    "\n",
    "First we'll cut a branch off of the first tree.  When cutting a branch off an existing tree, a new root is created at the base of the new branch.  The old root metadata can be left behind, or pointers to the same metadata can be added to the new root, or copies of the metadata can be placed in the new root."
   ]
  },
  {
   "cell_type": "code",
   "execution_count": 138,
   "id": "6a96979a",
   "metadata": {},
   "outputs": [
    {
     "data": {
      "text/plain": [
       "dict_keys(['metadata1', 'metadata2'])"
      ]
     },
     "execution_count": 138,
     "metadata": {},
     "output_type": "execute_result"
    }
   ],
   "source": [
    "# Check the existint metadata\n",
    "\n",
    "root1.metadata.keys()"
   ]
  },
  {
   "cell_type": "code",
   "execution_count": 139,
   "id": "83dfe449",
   "metadata": {},
   "outputs": [
    {
     "name": "stdout",
     "output_type": "stream",
     "text": [
      "Metadata( A Metadata instance called 'metadata1', containing the following fields:\n",
      "\n",
      "          x:   1\n",
      ")\n",
      "Metadata( A Metadata instance called 'metadata2', containing the following fields:\n",
      "\n",
      "          y:   2\n",
      ")\n"
     ]
    }
   ],
   "source": [
    "print(root1.metadata['metadata1'])\n",
    "print(root1.metadata['metadata2'])"
   ]
  },
  {
   "cell_type": "markdown",
   "id": "3f3e2988",
   "metadata": {},
   "source": [
    "<a id='rootmetadatapointers'></a>\n",
    "\n",
    "#### 4.4.1.1 add pointers"
   ]
  },
  {
   "cell_type": "code",
   "execution_count": 140,
   "id": "2e516dee",
   "metadata": {},
   "outputs": [
    {
     "name": "stdout",
     "output_type": "stream",
     "text": [
      "/\n",
      "|--node1\n",
      "\t|--node2\n",
      "\t\t|--node3\n",
      "/\n",
      "|--node3\n"
     ]
    }
   ],
   "source": [
    "# Before performing the cut, we'll find the node we want to cut at\n",
    "\n",
    "# show the tree\n",
    "root1.tree()\n",
    "\n",
    "# get the node of interest\n",
    "target_node = root1.tree('node1/node2')\n",
    "\n",
    "# show the tree under this node\n",
    "target_node.tree()"
   ]
  },
  {
   "cell_type": "code",
   "execution_count": 141,
   "id": "712c6cd1",
   "metadata": {},
   "outputs": [
    {
     "name": "stdout",
     "output_type": "stream",
     "text": [
      "/\n",
      "|--node1\n",
      "\n",
      "/\n",
      "|--node2\n",
      "\t|--node3\n"
     ]
    }
   ],
   "source": [
    "# When we cut a branch from a tree, it creates its own new root under the node where we made the cut.\n",
    "# Here, pointers to the old root metadata are included in the new root metadata\n",
    "\n",
    "# cut off the branch\n",
    "new_root = target_node.tree(cut=True)\n",
    "\n",
    "# show the old and new trees\n",
    "root1.tree()\n",
    "print()\n",
    "new_root.tree()"
   ]
  },
  {
   "cell_type": "code",
   "execution_count": 142,
   "id": "5ce6763c",
   "metadata": {},
   "outputs": [],
   "source": [
    "# The old and new root metadata contain the same information\n",
    "\n",
    "check_metadata(root1, new_root)"
   ]
  },
  {
   "cell_type": "code",
   "execution_count": 143,
   "id": "610468cf",
   "metadata": {},
   "outputs": [],
   "source": [
    "# And are in fact the same objects\n",
    "\n",
    "for key in root1.metadata.keys():\n",
    "    \n",
    "    assert( root1.metadata[key] is new_root.metadata[key] )"
   ]
  },
  {
   "cell_type": "markdown",
   "id": "f411687f",
   "metadata": {},
   "source": [
    "<a id='rootmetadatacopies'></a>\n",
    "\n",
    "\n",
    "#### 4.4.1.2 add copies"
   ]
  },
  {
   "cell_type": "code",
   "execution_count": 144,
   "id": "eee00dd1",
   "metadata": {},
   "outputs": [],
   "source": [
    "# make fresh trees\n",
    "\n",
    "root1,_ = make_trees()"
   ]
  },
  {
   "cell_type": "code",
   "execution_count": 145,
   "id": "35e470d3",
   "metadata": {},
   "outputs": [
    {
     "name": "stdout",
     "output_type": "stream",
     "text": [
      "/\n",
      "|--node1\n",
      "\t|--node2\n",
      "\t\t|--node3\n",
      "/\n",
      "|--node3\n"
     ]
    }
   ],
   "source": [
    "# Find the node we want to cut at\n",
    "\n",
    "# show the tree\n",
    "root1.tree()\n",
    "\n",
    "# get the node of interest\n",
    "target_node = root1.tree('node1/node2')\n",
    "\n",
    "# show the tree under this node\n",
    "target_node.tree()"
   ]
  },
  {
   "cell_type": "code",
   "execution_count": 146,
   "id": "b14d2866",
   "metadata": {},
   "outputs": [
    {
     "name": "stdout",
     "output_type": "stream",
     "text": [
      "/\n",
      "|--node1\n",
      "\n",
      "/\n",
      "|--node2\n",
      "\t|--node3\n"
     ]
    }
   ],
   "source": [
    "# This time we'll copy the metadata\n",
    "\n",
    "# cut off the branch\n",
    "new_root = target_node.tree(cut='copy')\n",
    "\n",
    "# show the old and new trees\n",
    "root1.tree()\n",
    "print()\n",
    "new_root.tree()"
   ]
  },
  {
   "cell_type": "code",
   "execution_count": 147,
   "id": "7701db00",
   "metadata": {},
   "outputs": [],
   "source": [
    "# The old and new root metadata contain the same information\n",
    "\n",
    "for k in root1.metadata.keys():\n",
    "    md_i,md_f = root1.metadata[k],new_root.metadata[k+\"_copy\"]\n",
    "    for k in md_i.keys:\n",
    "        assert( md_i[k] == md_f[k] )"
   ]
  },
  {
   "cell_type": "code",
   "execution_count": 148,
   "id": "3ef6171a",
   "metadata": {},
   "outputs": [],
   "source": [
    "# But they are *not* the same objects\n",
    "\n",
    "for k in root1.metadata.keys():\n",
    "    assert( root1.metadata[k] is not new_root.metadata[k+\"_copy\"] )"
   ]
  },
  {
   "cell_type": "markdown",
   "id": "177cee54",
   "metadata": {},
   "source": [
    "<a id='rootmetadatanometadata'></a>\n",
    "\n",
    "#### 4.4.1.3 no metadata"
   ]
  },
  {
   "cell_type": "code",
   "execution_count": 149,
   "id": "1aaa7e06",
   "metadata": {},
   "outputs": [],
   "source": [
    "# make fresh trees\n",
    "\n",
    "root1,_ = make_trees()"
   ]
  },
  {
   "cell_type": "code",
   "execution_count": 150,
   "id": "e8690594",
   "metadata": {},
   "outputs": [
    {
     "name": "stdout",
     "output_type": "stream",
     "text": [
      "/\n",
      "|--node1\n",
      "\t|--node2\n",
      "\t\t|--node3\n",
      "/\n",
      "|--node3\n"
     ]
    }
   ],
   "source": [
    "# Find the node we want to cut at\n",
    "\n",
    "# show the tree\n",
    "root1.tree()\n",
    "\n",
    "# get the node of interest\n",
    "target_node = root1.tree('node1/node2')\n",
    "\n",
    "# show the tree under this node\n",
    "target_node.tree()"
   ]
  },
  {
   "cell_type": "code",
   "execution_count": 151,
   "id": "65855157",
   "metadata": {},
   "outputs": [
    {
     "name": "stdout",
     "output_type": "stream",
     "text": [
      "/\n",
      "|--node1\n",
      "\n",
      "/\n",
      "|--node2\n",
      "\t|--node3\n"
     ]
    }
   ],
   "source": [
    "# Cut the branch, but don't transfer any root metadata\n",
    "\n",
    "# cut off the branch\n",
    "new_root = target_node.tree(cut=False)\n",
    "\n",
    "# show the old and new trees\n",
    "root1.tree()\n",
    "print()\n",
    "new_root.tree()"
   ]
  },
  {
   "cell_type": "code",
   "execution_count": 152,
   "id": "153021ae",
   "metadata": {},
   "outputs": [
    {
     "name": "stdout",
     "output_type": "stream",
     "text": [
      "dict_keys(['metadata1', 'metadata2'])\n",
      "\n",
      "dict_keys([])\n"
     ]
    }
   ],
   "source": [
    "# Check\n",
    "\n",
    "print(root1.metadata.keys())\n",
    "print()\n",
    "print(new_root.metadata.keys())"
   ]
  },
  {
   "cell_type": "markdown",
   "id": "80514fd9",
   "metadata": {},
   "source": [
    "<a id='graft'></a>\n",
    "\n",
    "### 4.4.2 Grafting\n",
    "\n",
    "The same options exist when grafting a branch from tree_source to tree_target, however, in this case tree_target may already have metadata of its own.  In this case, adding pointers or copying metadata will work normally if there are no name conflicts between metadata in the source and target trees.  If there is a name conflict, linked or copied source root metadata will overwrite target root metadata of the same name."
   ]
  },
  {
   "cell_type": "code",
   "execution_count": 153,
   "id": "28c8defd",
   "metadata": {},
   "outputs": [
    {
     "name": "stdout",
     "output_type": "stream",
     "text": [
      "/\n",
      "|--node1\n",
      "\t|--node2\n",
      "\t\t|--node3\n",
      "\n",
      "/\n",
      "|--node4\n"
     ]
    }
   ],
   "source": [
    "# Make the trees\n",
    "\n",
    "root1,root2 = make_trees()\n",
    "\n",
    "\n",
    "# and show their contents\n",
    "\n",
    "root1.tree()\n",
    "print()\n",
    "root2.tree()"
   ]
  },
  {
   "cell_type": "code",
   "execution_count": 154,
   "id": "4ecd3e5e",
   "metadata": {},
   "outputs": [
    {
     "name": "stdout",
     "output_type": "stream",
     "text": [
      "{'metadata1': Metadata( A Metadata instance called 'metadata1', containing the following fields:\n",
      "\n",
      "          x:   1\n",
      "), 'metadata2': Metadata( A Metadata instance called 'metadata2', containing the following fields:\n",
      "\n",
      "          y:   2\n",
      ")}\n",
      "\n",
      "{'metadata3': Metadata( A Metadata instance called 'metadata3', containing the following fields:\n",
      "\n",
      "          z:   3\n",
      ")}\n"
     ]
    }
   ],
   "source": [
    "# Examine the metadata\n",
    "\n",
    "print(root1.metadata)\n",
    "print()\n",
    "print(root2.metadata)"
   ]
  },
  {
   "cell_type": "code",
   "execution_count": 155,
   "id": "543982da",
   "metadata": {},
   "outputs": [],
   "source": [
    "# We'll graft from root1 onto root2. So lets add a new Metadata instance to root1,\n",
    "# that has the same name as the dictionary in root2, but different contents\n",
    "\n",
    "root1.metadata = emd.Metadata(\n",
    "    name = 'metadata3',\n",
    "    data = {\n",
    "        'thats a horse' : 'of a different color'\n",
    "    }\n",
    ")"
   ]
  },
  {
   "cell_type": "code",
   "execution_count": 156,
   "id": "b8c44398",
   "metadata": {},
   "outputs": [
    {
     "name": "stdout",
     "output_type": "stream",
     "text": [
      "/\n",
      "|--node1\n",
      "\t|--node2\n",
      "\t\t|--node3\n",
      "\n",
      "/\n",
      "|--node4\n",
      "\n",
      "\n"
     ]
    }
   ],
   "source": [
    "# Find the node we want to cut at\n",
    "\n",
    "# show the trees\n",
    "root1.tree()\n",
    "print()\n",
    "root2.tree()\n",
    "print()\n",
    "print()\n",
    "\n",
    "# get the souce and target nodes\n",
    "source_node = root1.tree('node1/node2')\n",
    "target_node = root2.tree('node4')\n"
   ]
  },
  {
   "cell_type": "code",
   "execution_count": 157,
   "id": "663cf0eb",
   "metadata": {},
   "outputs": [
    {
     "data": {
      "text/plain": [
       "Root( A Node called 'root2', containing the following top-level objects in its tree:\n",
       "\n",
       "          node4 \t\t (Node)\n",
       ")"
      ]
     },
     "execution_count": 157,
     "metadata": {},
     "output_type": "execute_result"
    }
   ],
   "source": [
    "# perform the graft\n",
    "\n",
    "source_node.tree(graft = target_node)"
   ]
  },
  {
   "cell_type": "code",
   "execution_count": 158,
   "id": "334f9424",
   "metadata": {},
   "outputs": [
    {
     "name": "stdout",
     "output_type": "stream",
     "text": [
      "/\n",
      "|--node1\n",
      "\n",
      "/\n",
      "|--node4\n",
      "\t|--node2\n",
      "\t\t|--node3\n"
     ]
    }
   ],
   "source": [
    "# show the trees after the graft\n",
    "\n",
    "root1.tree()\n",
    "print()\n",
    "root2.tree()"
   ]
  },
  {
   "cell_type": "code",
   "execution_count": 159,
   "id": "4dbed8e3",
   "metadata": {},
   "outputs": [
    {
     "name": "stdout",
     "output_type": "stream",
     "text": [
      "{'metadata1': Metadata( A Metadata instance called 'metadata1', containing the following fields:\n",
      "\n",
      "          x:   1\n",
      "), 'metadata2': Metadata( A Metadata instance called 'metadata2', containing the following fields:\n",
      "\n",
      "          y:   2\n",
      "), 'metadata3': Metadata( A Metadata instance called 'metadata3', containing the following fields:\n",
      "\n",
      "          thats a horse:   of a different color\n",
      ")}\n",
      "\n",
      "{'metadata3': Metadata( A Metadata instance called 'metadata3', containing the following fields:\n",
      "\n",
      "          thats a horse:   of a different color\n",
      "), 'metadata1': Metadata( A Metadata instance called 'metadata1', containing the following fields:\n",
      "\n",
      "          x:   1\n",
      "), 'metadata2': Metadata( A Metadata instance called 'metadata2', containing the following fields:\n",
      "\n",
      "          y:   2\n",
      ")}\n"
     ]
    }
   ],
   "source": [
    "# show the root metadata\n",
    "\n",
    "print(root1.metadata)\n",
    "print()\n",
    "print(root2.metadata)"
   ]
  },
  {
   "cell_type": "markdown",
   "id": "c8ae20f1",
   "metadata": {},
   "source": [
    "<a id='graftrootoptions'></a>\n",
    "\n",
    "#### 4.4.2.1 graft root metadata options\n",
    "\n",
    "The same options for copying, linking, or discarding root metadata that were available when cutting off a branch are available when grafting, with a little extra syntax.  The default behavior, shown above, is to link the root metadata.  To instead copy the root metadata, use\n",
    "    \n",
    "    >>> source_node.tree(graft = (target_node,'copy'))\n",
    "    \n",
    "and to avoid transferring root metadata, use\n",
    "\n",
    "    >>> source_node.tree(graft = (target_node,False))"
   ]
  },
  {
   "cell_type": "markdown",
   "id": "dd9244b4",
   "metadata": {},
   "source": [
    "<a id='emdspec'></a>\n",
    "\n",
    "# 5. The EMD 1.0 File"
   ]
  },
  {
   "cell_type": "code",
   "execution_count": 160,
   "id": "61aa99d8",
   "metadata": {},
   "outputs": [],
   "source": [
    "clean()"
   ]
  },
  {
   "cell_type": "markdown",
   "id": "de248fed",
   "metadata": {},
   "source": [
    "<a id='treesandroots'></a>\n",
    "\n",
    "## 5.1 Trees and roots\n",
    "\n",
    "aka `topgroups` in the older parlance, aka homes for `trees`.  Each EMD 1.0 file may contain any number of EMD object trees.  Each tree must begin with a root.  To"
   ]
  },
  {
   "cell_type": "code",
   "execution_count": null,
   "id": "7924301b",
   "metadata": {},
   "outputs": [],
   "source": []
  },
  {
   "cell_type": "code",
   "execution_count": null,
   "id": "942f958c",
   "metadata": {},
   "outputs": [],
   "source": []
  },
  {
   "cell_type": "code",
   "execution_count": null,
   "id": "fda9049e",
   "metadata": {},
   "outputs": [],
   "source": []
  },
  {
   "cell_type": "code",
   "execution_count": null,
   "id": "ed3c3b89",
   "metadata": {},
   "outputs": [],
   "source": []
  },
  {
   "cell_type": "markdown",
   "id": "da754354",
   "metadata": {},
   "source": [
    "## 5.2 Appending new roots"
   ]
  },
  {
   "cell_type": "code",
   "execution_count": null,
   "id": "2229455f",
   "metadata": {},
   "outputs": [],
   "source": []
  },
  {
   "cell_type": "code",
   "execution_count": null,
   "id": "96c5cc1f",
   "metadata": {},
   "outputs": [],
   "source": []
  },
  {
   "cell_type": "code",
   "execution_count": null,
   "id": "7b1f8f26",
   "metadata": {},
   "outputs": [],
   "source": []
  },
  {
   "cell_type": "code",
   "execution_count": null,
   "id": "7b331860",
   "metadata": {},
   "outputs": [],
   "source": []
  },
  {
   "cell_type": "markdown",
   "id": "208e0645",
   "metadata": {},
   "source": [
    "## 5.3 Reading from different roots"
   ]
  },
  {
   "cell_type": "code",
   "execution_count": null,
   "id": "18324fec",
   "metadata": {},
   "outputs": [],
   "source": []
  },
  {
   "cell_type": "code",
   "execution_count": null,
   "id": "95ccde2b",
   "metadata": {},
   "outputs": [],
   "source": []
  },
  {
   "cell_type": "code",
   "execution_count": null,
   "id": "8e32c010",
   "metadata": {},
   "outputs": [],
   "source": []
  },
  {
   "cell_type": "code",
   "execution_count": null,
   "id": "eae92cde",
   "metadata": {},
   "outputs": [],
   "source": []
  },
  {
   "cell_type": "markdown",
   "id": "6fbfa4bd",
   "metadata": {},
   "source": [
    "# 6. Append and other fancy read / write operations"
   ]
  },
  {
   "cell_type": "code",
   "execution_count": null,
   "id": "c619067d",
   "metadata": {},
   "outputs": [],
   "source": []
  },
  {
   "cell_type": "markdown",
   "id": "982e88c5",
   "metadata": {},
   "source": [
    "## 6.1 Read from any node"
   ]
  },
  {
   "cell_type": "code",
   "execution_count": null,
   "id": "0aec1772",
   "metadata": {},
   "outputs": [],
   "source": []
  },
  {
   "cell_type": "code",
   "execution_count": null,
   "id": "3afbfa49",
   "metadata": {},
   "outputs": [],
   "source": []
  },
  {
   "cell_type": "code",
   "execution_count": null,
   "id": "abfed54d",
   "metadata": {},
   "outputs": [],
   "source": []
  },
  {
   "cell_type": "code",
   "execution_count": null,
   "id": "b1e8748b",
   "metadata": {},
   "outputs": [],
   "source": []
  },
  {
   "cell_type": "markdown",
   "id": "7ef49e24",
   "metadata": {},
   "source": [
    "## 6.2 Read from a single node, read a whole branch, read a branch without it's source node"
   ]
  },
  {
   "cell_type": "code",
   "execution_count": null,
   "id": "6262684c",
   "metadata": {},
   "outputs": [],
   "source": []
  },
  {
   "cell_type": "code",
   "execution_count": null,
   "id": "007c5c94",
   "metadata": {},
   "outputs": [],
   "source": []
  },
  {
   "cell_type": "code",
   "execution_count": null,
   "id": "f50a5fbf",
   "metadata": {},
   "outputs": [],
   "source": []
  },
  {
   "cell_type": "code",
   "execution_count": null,
   "id": "19b9f34c",
   "metadata": {},
   "outputs": [],
   "source": []
  },
  {
   "cell_type": "markdown",
   "id": "8c86a2d5",
   "metadata": {},
   "source": [
    "## 6.3 Append to an existing tree"
   ]
  },
  {
   "cell_type": "code",
   "execution_count": null,
   "id": "c0776017",
   "metadata": {},
   "outputs": [],
   "source": []
  },
  {
   "cell_type": "code",
   "execution_count": null,
   "id": "9c2d1dfe",
   "metadata": {},
   "outputs": [],
   "source": []
  },
  {
   "cell_type": "code",
   "execution_count": null,
   "id": "22687380",
   "metadata": {},
   "outputs": [],
   "source": []
  },
  {
   "cell_type": "code",
   "execution_count": null,
   "id": "683ede5d",
   "metadata": {},
   "outputs": [],
   "source": []
  },
  {
   "cell_type": "markdown",
   "id": "34771f84",
   "metadata": {},
   "source": [
    "## 6.4 Append conflict resolution"
   ]
  },
  {
   "cell_type": "code",
   "execution_count": null,
   "id": "b68b0faf",
   "metadata": {},
   "outputs": [],
   "source": []
  },
  {
   "cell_type": "code",
   "execution_count": null,
   "id": "bdcde0a3",
   "metadata": {},
   "outputs": [],
   "source": []
  },
  {
   "cell_type": "code",
   "execution_count": null,
   "id": "d99c76a4",
   "metadata": {},
   "outputs": [],
   "source": []
  },
  {
   "cell_type": "code",
   "execution_count": null,
   "id": "bd981060",
   "metadata": {},
   "outputs": [],
   "source": []
  },
  {
   "cell_type": "markdown",
   "id": "acb3e2aa",
   "metadata": {},
   "source": [
    "## 6.5 Append root metadata handling"
   ]
  },
  {
   "cell_type": "code",
   "execution_count": null,
   "id": "630785da",
   "metadata": {},
   "outputs": [],
   "source": []
  },
  {
   "cell_type": "code",
   "execution_count": null,
   "id": "976e6d81",
   "metadata": {},
   "outputs": [],
   "source": []
  },
  {
   "cell_type": "code",
   "execution_count": null,
   "id": "4881159a",
   "metadata": {},
   "outputs": [],
   "source": []
  },
  {
   "cell_type": "code",
   "execution_count": null,
   "id": "0b7bf6be",
   "metadata": {},
   "outputs": [],
   "source": []
  },
  {
   "cell_type": "markdown",
   "id": "eecdb083",
   "metadata": {},
   "source": [
    "## 6.6 Storage and re-writes to free up space"
   ]
  },
  {
   "cell_type": "code",
   "execution_count": null,
   "id": "4a4e6aed",
   "metadata": {},
   "outputs": [],
   "source": []
  },
  {
   "cell_type": "code",
   "execution_count": null,
   "id": "637adc64",
   "metadata": {},
   "outputs": [],
   "source": []
  },
  {
   "cell_type": "code",
   "execution_count": null,
   "id": "a22ffe16",
   "metadata": {},
   "outputs": [],
   "source": []
  },
  {
   "cell_type": "code",
   "execution_count": null,
   "id": "37e65ab5",
   "metadata": {},
   "outputs": [],
   "source": []
  },
  {
   "cell_type": "code",
   "execution_count": null,
   "id": "0f90cb98",
   "metadata": {},
   "outputs": [],
   "source": []
  },
  {
   "cell_type": "code",
   "execution_count": null,
   "id": "9e72fe76",
   "metadata": {},
   "outputs": [],
   "source": []
  },
  {
   "cell_type": "code",
   "execution_count": null,
   "id": "4b6ca397",
   "metadata": {},
   "outputs": [],
   "source": []
  },
  {
   "cell_type": "code",
   "execution_count": null,
   "id": "4ae0398d",
   "metadata": {},
   "outputs": [],
   "source": []
  },
  {
   "cell_type": "code",
   "execution_count": null,
   "id": "7f5953f1",
   "metadata": {},
   "outputs": [],
   "source": []
  },
  {
   "cell_type": "code",
   "execution_count": null,
   "id": "6c6f9b7c",
   "metadata": {},
   "outputs": [],
   "source": []
  }
 ],
 "metadata": {
  "kernelspec": {
   "display_name": "Python 3 (ipykernel)",
   "language": "python",
   "name": "python3"
  },
  "language_info": {
   "codemirror_mode": {
    "name": "ipython",
    "version": 3
   },
   "file_extension": ".py",
   "mimetype": "text/x-python",
   "name": "python",
   "nbconvert_exporter": "python",
   "pygments_lexer": "ipython3",
   "version": "3.10.9"
  }
 },
 "nbformat": 4,
 "nbformat_minor": 5
}
