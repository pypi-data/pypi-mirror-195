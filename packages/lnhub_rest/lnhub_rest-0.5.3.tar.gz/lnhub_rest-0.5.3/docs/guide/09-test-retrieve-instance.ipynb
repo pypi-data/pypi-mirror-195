{
 "cells": [
  {
   "cell_type": "markdown",
   "metadata": {},
   "source": [
    "# Test retrieve instance"
   ]
  },
  {
   "cell_type": "code",
   "execution_count": null,
   "metadata": {},
   "outputs": [],
   "source": [
    "from lnhub_rest._sbclient import get_access_token\n",
    "from lnhub_rest.main import client\n",
    "from lnhub_rest.routers.instance import get_instance_accounts, get_instance_by_name\n",
    "from lnhub_rest._sbclient import connect_hub"
   ]
  },
  {
   "cell_type": "code",
   "execution_count": null,
   "metadata": {},
   "outputs": [],
   "source": [
    "hub = connect_hub()\n",
    "\n",
    "session_local_static_testuser1 = hub.auth.sign_in(\n",
    "    email=\"local-static-testuser1@lamin.ai\", password=\"local-static-testuser1-password\"\n",
    ")\n",
    "\n",
    "session_local_static_testuser2 = hub.auth.sign_in(\n",
    "    email=\"local-static-testuser2@lamin.ai\", password=\"local-static-testuser2-password\"\n",
    ")"
   ]
  },
  {
   "cell_type": "code",
   "execution_count": null,
   "metadata": {},
   "outputs": [],
   "source": [
    "account_1_id = str(session_local_static_testuser1.user.id)\n",
    "account_1_handle = \"local-static-testuser1\"\n",
    "account_1_access_token = get_access_token(\n",
    "    \"local-static-testuser1@lamin.ai\", \"local-static-testuser1-password\"\n",
    ")\n",
    "account_1_authentication = f\"Bearer {account_1_access_token}\"\n",
    "\n",
    "instance_1_name = \"local-static-testinstance1\"\n",
    "\n",
    "instance_expected = {\n",
    "    \"instance\": {\n",
    "        \"id\": \"1730fa67-5b76-4997-9239-cf26394fe70b\",\n",
    "        \"account_id\": str(session_local_static_testuser1.user.id),\n",
    "        \"name\": \"local-static-testinstance1\",\n",
    "        \"storage_id\": \"b57cf777-a606-4c72-813e-443163b6c244\",\n",
    "        \"db\": None,\n",
    "        \"schema_str\": \"\",\n",
    "        \"created_at\": \"2023-02-17T12:33:39.673626\",\n",
    "        \"updated_at\": None,\n",
    "        \"description\": None,\n",
    "        \"public\": False,\n",
    "        \"account\": {\n",
    "            \"handle\": account_1_handle,\n",
    "            \"id\": account_1_id,\n",
    "        },\n",
    "    },\n",
    "    \"permission\": \"admin\",\n",
    "}\n",
    "\n",
    "instance_accounts_expected = {\n",
    "    \"accounts\": [\n",
    "        {\n",
    "            \"account_id\": str(session_local_static_testuser1.user.id),\n",
    "            \"instance_id\": \"1730fa67-5b76-4997-9239-cf26394fe70b\",\n",
    "            \"permission\": \"admin\",\n",
    "            \"created_at\": \"2023-02-17T12:33:39.810179\",\n",
    "            \"updated_at\": None,\n",
    "            \"account\": {\n",
    "                \"id\": str(session_local_static_testuser1.user.id),\n",
    "                \"lnid\": \"a5ea1UV7\",\n",
    "                \"handle\": \"local-static-testuser1\",\n",
    "                \"name\": \"Local static test user 1\",\n",
    "                \"bio\": None,\n",
    "                \"website\": None,\n",
    "                \"github_handle\": None,\n",
    "                \"twitter_handle\": None,\n",
    "                \"linkedin_handle\": None,\n",
    "                \"created_at\": \"2023-02-10T15:55:03.340037\",\n",
    "                \"updated_at\": None,\n",
    "                \"user_id\": str(session_local_static_testuser1.user.id),\n",
    "                \"avatar_url\": None,\n",
    "            },\n",
    "        },\n",
    "        {\n",
    "            \"account_id\": str(session_local_static_testuser2.user.id),\n",
    "            \"instance_id\": \"1730fa67-5b76-4997-9239-cf26394fe70b\",\n",
    "            \"permission\": \"read\",\n",
    "            \"created_at\": \"2023-02-17T14:11:41.943979\",\n",
    "            \"updated_at\": None,\n",
    "            \"account\": {\n",
    "                \"id\": str(session_local_static_testuser2.user.id),\n",
    "                \"lnid\": \"a4ibCkOy\",\n",
    "                \"handle\": \"local-static-testuser2\",\n",
    "                \"name\": \"Local static test user 2\",\n",
    "                \"bio\": None,\n",
    "                \"website\": None,\n",
    "                \"github_handle\": None,\n",
    "                \"twitter_handle\": None,\n",
    "                \"linkedin_handle\": None,\n",
    "                \"created_at\": \"2023-02-16T12:29:47.028966\",\n",
    "                \"updated_at\": None,\n",
    "                \"user_id\": str(session_local_static_testuser2.user.id),\n",
    "                \"avatar_url\": None,\n",
    "            },\n",
    "        },\n",
    "    ],\n",
    "    \"permission\": \"admin\",\n",
    "}"
   ]
  },
  {
   "cell_type": "code",
   "execution_count": null,
   "metadata": {},
   "outputs": [],
   "source": [
    "account = get_instance_by_name(\n",
    "    account_1_handle, instance_1_name, account_1_authentication\n",
    ")\n",
    "assert str(account) == str(instance_expected)\n",
    "\n",
    "\n",
    "response = client.get(\n",
    "    f\"/instance/{account_1_handle}/{instance_1_name}\",\n",
    "    headers={\"authentication\": account_1_authentication},\n",
    ")\n",
    "assert str(response.json()) == str(instance_expected)"
   ]
  },
  {
   "cell_type": "code",
   "execution_count": null,
   "metadata": {},
   "outputs": [],
   "source": [
    "instance_accounts = get_instance_accounts(\n",
    "    account_1_handle, instance_1_name, account_1_authentication\n",
    ")\n",
    "assert str(instance_accounts) == str(instance_accounts_expected)\n",
    "\n",
    "\n",
    "response = client.get(\n",
    "    f\"/instance/resources/accounts/{account_1_handle}/{instance_1_name}\",\n",
    "    headers={\"authentication\": account_1_authentication},\n",
    ")\n",
    "assert str(response.json()) == str(instance_accounts_expected)"
   ]
  }
 ],
 "metadata": {
  "kernelspec": {
   "display_name": "Python 3 (ipykernel)",
   "language": "python",
   "name": "python3"
  },
  "language_info": {
   "codemirror_mode": {
    "name": "ipython",
    "version": 3
   },
   "file_extension": ".py",
   "mimetype": "text/x-python",
   "name": "python",
   "nbconvert_exporter": "python",
   "pygments_lexer": "ipython3",
   "version": "3.9.13"
  },
  "vscode": {
   "interpreter": {
    "hash": "2841734f87827db3a7b3181a6051fe720e9968e703956c2bd6988b5a29362801"
   }
  }
 },
 "nbformat": 4,
 "nbformat_minor": 4
}
