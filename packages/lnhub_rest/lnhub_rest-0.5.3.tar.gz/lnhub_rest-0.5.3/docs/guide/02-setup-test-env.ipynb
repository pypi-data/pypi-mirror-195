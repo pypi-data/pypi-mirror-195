{
 "cells": [
  {
   "cell_type": "code",
   "execution_count": null,
   "metadata": {},
   "outputs": [],
   "source": [
    "from lnhub_rest._sbclient import connect_hub\n",
    "from lnhub_rest._init_instance import init_instance\n",
    "from lndb import login, init"
   ]
  },
  {
   "cell_type": "code",
   "execution_count": null,
   "metadata": {},
   "outputs": [],
   "source": [
    "hub = connect_hub()"
   ]
  },
  {
   "cell_type": "code",
   "execution_count": null,
   "metadata": {},
   "outputs": [],
   "source": [
    "session_local_testuser1 = hub.auth.sign_up(\n",
    "    email=\"local-testuser1@lamin.ai\", password=\"local-testuser1-password\"\n",
    ")\n",
    "\n",
    "data = (\n",
    "    hub.table(\"account\")\n",
    "    .insert(\n",
    "        {\n",
    "            \"id\": str(session_local_testuser1.user.id),\n",
    "            \"lnid\": \"b5ea1UV7\",\n",
    "            \"handle\": \"local-testuser1\",\n",
    "            \"name\": \"Local test user 1\",\n",
    "            \"bio\": None,\n",
    "            \"website\": None,\n",
    "            \"github_handle\": None,\n",
    "            \"twitter_handle\": None,\n",
    "            \"linkedin_handle\": None,\n",
    "            \"created_at\": \"2023-02-10T15:55:03.340037\",\n",
    "            \"updated_at\": None,\n",
    "            \"user_id\": str(session_local_testuser1.user.id),\n",
    "            \"avatar_url\": None,\n",
    "        }\n",
    "    )\n",
    "    .execute()\n",
    ")"
   ]
  },
  {
   "cell_type": "code",
   "execution_count": null,
   "metadata": {},
   "outputs": [],
   "source": [
    "session_local_static_testuser1 = hub.auth.sign_up(\n",
    "    email=\"local-static-testuser1@lamin.ai\", password=\"local-static-testuser1-password\"\n",
    ")\n",
    "\n",
    "data = (\n",
    "    hub.table(\"account\")\n",
    "    .insert(\n",
    "        {\n",
    "            \"id\": str(session_local_static_testuser1.user.id),\n",
    "            \"lnid\": \"a5ea1UV7\",\n",
    "            \"handle\": \"local-static-testuser1\",\n",
    "            \"name\": \"Local static test user 1\",\n",
    "            \"bio\": None,\n",
    "            \"website\": None,\n",
    "            \"github_handle\": None,\n",
    "            \"twitter_handle\": None,\n",
    "            \"linkedin_handle\": None,\n",
    "            \"created_at\": \"2023-02-10T15:55:03.340037\",\n",
    "            \"updated_at\": None,\n",
    "            \"user_id\": str(session_local_static_testuser1.user.id),\n",
    "            \"avatar_url\": None,\n",
    "        }\n",
    "    )\n",
    "    .execute()\n",
    ")"
   ]
  },
  {
   "cell_type": "code",
   "execution_count": null,
   "metadata": {},
   "outputs": [],
   "source": [
    "session_local_static_testuser2 = hub.auth.sign_up(\n",
    "    email=\"local-static-testuser2@lamin.ai\", password=\"local-static-testuser2-password\"\n",
    ")\n",
    "\n",
    "data = (\n",
    "    hub.table(\"account\")\n",
    "    .insert(\n",
    "        {\n",
    "            \"id\": str(session_local_static_testuser2.user.id),\n",
    "            \"lnid\": \"a4ibCkOy\",\n",
    "            \"handle\": \"local-static-testuser2\",\n",
    "            \"name\": \"Local static test user 2\",\n",
    "            \"bio\": None,\n",
    "            \"website\": None,\n",
    "            \"github_handle\": None,\n",
    "            \"twitter_handle\": None,\n",
    "            \"linkedin_handle\": None,\n",
    "            \"created_at\": \"2023-02-16T12:29:47.028966\",\n",
    "            \"updated_at\": None,\n",
    "            \"user_id\": str(session_local_static_testuser2.user.id),\n",
    "            \"avatar_url\": None,\n",
    "        }\n",
    "    )\n",
    "    .execute()\n",
    ")"
   ]
  },
  {
   "cell_type": "code",
   "execution_count": null,
   "metadata": {},
   "outputs": [],
   "source": [
    "data = (\n",
    "    hub.table(\"storage\")\n",
    "    .insert(\n",
    "        {\n",
    "            \"id\": \"b57cf777-a606-4c72-813e-443163b6c244\",\n",
    "            \"account_id\": str(session_local_static_testuser1.user.id),\n",
    "            \"root\": \"s3://lndb-setup-ci\",\n",
    "            \"region\": \"us-east-1\",\n",
    "            \"type\": \"s3\",\n",
    "        }\n",
    "    )\n",
    "    .execute()\n",
    ")\n",
    "\n",
    "data = (\n",
    "    hub.table(\"instance\")\n",
    "    .insert(\n",
    "        {\n",
    "            \"id\": \"1730fa67-5b76-4997-9239-cf26394fe70b\",\n",
    "            \"account_id\": str(session_local_static_testuser1.user.id),\n",
    "            \"name\": \"local-static-testinstance1\",\n",
    "            \"storage_id\": \"b57cf777-a606-4c72-813e-443163b6c244\",\n",
    "            \"db\": None,\n",
    "            \"schema_str\": \"\",\n",
    "            \"created_at\": \"2023-02-17T12:33:39.673626\",\n",
    "            \"updated_at\": None,\n",
    "            \"description\": None,\n",
    "            \"public\": False,\n",
    "        }\n",
    "    )\n",
    "    .execute()\n",
    ")\n",
    "\n",
    "data = (\n",
    "    hub.table(\"account_instance\")\n",
    "    .insert(\n",
    "        {\n",
    "            \"account_id\": str(session_local_static_testuser1.user.id),\n",
    "            \"instance_id\": \"1730fa67-5b76-4997-9239-cf26394fe70b\",\n",
    "            \"permission\": \"admin\",\n",
    "            \"created_at\": \"2023-02-17T12:33:39.810179\",\n",
    "            \"updated_at\": None,\n",
    "        }\n",
    "    )\n",
    "    .execute()\n",
    ")\n",
    "\n",
    "data = (\n",
    "    hub.table(\"account_instance\")\n",
    "    .insert(\n",
    "        {\n",
    "            \"account_id\": str(session_local_static_testuser2.user.id),\n",
    "            \"instance_id\": \"1730fa67-5b76-4997-9239-cf26394fe70b\",\n",
    "            \"permission\": \"read\",\n",
    "            \"created_at\": \"2023-02-17T14:11:41.943979\",\n",
    "            \"updated_at\": None,\n",
    "        }\n",
    "    )\n",
    "    .execute()\n",
    ")"
   ]
  },
  {
   "cell_type": "code",
   "execution_count": null,
   "metadata": {},
   "outputs": [],
   "source": [
    "login(\"local-testuser1@lamin.ai\", password=\"local-testuser1-password\")"
   ]
  }
 ],
 "metadata": {
  "kernelspec": {
   "display_name": "Python 3 (ipykernel)",
   "language": "python",
   "name": "python3"
  },
  "language_info": {
   "codemirror_mode": {
    "name": "ipython",
    "version": 3
   },
   "file_extension": ".py",
   "mimetype": "text/x-python",
   "name": "python",
   "nbconvert_exporter": "python",
   "pygments_lexer": "ipython3",
   "version": "3.9.13"
  },
  "vscode": {
   "interpreter": {
    "hash": "2841734f87827db3a7b3181a6051fe720e9968e703956c2bd6988b5a29362801"
   }
  }
 },
 "nbformat": 4,
 "nbformat_minor": 4
}
