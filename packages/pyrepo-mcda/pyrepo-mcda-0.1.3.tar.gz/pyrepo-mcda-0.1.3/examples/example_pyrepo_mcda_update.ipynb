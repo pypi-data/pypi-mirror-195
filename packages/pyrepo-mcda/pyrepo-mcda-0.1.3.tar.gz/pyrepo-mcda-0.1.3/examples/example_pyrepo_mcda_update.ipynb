{
 "cells": [
  {
   "cell_type": "markdown",
   "id": "cfa9d168",
   "metadata": {},
   "source": [
    "# Illustrative examples of MCDA methods: CRADIS, COPRAS, ARAS, MARCOS, PROMETHEE II, PROSA-C, SAW, AHP"
   ]
  },
  {
   "cell_type": "markdown",
   "id": "ee58c188",
   "metadata": {},
   "source": [
    "## Import necessary packages"
   ]
  },
  {
   "cell_type": "markdown",
   "id": "603f0510",
   "metadata": {},
   "source": [
    "Import of the necessary Python packages necessary for running codes provided in examples."
   ]
  },
  {
   "cell_type": "code",
   "execution_count": 1,
   "id": "e8a38427",
   "metadata": {},
   "outputs": [],
   "source": [
    "import numpy as np\n",
    "import matplotlib.pyplot as plt\n",
    "import seaborn as sns\n",
    "import pandas as pd\n",
    "import matplotlib"
   ]
  },
  {
   "cell_type": "markdown",
   "id": "35c770dc",
   "metadata": {},
   "source": [
    "Import the necessary Python modules from `pyrepo-mcda` package."
   ]
  },
  {
   "cell_type": "code",
   "execution_count": 2,
   "id": "2b163d03",
   "metadata": {},
   "outputs": [],
   "source": [
    "from pyrepo_mcda.mcda_methods import CRADIS, AHP, MARCOS, SAW, ARAS, COPRAS, PROMETHEE_II, PROSA_C\n",
    "from pyrepo_mcda.mcda_methods import TOPSIS, VIKOR, MABAC, EDAS, SPOTIS, WASPAS\n",
    "\n",
    "from pyrepo_mcda import normalizations as norms\n",
    "from pyrepo_mcda.additions import rank_preferences\n",
    "from pyrepo_mcda import correlations as corrs\n",
    "from pyrepo_mcda import weighting_methods as mcda_weights"
   ]
  },
  {
   "cell_type": "markdown",
   "id": "4d39c123",
   "metadata": {},
   "source": [
    "Supporting function for running provided examples including visualization. Here are functions called `plot_barplot` for displaying bar chart showing rankings and `draw_heatmap` for displaying heat map with rankings correlations. You can copy and customize their codes to your case. Class `Create_dictionary` helps create a correlation matrix to show rankings correlations."
   ]
  },
  {
   "cell_type": "code",
   "execution_count": 3,
   "id": "cfd30928",
   "metadata": {},
   "outputs": [],
   "source": [
    "# bar (column) chart\n",
    "def plot_barplot(df_plot, legend_title, num):\n",
    "    \"\"\"\n",
    "    Visualization method to display column chart of alternatives rankings obtained with \n",
    "    different methods.\n",
    "\n",
    "    Parameters\n",
    "    ----------\n",
    "        df_plot : DataFrame\n",
    "            DataFrame containing rankings of alternatives obtained with different methods.\n",
    "            The particular rankings are included in subsequent columns of DataFrame.\n",
    "        title : str\n",
    "            Title of the legend (Name of group of explored methods, for example MCDA methods or Distance metrics).\n",
    "    \n",
    "    Examples\n",
    "    ----------\n",
    "    >>> plot_barplot(df_plot, legend_title='MCDA methods')\n",
    "    \"\"\"\n",
    "    step = 1\n",
    "    list_rank = np.arange(1, len(df_plot) + 1, step)\n",
    "\n",
    "    ax = df_plot.plot(kind='bar', width = 0.8, stacked=False, edgecolor = 'black', figsize = (9,4))\n",
    "    ax.set_xlabel('Alternatives', fontsize = 12)\n",
    "    ax.set_ylabel('Rank', fontsize = 12)\n",
    "    ax.set_yticks(list_rank)\n",
    "\n",
    "    ax.set_xticklabels(df_plot.index, rotation = 'horizontal')\n",
    "    ax.tick_params(axis = 'both', labelsize = 12)\n",
    "    y_ticks = ax.yaxis.get_major_ticks()\n",
    "    ax.set_ylim(0, len(df_plot) + 1)\n",
    "\n",
    "    plt.legend(bbox_to_anchor=(0., 1.02, 1., .102), loc='lower left',\n",
    "    ncol=4, mode=\"expand\", borderaxespad=0., edgecolor = 'black', title = legend_title, fontsize = 12)\n",
    "\n",
    "    ax.grid(True, linestyle = ':')\n",
    "    ax.set_axisbelow(True)\n",
    "    plt.tight_layout()\n",
    "    legend_title = legend_title.replace(\"$\", \"\")\n",
    "    plt.savefig('./results/' + 'bar_chart_' + legend_title + str(num) + '.eps')\n",
    "    plt.savefig('./results/' + 'bar_chart_' + legend_title + str(num) + '.png')\n",
    "    plt.show()\n",
    "\n",
    "\n",
    "# heat maps with correlations\n",
    "def draw_heatmap(df_new_heatmap, title, num):\n",
    "    \"\"\"\n",
    "    Visualization method to display heatmap with correlations of compared rankings generated using different methods\n",
    "    \n",
    "    Parameters\n",
    "    ----------\n",
    "        data : DataFrame\n",
    "            DataFrame with correlation values between compared rankings\n",
    "        title : str\n",
    "            title of chart containing name of used correlation coefficient\n",
    "    \n",
    "    Examples\n",
    "    ---------\n",
    "    >>> draw_heatmap(df_new_heatmap, title)\n",
    "    \"\"\"\n",
    "    plt.figure(figsize = (8, 5))\n",
    "    sns.set(font_scale = 1.2)\n",
    "    heatmap = sns.heatmap(df_new_heatmap, annot=True, fmt=\".3f\", cmap=\"RdYlGn\",\n",
    "                          linewidth=0.5, linecolor='w')\n",
    "    plt.yticks(va=\"center\")\n",
    "    plt.xlabel('MCDA methods')\n",
    "    plt.title('Correlation: ' + title)\n",
    "    plt.tight_layout()\n",
    "    title = title.replace(\"$\", \"\")\n",
    "    plt.savefig('./results/' + 'correlations_' + title + str(num) + '.eps')\n",
    "    plt.savefig('./results/' + 'correlations_' + title + str(num) + '.png')\n",
    "    plt.show()\n",
    "    \n",
    "# Create dictionary class\n",
    "class Create_dictionary(dict):\n",
    "  \n",
    "    # __init__ function\n",
    "    def __init__(self):\n",
    "        self = dict()\n",
    "          \n",
    "    # Function to add key:value\n",
    "    def add(self, key, value):\n",
    "        self[key] = value"
   ]
  },
  {
   "cell_type": "markdown",
   "id": "b0b08c35",
   "metadata": {},
   "source": [
    "An example decision problem involves selecting the best alternative for the location of an offshore wind farm based on Ziemba, P., Wątróbski, J., Zioło, M., & Karczmarczyk, A. (2017). Using the PROSA method in offshore wind farm location problems. Energies, 10(11), 1755. DOI: https://doi.org/10.3390/en10111755. \n",
    "The problem includes four alternatives evaluated against twelve criteria. The evaluation criteria are displayed below. Preference direction `Max` denotes profit criteria with maximization aim, and `Min` represents cost criteria with minimalization aim.\n",
    "\n",
    "In this case, the preference function V-shape for PROMETHEE II and PROSA-C was selected, which means that there is required a vector `p` (Preference Threshold) with values of the threshold of absolute preference, above which there is a total preference for one of the two actions and assigning the preference degree the value of 1.\n",
    "\n",
    "More detailed information about preference functions, preference and indifference thresholds are available in reference paper:\n",
    "\n",
    "Papathanasiou, J., & Ploskas, N. (2018). Promethee. In Multiple Criteria Decision Aid (pp. 57-89). Springer, Cham. DOI: https://doi.org/10.1007/978-3-319-91648-4_3"
   ]
  },
  {
   "cell_type": "code",
   "execution_count": 4,
   "id": "d04ac6bc",
   "metadata": {},
   "outputs": [],
   "source": [
    "crits = pd.read_csv('example1criteria.csv', index_col = 'Cj')"
   ]
  },
  {
   "cell_type": "code",
   "execution_count": 5,
   "id": "43b9fc04",
   "metadata": {},
   "outputs": [
    {
     "data": {
      "text/html": [
       "<div>\n",
       "<style scoped>\n",
       "    .dataframe tbody tr th:only-of-type {\n",
       "        vertical-align: middle;\n",
       "    }\n",
       "\n",
       "    .dataframe tbody tr th {\n",
       "        vertical-align: top;\n",
       "    }\n",
       "\n",
       "    .dataframe thead th {\n",
       "        text-align: right;\n",
       "    }\n",
       "</style>\n",
       "<table border=\"1\" class=\"dataframe\">\n",
       "  <thead>\n",
       "    <tr style=\"text-align: right;\">\n",
       "      <th></th>\n",
       "      <th>Criterion Name</th>\n",
       "      <th>Unit of Measurement</th>\n",
       "      <th>Preference Direction</th>\n",
       "      <th>Weight of Criterion</th>\n",
       "      <th>Preference function for PROMETHEE II and PROSA-C</th>\n",
       "      <th>Preference Threshold (p) for PROMETHEE II and PROSA-C</th>\n",
       "    </tr>\n",
       "    <tr>\n",
       "      <th>Cj</th>\n",
       "      <th></th>\n",
       "      <th></th>\n",
       "      <th></th>\n",
       "      <th></th>\n",
       "      <th></th>\n",
       "      <th></th>\n",
       "    </tr>\n",
       "  </thead>\n",
       "  <tbody>\n",
       "    <tr>\n",
       "      <th>C1</th>\n",
       "      <td>Investment cost</td>\n",
       "      <td>mln PLN</td>\n",
       "      <td>Min</td>\n",
       "      <td>20.00</td>\n",
       "      <td>V-shape</td>\n",
       "      <td>7280.0</td>\n",
       "    </tr>\n",
       "    <tr>\n",
       "      <th>C2</th>\n",
       "      <td>Payback period</td>\n",
       "      <td>years</td>\n",
       "      <td>Min</td>\n",
       "      <td>5.00</td>\n",
       "      <td>V-shape</td>\n",
       "      <td>4.0</td>\n",
       "    </tr>\n",
       "    <tr>\n",
       "      <th>C3</th>\n",
       "      <td>Distance from power stations</td>\n",
       "      <td>km</td>\n",
       "      <td>Min</td>\n",
       "      <td>5.00</td>\n",
       "      <td>V-shape</td>\n",
       "      <td>13.4</td>\n",
       "    </tr>\n",
       "    <tr>\n",
       "      <th>C4</th>\n",
       "      <td>Mean sea water depth</td>\n",
       "      <td>m</td>\n",
       "      <td>Min</td>\n",
       "      <td>1.67</td>\n",
       "      <td>V-shape</td>\n",
       "      <td>7.4</td>\n",
       "    </tr>\n",
       "    <tr>\n",
       "      <th>C5</th>\n",
       "      <td>Undersea geological condition</td>\n",
       "      <td>points</td>\n",
       "      <td>Min</td>\n",
       "      <td>1.67</td>\n",
       "      <td>V-shape</td>\n",
       "      <td>3.0</td>\n",
       "    </tr>\n",
       "    <tr>\n",
       "      <th>C6</th>\n",
       "      <td>Employment</td>\n",
       "      <td>number</td>\n",
       "      <td>Max</td>\n",
       "      <td>11.67</td>\n",
       "      <td>V-shape</td>\n",
       "      <td>1662.0</td>\n",
       "    </tr>\n",
       "    <tr>\n",
       "      <th>C7</th>\n",
       "      <td>Conflict with fisheries</td>\n",
       "      <td>points</td>\n",
       "      <td>Min</td>\n",
       "      <td>11.67</td>\n",
       "      <td>V-shape</td>\n",
       "      <td>3.0</td>\n",
       "    </tr>\n",
       "    <tr>\n",
       "      <th>C8</th>\n",
       "      <td>Density of shipping traffic</td>\n",
       "      <td>points</td>\n",
       "      <td>Min</td>\n",
       "      <td>5.00</td>\n",
       "      <td>V-shape</td>\n",
       "      <td>3.0</td>\n",
       "    </tr>\n",
       "    <tr>\n",
       "      <th>C9</th>\n",
       "      <td>Distance from shore</td>\n",
       "      <td>km</td>\n",
       "      <td>Max</td>\n",
       "      <td>5.00</td>\n",
       "      <td>V-shape</td>\n",
       "      <td>13.8</td>\n",
       "    </tr>\n",
       "    <tr>\n",
       "      <th>C10</th>\n",
       "      <td>Influence on protected areas</td>\n",
       "      <td>points</td>\n",
       "      <td>Min</td>\n",
       "      <td>16.67</td>\n",
       "      <td>V-shape</td>\n",
       "      <td>3.0</td>\n",
       "    </tr>\n",
       "    <tr>\n",
       "      <th>C11</th>\n",
       "      <td>CO2 reduction</td>\n",
       "      <td>tonnes</td>\n",
       "      <td>Max</td>\n",
       "      <td>8.33</td>\n",
       "      <td>V-shape</td>\n",
       "      <td>766240.0</td>\n",
       "    </tr>\n",
       "    <tr>\n",
       "      <th>C12</th>\n",
       "      <td>SO2 reduction</td>\n",
       "      <td>tonnes</td>\n",
       "      <td>Max</td>\n",
       "      <td>8.33</td>\n",
       "      <td>V-shape</td>\n",
       "      <td>17820.0</td>\n",
       "    </tr>\n",
       "  </tbody>\n",
       "</table>\n",
       "</div>"
      ],
      "text/plain": [
       "                    Criterion Name Unit of Measurement Preference Direction  \\\n",
       "Cj                                                                            \n",
       "C1                 Investment cost             mln PLN                  Min   \n",
       "C2                  Payback period               years                  Min   \n",
       "C3    Distance from power stations                  km                  Min   \n",
       "C4            Mean sea water depth                   m                  Min   \n",
       "C5   Undersea geological condition              points                  Min   \n",
       "C6                      Employment              number                  Max   \n",
       "C7         Conflict with fisheries              points                  Min   \n",
       "C8     Density of shipping traffic              points                  Min   \n",
       "C9             Distance from shore                  km                  Max   \n",
       "C10   Influence on protected areas              points                  Min   \n",
       "C11                  CO2 reduction              tonnes                  Max   \n",
       "C12                  SO2 reduction              tonnes                  Max   \n",
       "\n",
       "     Weight of Criterion Preference function for PROMETHEE II and PROSA-C  \\\n",
       "Cj                                                                          \n",
       "C1                 20.00                                          V-shape   \n",
       "C2                  5.00                                          V-shape   \n",
       "C3                  5.00                                          V-shape   \n",
       "C4                  1.67                                          V-shape   \n",
       "C5                  1.67                                          V-shape   \n",
       "C6                 11.67                                          V-shape   \n",
       "C7                 11.67                                          V-shape   \n",
       "C8                  5.00                                          V-shape   \n",
       "C9                  5.00                                          V-shape   \n",
       "C10                16.67                                          V-shape   \n",
       "C11                 8.33                                          V-shape   \n",
       "C12                 8.33                                          V-shape   \n",
       "\n",
       "     Preference Threshold (p) for PROMETHEE II and PROSA-C  \n",
       "Cj                                                          \n",
       "C1                                              7280.0      \n",
       "C2                                                 4.0      \n",
       "C3                                                13.4      \n",
       "C4                                                 7.4      \n",
       "C5                                                 3.0      \n",
       "C6                                              1662.0      \n",
       "C7                                                 3.0      \n",
       "C8                                                 3.0      \n",
       "C9                                                13.8      \n",
       "C10                                                3.0      \n",
       "C11                                           766240.0      \n",
       "C12                                            17820.0      "
      ]
     },
     "execution_count": 5,
     "metadata": {},
     "output_type": "execute_result"
    }
   ],
   "source": [
    "crits"
   ]
  },
  {
   "cell_type": "markdown",
   "id": "6b37832f",
   "metadata": {},
   "source": [
    "Load a decision matrix containing the performance values of an example decision problem from a CSV file as a `DataFrame`."
   ]
  },
  {
   "cell_type": "code",
   "execution_count": 6,
   "id": "4b365bd1",
   "metadata": {},
   "outputs": [],
   "source": [
    "data = pd.read_csv('./results/dataset1.csv', index_col = 'Ai')"
   ]
  },
  {
   "cell_type": "code",
   "execution_count": 7,
   "id": "26ad34a4",
   "metadata": {},
   "outputs": [
    {
     "data": {
      "text/html": [
       "<div>\n",
       "<style scoped>\n",
       "    .dataframe tbody tr th:only-of-type {\n",
       "        vertical-align: middle;\n",
       "    }\n",
       "\n",
       "    .dataframe tbody tr th {\n",
       "        vertical-align: top;\n",
       "    }\n",
       "\n",
       "    .dataframe thead th {\n",
       "        text-align: right;\n",
       "    }\n",
       "</style>\n",
       "<table border=\"1\" class=\"dataframe\">\n",
       "  <thead>\n",
       "    <tr style=\"text-align: right;\">\n",
       "      <th></th>\n",
       "      <th>$C_{1}$</th>\n",
       "      <th>$C_{2}$</th>\n",
       "      <th>$C_{3}$</th>\n",
       "      <th>$C_{4}$</th>\n",
       "      <th>$C_{5}$</th>\n",
       "      <th>$C_{6}$</th>\n",
       "      <th>$C_{7}$</th>\n",
       "      <th>$C_{8}$</th>\n",
       "      <th>$C_{9}$</th>\n",
       "      <th>$C_{10}$</th>\n",
       "      <th>$C_{11}$</th>\n",
       "      <th>$C_{12}$</th>\n",
       "    </tr>\n",
       "    <tr>\n",
       "      <th>Ai</th>\n",
       "      <th></th>\n",
       "      <th></th>\n",
       "      <th></th>\n",
       "      <th></th>\n",
       "      <th></th>\n",
       "      <th></th>\n",
       "      <th></th>\n",
       "      <th></th>\n",
       "      <th></th>\n",
       "      <th></th>\n",
       "      <th></th>\n",
       "      <th></th>\n",
       "    </tr>\n",
       "  </thead>\n",
       "  <tbody>\n",
       "    <tr>\n",
       "      <th>$A_{1}$</th>\n",
       "      <td>16347.0</td>\n",
       "      <td>9.0</td>\n",
       "      <td>73.8</td>\n",
       "      <td>36.7</td>\n",
       "      <td>1.5</td>\n",
       "      <td>3730.0</td>\n",
       "      <td>2.0</td>\n",
       "      <td>1.0</td>\n",
       "      <td>38.8</td>\n",
       "      <td>4.0</td>\n",
       "      <td>1720524.0</td>\n",
       "      <td>40012.0</td>\n",
       "    </tr>\n",
       "    <tr>\n",
       "      <th>$A_{2}$</th>\n",
       "      <td>14219.0</td>\n",
       "      <td>8.5</td>\n",
       "      <td>55.0</td>\n",
       "      <td>36.0</td>\n",
       "      <td>2.0</td>\n",
       "      <td>3240.0</td>\n",
       "      <td>1.0</td>\n",
       "      <td>1.0</td>\n",
       "      <td>33.1</td>\n",
       "      <td>2.0</td>\n",
       "      <td>1496512.0</td>\n",
       "      <td>34803.0</td>\n",
       "    </tr>\n",
       "    <tr>\n",
       "      <th>$A_{3}$</th>\n",
       "      <td>8160.0</td>\n",
       "      <td>9.0</td>\n",
       "      <td>64.8</td>\n",
       "      <td>28.5</td>\n",
       "      <td>2.0</td>\n",
       "      <td>1860.0</td>\n",
       "      <td>2.0</td>\n",
       "      <td>2.0</td>\n",
       "      <td>45.8</td>\n",
       "      <td>4.0</td>\n",
       "      <td>858830.0</td>\n",
       "      <td>19973.0</td>\n",
       "    </tr>\n",
       "    <tr>\n",
       "      <th>$A_{4}$</th>\n",
       "      <td>8160.0</td>\n",
       "      <td>8.5</td>\n",
       "      <td>62.5</td>\n",
       "      <td>29.5</td>\n",
       "      <td>1.5</td>\n",
       "      <td>1860.0</td>\n",
       "      <td>1.0</td>\n",
       "      <td>3.0</td>\n",
       "      <td>27.3</td>\n",
       "      <td>3.0</td>\n",
       "      <td>858830.0</td>\n",
       "      <td>19973.0</td>\n",
       "    </tr>\n",
       "  </tbody>\n",
       "</table>\n",
       "</div>"
      ],
      "text/plain": [
       "         $C_{1}$  $C_{2}$  $C_{3}$  $C_{4}$  $C_{5}$  $C_{6}$  $C_{7}$  \\\n",
       "Ai                                                                       \n",
       "$A_{1}$  16347.0      9.0     73.8     36.7      1.5   3730.0      2.0   \n",
       "$A_{2}$  14219.0      8.5     55.0     36.0      2.0   3240.0      1.0   \n",
       "$A_{3}$   8160.0      9.0     64.8     28.5      2.0   1860.0      2.0   \n",
       "$A_{4}$   8160.0      8.5     62.5     29.5      1.5   1860.0      1.0   \n",
       "\n",
       "         $C_{8}$  $C_{9}$  $C_{10}$   $C_{11}$  $C_{12}$  \n",
       "Ai                                                        \n",
       "$A_{1}$      1.0     38.8       4.0  1720524.0   40012.0  \n",
       "$A_{2}$      1.0     33.1       2.0  1496512.0   34803.0  \n",
       "$A_{3}$      2.0     45.8       4.0   858830.0   19973.0  \n",
       "$A_{4}$      3.0     27.3       3.0   858830.0   19973.0  "
      ]
     },
     "execution_count": 7,
     "metadata": {},
     "output_type": "execute_result"
    }
   ],
   "source": [
    "data"
   ]
  },
  {
   "cell_type": "markdown",
   "id": "280dc0eb",
   "metadata": {},
   "source": [
    "Convert a DataFrame with decision matrix `data` to a `NumPy` array `matrix` to use the `NumPy` package for computation"
   ]
  },
  {
   "cell_type": "code",
   "execution_count": 8,
   "id": "a01b9ff1",
   "metadata": {},
   "outputs": [],
   "source": [
    "matrix = data.to_numpy()"
   ]
  },
  {
   "cell_type": "markdown",
   "id": "cb8798ab",
   "metadata": {},
   "source": [
    "Provide criteria weights. The weights must be normalized using sum normalization and give a value of 1 after being summed."
   ]
  },
  {
   "cell_type": "code",
   "execution_count": 9,
   "id": "9d0c65e9",
   "metadata": {},
   "outputs": [],
   "source": [
    "weights = np.array([20, 5, 5, 1.67, 1.67, 11.67, 11.67, 5, 5, 16.67, 8.33, 8.33])\n",
    "weights = weights / np.sum(weights)"
   ]
  },
  {
   "cell_type": "code",
   "execution_count": 10,
   "id": "cd0d4893",
   "metadata": {},
   "outputs": [
    {
     "data": {
      "text/plain": [
       "array([0.19998   , 0.049995  , 0.049995  , 0.01669833, 0.01669833,\n",
       "       0.11668833, 0.11668833, 0.049995  , 0.049995  , 0.16668333,\n",
       "       0.08329167, 0.08329167])"
      ]
     },
     "execution_count": 10,
     "metadata": {},
     "output_type": "execute_result"
    }
   ],
   "source": [
    "weights"
   ]
  },
  {
   "cell_type": "markdown",
   "id": "8bf26578",
   "metadata": {},
   "source": [
    "Provide criteria types. Assign 1 to profit criteria and -1 to cost criteria. Other values are not allowed."
   ]
  },
  {
   "cell_type": "code",
   "execution_count": 11,
   "id": "b52cd864",
   "metadata": {},
   "outputs": [],
   "source": [
    "types = np.array([-1, -1, -1, -1, -1, 1, -1, -1, 1, -1, 1, 1])"
   ]
  },
  {
   "cell_type": "markdown",
   "id": "f0440049",
   "metadata": {},
   "source": [
    "Create the DataFrame for results rankings, including rankings provided by investigated MCDA methods."
   ]
  },
  {
   "cell_type": "code",
   "execution_count": 12,
   "id": "5e32b76a",
   "metadata": {},
   "outputs": [],
   "source": [
    "alt_names = [r'$A_{' + str(el) + '}$' for el in range(1, matrix.shape[0] + 1)]\n",
    "rank_results = pd.DataFrame(index=alt_names)"
   ]
  },
  {
   "cell_type": "markdown",
   "id": "5c5e7555",
   "metadata": {},
   "source": [
    "All MCDA methods investigated here sort alternatives according to preference values in descending order. It means that the best alternative has the highest preference value. Thus, we rank alternatives using the `rank_preferences` function with parameter `reverse=True`."
   ]
  },
  {
   "cell_type": "markdown",
   "id": "2e004ef4",
   "metadata": {},
   "source": [
    "## PROMETHEE II"
   ]
  },
  {
   "cell_type": "markdown",
   "id": "489ef801",
   "metadata": {},
   "source": [
    "In this case, you will use the V-shape preference function, so provide vector `p`."
   ]
  },
  {
   "cell_type": "code",
   "execution_count": 13,
   "id": "b8c60946",
   "metadata": {},
   "outputs": [],
   "source": [
    "p = np.array([7280, 4, 13.4, 7.4, 3, 1662, 3, 3, 13.8, 3, 766240, 17820])"
   ]
  },
  {
   "cell_type": "code",
   "execution_count": 14,
   "id": "d9d80559",
   "metadata": {},
   "outputs": [],
   "source": [
    "# Create the PROMETHEE II method object\n",
    "promethee_II = PROMETHEE_II()\n",
    "# Assign preference functions to each criterion\n",
    "preference_functions = [promethee_II._vshape_function for pf in range(len(weights))]\n",
    "\n",
    "# Calculate the utility function value (the preference value) for each alternative\n",
    "pref = promethee_II(matrix, weights, types, preference_functions, p = p)\n",
    "# Determine the ranking based on `pref` by sorting it in descending order (reverse = True)\n",
    "rank = rank_preferences(pref, reverse=True)\n",
    "# Save the PROMETHEE II ranking in the DataFrame\n",
    "rank_results['PROMETHEE II'] = rank"
   ]
  },
  {
   "cell_type": "markdown",
   "id": "22c0c7db",
   "metadata": {},
   "source": [
    "PROMETHEE II utility function values"
   ]
  },
  {
   "cell_type": "code",
   "execution_count": 15,
   "id": "fe9a0663",
   "metadata": {},
   "outputs": [
    {
     "data": {
      "text/plain": [
       "array([-0.04449699,  0.18838474, -0.09537616, -0.04851159])"
      ]
     },
     "execution_count": 15,
     "metadata": {},
     "output_type": "execute_result"
    }
   ],
   "source": [
    "pref"
   ]
  },
  {
   "cell_type": "markdown",
   "id": "0546ddea",
   "metadata": {},
   "source": [
    "The best scored is alternative $A_2$ because it has the highest preference value."
   ]
  },
  {
   "cell_type": "markdown",
   "id": "8d2a0afe",
   "metadata": {},
   "source": [
    "PROMETHEE II ranking"
   ]
  },
  {
   "cell_type": "code",
   "execution_count": 16,
   "id": "b098bf05",
   "metadata": {},
   "outputs": [
    {
     "data": {
      "text/plain": [
       "array([2, 1, 4, 3])"
      ]
     },
     "execution_count": 16,
     "metadata": {},
     "output_type": "execute_result"
    }
   ],
   "source": [
    "rank"
   ]
  },
  {
   "cell_type": "markdown",
   "id": "069d53f6",
   "metadata": {},
   "source": [
    "If you would like to use the linear preference function (V-shape with indifference) or Level function, Gaussian function, using PROMETHEE II is as follows: pref = promethee_II(matrix, weights, types, preference_functions, p = p, q = q) with additional `q` providing. U-shape function requires `q`, and the Usual function does not require any parameter.\n",
    "\n",
    "Here is a summary of the required parameters for the preference function for PROMETHEE II and PROSA-C:\n",
    "\n",
    "- Usual: No parameters\n",
    "- U-shape: `q`\n",
    "- V-shape: `p`\n",
    "- Level: `p`, `q`\n",
    "- Linear (V-shape with indifference): `p`, `q`\n",
    "- Gaussian: `p`, `q`"
   ]
  },
  {
   "cell_type": "markdown",
   "id": "6313d865",
   "metadata": {},
   "source": [
    "## PROSA-C"
   ]
  },
  {
   "cell_type": "markdown",
   "id": "2cd96515",
   "metadata": {},
   "source": [
    "Using PROSA-C is similar to PROMETHEE II, but it requires providing an additional argument, a vector `s` including sustainability coefficients for each criterion. The sustainability coefficient determines the reduction of criteria compensation. If you do not specify the arguments `p`, `q`, and `s` for the PROMETHEE II and PROSA methods, they will be set automatically, based on:\n",
    "\n",
    "Ziemba, P. (2020). Multi-criteria stochastic selection of electric vehicles for the sustainable development of local government and state administration units in Poland. Energies, 13(23), 6299. DOI: https://doi.org/10.3390/en13236299 in following way:\n",
    "\n",
    "u = np.sqrt(np.sum(np.square(np.mean(matrix, axis = 0) - matrix), axis = 0) / matrix.shape[0])\n",
    "\n",
    "p = 2 * u\n",
    "\n",
    "q = 0.5 * u\n",
    "\n",
    "s = np.repeat(0.3, len(weights))"
   ]
  },
  {
   "cell_type": "code",
   "execution_count": 17,
   "id": "b4167121",
   "metadata": {},
   "outputs": [],
   "source": [
    "s = np.repeat(0.3, len(weights))\n",
    "prosa_c = PROSA_C()\n",
    "pref = prosa_c(matrix, weights, types, preference_functions, p = p, s = s)\n",
    "rank = rank_preferences(pref, reverse=True)\n",
    "rank_results['PROSA C'] = rank"
   ]
  },
  {
   "cell_type": "markdown",
   "id": "a618c423",
   "metadata": {},
   "source": [
    "## ARAS"
   ]
  },
  {
   "cell_type": "markdown",
   "id": "b793b457",
   "metadata": {},
   "source": [
    "In contrast to PROMETHEE II and PROSA-C, ARAS requires normalization of the decision matrix. In the ARAS method you can choose one technique for normalization decision matrix from five available: `linear_normalization`, `minmax_normalization`, `max_normalization`, `sum_normalization` and `vector_normalization`. The default normalization for ARAS is `sum_normalization`. The normalization method is chosen in method object initialization in the constructor of the method. In the case of other MCDA methods presented below, normalization method selection is analogous."
   ]
  },
  {
   "cell_type": "code",
   "execution_count": 18,
   "id": "ff86413c",
   "metadata": {},
   "outputs": [],
   "source": [
    "aras = ARAS(normalization_method=norms.linear_normalization)\n",
    "pref = aras(matrix, weights, types)\n",
    "rank = rank_preferences(pref, reverse=True)\n",
    "rank_results['ARAS'] = rank"
   ]
  },
  {
   "cell_type": "markdown",
   "id": "a7ceb7c0",
   "metadata": {},
   "source": [
    "## COPRAS"
   ]
  },
  {
   "cell_type": "markdown",
   "id": "32bad2db",
   "metadata": {},
   "source": [
    "The COPRAS method also requires the normalization of the decision matrix. The default normalization method for COPRAS is the Sum normalization used like for profit criteria because in COPRAS decision matrix is normalized before dividing criteria into profit and cost. There is also an option to select another normalization method from `normalizations` submodule. Chosen normalization method is performed automatically like for profit criteria, according to the COPRAS algorithm."
   ]
  },
  {
   "cell_type": "code",
   "execution_count": 19,
   "id": "d2849938",
   "metadata": {},
   "outputs": [],
   "source": [
    "copras = COPRAS(normalization_method = norms.sum_normalization)\n",
    "pref = copras(matrix, weights, types)\n",
    "rank = rank_preferences(pref, reverse=True)\n",
    "rank_results['COPRAS'] = rank"
   ]
  },
  {
   "cell_type": "markdown",
   "id": "f77fa204",
   "metadata": {},
   "source": [
    "## CRADIS"
   ]
  },
  {
   "cell_type": "markdown",
   "id": "95ecedfe",
   "metadata": {},
   "source": [
    "The CRADIS method enables choosing a normalization technique. The default is `linear_normalization`."
   ]
  },
  {
   "cell_type": "code",
   "execution_count": 20,
   "id": "f239facd",
   "metadata": {},
   "outputs": [],
   "source": [
    "cradis = CRADIS()\n",
    "pref = cradis(matrix, weights, types)\n",
    "rank = rank_preferences(pref, reverse=True)\n",
    "rank_results['CRADIS'] = rank"
   ]
  },
  {
   "cell_type": "markdown",
   "id": "f43ff4a9",
   "metadata": {},
   "source": [
    "## MARCOS"
   ]
  },
  {
   "cell_type": "markdown",
   "id": "ee3d698b",
   "metadata": {},
   "source": [
    "The MARCOS method does not enable the selection of the normalization technique because this method normalizes the decision matrix using a specific method involving ideal and anti-ideal solutions."
   ]
  },
  {
   "cell_type": "code",
   "execution_count": 21,
   "id": "2359d03f",
   "metadata": {},
   "outputs": [],
   "source": [
    "marcos = MARCOS()\n",
    "pref = marcos(matrix, weights, types)\n",
    "rank = rank_preferences(pref, reverse=True)\n",
    "rank_results['MARCOS'] = rank"
   ]
  },
  {
   "cell_type": "markdown",
   "id": "c54e22bc",
   "metadata": {},
   "source": [
    "## SAW"
   ]
  },
  {
   "cell_type": "markdown",
   "id": "41f8c418",
   "metadata": {},
   "source": [
    "The SAW method enables choosing a normalization technique. The default is `linear_normalization`."
   ]
  },
  {
   "cell_type": "code",
   "execution_count": 22,
   "id": "d5436494",
   "metadata": {},
   "outputs": [],
   "source": [
    "saw = SAW()\n",
    "pref = saw(matrix, weights, types)\n",
    "rank = rank_preferences(pref, reverse=True)\n",
    "rank_results['SAW'] = rank"
   ]
  },
  {
   "cell_type": "markdown",
   "id": "226e8626",
   "metadata": {},
   "source": [
    "Display rankings determined by each investigated MCDA method."
   ]
  },
  {
   "cell_type": "code",
   "execution_count": 23,
   "id": "6426fb09",
   "metadata": {},
   "outputs": [
    {
     "data": {
      "text/html": [
       "<div>\n",
       "<style scoped>\n",
       "    .dataframe tbody tr th:only-of-type {\n",
       "        vertical-align: middle;\n",
       "    }\n",
       "\n",
       "    .dataframe tbody tr th {\n",
       "        vertical-align: top;\n",
       "    }\n",
       "\n",
       "    .dataframe thead th {\n",
       "        text-align: right;\n",
       "    }\n",
       "</style>\n",
       "<table border=\"1\" class=\"dataframe\">\n",
       "  <thead>\n",
       "    <tr style=\"text-align: right;\">\n",
       "      <th></th>\n",
       "      <th>PROMETHEE II</th>\n",
       "      <th>PROSA C</th>\n",
       "      <th>ARAS</th>\n",
       "      <th>COPRAS</th>\n",
       "      <th>CRADIS</th>\n",
       "      <th>MARCOS</th>\n",
       "      <th>SAW</th>\n",
       "    </tr>\n",
       "  </thead>\n",
       "  <tbody>\n",
       "    <tr>\n",
       "      <th>$A_{1}$</th>\n",
       "      <td>2</td>\n",
       "      <td>3</td>\n",
       "      <td>3</td>\n",
       "      <td>2</td>\n",
       "      <td>3</td>\n",
       "      <td>3</td>\n",
       "      <td>3</td>\n",
       "    </tr>\n",
       "    <tr>\n",
       "      <th>$A_{2}$</th>\n",
       "      <td>1</td>\n",
       "      <td>1</td>\n",
       "      <td>1</td>\n",
       "      <td>1</td>\n",
       "      <td>1</td>\n",
       "      <td>1</td>\n",
       "      <td>1</td>\n",
       "    </tr>\n",
       "    <tr>\n",
       "      <th>$A_{3}$</th>\n",
       "      <td>4</td>\n",
       "      <td>4</td>\n",
       "      <td>4</td>\n",
       "      <td>4</td>\n",
       "      <td>4</td>\n",
       "      <td>4</td>\n",
       "      <td>4</td>\n",
       "    </tr>\n",
       "    <tr>\n",
       "      <th>$A_{4}$</th>\n",
       "      <td>3</td>\n",
       "      <td>2</td>\n",
       "      <td>2</td>\n",
       "      <td>3</td>\n",
       "      <td>2</td>\n",
       "      <td>2</td>\n",
       "      <td>2</td>\n",
       "    </tr>\n",
       "  </tbody>\n",
       "</table>\n",
       "</div>"
      ],
      "text/plain": [
       "         PROMETHEE II  PROSA C  ARAS  COPRAS  CRADIS  MARCOS  SAW\n",
       "$A_{1}$             2        3     3       2       3       3    3\n",
       "$A_{2}$             1        1     1       1       1       1    1\n",
       "$A_{3}$             4        4     4       4       4       4    4\n",
       "$A_{4}$             3        2     2       3       2       2    2"
      ]
     },
     "execution_count": 23,
     "metadata": {},
     "output_type": "execute_result"
    }
   ],
   "source": [
    "rank_results"
   ]
  },
  {
   "cell_type": "code",
   "execution_count": 24,
   "id": "9b69c966",
   "metadata": {},
   "outputs": [
    {
     "name": "stderr",
     "output_type": "stream",
     "text": [
      "The PostScript backend does not support transparency; partially transparent artists will be rendered opaque.\n"
     ]
    },
    {
     "data": {
      "image/png": "[encoded data removed]",
      "text/plain": [
       "<Figure size 648x288 with 1 Axes>"
      ]
     },
     "metadata": {
      "needs_background": "light"
     },
     "output_type": "display_data"
    }
   ],
   "source": [
    "plot_barplot(rank_results, legend_title='MCDA methods', num = 1)"
   ]
  },
  {
   "cell_type": "markdown",
   "id": "96a820b4",
   "metadata": {},
   "source": [
    "Calculate correlations between rankings using Weighted Spearman correlation coefficient."
   ]
  },
  {
   "cell_type": "code",
   "execution_count": 25,
   "id": "29b19a17",
   "metadata": {},
   "outputs": [],
   "source": [
    "method_types = list(rank_results.columns)\n",
    "dict_new_heatmap_rw = Create_dictionary()\n",
    "for el in method_types:\n",
    "    dict_new_heatmap_rw.add(el, [])\n",
    "\n",
    "\n",
    "# heatmaps for correlations coefficients\n",
    "for i, j in [(i, j) for i in method_types[::-1] for j in method_types]:\n",
    "    dict_new_heatmap_rw[j].append(corrs.weighted_spearman(rank_results[i], rank_results[j]))\n",
    "\n",
    "df_new_heatmap_rw = pd.DataFrame(dict_new_heatmap_rw, index = method_types[::-1])\n",
    "df_new_heatmap_rw.columns = method_types"
   ]
  },
  {
   "cell_type": "markdown",
   "id": "5c32e45f",
   "metadata": {},
   "source": [
    "Display the heat map of correlations."
   ]
  },
  {
   "cell_type": "code",
   "execution_count": 26,
   "id": "de9ad308",
   "metadata": {},
   "outputs": [
    {
     "data": {
      "image/png": "[encoded data removed]",
      "text/plain": [
       "<Figure size 576x360 with 2 Axes>"
      ]
     },
     "metadata": {
      "needs_background": "light"
     },
     "output_type": "display_data"
    }
   ],
   "source": [
    "# correlation matrix with rw coefficient\n",
    "draw_heatmap(df_new_heatmap_rw, r'$r_w$', num = 1)"
   ]
  },
  {
   "cell_type": "markdown",
   "id": "e97e4b74",
   "metadata": {},
   "source": [
    "## AHP"
   ]
  },
  {
   "cell_type": "markdown",
   "id": "174e86b7",
   "metadata": {},
   "source": [
    "### Classical usage of AHP\n",
    "\n",
    "The classical application of AHP using pairwise comparisons of criteria and alternatives by decision-maker based on:\n",
    "\n",
    "Papathanasiou, J., & Ploskas, N. (2018). Ahp. In Multiple Criteria Decision Aid \n",
    "(pp. 109-129). Springer, Cham.\n",
    "DOI: https://doi.org/10.1007/978-3-319-91648-4_5"
   ]
  },
  {
   "cell_type": "markdown",
   "id": "0028ed69",
   "metadata": {},
   "source": [
    "Step 1a. Provide matrix with pairwise comparison values of criteria"
   ]
  },
  {
   "cell_type": "code",
   "execution_count": 27,
   "id": "6a57ac5a",
   "metadata": {},
   "outputs": [],
   "source": [
    "PCcriteria = np.array([[1, 1, 5, 3], [1, 1, 5, 3], \n",
    "[1/5, 1/5, 1, 1/3], [1/3, 1/3, 3, 1]])"
   ]
  },
  {
   "cell_type": "code",
   "execution_count": 28,
   "id": "666493a2",
   "metadata": {},
   "outputs": [
    {
     "data": {
      "text/plain": [
       "array([[1.        , 1.        , 5.        , 3.        ],\n",
       "       [1.        , 1.        , 5.        , 3.        ],\n",
       "       [0.2       , 0.2       , 1.        , 0.33333333],\n",
       "       [0.33333333, 0.33333333, 3.        , 1.        ]])"
      ]
     },
     "execution_count": 28,
     "metadata": {},
     "output_type": "execute_result"
    }
   ],
   "source": [
    "PCcriteria"
   ]
  },
  {
   "cell_type": "markdown",
   "id": "cc0e4d64",
   "metadata": {},
   "source": [
    "Step 1b. Provide matrices with pairwise comparison values for alternatives"
   ]
  },
  {
   "cell_type": "code",
   "execution_count": 29,
   "id": "33d4cb67",
   "metadata": {},
   "outputs": [],
   "source": [
    "PCM1 = np.array([[1, 5, 1, 1, 1/3, 3],\n",
    "[1/5, 1, 1/3, 1/5, 1/7, 1],\n",
    "[1, 3, 1, 1/3, 1/5, 1],\n",
    "[1, 5, 3, 1, 1/3, 3],\n",
    "[3, 7, 5, 3, 1, 7],\n",
    "[1/3, 1, 1, 1/3, 1/7, 1]])\n",
    "PCM2 = np.array([[1, 7, 3, 1/3, 1/3, 1/3],\n",
    "[1/7, 1, 1/3, 1/7, 1/9, 1/7],\n",
    "[1/3, 3, 1, 1/5, 1/5, 1/5],\n",
    "[3, 7, 5, 1, 1, 1],\n",
    "[3, 9, 5, 1, 1, 1],\n",
    "[3, 7, 5, 1, 1, 1]])\n",
    "PCM3 = np.array([[1, 1/9, 1/7, 1/9, 1, 1/5],\n",
    "[9, 1, 1, 1, 5, 3],\n",
    "[7, 1, 1, 1, 5, 1],\n",
    "[9, 1, 1, 1, 7, 3],\n",
    "[1, 1/5, 1/5, 1/7, 1, 1/3],\n",
    "[5, 1/3, 1, 1/3, 3, 1]])\n",
    "PCM4 = np.array([[1, 1/5, 1/5, 1/3, 1/7, 1/5],\n",
    "[5, 1, 1, 3, 1/3, 1],\n",
    "[5, 1, 1, 1, 1/3, 1],\n",
    "[3, 1/3, 1, 1, 1/7, 1],\n",
    "[7, 3, 3, 7, 1, 5],\n",
    "[5, 1, 1, 1, 1/5, 1]])"
   ]
  },
  {
   "cell_type": "markdown",
   "id": "c5546656",
   "metadata": {},
   "source": [
    "Step 2. Create the AHP method object and check the consistency of matrix with criteria comparison. Values equal and below 0.1 $(\\leq 0.1)$ denote that the matrix is consistent and it is correct."
   ]
  },
  {
   "cell_type": "code",
   "execution_count": 30,
   "id": "9fe4271d",
   "metadata": {},
   "outputs": [],
   "source": [
    "ahp = AHP()"
   ]
  },
  {
   "cell_type": "code",
   "execution_count": 31,
   "id": "d1b9e4b6",
   "metadata": {},
   "outputs": [
    {
     "name": "stdout",
     "output_type": "stream",
     "text": [
      "Inconsistency index:  0.01610868948440318\n"
     ]
    }
   ],
   "source": [
    "ahp._check_consistency(PCcriteria)"
   ]
  },
  {
   "cell_type": "markdown",
   "id": "ed8936e9",
   "metadata": {},
   "source": [
    "Step 3. Calculate the priority vector of criteria (criteria weights). The AHP method can be used only for criteria weights determination incorporating a decision-maker."
   ]
  },
  {
   "cell_type": "code",
   "execution_count": 32,
   "id": "1ca35d17",
   "metadata": {},
   "outputs": [],
   "source": [
    "weights = ahp._calculate_eigenvector(PCcriteria)"
   ]
  },
  {
   "cell_type": "markdown",
   "id": "9ed99f63",
   "metadata": {},
   "source": [
    "AHP criteria weights:"
   ]
  },
  {
   "cell_type": "code",
   "execution_count": 33,
   "id": "60ad8eda",
   "metadata": {},
   "outputs": [
    {
     "data": {
      "text/plain": [
       "array([0.38986164, 0.38986164, 0.06792478, 0.15235193])"
      ]
     },
     "execution_count": 33,
     "metadata": {},
     "output_type": "execute_result"
    }
   ],
   "source": [
    "weights"
   ]
  },
  {
   "cell_type": "markdown",
   "id": "71f89db5",
   "metadata": {},
   "source": [
    "Step 4. Form pairwise comparison matrices of the alternatives for each criterion."
   ]
  },
  {
   "cell_type": "code",
   "execution_count": 34,
   "id": "9a2802f2",
   "metadata": {},
   "outputs": [],
   "source": [
    "alt_matrices = []\n",
    "alt_matrices.append(PCM1)\n",
    "alt_matrices.append(PCM2)\n",
    "alt_matrices.append(PCM3)\n",
    "alt_matrices.append(PCM4)"
   ]
  },
  {
   "cell_type": "markdown",
   "id": "b44ed776",
   "metadata": {},
   "source": [
    "Step 5. This step checks the consistency of pairwise comparison matrices of the alternatives. Values equal and below 0.1 denote that the matrix is consistent and it is correct."
   ]
  },
  {
   "cell_type": "code",
   "execution_count": 35,
   "id": "2b51d715",
   "metadata": {},
   "outputs": [
    {
     "name": "stdout",
     "output_type": "stream",
     "text": [
      "Inconsistency index:  0.03349113123332669\n",
      "Inconsistency index:  0.026437064499443722\n",
      "Inconsistency index:  0.022144721786307425\n",
      "Inconsistency index:  0.039785112041738534\n"
     ]
    }
   ],
   "source": [
    "calculate_priority_vector_method = ahp._calculate_eigenvector\n",
    "pref = ahp._classic_ahp(alt_matrices, weights, calculate_priority_vector_method)"
   ]
  },
  {
   "cell_type": "markdown",
   "id": "43b49b33",
   "metadata": {},
   "source": [
    "AHP utility (preference) function values:"
   ]
  },
  {
   "cell_type": "code",
   "execution_count": 36,
   "id": "0e7a3c01",
   "metadata": {},
   "outputs": [
    {
     "data": {
      "text/plain": [
       "array([0.11737682, 0.07132502, 0.09472062, 0.21164765, 0.35008026,\n",
       "       0.15484963])"
      ]
     },
     "execution_count": 36,
     "metadata": {},
     "output_type": "execute_result"
    }
   ],
   "source": [
    "pref"
   ]
  },
  {
   "cell_type": "code",
   "execution_count": 37,
   "id": "289b5749",
   "metadata": {},
   "outputs": [],
   "source": [
    "rank = rank_preferences(pref, reverse = True)"
   ]
  },
  {
   "cell_type": "markdown",
   "id": "a7ecd7b5",
   "metadata": {},
   "source": [
    "AHP ranking"
   ]
  },
  {
   "cell_type": "code",
   "execution_count": 38,
   "id": "fe8244ba",
   "metadata": {},
   "outputs": [
    {
     "data": {
      "text/plain": [
       "array([4, 6, 5, 2, 1, 3])"
      ]
     },
     "execution_count": 38,
     "metadata": {},
     "output_type": "execute_result"
    }
   ],
   "source": [
    "rank"
   ]
  },
  {
   "cell_type": "markdown",
   "id": "07b039cc",
   "metadata": {},
   "source": [
    "### Another usage of AHP for ranking generation with numerical performance values, weights and criteria types"
   ]
  },
  {
   "cell_type": "markdown",
   "id": "8d639319",
   "metadata": {},
   "source": [
    "If you have a decision matrix with numerical performance values, a vector with numerical criteria weights, and determined criteria types (profit or cost), you can use the AHP method like other MCDA methods (for example, SAW):"
   ]
  },
  {
   "cell_type": "code",
   "execution_count": 39,
   "id": "07f4f08b",
   "metadata": {},
   "outputs": [],
   "source": [
    "matrix = np.array([[0.75, 0.50, 0.75, 0, 0, 0, 1],\n",
    "[0.75, 1, 0.75, 0, 0, 0, 0.75],\n",
    "[0.75, 0.75, 0.75, 0, 0.50, 0.25, 1],\n",
    "[0.50, 0.50, 0.75, 1, 0.50, 0, 0.75]])\n",
    "\n",
    "weights = np.array([0.1, 0.1, 0.1, 0.15, 0.2, 0.25, 0.1])\n",
    "\n",
    "types = np.array([1, 1, 1, 1, 1, 1, 1])\n",
    "\n",
    "ahp = AHP(normalization_method=norms.linear_normalization)\n",
    "pref = ahp(matrix, weights, types)"
   ]
  },
  {
   "cell_type": "code",
   "execution_count": 40,
   "id": "398a8a57",
   "metadata": {},
   "outputs": [
    {
     "data": {
      "text/plain": [
       "array([0.35      , 0.375     , 0.825     , 0.64166667])"
      ]
     },
     "execution_count": 40,
     "metadata": {},
     "output_type": "execute_result"
    }
   ],
   "source": [
    "pref"
   ]
  },
  {
   "cell_type": "code",
   "execution_count": 41,
   "id": "24f4def3",
   "metadata": {},
   "outputs": [],
   "source": [
    "rank = rank_preferences(pref, reverse = True)"
   ]
  },
  {
   "cell_type": "code",
   "execution_count": 42,
   "id": "4146a303",
   "metadata": {},
   "outputs": [
    {
     "data": {
      "text/plain": [
       "array([4, 3, 1, 2])"
      ]
     },
     "execution_count": 42,
     "metadata": {},
     "output_type": "execute_result"
    }
   ],
   "source": [
    "rank"
   ]
  },
  {
   "cell_type": "code",
   "execution_count": null,
   "id": "f07f08ed",
   "metadata": {},
   "outputs": [],
   "source": []
  }
 ],
 "metadata": {
  "kernelspec": {
   "display_name": "Python 3 (ipykernel)",
   "language": "python",
   "name": "python3"
  },
  "language_info": {
   "codemirror_mode": {
    "name": "ipython",
    "version": 3
   },
   "file_extension": ".py",
   "mimetype": "text/x-python",
   "name": "python",
   "nbconvert_exporter": "python",
   "pygments_lexer": "ipython3",
   "version": "3.10.5"
  }
 },
 "nbformat": 4,
 "nbformat_minor": 5
}
