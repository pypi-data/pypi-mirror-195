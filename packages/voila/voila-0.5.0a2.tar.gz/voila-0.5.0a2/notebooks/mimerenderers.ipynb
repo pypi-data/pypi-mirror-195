{
 "cells": [
  {
   "cell_type": "markdown",
   "metadata": {},
   "source": [
    "# JSON"
   ]
  },
  {
   "cell_type": "code",
   "execution_count": null,
   "metadata": {},
   "outputs": [],
   "source": [
    "from ipywidgets import Button, Output\n",
    "from IPython import display\n",
    "\n",
    "button = Button(description='Output JSON')\n",
    "output = Output()\n",
    "obj = {\n",
    "    \"abcde\": 1234,\n",
    "    \"nested\": list(range(10))\n",
    "}\n",
    "\n",
    "@output.capture()\n",
    "def on_click(change):\n",
    "    display.display(display.JSON(obj))\n",
    "    \n",
    "    \n",
    "button.on_click(on_click)\n",
    "display.display(button)\n",
    "output"
   ]
  },
  {
   "cell_type": "code",
   "execution_count": null,
   "metadata": {},
   "outputs": [],
   "source": [
    "display.JSON(obj)"
   ]
  },
  {
   "cell_type": "markdown",
   "metadata": {},
   "source": [
    "# Fasta"
   ]
  },
  {
   "cell_type": "code",
   "execution_count": null,
   "metadata": {},
   "outputs": [],
   "source": [
    "fasta_button = Button(description='Output FASTA')\n",
    "fasta_output = Output()\n",
    "\n",
    "\n",
    "def Fasta(data=''):\n",
    "    bundle = {}\n",
    "    bundle['application/vnd.fasta.fasta'] = data\n",
    "    bundle['text/plain'] = data\n",
    "    display.display(bundle, raw=True)\n",
    "    \n",
    "    \n",
    "@fasta_output.capture()\n",
    "def on_click(change):\n",
    "    Fasta(\"\"\">SEQUENCE_1\n",
    "MTEITAAMVKELRESTGAGMMDCKNALSETNGDFDKAVQLLREKGLGKAAKKADRLAAEG\n",
    "LVSVKVSDDFTIAAMRPSYLSYEDLDMTFVENEYKALVAELEKENEERRRLKDPNKPEHK\n",
    "IPQFASRKQLSDAILKEAEEKIKEELKAQGKPEKIWDNIIPGKMNSFIADNSQLDSKLTL\n",
    "MGQFYVMDDKKTVEQVIAEKEKEFGGKIKIVEFICFEVGEGLEKKTEDFAAEVAAQL\n",
    ">SEQUENCE_2\n",
    "SATVSEINSETDFVAKNDQFIALTKDTTAHIQSNSLQSVEELHSSTINGVKFEEYLKSQI\n",
    "ATIGENLVVRRFATLKAGANGVVNGYIHTNGRVGVVIAAACDSAEVASKSRDLLRQICMH\"\"\")\n",
    "\n",
    "\n",
    "fasta_button.on_click(on_click)\n",
    "display.display(fasta_button)\n",
    "fasta_output"
   ]
  },
  {
   "cell_type": "markdown",
   "metadata": {},
   "source": [
    "# GeoJSON"
   ]
  },
  {
   "cell_type": "code",
   "execution_count": null,
   "metadata": {},
   "outputs": [],
   "source": [
    "from IPython.display import GeoJSON\n",
    "\n",
    "\n",
    "geojson_button = Button(description='Output GeoJSON')\n",
    "geojson_output = Output()\n",
    "\n",
    "    \n",
    "@geojson_output.capture()\n",
    "def on_click(change):\n",
    "    obj = GeoJSON({\n",
    "        \"type\": \"Feature\",\n",
    "        \"geometry\": {\n",
    "            \"type\": \"Point\",\n",
    "            \"coordinates\": [-118.4563712, 34.0163116]\n",
    "        }\n",
    "    })\n",
    "    display.display(obj)\n",
    "    \n",
    "\n",
    "geojson_button.on_click(on_click)\n",
    "display.display(geojson_button)\n",
    "geojson_output"
   ]
  },
  {
   "cell_type": "code",
   "execution_count": null,
   "metadata": {},
   "outputs": [],
   "source": []
  },
  {
   "cell_type": "code",
   "execution_count": null,
   "metadata": {},
   "outputs": [],
   "source": []
  }
 ],
 "metadata": {
  "kernelspec": {
   "display_name": "Python 3",
   "language": "python",
   "name": "python3"
  },
  "language_info": {
   "codemirror_mode": {
    "name": "ipython",
    "version": 3
   },
   "file_extension": ".py",
   "mimetype": "text/x-python",
   "name": "python",
   "nbconvert_exporter": "python",
   "pygments_lexer": "ipython3",
   "version": "3.9.1"
  }
 },
 "nbformat": 4,
 "nbformat_minor": 5
}
