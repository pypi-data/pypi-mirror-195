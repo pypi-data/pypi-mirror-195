{
 "cells": [
  {
   "cell_type": "code",
   "execution_count": null,
   "metadata": {},
   "outputs": [],
   "source": [
    "from qampy import signals, impairments, equalisation, phaserec, helpers\n",
    "import numpy as np\n",
    "# here we use bokeh for plotting as it is much faster\n",
    "from bokeh.io import output_notebook, push_notebook\n",
    "from bokeh.plotting import figure, show\n",
    "output_notebook()\n",
    "\n"
   ]
  },
  {
   "cell_type": "code",
   "execution_count": null,
   "metadata": {},
   "outputs": [],
   "source": [
    "# setup some data first because we want to demo the time of the equaliser\n",
    "sigs = []\n",
    "for i in range(5):\n",
    "    s = signals.SignalQAMGrayCoded(4, 10**5, nmodes=2, fb=40e9)\n",
    "    s = s.resample(2*s.fb, beta=0.1, renormalise=True)\n",
    "    s = impairments.change_snr(s, 13)\n",
    "    s = impairments.apply_PMD(s, np.pi/5.5, 50e-12)\n",
    "    sigs.append(s)\n",
    "fig = figure(title=\"QPSK signal constellation\", output_backend=\"webgl\")\n",
    "Xp = fig.scatter(x=s[0].real, y=s[0].imag,  color='blue', alpha=0.3)\n",
    "Yp = fig.scatter(x=s[1].real, y=s[1].imag,  color='red', alpha=0.3)\n"
   ]
  },
  {
   "cell_type": "markdown",
   "metadata": {},
   "source": [
    "## QAMpy and Open Source DSP chain"
   ]
  },
  {
   "cell_type": "markdown",
   "metadata": {},
   "source": [
    "## QAMPy running equalisation on 100 000 symbol PM-QPSK"
   ]
  },
  {
   "cell_type": "code",
   "execution_count": null,
   "metadata": {},
   "outputs": [],
   "source": []
  },
  {
   "cell_type": "code",
   "execution_count": null,
   "metadata": {},
   "outputs": [],
   "source": [
    "handle=show(fig, notebook_handle=True)\n",
    "for i in range(50):\n",
    "    wxy, err = equalisation.equalise_signal(sigs[i%5], 2e-3, Ntaps=17, method=\"mcma\", adaptive_stepsize=True)\n",
    "    sout = equalisation.apply_filter(sigs[i%5], wxy)\n",
    "    sout = helpers.normalise_and_center(sout)\n",
    "    # note plotting is a significant bottleneck if we plot all points!\n",
    "    Xp.data_source.data[\"x\"] = sout[0][::10].real\n",
    "    Xp.data_source.data[\"y\"] = sout[0][::10].imag\n",
    "    Yp.data_source.data[\"x\"] = sout[1][::10].real\n",
    "    Yp.data_source.data[\"y\"] = sout[1][::10].imag\n",
    "    push_notebook()"
   ]
  },
  {
   "cell_type": "code",
   "execution_count": null,
   "metadata": {},
   "outputs": [],
   "source": []
  }
 ],
 "metadata": {
  "language_info": {
   "name": "python",
   "pygments_lexer": "ipython3"
  }
 },
 "nbformat": 4,
 "nbformat_minor": 2
}
