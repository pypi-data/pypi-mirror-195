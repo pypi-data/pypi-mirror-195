{
 "cells": [
  {
   "cell_type": "markdown",
   "metadata": {},
   "source": [
    "# Higher-order QAM modulation with QAMPy\n",
    "\n",
    "QAMpy also has the equalisers for higher-order QAM buildin. In this notebook we demonstrate the equalisation of a 64QAM signal using a dual-mode equaliser consisting of a MCMA and a decision directed algorithm"
   ]
  },
  {
   "cell_type": "code",
   "execution_count": null,
   "metadata": {},
   "outputs": [],
   "source": [
    "from qampy import signals, impairments, equalisation, phaserec, helpers\n",
    "import numpy as np\n",
    "from bokeh.io import output_notebook\n",
    "from bokeh.plotting import figure, show\n",
    "output_notebook()"
   ]
  },
  {
   "cell_type": "markdown",
   "metadata": {},
   "source": [
    "These are the same imports as in the QPSK demo. Let us generate something more challenging."
   ]
  },
  {
   "cell_type": "code",
   "execution_count": null,
   "metadata": {},
   "outputs": [],
   "source": [
    "s = signals.ResampledQAM(64, 2**16, fb=40e9, fs=80e9, nmodes=2, resamplekwargs={\"beta\":0.1, \"renormalise\":True}) "
   ]
  },
  {
   "cell_type": "markdown",
   "metadata": {},
   "source": [
    "The above is a convenience class that allows us to immediately generate a resampled signal"
   ]
  },
  {
   "cell_type": "code",
   "execution_count": null,
   "metadata": {},
   "outputs": [],
   "source": [
    "s = impairments.simulate_transmission(s, snr=25, lwdth=1e5, dgd=50e-12, theta=np.pi/5)"
   ]
  },
  {
   "cell_type": "markdown",
   "metadata": {},
   "source": [
    "This function lets us simulate much of the impairments in one go. Which can be convenient at times. "
   ]
  },
  {
   "cell_type": "code",
   "execution_count": null,
   "metadata": {},
   "outputs": [],
   "source": [
    "def plot_constellation(E):\n",
    "    fig = figure(title=\"QPSK signal constellation\", output_backend=\"webgl\")\n",
    "    fig.scatter(E[0].real, E[0].imag, color='red', alpha=0.3, legend=\"X\")\n",
    "    fig.scatter(E[1].real, E[1].imag, color='blue', alpha=0.3, legend=\"Y\")\n",
    "    fig.xaxis[0].axis_label = \"In-Phase\"\n",
    "    fig.yaxis[0].axis_label = \"Quadrature\"\n",
    "    show(fig)"
   ]
  },
  {
   "cell_type": "code",
   "execution_count": null,
   "metadata": {},
   "outputs": [],
   "source": [
    "plot_constellation(s)"
   ]
  },
  {
   "cell_type": "markdown",
   "metadata": {},
   "source": [
    "## We should use a dual mode equaliser. \n",
    "\n",
    "Generally for blind-equalisation of higher-order QAM signals, one uses a dual-mode approach. That is, we use a CMA-type equaliser for the pre-convergence and then a decision directed equaliser in a second step. QAMpy has a number of different algorithms both non-decision and decision based. You can find documentation in the equalisation module."
   ]
  },
  {
   "cell_type": "code",
   "execution_count": null,
   "metadata": {},
   "outputs": [],
   "source": [
    "help(equalisation)"
   ]
  },
  {
   "cell_type": "markdown",
   "metadata": {},
   "source": [
    "## Best ones most of times MCMA and SBD\n",
    "\n",
    "We have found that most of the times a dual-mode equaliser of MCMA and SBD works best. It is both very accurate and fast. "
   ]
  },
  {
   "cell_type": "code",
   "execution_count": null,
   "metadata": {},
   "outputs": [],
   "source": [
    "sout, wxy, err = equalisation.dual_mode_equalisation(s, (1e-2, 1e-2), 11, methods=(\"mcma\", \"sbd\"), avoid_cma_sing=(False, False))\n",
    "sout = helpers.normalise_and_center(sout)"
   ]
  },
  {
   "cell_type": "code",
   "execution_count": null,
   "metadata": {},
   "outputs": [],
   "source": [
    "plot_constellation(sout)"
   ]
  },
  {
   "cell_type": "markdown",
   "metadata": {},
   "source": [
    "## Phase recovery of high-order QAM\n",
    "\n",
    "Generally speaking the ViterbiViterbi algorithm does not work for QAM signals with M>4. While there are some adjusted algorithms (and some are implemented in QAMpy), the generally accepted approach is to use a blind phase search (BPS) algorithm. "
   ]
  },
  {
   "cell_type": "code",
   "execution_count": null,
   "metadata": {},
   "outputs": [],
   "source": [
    "sout, ph = phaserec.bps(sout, 64, sout.coded_symbols, 20)\n",
    "sout = helpers.normalise_and_center(sout)"
   ]
  },
  {
   "cell_type": "code",
   "execution_count": null,
   "metadata": {},
   "outputs": [],
   "source": [
    "plot_constellation(sout)"
   ]
  },
  {
   "cell_type": "markdown",
   "metadata": {},
   "source": [
    "## Note this processing is again highly optimized\n"
   ]
  },
  {
   "cell_type": "code",
   "execution_count": null,
   "metadata": {},
   "outputs": [],
   "source": [
    "timeit equalisation.dual_mode_equalisation(s, (1e-2, 1e-2), 11, methods=(\"mcma\", \"sbd\"), avoid_cma_sing=(False, False))"
   ]
  },
  {
   "cell_type": "code",
   "execution_count": null,
   "metadata": {},
   "outputs": [],
   "source": [
    "timeit phaserec.bps(sout, 64, sout.coded_symbols, 20)"
   ]
  },
  {
   "cell_type": "code",
   "execution_count": null,
   "metadata": {},
   "outputs": [],
   "source": [
    "print(sout.cal_ser())\n",
    "print(sout.cal_gmi())"
   ]
  },
  {
   "cell_type": "code",
   "execution_count": null,
   "metadata": {},
   "outputs": [],
   "source": []
  }
 ],
 "metadata": {
  "language_info": {
   "name": "python",
   "pygments_lexer": "ipython3"
  }
 },
 "nbformat": 4,
 "nbformat_minor": 2
}
