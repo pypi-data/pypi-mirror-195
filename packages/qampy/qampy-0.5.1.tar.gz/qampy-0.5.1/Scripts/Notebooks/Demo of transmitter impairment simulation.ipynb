{
 "cells": [
  {
   "cell_type": "code",
   "execution_count": 1,
   "metadata": {},
   "outputs": [
    {
     "name": "stdout",
     "output_type": "stream",
     "text": [
      "Populating the interactive namespace from numpy and matplotlib\n"
     ]
    }
   ],
   "source": [
    "from qampy import signals,impairments,helpers,equalisation,io,filtering,phaserec\n",
    "from qampy.core import impairments as impair\n",
    "%pylab inline"
   ]
  },
  {
   "cell_type": "code",
   "execution_count": 2,
   "metadata": {},
   "outputs": [],
   "source": [
    "# plot signal spectrum\n",
    "def plot_spec(sig):\n",
    "    mysig = atleast_2d(sig)\n",
    "    figure(figsize=(6,6))\n",
    "    faxis=fftfreq(mysig.shape[1],1/2)\n",
    "    psd = 20*log10(abs(fft.fft(mysig[0])))\n",
    "    plot(faxis,psd-psd.max())\n",
    "    xlabel(\"Normalized Frequency\")\n",
    "    ylabel(\"Relative Power\")\n",
    "    title(\"Signal spectrum\")\n",
    "\n",
    "# plot 1-D signal\n",
    "def plot_1d(mysig):\n",
    "    figure(figsize=(6,6))\n",
    "    plot(mysig.real.flatten(),mysig.imag.flatten(),'b.')\n",
    "    axis(\"square\")\n",
    "    # xticks([])\n",
    "    # yticks([])\n",
    "    # axis([-1.5,1.5,-1.5,1.5])\n",
    "    title(\"Complete Frame\")\n",
    "    show()"
   ]
  },
  {
   "cell_type": "markdown",
   "metadata": {},
   "source": [
    "# Data generation"
   ]
  },
  {
   "cell_type": "markdown",
   "metadata": {},
   "source": [
    "Generate payload data (Simulate the symbol generated in Mechine learning Network)"
   ]
  },
  {
   "cell_type": "code",
   "execution_count": 3,
   "metadata": {},
   "outputs": [],
   "source": [
    "M = 64                  # modulation format\n",
    "pilot_seq_len = 1024    # pilot squence length, notice:phase pilots are not included \n",
    "pilot_ins_rat = 32      # i.e. for every 32 symbol, one phase pilot symbol is inserted \n",
    "N = 2**16               # total sequence length (Sequenc pilot + phase pilot + payload)\n",
    "nmodes = 2              # number of polarization mode\n",
    "fb = 40e9               # symbol rate\n",
    "N_pl = int( (N-pilot_seq_len)*(pilot_ins_rat-1)/pilot_ins_rat )  # payload sequence length\n",
    "\n",
    "sig_payload = signals.SignalQAMGrayCoded(M,N_pl,nmodes=nmodes,fb=fb)"
   ]
  },
  {
   "cell_type": "markdown",
   "metadata": {},
   "source": [
    "<span style='background :yellow' > Sig_payload_arr: payload array that should be generated in ML netwrok </span>"
   ]
  },
  {
   "cell_type": "code",
   "execution_count": 4,
   "metadata": {},
   "outputs": [],
   "source": [
    "sig_payload_arr = np.array(sig_payload)"
   ]
  },
  {
   "cell_type": "code",
   "execution_count": 5,
   "metadata": {},
   "outputs": [],
   "source": [
    "sig_payload_obj = sig_payload.recreate_from_np_array(sig_payload_arr)"
   ]
  },
  {
   "cell_type": "markdown",
   "metadata": {},
   "source": [
    "#### Generate pilot signal obejct (with pilot symbol) and import payload into the obejct"
   ]
  },
  {
   "cell_type": "markdown",
   "metadata": {},
   "source": [
    "payload data will be repeated and imorted to 2-frame"
   ]
  },
  {
   "cell_type": "code",
   "execution_count": 6,
   "metadata": {},
   "outputs": [],
   "source": [
    "pilot_sig = signals.SignalWithPilots(M, N, pilot_seq_len, pilot_ins_rat, nmodes=nmodes, Mpilots=4, nframes=2, fb=fb)\n",
    "pilot_sig_pl = pilot_sig.from_symbol_array(sig_payload_obj, N, pilot_seq_len, pilot_ins_rat, pilots=None, nframes=2)"
   ]
  },
  {
   "cell_type": "markdown",
   "metadata": {},
   "source": [
    "Matching filter (RRC filter) and oversampling"
   ]
  },
  {
   "cell_type": "code",
   "execution_count": 7,
   "metadata": {},
   "outputs": [],
   "source": [
    "roll_off = 0.5   # roll-off factor of rrc filter\n",
    "os_rate = 2      # over-sampling rate\n",
    "pilot_sigResam = pilot_sig_pl.resample(os_rate*pilot_sig.fb, beta=roll_off)"
   ]
  },
  {
   "cell_type": "code",
   "execution_count": 8,
   "metadata": {},
   "outputs": [],
   "source": [
    "delay = 10000    # delay 10000 symbol on purpose of synchronization\n",
    "sig_delay = np.roll(pilot_sigResam,delay,axis=-1)"
   ]
  },
  {
   "cell_type": "markdown",
   "metadata": {},
   "source": [
    "# Transmitter impairment"
   ]
  },
  {
   "cell_type": "markdown",
   "metadata": {},
   "source": [
    "### Digital-to-analog converter impairment     (including quantization noise and frequency response)"
   ]
  },
  {
   "cell_type": "markdown",
   "metadata": {},
   "source": [
    "#### DAC_response() input:\n",
    "    input signal\n",
    "    enob:    enob:effective number of bits, decides the effective resolution of dac\n",
    "    cutoff:  3-dB cut-off frequency of dac\n",
    "\n",
    "#### DAC_response() output:\n",
    "    sigq:         signal after quantization\n",
    "    sig_dac_out:  signal after quantization and 2-order bessel filter (frequency response of dac)\n",
    "    snr_enob:     snr after adding quantization noise"
   ]
  },
  {
   "cell_type": "code",
   "execution_count": 9,
   "metadata": {},
   "outputs": [],
   "source": [
    "enob = 6         \n",
    "cutoff = 16e9    \n",
    "\n",
    "if nmodes==1:  # if input signal has single polarization\n",
    "    [sig_dac_out, sigq, snr_enob] = impair.sim_DAC_response(sig_delay, sig_delay.fs, enob, cutoff, quantizer_model=False)\n",
    "\n",
    "\n",
    "elif nmodes==2:  # if input signal has dual polarization\n",
    "    [sig_dac_out_xpol, sigq_xpol, snr_enob_xpol] = impair.sim_DAC_response(sig_delay[0], sig_delay.fs, enob, cutoff, quantizer_model=False)\n",
    "    [sig_dac_out_ypol, sigq_ypol, snr_enob_ypol] = impair.sim_DAC_response(sig_delay[1], sig_delay.fs,enob, cutoff, quantizer_model=False)"
   ]
  },
  {
   "cell_type": "markdown",
   "metadata": {},
   "source": [
    "### Ideal amplifier "
   ]
  },
  {
   "cell_type": "code",
   "execution_count": 10,
   "metadata": {},
   "outputs": [],
   "source": [
    "# Vpi of IQ modulator is 3.5 V\n",
    "# signal output range is amplified to (-des_swing,des_swing)\n",
    "des_swing = 3  \n",
    "\n",
    "if nmodes==1:\n",
    "    sig_amp_out = impair.ideal_amplifier_response(sig_dac_out, des_swing)\n",
    "elif nmodes==2:\n",
    "    sig_amp_out_xpol = impair.ideal_amplifier_response(sig_dac_out_xpol, des_swing)\n",
    "    sig_amp_out_ypol = impair.ideal_amplifier_response(sig_dac_out_ypol, des_swing)"
   ]
  },
  {
   "cell_type": "markdown",
   "metadata": {},
   "source": [
    "### IQ modulator"
   ]
  },
  {
   "cell_type": "code",
   "execution_count": 11,
   "metadata": {},
   "outputs": [],
   "source": [
    "if nmodes==1:\n",
    "    sig_mod_out = impair.modulator_response(sig_amp_out)\n",
    "if nmodes==2:\n",
    "    sig_mod_out_xpol = impair.modulator_response(sig_amp_out_xpol)\n",
    "    sig_mod_out_ypol = impair.modulator_response(sig_amp_out_ypol)\n",
    "    sig_mod_out = np.vstack((sig_mod_out_xpol,sig_mod_out_ypol))\n",
    "    sig_mod_out = np.array(sig_mod_out)\n",
    "    \n",
    "sig_mod_out_obj = sig_delay.recreate_from_np_array(sig_mod_out)"
   ]
  },
  {
   "cell_type": "markdown",
   "metadata": {},
   "source": [
    "# Channel impairment"
   ]
  },
  {
   "cell_type": "markdown",
   "metadata": {},
   "source": [
    "Add AWGN noise to the signal and change snr"
   ]
  },
  {
   "cell_type": "code",
   "execution_count": 12,
   "metadata": {},
   "outputs": [],
   "source": [
    "snr_loading = 35\n",
    "sig_h = impairments.change_snr(sig_mod_out_obj,snr_loading)"
   ]
  },
  {
   "cell_type": "markdown",
   "metadata": {},
   "source": [
    "# Receiver"
   ]
  },
  {
   "cell_type": "markdown",
   "metadata": {},
   "source": [
    "Match filter and resampling (resample to 2 sample/symbol for equalization)"
   ]
  },
  {
   "cell_type": "code",
   "execution_count": 13,
   "metadata": {},
   "outputs": [],
   "source": [
    "rxsig = sig_h.resample(2*pilot_sig.fb, beta=roll_off, renormalise=True)\n",
    "rxsig = helpers.normalise_and_center(rxsig)"
   ]
  },
  {
   "cell_type": "markdown",
   "metadata": {},
   "source": [
    "synchronizaton"
   ]
  },
  {
   "cell_type": "code",
   "execution_count": 14,
   "metadata": {},
   "outputs": [
    {
     "name": "stdout",
     "output_type": "stream",
     "text": [
      "shift factor['9994', '9994']\n"
     ]
    }
   ],
   "source": [
    "rxsig.sync2frame()\n",
    "print(\"shift factor\" + str([\"%.0f\"%i for i in rxsig.shiftfctrs]))"
   ]
  },
  {
   "cell_type": "markdown",
   "metadata": {},
   "source": [
    "Frequency offset compensation, equalization and phase recovery"
   ]
  },
  {
   "cell_type": "code",
   "execution_count": 15,
   "metadata": {},
   "outputs": [
    {
     "name": "stdout",
     "output_type": "stream",
     "text": [
      "FOE['0.0000', '0.0000']\n"
     ]
    }
   ],
   "source": [
    "print(\"FOE\" + str([\"%.4f\"%i for i in rxsig._foe]))\n",
    "rxsig.corr_foe()\n",
    "eq_sig = equalisation.pilot_equalizer(rxsig,(1e-3,1e-3),45,foe_comp=False,methods=(\"cma\",\"sbd\"))\n",
    "cpe_sig = phaserec.pilot_cpe(eq_sig[1],N=5,use_seq=False)"
   ]
  },
  {
   "cell_type": "markdown",
   "metadata": {},
   "source": [
    "Extract payload symbol from the object"
   ]
  },
  {
   "cell_type": "code",
   "execution_count": 16,
   "metadata": {},
   "outputs": [],
   "source": [
    "receive_sig = cpe_sig[0]\n",
    "receive_pilot = receive_sig.extract_pilots()\n",
    "receive_payload = receive_sig.get_data()"
   ]
  },
  {
   "cell_type": "markdown",
   "metadata": {},
   "source": [
    "Measure BER performance"
   ]
  },
  {
   "cell_type": "code",
   "execution_count": 17,
   "metadata": {},
   "outputs": [
    {
     "data": {
      "text/plain": [
       "array([0.00650975, 0.00631507])"
      ]
     },
     "execution_count": 17,
     "metadata": {},
     "output_type": "execute_result"
    }
   ],
   "source": [
    "receive_sig.cal_ber()"
   ]
  },
  {
   "cell_type": "markdown",
   "metadata": {},
   "source": [
    "Plot constellation of received symbol"
   ]
  },
  {
   "cell_type": "code",
   "execution_count": 18,
   "metadata": {},
   "outputs": [
    {
     "data": {
      "image/png": "[encoded data removed]",
      "text/plain": [
       "<Figure size 432x432 with 1 Axes>"
      ]
     },
     "metadata": {
      "needs_background": "light"
     },
     "output_type": "display_data"
    }
   ],
   "source": [
    "plot_1d(receive_sig)"
   ]
  },
  {
   "cell_type": "markdown",
   "metadata": {},
   "source": [
    "Plot spectrum of transmitter output signal "
   ]
  },
  {
   "cell_type": "code",
   "execution_count": 19,
   "metadata": {},
   "outputs": [
    {
     "data": {
      "image/png": "[encoded data removed]",
      "text/plain": [
       "<Figure size 432x432 with 1 Axes>"
      ]
     },
     "metadata": {
      "needs_background": "light"
     },
     "output_type": "display_data"
    }
   ],
   "source": [
    "plot_spec(sig_mod_out)"
   ]
  }
 ],
 "metadata": {
  "kernelspec": {
   "display_name": "Python 3",
   "language": "python",
   "name": "python3"
  },
  "language_info": {
   "codemirror_mode": {
    "name": "ipython",
    "version": 3
   },
   "file_extension": ".py",
   "mimetype": "text/x-python",
   "name": "python",
   "nbconvert_exporter": "python",
   "pygments_lexer": "ipython3",
   "version": "3.7.5"
  }
 },
 "nbformat": 4,
 "nbformat_minor": 2
}
