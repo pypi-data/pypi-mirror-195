{
 "cells": [
  {
   "cell_type": "markdown",
   "metadata": {},
   "source": [
    "# Introduction to QAMpy \n",
    "\n",
    "Find it at: https://github.com/ChalmersPhotonicsLab/QAMpy\n",
    "\n",
    "## A simple QPSK simulation\n",
    "\n",
    "Here we go through how to construct a basic \"simulation\" for QPSK equalisation. QAMpy aims to have all the relevant building blocks ready for you. "
   ]
  },
  {
   "cell_type": "markdown",
   "metadata": {},
   "source": [
    "## The QAMpy API\n",
    "\n",
    "QAMpy provides two sets of APIs:\n",
    "* The basic API\n",
    "  \n",
    "This works with signal objects (a numpy array subclass). Generally it should do all the right things for you and makes a lot of the repetitive tasks very easy. Importantly we will strife to keep this stable so that code written for older versions should still work with newer versions.\n",
    "* The core or advanced API\n",
    "\n",
    "The core or advanced API is where all the actual processing code sits. One of the important things to remember when using is that many of the core API functions do not preserve signalobject class, but instead return numpy arrays, so you will need to keep track of this. \n",
    "\n",
    "It should in general be always possible to use the basic API for your processing"
   ]
  },
  {
   "cell_type": "markdown",
   "metadata": {},
   "source": [
    "## We use the basic API \n",
    "\n",
    "## Bokeh is great for plotting\n",
    "  * significantly faster when using the webgl backend"
   ]
  },
  {
   "cell_type": "code",
   "execution_count": null,
   "metadata": {},
   "outputs": [],
   "source": [
    "from qampy import signals, impairments, equalisation, phaserec, helpers\n",
    "import numpy as np\n",
    "# here we use bokeh for plotting as it is much faster\n",
    "from bokeh.io import output_notebook, push_notebook\n",
    "from bokeh.plotting import figure, show\n",
    "import warnings\n",
    "warnings.filterwarnings('ignore')\n",
    "output_notebook()"
   ]
  },
  {
   "cell_type": "markdown",
   "metadata": {},
   "source": [
    "Lets start by generating a dual polarization QPSK signal, with gray coded bits, a symbol rate of 25 Gbaud $2^{16}$ symbols"
   ]
  },
  {
   "cell_type": "code",
   "execution_count": null,
   "metadata": {},
   "outputs": [],
   "source": [
    "sig = signals.SignalQAMGrayCoded(4, 2**16, nmodes=2, fb=25e9)"
   ]
  },
  {
   "cell_type": "markdown",
   "metadata": {},
   "source": [
    "### The signals module is the core of the QAMPy API, which gives us signals to operatate on.\n",
    "\n",
    "   * you will most likely be using signal objects\n",
    "   * They are well documented and are easily subclassable to create your own custom objects"
   ]
  },
  {
   "cell_type": "markdown",
   "metadata": {},
   "source": [
    "Have a look at the help for the SignalQAMGrayCoded object from above"
   ]
  },
  {
   "cell_type": "code",
   "execution_count": null,
   "metadata": {},
   "outputs": [],
   "source": [
    "help(sig)"
   ]
  },
  {
   "cell_type": "markdown",
   "metadata": {},
   "source": [
    "## A quick convenience function for plotting constellation diagrams"
   ]
  },
  {
   "cell_type": "code",
   "execution_count": null,
   "metadata": {},
   "outputs": [],
   "source": [
    "def plot_constellation(E):\n",
    "    fig = figure(title=\"QPSK signal constellation\", output_backend=\"webgl\")\n",
    "    fig.scatter(E[0].real, E[0].imag, color='red', alpha=0.3, legend=\"X\")\n",
    "    fig.scatter(E[1].real, E[1].imag, color='blue', alpha=0.3, legend=\"Y\")\n",
    "    fig.xaxis[0].axis_label = \"In-Phase\"\n",
    "    fig.yaxis[0].axis_label = \"Quadrature\"\n",
    "    show(fig)"
   ]
  },
  {
   "cell_type": "markdown",
   "metadata": {},
   "source": [
    "## Let's have a look at our signal"
   ]
  },
  {
   "cell_type": "code",
   "execution_count": null,
   "metadata": {},
   "outputs": [],
   "source": [
    "plot_constellation(sig)"
   ]
  },
  {
   "cell_type": "markdown",
   "metadata": {},
   "source": [
    "## This is kinda boring, lets change the SNR of the signal to 15dB."
   ]
  },
  {
   "cell_type": "code",
   "execution_count": null,
   "metadata": {},
   "outputs": [],
   "source": [
    "signoise = impairments.change_snr(sig, 15)"
   ]
  },
  {
   "cell_type": "markdown",
   "metadata": {},
   "source": [
    "### What does it look now?"
   ]
  },
  {
   "cell_type": "code",
   "execution_count": null,
   "metadata": {},
   "outputs": [],
   "source": [
    "plot_constellation(signoise)"
   ]
  },
  {
   "cell_type": "markdown",
   "metadata": {},
   "source": [
    "### At this SNR we should not have any errors but lets check\n",
    "#### See how easy it is to check symbol error rate or bit rate"
   ]
  },
  {
   "cell_type": "code",
   "execution_count": null,
   "metadata": {},
   "outputs": [],
   "source": [
    "signoise.cal_ser()"
   ]
  },
  {
   "cell_type": "markdown",
   "metadata": {},
   "source": [
    "## Generally we would want to oversample our signal... and do some pulseshaping"
   ]
  },
  {
   "cell_type": "markdown",
   "metadata": {},
   "source": [
    "### Here we resample to 50 GHz and shape with a rrcos filter with $\\beta=0.1$"
   ]
  },
  {
   "cell_type": "code",
   "execution_count": null,
   "metadata": {},
   "outputs": [],
   "source": [
    "signoise = signoise.resample(signoise.fb*2, beta=0.1, renormalise=True)"
   ]
  },
  {
   "cell_type": "markdown",
   "metadata": {},
   "source": [
    "### We can easily check sampling rate or symbol rate"
   ]
  },
  {
   "cell_type": "code",
   "execution_count": null,
   "metadata": {},
   "outputs": [],
   "source": [
    "signoise.fs"
   ]
  },
  {
   "cell_type": "markdown",
   "metadata": {},
   "source": [
    "### plot the constellation again"
   ]
  },
  {
   "cell_type": "code",
   "execution_count": null,
   "metadata": {},
   "outputs": [],
   "source": [
    "plot_constellation(signoise)"
   ]
  },
  {
   "cell_type": "markdown",
   "metadata": {},
   "source": [
    "As expected this looks like a mess now, but we are oversampling. \n",
    "### Numpy fancy indexing  still works."
   ]
  },
  {
   "cell_type": "code",
   "execution_count": null,
   "metadata": {},
   "outputs": [],
   "source": [
    "plot_constellation(signoise[:,::2])"
   ]
  },
  {
   "cell_type": "markdown",
   "metadata": {},
   "source": [
    "## To make a realistic signal \n",
    "### Add phase noise of a 100 kHz linewidth laser"
   ]
  },
  {
   "cell_type": "code",
   "execution_count": null,
   "metadata": {},
   "outputs": [],
   "source": [
    "signoise = impairments.apply_phase_noise(signoise, 100e3)"
   ]
  },
  {
   "cell_type": "markdown",
   "metadata": {},
   "source": [
    "## And 40 ps of DGD"
   ]
  },
  {
   "cell_type": "code",
   "execution_count": null,
   "metadata": {},
   "outputs": [],
   "source": [
    "signoise= impairments.apply_PMD(signoise, np.pi/5.5, 40e-12)"
   ]
  },
  {
   "cell_type": "markdown",
   "metadata": {},
   "source": [
    "## This is where we use the equaliser \n",
    "  * here we use a CMA equaliser with 17 taps and a stepsize $\\mu=2\\cdot10^{-3}$"
   ]
  },
  {
   "cell_type": "code",
   "execution_count": null,
   "metadata": {},
   "outputs": [],
   "source": [
    "wxy, err = equalisation.equalise_signal(signoise, 2e-3, Ntaps=17 )"
   ]
  },
  {
   "cell_type": "markdown",
   "metadata": {},
   "source": [
    "## To check convergence have a look at the error \n"
   ]
  },
  {
   "cell_type": "code",
   "execution_count": null,
   "metadata": {},
   "outputs": [],
   "source": [
    "fig = figure(title=\"Error\", output_backend=\"webgl\")\n",
    "fig.line(np.arange(err[0].shape[0]), abs(err[0]), color='red', alpha=1, legend=\"X\")\n",
    "fig.xaxis[0].axis_label = \"symbol\"\n",
    "fig.yaxis[0].axis_label = \"error\"\n",
    "show(fig)"
   ]
  },
  {
   "cell_type": "markdown",
   "metadata": {},
   "source": [
    "## And check the taps \n"
   ]
  },
  {
   "cell_type": "code",
   "execution_count": null,
   "metadata": {},
   "outputs": [],
   "source": [
    "fig = figure(title=\"Error\", output_backend=\"webgl\")\n",
    "fig.line(np.arange(wxy[0].shape[1]), wxy[0][0].real, color='red', alpha=1, legend=\"hxx\")\n",
    "fig.line(np.arange(wxy[0].shape[1]), wxy[0][1].real, color='blue', alpha=1, legend=\"hxy\")\n",
    "fig.xaxis[0].axis_label = \"tap\"\n",
    "fig.yaxis[0].axis_label = \"weight\"\n",
    "show(fig)"
   ]
  },
  {
   "cell_type": "markdown",
   "metadata": {},
   "source": [
    "## Equalise the signal\n",
    "   * by default the filter taps are not applied to the signal\n",
    "   * do that manually and check the contstellation"
   ]
  },
  {
   "cell_type": "code",
   "execution_count": null,
   "metadata": {},
   "outputs": [],
   "source": [
    "sig_out = equalisation.apply_filter(signoise, wxy)\n",
    "plot_constellation(sig_out)"
   ]
  },
  {
   "cell_type": "markdown",
   "metadata": {},
   "source": [
    "## Phase noise\n",
    "\n",
    "   * The signal still has phase noise\n",
    "   * For QPSK we can easily do this using the viterbiviterbi algorithm"
   ]
  },
  {
   "cell_type": "code",
   "execution_count": null,
   "metadata": {},
   "outputs": [],
   "source": [
    "sig_out, ph = phaserec.viterbiviterbi(sig_out, 11)"
   ]
  },
  {
   "cell_type": "markdown",
   "metadata": {},
   "source": [
    "Note that we generally need to get rid of the signal edges and we should also renormalise"
   ]
  },
  {
   "cell_type": "code",
   "execution_count": null,
   "metadata": {},
   "outputs": [],
   "source": [
    "sig_out = helpers.dump_edges(sig_out, 20)\n",
    "sig_out = helpers.normalise_and_center(sig_out)\n",
    "plot_constellation(sig_out)"
   ]
  },
  {
   "cell_type": "markdown",
   "metadata": {},
   "source": [
    "# Signal quality metrics build in\n",
    "   \n",
    "   * Symbol error rate (SER)\n",
    "   * Bit Error Rate (BER)\n",
    "   * Error Vector Magnitude (EVM), both blind and with known symbols\n",
    "   * Generalised Mutual Information (GMI)"
   ]
  },
  {
   "cell_type": "markdown",
   "metadata": {},
   "source": [
    "### Print SER and BER"
   ]
  },
  {
   "cell_type": "code",
   "execution_count": null,
   "metadata": {},
   "outputs": [],
   "source": [
    "ser = sig_out.cal_ser()\n",
    "ber = sig_out.cal_ber()\n",
    "print(\"SER_x = %.2f, SER_y= %.2f\"%(ser[0], ser[1]))\n",
    "print(\"BER_x = %.2f, BER_y = %.2f\"%(ber[0], ber[1]))"
   ]
  },
  {
   "cell_type": "markdown",
   "metadata": {},
   "source": [
    "### What about GMI and EVM"
   ]
  },
  {
   "cell_type": "code",
   "execution_count": null,
   "metadata": {},
   "outputs": [],
   "source": [
    "print(sig_out.cal_gmi())\n",
    "print(sig_out.cal_evm())"
   ]
  },
  {
   "cell_type": "markdown",
   "metadata": {},
   "source": [
    "## Equaliser Methods\n",
    "QAMpy contains several equaliser methods. \n",
    "* Two \"CMA-type\" methods\n",
    "    * CMA\n",
    "    * Modified CMA (MCMA) - often better\n",
    "* RDE type algorithms\n",
    "* several Decision Directed LMS algorithms\n",
    "\n",
    "See the equalisation module documentation for details"
   ]
  },
  {
   "cell_type": "code",
   "execution_count": null,
   "metadata": {},
   "outputs": [],
   "source": [
    "wxy2, err2 = equalisation.equalise_signal(signoise, 1e-3, Ntaps=21, method=\"mcma\")"
   ]
  },
  {
   "cell_type": "code",
   "execution_count": null,
   "metadata": {},
   "outputs": [],
   "source": [
    "sig_out3 = equalisation.apply_filter(signoise, wxy)\n",
    "sig_out3, ph = phaserec.viterbiviterbi(sig_out3, 11)\n",
    "sig_out3 = helpers.normalise_and_center(sig_out3)\n",
    "sig_out3 = helpers.dump_edges(sig_out3, 10)\n",
    "plot_constellation(sig_out3)\n",
    "print(\"SER = \",sig_out3.cal_ser())\n",
    "print(\"BER = \", sig_out3.cal_ber())"
   ]
  },
  {
   "cell_type": "markdown",
   "metadata": {},
   "source": [
    "## Speed\n",
    "\n",
    "QAMpy is optimized for speed. It was important for us that you can do adjustments in the lab and look at your constellations \"live\". \n",
    "\n",
    "All the time critical functions are implemented using \"cython\" and run essentially at C-speed with multi-threading support and a fallback option using numba. We also have some initial GPU processing support, but this is still work in progress (In the future you should be able to select backends quite easily). \n",
    "Let's measure the speed this out:"
   ]
  },
  {
   "cell_type": "code",
   "execution_count": null,
   "metadata": {},
   "outputs": [],
   "source": [
    "%%timeit \n",
    "sig = signals.SignalQAMGrayCoded(4, 10**5, fb=25e9, nmodes=2)\n",
    "sig = sig.resample(sig.fb*2, beta=0.1, renormalise=True)\n",
    "sig = impairments.apply_phase_noise(sig, 100e3)\n",
    "sig = impairments.apply_PMD(sig, np.pi/5.6, 60e-12)\n",
    "sig = impairments.change_snr(sig, 15)\n",
    "wxy, err = equalisation.equalise_signal(sig, 1e-3, Ntaps=21, method=\"mcma\")\n",
    "sig_out3 = equalisation.apply_filter(sig, wxy)\n",
    "sig_out3, ph = phaserec.viterbiviterbi(sig_out3, 11)\n",
    "sig_out3 = helpers.normalise_and_center(sig_out3)\n",
    "sig_out3 = helpers.dump_edges(sig_out3, 10)\n"
   ]
  },
  {
   "cell_type": "markdown",
   "metadata": {},
   "source": [
    "The equaliser is actually much faster than a lot of the other things"
   ]
  },
  {
   "cell_type": "code",
   "execution_count": null,
   "metadata": {},
   "outputs": [],
   "source": [
    "%%timeit\n",
    "equalisation.equalise_signal(sig, 1e-3, Ntaps=21, method=\"mcma\")"
   ]
  },
  {
   "cell_type": "markdown",
   "metadata": {},
   "source": [
    "# This is even more impressive if you put it in a loop"
   ]
  },
  {
   "cell_type": "code",
   "execution_count": null,
   "metadata": {},
   "outputs": [],
   "source": [
    "# setup some data first because we want to demo the time of the equaliser\n",
    "sigs = []\n",
    "for i in range(5):\n",
    "    s = signals.SignalQAMGrayCoded(4, 10**5, nmodes=2, fb=40e9)\n",
    "    s = s.resample(2*s.fb, beta=0.1, renormalise=True)\n",
    "    s = impairments.change_snr(s, 13)\n",
    "    s = impairments.apply_PMD(s, np.pi/5.5, 50e-12)\n",
    "    sigs.append(s)\n",
    "fig = figure(title=\"QPSK signal constellation\", output_backend=\"webgl\")\n",
    "Xp = fig.scatter(x=s[0].real, y=s[0].imag,  color='blue', alpha=0.3)\n",
    "Yp = fig.scatter(x=s[1].real, y=s[1].imag,  color='red', alpha=0.3)\n",
    "handle=show(fig, notebook_handle=True)\n",
    "\n",
    "for i in range(50):\n",
    "    wxy, err = equalisation.equalise_signal(sigs[i%5], 2e-3, Ntaps=17, method=\"mcma\", adaptive_stepsize=True)\n",
    "    sout = equalisation.apply_filter(sigs[i%5], wxy)\n",
    "    sout = helpers.normalise_and_center(sout)\n",
    "    # note plotting is a significant bottleneck if we plot all points!\n",
    "    Xp.data_source.data[\"x\"] = sout[0][::10].real\n",
    "    Xp.data_source.data[\"y\"] = sout[0][::10].imag\n",
    "    Yp.data_source.data[\"x\"] = sout[1][::10].real\n",
    "    Yp.data_source.data[\"y\"] = sout[1][::10].imag\n",
    "    push_notebook()"
   ]
  },
  {
   "cell_type": "markdown",
   "metadata": {},
   "source": [
    "## How can we calculate the SER without the symbols?\n"
   ]
  },
  {
   "cell_type": "code",
   "execution_count": null,
   "metadata": {},
   "outputs": [],
   "source": [
    "sig"
   ]
  },
  {
   "cell_type": "markdown",
   "metadata": {},
   "source": [
    "## What are these objects?\n",
    "\n",
    "  * Signals are numpy array subclasses"
   ]
  },
  {
   "cell_type": "code",
   "execution_count": null,
   "metadata": {},
   "outputs": [],
   "source": [
    "isinstance(sig, np.ndarray)"
   ]
  },
  {
   "cell_type": "markdown",
   "metadata": {},
   "source": [
    "  * a lot of nice build in functionality"
   ]
  },
  {
   "cell_type": "code",
   "execution_count": null,
   "metadata": {},
   "outputs": [],
   "source": [
    "print(sig.cal_ser())\n",
    "print(sig.cal_gmi())\n",
    "print(sig.fb)\n",
    "print(sig.fs)"
   ]
  },
  {
   "cell_type": "markdown",
   "metadata": {},
   "source": [
    "  * all (almost) all array functions work"
   ]
  },
  {
   "cell_type": "code",
   "execution_count": null,
   "metadata": {},
   "outputs": [],
   "source": [
    "s2= sig*2+np.ones(sig.shape)\n",
    "print(type(s2))"
   ]
  },
  {
   "cell_type": "markdown",
   "metadata": {},
   "source": [
    "   * they remember their original symbols"
   ]
  },
  {
   "cell_type": "code",
   "execution_count": null,
   "metadata": {},
   "outputs": [],
   "source": [
    "s2 = sig.resample(2*sig.fb, beta=0.2)\n",
    "np.all(s2.symbols ==  sig.symbols)"
   ]
  },
  {
   "cell_type": "markdown",
   "metadata": {},
   "source": [
    "and much more (see the documentation)"
   ]
  },
  {
   "cell_type": "markdown",
   "metadata": {},
   "source": [
    "## Saving signal objects to file\n",
    "\n",
    "You can use `np.save` and `np.savez` for saving files. However, those two functions will save only the array portion of the signal."
   ]
  },
  {
   "cell_type": "code",
   "execution_count": null,
   "metadata": {},
   "outputs": [],
   "source": [
    "np.save('test.npy', sig)\n",
    "o = np.load('test.npy')\n",
    "print(type(o))"
   ]
  },
  {
   "cell_type": "markdown",
   "metadata": {},
   "source": [
    "### Use pickle for saving signal files\n",
    "\n",
    "Signal objects are pickle compatible however, so you can use pickle to save and preserve all attributes. Note: if you are on python 2.7 you should probably use `cPickle` instead as it is much faster (this is not necessary in Python 3). "
   ]
  },
  {
   "cell_type": "code",
   "execution_count": null,
   "metadata": {},
   "outputs": [],
   "source": [
    "import pickle\n",
    "fp = open('test.pic', 'wb') # The 'wb' is important because we want to save bytes\n",
    "pickle.dump(sig, fp, protocol=pickle.HIGHEST_PROTOCOL) # generally using HIGHEST_PROTOCOL will give the fastest speed if that is critical\n",
    "fp.close()\n",
    "fp = open('test.pic', 'rb')\n",
    "sig_l = pickle.load(fp)\n",
    "print(type(sig_l))\n",
    "fp.close()"
   ]
  },
  {
   "cell_type": "code",
   "execution_count": null,
   "metadata": {},
   "outputs": [],
   "source": []
  }
 ],
 "metadata": {
  "language_info": {
   "name": "python",
   "pygments_lexer": "ipython3"
  }
 },
 "nbformat": 4,
 "nbformat_minor": 2
}
