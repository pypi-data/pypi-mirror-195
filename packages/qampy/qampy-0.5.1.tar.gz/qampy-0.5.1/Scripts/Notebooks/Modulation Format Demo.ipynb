{
 "cells": [
  {
   "cell_type": "markdown",
   "metadata": {},
   "source": [
    "# Modulation format demo\n",
    "\n",
    "This demo shows constellation diagrams of *M*-PSK and *M*-QAM for different modulation orders, and the effects of signal-to-noise-ratio (SNR) on the bit error rate (BER). Use the sliders to change the modulation format and SNR. Compare the BER for different modulation formats at the same SNR. \n",
    "\n",
    "* How does the BER differ between different between different modulation order *M*?\n",
    "* What is the difference between PSK and QAM modulation?\n",
    "    * Do they have the same BER for the same *M*?\n",
    "    * Does this change with *M*?\n",
    "    \n",
    "*Note that for performance reasons this only simulates 40,000 symbols, so BERs below $10^{-4}$ are increasingly inaccurate and will flactuate for different runs, because there are not enough errors.*"
   ]
  },
  {
   "cell_type": "code",
   "execution_count": 9,
   "metadata": {
    "slideshow": {
     "slide_type": "slide"
    }
   },
   "outputs": [],
   "source": [
    "#%pylab inline\n",
    "from qampy import signals, impairments\n",
    "import numpy as np\n",
    "import matplotlib.pylab as plt\n",
    "from ipywidgets import widgets\n",
    "from IPython.display import display\n",
    "from ipywidgets.widgets.interaction import interact, interact_manual"
   ]
  },
  {
   "cell_type": "code",
   "execution_count": 10,
   "metadata": {},
   "outputs": [],
   "source": [
    "def cal_psk_symbols(M):\n",
    "    syms = np.zeros(M, dtype=np.complex128)\n",
    "    for i in range(M):\n",
    "        syms[i] = np.exp(-2j*np.pi*(i/M+3/(2*M)))#/np.sqrt(2)\n",
    "    return syms"
   ]
  },
  {
   "cell_type": "code",
   "execution_count": 11,
   "metadata": {},
   "outputs": [],
   "source": [
    "class SignalPSKGrayCoded(signals.SignalQAMGrayCoded):\n",
    "    @classmethod\n",
    "    def _generate_mapping(cls, M, scale, dtype=np.complex128):\n",
    "        Nbits = np.log2(M)\n",
    "        symbols = cal_psk_symbols(M)\n",
    "        # check if this gives the correct mapping\n",
    "        #symbols /= scale\n",
    "        _graycode = signals.theory.bin2gray(np.arange(M))\n",
    "        coded_symbols = symbols[_graycode]\n",
    "        bformat = \"0%db\" % Nbits\n",
    "        encoding = dict([(symbols[i],\n",
    "                          signals.bitarray(format(_graycode[i], bformat)))\n",
    "                         for i in range(len(_graycode))])\n",
    "        bitmap_mtx = signals.generate_bitmapping_mtx(coded_symbols, cls._demodulate(coded_symbols, encoding), M, dtype=dtype)\n",
    "        return coded_symbols, _graycode, encoding, bitmap_mtx\n"
   ]
  },
  {
   "cell_type": "code",
   "execution_count": 12,
   "metadata": {},
   "outputs": [],
   "source": [
    "def plot_constellation(M=4, constype=\"QAM\", snr=100):\n",
    "    constype = constype.lower()\n",
    "    if M > 2**12:\n",
    "        M = 2**12\n",
    "    if constype == \"psk\":\n",
    "        sig = signals.SignalPSKGrayCoded(M, 4*10**4, nmodes=1)\n",
    "    else:\n",
    "        sig = signals.SignalQAMGrayCoded(M, 4*10**4, nmodes=1)\n",
    "    \n",
    "    sig = impairments.change_snr(sig, snr)\n",
    "    fig = plt.figure(figsize=(8,8))\n",
    "    ax = plt.subplot(111)\n",
    "    ber = np.mean(sig.cal_ber())\n",
    "    bers, o = \"{:e}\".format(ber).split(\"e\")\n",
    "    if snr > 40:\n",
    "        plt.plot(sig[0].real, sig[0].imag, '.')\n",
    "        ax.text(0.7, 0.05, r\"BER = ${:.1f}\\cdot 10^{{{:d}}}$\".format(float(bers), int(o)), color=\"black\", transform=ax.transAxes)\n",
    "    else:\n",
    "        plt.hist2d(sig[0].real, sig[0].imag, bins=200, range=np.array([[-1.4, 1.4], [-1.4, 1.4]]))\n",
    "        ax.text(0.7, 0.05, r\"BER = ${:.1f}\\cdot 10^{{{:d}}}$\".format(float(bers), int(o)), color=\"white\", transform=ax.transAxes)\n",
    "    ax.set_aspect(\"equal\")\n",
    "    ax.set_xlim([-1.4, 1.4])\n",
    "    ax.set_ylim([-1.4, 1.4])\n",
    "    #plt.show()"
   ]
  },
  {
   "cell_type": "code",
   "execution_count": 13,
   "metadata": {},
   "outputs": [],
   "source": [
    "def plot_constellation_interactive():\n",
    "    #M =  widgets.Sliderlog(description=\"M\", min=2, max=12, valinit=4, valfmt='%d', closedmin=True, closedmax=True, slidermin=None, slidermax=None, dragging=True, valstep=1, orientation='horizontal')\n",
    "    M = widgets.SelectionSlider(description=\"M\", options=[2**i for i in range(1, 13)], value=4)\n",
    "    constype = widgets.RadioButtons(description=\"Constellation\", options=[\"QAM\", \"PSK\"], value=\"QAM\")\n",
    "    snr = widgets.FloatSlider(description=\"SNR\", min=-5, max=60, value=20, continuous_update=False)#, valfmt=\"%.1f dB\")\n",
    "    interact(plot_constellation, constype=constype, snr=snr, M=M)"
   ]
  },
  {
   "cell_type": "code",
   "execution_count": 14,
   "metadata": {},
   "outputs": [
    {
     "data": {
      "application/vnd.jupyter.widget-view+json": {
       "model_id": "53ab61a614dd4daa961dc4ee9631fb86",
       "version_major": 2,
       "version_minor": 0
      },
      "text/plain": [
       "interactive(children=(SelectionSlider(description='M', index=1, options=(2, 4, 8, 16, 32, 64, 128, 256, 512, 1…"
      ]
     },
     "metadata": {},
     "output_type": "display_data"
    }
   ],
   "source": [
    "plot_constellation_interactive()"
   ]
  },
  {
   "cell_type": "code",
   "execution_count": 15,
   "metadata": {},
   "outputs": [],
   "source": [
    "def plot_scan(fmts=[\"4-QAM\"]):\n",
    "    snrs = np.linspace(0, 35, 35)\n",
    "    plt.figure(figsize=(12,8))\n",
    "    for i, fmt in enumerate(fmts):\n",
    "        M, ct = fmt.split('-')\n",
    "        M = int(M)\n",
    "        bers = np.zeros_like(snrs)\n",
    "        if ct == \"PSK\":\n",
    "            sig = signals.SignalPSKGrayCoded(M, 4*10**4, nmodes=1)\n",
    "        else:\n",
    "            sig = signals.SignalQAMGrayCoded(M, 4*10**4, nmodes=1)\n",
    "        for i, snr in enumerate(snrs):\n",
    "            s2 = impairments.change_snr(sig, snr)\n",
    "            bers[i] = np.mean(s2.cal_ber())\n",
    "        plt.semilogy(snrs, bers, label=fmt)\n",
    "    plt.xlabel(\"SNR [dB]\")\n",
    "    plt.ylabel(\"BER\")\n",
    "    plt.xlim([0,35])\n",
    "    plt.legend()\n",
    "    "
   ]
  },
  {
   "cell_type": "code",
   "execution_count": 16,
   "metadata": {},
   "outputs": [],
   "source": [
    "def plot_scan_interactive():\n",
    "    fmts = widgets.SelectMultiple(description=\"Formats\", value=(\"4-QAM\",), options=[\"4-PSK\", \"4-QAM\", \"16-PSK\", \"16-QAM\", \"32-PSK\", \"32-QAM\", \"64-PSK\", \"64-QAM\"], continuous_update=False)\n",
    "    interact_manual(plot_scan, fmts=fmts)"
   ]
  },
  {
   "cell_type": "markdown",
   "metadata": {},
   "source": [
    "## Compare BERs\n",
    "\n",
    "In the interact below you can compare the BER performance of different modulation formats. Select the formats you want to compare and press *\"Run Interact\"*. This might take a moment. "
   ]
  },
  {
   "cell_type": "code",
   "execution_count": 17,
   "metadata": {},
   "outputs": [
    {
     "data": {
      "application/vnd.jupyter.widget-view+json": {
       "model_id": "b553a76ac1844ffca88890b8d0b3b468",
       "version_major": 2,
       "version_minor": 0
      },
      "text/plain": [
       "interactive(children=(SelectMultiple(description='Formats', index=(1,), options=('4-PSK', '4-QAM', '16-PSK', '…"
      ]
     },
     "metadata": {},
     "output_type": "display_data"
    }
   ],
   "source": [
    "plot_scan_interactive()"
   ]
  },
  {
   "cell_type": "code",
   "execution_count": null,
   "metadata": {},
   "outputs": [],
   "source": []
  }
 ],
 "metadata": {
  "kernelspec": {
   "display_name": "Python 3 (ipykernel)",
   "language": "python",
   "name": "python3"
  },
  "language_info": {
   "codemirror_mode": {
    "name": "ipython",
    "version": 3
   },
   "file_extension": ".py",
   "mimetype": "text/x-python",
   "name": "python",
   "nbconvert_exporter": "python",
   "pygments_lexer": "ipython3",
   "version": "3.9.7"
  }
 },
 "nbformat": 4,
 "nbformat_minor": 4
}
