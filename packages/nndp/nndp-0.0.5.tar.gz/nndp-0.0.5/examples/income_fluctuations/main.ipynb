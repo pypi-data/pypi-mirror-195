{
 "cells": [
  {
   "attachments": {},
   "cell_type": "markdown",
   "metadata": {},
   "source": [
    "**Import Python Preliminaries**"
   ]
  },
  {
   "cell_type": "code",
   "execution_count": 1,
   "metadata": {},
   "outputs": [],
   "source": [
    "import os\n",
    "import sys\n",
    "import pandas as pd\n",
    "from pathlib import Path\n",
    "import jax\n",
    "import jax.numpy as jnp\n",
    "import matplotlib.pyplot as plt\n",
    "import optax\n",
    "from nndp.policy_function import make_policy_function\n",
    "from nndp import train, simulate"
   ]
  },
  {
   "attachments": {},
   "cell_type": "markdown",
   "metadata": {},
   "source": [
    "**Import Functions and Model Parameters from Income Fluctuations Example**"
   ]
  },
  {
   "cell_type": "code",
   "execution_count": 2,
   "metadata": {},
   "outputs": [],
   "source": [
    "from model import u, m, F, nn_to_action, T"
   ]
  },
  {
   "attachments": {},
   "cell_type": "markdown",
   "metadata": {},
   "source": [
    "**Initialize Policy Function**"
   ]
  },
  {
   "cell_type": "code",
   "execution_count": 3,
   "metadata": {},
   "outputs": [],
   "source": [
    "key = jax.random.PRNGKey(0)\n",
    "params, policy = make_policy_function(nn_to_action = nn_to_action,\n",
    "                                      key = key,\n",
    "                                      K = 3,\n",
    "                                      P = 1,\n",
    "                                      N_nodes = 128,\n",
    "                                      N_hidden = 3,\n",
    "                                      f_activation = jax.nn.tanh,\n",
    "                                      f_outputs = [jax.nn.sigmoid]\n",
    "                                      )"
   ]
  },
  {
   "attachments": {},
   "cell_type": "markdown",
   "metadata": {},
   "source": [
    "**Train Policy Function**"
   ]
  },
  {
   "cell_type": "code",
   "execution_count": 4,
   "metadata": {},
   "outputs": [
    {
     "name": "stdout",
     "output_type": "stream",
     "text": [
      "Objective value on training iteration 99 out of 100: -87.92194366455078"
     ]
    }
   ],
   "source": [
    "params = train(key = key,\n",
    "               params = params,\n",
    "               policy = policy,\n",
    "               u = u,\n",
    "               m = m,\n",
    "               F = F,\n",
    "               T = T,\n",
    "               N_simul = 1,\n",
    "               batch_size = 250,\n",
    "               N_iter = 100,\n",
    "               optimizer = optax.adam(1e-3)\n",
    "               )"
   ]
  },
  {
   "attachments": {},
   "cell_type": "markdown",
   "metadata": {},
   "source": [
    "**Plot Policy Function**"
   ]
  },
  {
   "cell_type": "code",
   "execution_count": 5,
   "metadata": {},
   "outputs": [
    {
     "data": {
      "image/png": "[encoded data removed]",
      "text/plain": [
       "<Figure size 432x288 with 1 Axes>"
      ]
     },
     "metadata": {
      "needs_background": "light"
     },
     "output_type": "display_data"
    }
   ],
   "source": [
    "fig, ax = plt.subplots()\n",
    "a = jnp.linspace(0,1)\n",
    "y_plot = 1\n",
    "ax.plot(a + y_plot, a + y_plot, ls = '--')\n",
    "for t in range(T-4, T+1):\n",
    "    s = jnp.column_stack(([t] * len(a), [y_plot] * len(a), a))\n",
    "    ax.plot(a + y_plot, policy(s, params), label = f'{t}')\n",
    "ax.legend()\n",
    "ax.set(xlabel='Cash-on-hand')\n",
    "ax.set(title=f'Policy functions at y = {y_plot}')\n",
    "plt.show()"
   ]
  },
  {
   "attachments": {},
   "cell_type": "markdown",
   "metadata": {},
   "source": [
    "**Simulate Paths of Individuals Given Policy Function**"
   ]
  },
  {
   "cell_type": "code",
   "execution_count": 6,
   "metadata": {},
   "outputs": [],
   "source": [
    "s0 = F(key = key, N = 100)\n",
    "results = simulate(key = key,\n",
    "                   policy = policy,\n",
    "                   params = params,\n",
    "                   u = u,\n",
    "                   m = m,\n",
    "                   s0 = s0,\n",
    "                   T = T)\n",
    "results = pd.DataFrame(results, columns = ['id', 't', 'y', 'a', 'c', 'v'])\n",
    "results.to_csv('simulation_results.csv', index = False)"
   ]
  }
 ],
 "metadata": {
  "kernelspec": {
   "display_name": "base",
   "language": "python",
   "name": "python3"
  },
  "language_info": {
   "codemirror_mode": {
    "name": "ipython",
    "version": 3
   },
   "file_extension": ".py",
   "mimetype": "text/x-python",
   "name": "python",
   "nbconvert_exporter": "python",
   "pygments_lexer": "ipython3",
   "version": "3.9.12"
  },
  "orig_nbformat": 4,
  "vscode": {
   "interpreter": {
    "hash": "84684bfe7597c1cb2277b05a32b23e8b2ec29bfc48848fa4328c6cefe12cefb0"
   }
  }
 },
 "nbformat": 4,
 "nbformat_minor": 2
}
