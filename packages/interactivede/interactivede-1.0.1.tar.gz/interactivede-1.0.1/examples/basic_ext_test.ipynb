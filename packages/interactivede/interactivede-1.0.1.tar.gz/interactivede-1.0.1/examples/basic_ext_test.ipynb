{
 "cells": [
  {
   "cell_type": "code",
   "execution_count": 1,
   "id": "1af2c198-e5b8-44f8-8d76-823d572f6cfb",
   "metadata": {
    "tags": [],
    "trrack_graph": "{\"nodes\":{\"a0bccd4a-2a60-4888-83d7-1f63b7cc32e8\":{\"id\":\"a0bccd4a-2a60-4888-83d7-1f63b7cc32e8\",\"label\":\"Root\",\"children\":[],\"level\":0,\"meta\":{\"createdOn\":1678208931876,\"eventType\":\"Root\"},\"state\":{\"type\":\"checkpoint\",\"val\":{\"msg\":\"Hello, World!\",\"interactions\":[]}}}},\"root\":\"a0bccd4a-2a60-4888-83d7-1f63b7cc32e8\",\"current\":\"a0bccd4a-2a60-4888-83d7-1f63b7cc32e8\"}"
   },
   "outputs": [
    {
     "name": "stdout",
     "output_type": "stream",
     "text": [
      "Python 3.8.16\n"
     ]
    }
   ],
   "source": [
    "!python --version"
   ]
  },
  {
   "cell_type": "code",
   "execution_count": 2,
   "id": "e6ffbf47-e96a-475f-b64b-92415281135e",
   "metadata": {
    "tags": [],
    "trrack_graph": "{\"nodes\":{\"b4ffa61a-7c75-4f24-913a-5526199e665b\":{\"id\":\"b4ffa61a-7c75-4f24-913a-5526199e665b\",\"label\":\"Root\",\"children\":[],\"level\":0,\"meta\":{\"createdOn\":1677535089750,\"eventType\":\"Root\"},\"state\":{\"type\":\"checkpoint\",\"val\":{\"msg\":\"Hello, World!\",\"interactions\":[]}}}},\"root\":\"b4ffa61a-7c75-4f24-913a-5526199e665b\",\"current\":\"b4ffa61a-7c75-4f24-913a-5526199e665b\"}"
   },
   "outputs": [
    {
     "name": "stdout",
     "output_type": "stream",
     "text": [
      "Extension enabled for altair\n"
     ]
    }
   ],
   "source": [
    "import altair as alt\n",
    "import pandas as pd\n",
    "\n",
    "import interactivede.ide as IDE # Our library\n",
    "from interactivede.internal import *\n",
    "\n",
    "IDE.enable('altair') # Call this to enable integration with altair"
   ]
  },
  {
   "cell_type": "code",
   "execution_count": 3,
   "id": "a30a9731-1f1d-43c9-8749-dc50f4aee460",
   "metadata": {
    "tags": [],
    "trrack_graph": "{\"nodes\":{\"c4ebbf56-190f-4248-9242-624d86af3433\":{\"id\":\"c4ebbf56-190f-4248-9242-624d86af3433\",\"label\":\"Root\",\"children\":[],\"level\":0,\"meta\":{\"createdOn\":1677535086319,\"eventType\":\"Root\"},\"state\":{\"type\":\"checkpoint\",\"val\":{\"msg\":\"Hello, World!\",\"interactions\":[]}}}},\"root\":\"c4ebbf56-190f-4248-9242-624d86af3433\",\"current\":\"c4ebbf56-190f-4248-9242-624d86af3433\"}"
   },
   "outputs": [],
   "source": [
    "penguins_url = \"https://raw.githubusercontent.com/vega/vega/master/docs/data/penguins.json\""
   ]
  },
  {
   "cell_type": "code",
   "execution_count": 4,
   "id": "dbab0fae-1d2e-4786-b464-d7d73c14a8a8",
   "metadata": {
    "original_spec": {
     "$schema": "https://vega.github.io/schema/vega-lite/v4.17.0.json",
     "config": {
      "view": {
       "continuousHeight": 300,
       "continuousWidth": 400
      }
     },
     "data": {
      "url": "https://raw.githubusercontent.com/vega/vega/master/docs/data/penguins.json"
     },
     "encoding": {
      "color": {
       "condition": {
        "field": "Species",
        "selection": "brush",
        "type": "nominal"
       },
       "value": "lightgray"
      },
      "x": {
       "field": "Beak Length (mm)",
       "scale": {
        "zero": false
       },
       "type": "quantitative"
      },
      "y": {
       "field": "Beak Depth (mm)",
       "scale": {
        "zero": false
       },
       "type": "quantitative"
      }
     },
     "height": 400,
     "mark": "point",
     "selection": {
      "brush": {
       "type": "interval"
      }
     },
     "width": 400
    },
    "tags": [],
    "trrack_graph": "{\"nodes\":{\"c5689833-b4a5-4392-9b24-29dd5ad30673\":{\"id\":\"c5689833-b4a5-4392-9b24-29dd5ad30673\",\"label\":\"Root\",\"children\":[\"17803d5b-2ea3-4967-a727-069022914cef\"],\"level\":0,\"meta\":{\"createdOn\":1678208948780,\"eventType\":\"Root\"},\"state\":{\"type\":\"checkpoint\",\"val\":{\"msg\":\"Hello, World!\",\"interactions\":[]}}},\"17803d5b-2ea3-4967-a727-069022914cef\":{\"id\":\"17803d5b-2ea3-4967-a727-069022914cef\",\"label\":\"Brush selection\",\"children\":[\"4b94c3d0-2b99-4645-84b0-396f256ff333\"],\"parent\":\"c5689833-b4a5-4392-9b24-29dd5ad30673\",\"meta\":{\"createdOn\":1678208970982,\"eventType\":\"interaction\"},\"sideEffects\":{\"do\":[],\"undo\":[]},\"state\":{\"type\":\"checkpoint\",\"val\":{\"msg\":\"Hello, World!\",\"interactions\":[{\"id\":\"7f9995a0-e562-471e-aff8-694bd74c55ab\",\"type\":\"selection_interval\",\"name\":\"brush\",\"path\":\"/selection/brush\",\"params\":{\"selection\":{\"Beak Length (mm)\":[36.70516723632812,43.985167236328124],\"Beak Depth (mm)\":[17.994999999999997,20.627499999999998]},\"x\":[67.2166748046875,171.2166748046875],\"y\":[61,178]},\"spec\":{\"config\":{\"view\":{\"continuousWidth\":400,\"continuousHeight\":300}},\"data\":{\"url\":\"https://raw.githubusercontent.com/vega/vega/master/docs/data/penguins.json\"},\"mark\":\"point\",\"encoding\":{\"color\":{\"condition\":{\"field\":\"Species\",\"type\":\"nominal\",\"selection\":\"brush\"},\"value\":\"lightgray\"},\"x\":{\"field\":\"Beak Length (mm)\",\"scale\":{\"zero\":false},\"type\":\"quantitative\"},\"y\":{\"field\":\"Beak Depth (mm)\",\"scale\":{\"zero\":false},\"type\":\"quantitative\"}},\"height\":400,\"selection\":{\"brush\":{\"type\":\"interval\",\"init\":{\"Beak Length (mm)\":[36.70516723632812,43.985167236328124],\"Beak Depth (mm)\":[17.994999999999997,20.627499999999998]}}},\"width\":400,\"$schema\":\"https://vega.github.io/schema/vega-lite/v4.17.0.json\"}}]}},\"level\":1},\"4b94c3d0-2b99-4645-84b0-396f256ff333\":{\"id\":\"4b94c3d0-2b99-4645-84b0-396f256ff333\",\"label\":\"filter\",\"children\":[],\"parent\":\"17803d5b-2ea3-4967-a727-069022914cef\",\"meta\":{\"createdOn\":1678208972396,\"eventType\":\"interaction\"},\"sideEffects\":{\"do\":[],\"undo\":[]},\"state\":{\"type\":\"checkpoint\",\"val\":{\"msg\":\"Hello, World!\",\"interactions\":[{\"id\":\"7f9995a0-e562-471e-aff8-694bd74c55ab\",\"type\":\"selection_interval\",\"name\":\"brush\",\"path\":\"/selection/brush\",\"params\":{\"selection\":{\"Beak Length (mm)\":[36.70516723632812,43.985167236328124],\"Beak Depth (mm)\":[17.994999999999997,20.627499999999998]},\"x\":[67.2166748046875,171.2166748046875],\"y\":[61,178]},\"spec\":{\"config\":{\"view\":{\"continuousWidth\":400,\"continuousHeight\":300}},\"data\":{\"url\":\"https://raw.githubusercontent.com/vega/vega/master/docs/data/penguins.json\"},\"mark\":\"point\",\"encoding\":{\"color\":{\"condition\":{\"field\":\"Species\",\"type\":\"nominal\",\"selection\":\"brush\"},\"value\":\"lightgray\"},\"x\":{\"field\":\"Beak Length (mm)\",\"scale\":{\"zero\":false},\"type\":\"quantitative\"},\"y\":{\"field\":\"Beak Depth (mm)\",\"scale\":{\"zero\":false},\"type\":\"quantitative\"}},\"height\":400,\"selection\":{\"brush\":{\"type\":\"interval\",\"init\":{\"Beak Length (mm)\":[36.70516723632812,43.985167236328124],\"Beak Depth (mm)\":[17.994999999999997,20.627499999999998]}}},\"width\":400,\"$schema\":\"https://vega.github.io/schema/vega-lite/v4.17.0.json\"}},{\"id\":\"d4db8958-cd48-449b-b11f-0bce75741bb2\",\"type\":\"filter\",\"path\":\"\",\"spec\":{\"config\":{\"view\":{\"continuousWidth\":400,\"continuousHeight\":300}},\"data\":{\"url\":\"https://raw.githubusercontent.com/vega/vega/master/docs/data/penguins.json\"},\"mark\":\"point\",\"encoding\":{\"color\":{\"condition\":{\"field\":\"Species\",\"type\":\"nominal\",\"selection\":\"brush\"},\"value\":\"lightgray\"},\"x\":{\"field\":\"Beak Length (mm)\",\"scale\":{\"zero\":false},\"type\":\"quantitative\"},\"y\":{\"field\":\"Beak Depth (mm)\",\"scale\":{\"zero\":false},\"type\":\"quantitative\"}},\"height\":400,\"selection\":{\"brush\":{\"type\":\"interval\"}},\"width\":400,\"$schema\":\"https://vega.github.io/schema/vega-lite/v4.17.0.json\",\"transform\":[{\"filter\":{\"and\":[{\"not\":{\"and\":[{\"field\":\"Beak Length (mm)\",\"range\":[36.70516723632812,43.985167236328124]},{\"field\":\"Beak Depth (mm)\",\"range\":[17.994999999999997,20.627499999999998]}]}}]}}]}}]}},\"level\":2}},\"root\":\"c5689833-b4a5-4392-9b24-29dd5ad30673\",\"current\":\"4b94c3d0-2b99-4645-84b0-396f256ff333\"}"
   },
   "outputs": [
    {
     "data": {
      "application/vnd.trrack+json": {
       "application/vnd.trrack.graph+json": "dbab0fae-1d2e-4786-b464-d7d73c14a8a8",
       "application/vnd.vegalite.v4+json": {
        "$schema": "https://vega.github.io/schema/vega-lite/v4.17.0.json",
        "config": {
         "view": {
          "continuousHeight": 300,
          "continuousWidth": 400
         }
        },
        "data": {
         "url": "https://raw.githubusercontent.com/vega/vega/master/docs/data/penguins.json"
        },
        "encoding": {
         "color": {
          "condition": {
           "field": "Species",
           "selection": "brush",
           "type": "nominal"
          },
          "value": "lightgray"
         },
         "x": {
          "field": "Beak Length (mm)",
          "scale": {
           "zero": false
          },
          "type": "quantitative"
         },
         "y": {
          "field": "Beak Depth (mm)",
          "scale": {
           "zero": false
          },
          "type": "quantitative"
         }
        },
        "height": 400,
        "mark": "point",
        "selection": {
         "brush": {
          "type": "interval"
         }
        },
        "transform": [
         {
          "filter": {
           "and": [
            {
             "not": {
              "and": [
               {
                "field": "Beak Length (mm)",
                "range": [
                 36.70516723632812,
                 43.985167236328124
                ]
               },
               {
                "field": "Beak Depth (mm)",
                "range": [
                 17.994999999999997,
                 20.627499999999998
                ]
               }
              ]
             }
            }
           ]
          }
         }
        ],
        "width": 400
       }
      }
     },
     "execution_count": 4,
     "metadata": {},
     "output_type": "execute_result"
    }
   ],
   "source": [
    "# All of the code here is pure altair. The library does not need any custom syntax\n",
    "\n",
    "brush = alt.selection_interval(name='brush') # define a type of selection\n",
    "\n",
    "# create a scatterplot\n",
    "chart = alt.Chart(penguins_url).mark_point().encode(\n",
    "    x=alt.X('Beak Length (mm):Q', scale=alt.Scale(zero=False)),\n",
    "    y=alt.Y('Beak Depth (mm):Q', scale=alt.Scale(zero=False)),\n",
    "    color=alt.condition(brush, 'Species:N', alt.value('lightgray'))\n",
    ").properties(\n",
    "    width=400,\n",
    "    height=400\n",
    ").add_selection(\n",
    "    brush # Connect the brush selection to scatterplot\n",
    ")\n",
    "\n",
    "chart"
   ]
  },
  {
   "cell_type": "code",
   "execution_count": 7,
   "id": "12fdcdcd-4a2c-4b79-9426-4897206738be",
   "metadata": {
    "trrack_graph": "{\"nodes\":{\"7f4b7748-ca16-4eef-b4aa-6bc760d5ccf0\":{\"id\":\"7f4b7748-ca16-4eef-b4aa-6bc760d5ccf0\",\"label\":\"Root\",\"children\":[],\"level\":0,\"meta\":{\"createdOn\":1677689983449,\"eventType\":\"Root\"},\"state\":{\"type\":\"checkpoint\",\"val\":{\"msg\":\"Hello, World!\",\"interactions\":[]}}}},\"root\":\"7f4b7748-ca16-4eef-b4aa-6bc760d5ccf0\",\"current\":\"7f4b7748-ca16-4eef-b4aa-6bc760d5ccf0\"}"
   },
   "outputs": [
    {
     "data": {
      "application/vnd.trrack+json": {
       "application/vnd.trrack.graph+json": "12fdcdcd-4a2c-4b79-9426-4897206738be",
       "text/html": "<div>\n<style scoped>\n    .dataframe tbody tr th:only-of-type {\n        vertical-align: middle;\n    }\n\n    .dataframe tbody tr th {\n        vertical-align: top;\n    }\n\n    .dataframe thead th {\n        text-align: right;\n    }\n</style>\n<table border=\"1\" class=\"dataframe\">\n  <thead>\n    <tr style=\"text-align: right;\">\n      <th></th>\n      <th>Species</th>\n      <th>Island</th>\n      <th>Beak Length (mm)</th>\n      <th>Beak Depth (mm)</th>\n      <th>Flipper Length (mm)</th>\n      <th>Body Mass (g)</th>\n      <th>Sex</th>\n    </tr>\n  </thead>\n  <tbody>\n    <tr>\n      <th>0</th>\n      <td>Adelie</td>\n      <td>Torgersen</td>\n      <td>39.5</td>\n      <td>17.4</td>\n      <td>186</td>\n      <td>3800</td>\n      <td>FEMALE</td>\n    </tr>\n    <tr>\n      <th>1</th>\n      <td>Adelie</td>\n      <td>Torgersen</td>\n      <td>36.7</td>\n      <td>19.3</td>\n      <td>193</td>\n      <td>3450</td>\n      <td>FEMALE</td>\n    </tr>\n    <tr>\n      <th>2</th>\n      <td>Adelie</td>\n      <td>Torgersen</td>\n      <td>38.9</td>\n      <td>17.8</td>\n      <td>181</td>\n      <td>3625</td>\n      <td>FEMALE</td>\n    </tr>\n    <tr>\n      <th>3</th>\n      <td>Adelie</td>\n      <td>Torgersen</td>\n      <td>34.1</td>\n      <td>18.1</td>\n      <td>193</td>\n      <td>3475</td>\n      <td>None</td>\n    </tr>\n    <tr>\n      <th>4</th>\n      <td>Adelie</td>\n      <td>Torgersen</td>\n      <td>37.8</td>\n      <td>17.1</td>\n      <td>186</td>\n      <td>3300</td>\n      <td>None</td>\n    </tr>\n    <tr>\n      <th>...</th>\n      <td>...</td>\n      <td>...</td>\n      <td>...</td>\n      <td>...</td>\n      <td>...</td>\n      <td>...</td>\n      <td>...</td>\n    </tr>\n    <tr>\n      <th>269</th>\n      <td>Gentoo</td>\n      <td>Biscoe</td>\n      <td>47.2</td>\n      <td>13.7</td>\n      <td>214</td>\n      <td>4925</td>\n      <td>FEMALE</td>\n    </tr>\n    <tr>\n      <th>270</th>\n      <td>Gentoo</td>\n      <td>Biscoe</td>\n      <td>46.8</td>\n      <td>14.3</td>\n      <td>215</td>\n      <td>4850</td>\n      <td>FEMALE</td>\n    </tr>\n    <tr>\n      <th>271</th>\n      <td>Gentoo</td>\n      <td>Biscoe</td>\n      <td>50.4</td>\n      <td>15.7</td>\n      <td>222</td>\n      <td>5750</td>\n      <td>MALE</td>\n    </tr>\n    <tr>\n      <th>272</th>\n      <td>Gentoo</td>\n      <td>Biscoe</td>\n      <td>45.2</td>\n      <td>14.8</td>\n      <td>212</td>\n      <td>5200</td>\n      <td>FEMALE</td>\n    </tr>\n    <tr>\n      <th>273</th>\n      <td>Gentoo</td>\n      <td>Biscoe</td>\n      <td>49.9</td>\n      <td>16.1</td>\n      <td>213</td>\n      <td>5400</td>\n      <td>MALE</td>\n    </tr>\n  </tbody>\n</table>\n<p>274 rows × 7 columns</p>\n</div>",
       "text/plain": "    Species     Island  Beak Length (mm)  Beak Depth (mm)  \\\n0    Adelie  Torgersen              39.5             17.4   \n1    Adelie  Torgersen              36.7             19.3   \n2    Adelie  Torgersen              38.9             17.8   \n3    Adelie  Torgersen              34.1             18.1   \n4    Adelie  Torgersen              37.8             17.1   \n..      ...        ...               ...              ...   \n269  Gentoo     Biscoe              47.2             13.7   \n270  Gentoo     Biscoe              46.8             14.3   \n271  Gentoo     Biscoe              50.4             15.7   \n272  Gentoo     Biscoe              45.2             14.8   \n273  Gentoo     Biscoe              49.9             16.1   \n\n     Flipper Length (mm)  Body Mass (g)     Sex  \n0                    186           3800  FEMALE  \n1                    193           3450  FEMALE  \n2                    181           3625  FEMALE  \n3                    193           3475    None  \n4                    186           3300    None  \n..                   ...            ...     ...  \n269                  214           4925  FEMALE  \n270                  215           4850  FEMALE  \n271                  222           5750    MALE  \n272                  212           5200  FEMALE  \n273                  213           5400    MALE  \n\n[274 rows x 7 columns]"
      }
     },
     "execution_count": 7,
     "metadata": {},
     "output_type": "execute_result"
    }
   ],
   "source": [
    "ext_df"
   ]
  }
 ],
 "metadata": {
  "kernelspec": {
   "display_name": "Python 3 (ipykernel)",
   "language": "python",
   "name": "python3"
  },
  "language_info": {
   "codemirror_mode": {
    "name": "ipython",
    "version": 3
   },
   "file_extension": ".py",
   "mimetype": "text/x-python",
   "name": "python",
   "nbconvert_exporter": "python",
   "pygments_lexer": "ipython3",
   "version": "3.8.16"
  },
  "toc-autonumbering": false,
  "toc-showtags": false
 },
 "nbformat": 4,
 "nbformat_minor": 5
}
