{
 "cells": [
  {
   "cell_type": "code",
   "execution_count": null,
   "id": "c2023245-db98-44ca-8fc1-7ece2cfbe958",
   "metadata": {
    "trrack_graph": "{\"nodes\":{\"a883bd82-d780-4709-bf53-7618495ced20\":{\"id\":\"a883bd82-d780-4709-bf53-7618495ced20\",\"label\":\"Root\",\"children\":[],\"level\":0,\"meta\":{\"createdOn\":1677387225722,\"eventType\":\"Root\"},\"state\":{\"type\":\"checkpoint\",\"val\":{\"msg\":\"Hello, World!\",\"interactions\":[]}}}},\"root\":\"a883bd82-d780-4709-bf53-7618495ced20\",\"current\":\"a883bd82-d780-4709-bf53-7618495ced20\"}"
   },
   "outputs": [],
   "source": []
  },
  {
   "cell_type": "code",
   "execution_count": null,
   "id": "31bcf091-6ad0-4dd2-9677-1594672928a9",
   "metadata": {
    "trrack_graph": "{\"nodes\":{\"ed027fb8-74e3-4363-af3b-a4d878ee751e\":{\"id\":\"ed027fb8-74e3-4363-af3b-a4d878ee751e\",\"label\":\"Root\",\"children\":[],\"level\":0,\"meta\":{\"createdOn\":1677387225756,\"eventType\":\"Root\"},\"state\":{\"type\":\"checkpoint\",\"val\":{\"msg\":\"Hello, World!\",\"interactions\":[]}}}},\"root\":\"ed027fb8-74e3-4363-af3b-a4d878ee751e\",\"current\":\"ed027fb8-74e3-4363-af3b-a4d878ee751e\"}"
   },
   "outputs": [],
   "source": []
  }
 ],
 "metadata": {
  "kernelspec": {
   "display_name": "Python 3 (ipykernel)",
   "language": "python",
   "name": "python3"
  },
  "language_info": {
   "codemirror_mode": {
    "name": "ipython",
    "version": 3
   },
   "file_extension": ".py",
   "mimetype": "text/x-python",
   "name": "python",
   "nbconvert_exporter": "python",
   "pygments_lexer": "ipython3",
   "version": "3.11.2"
  }
 },
 "nbformat": 4,
 "nbformat_minor": 5
}
